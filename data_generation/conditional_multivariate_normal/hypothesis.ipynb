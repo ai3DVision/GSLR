{
 "cells": [
  {
   "cell_type": "markdown",
   "metadata": {
    "deletable": true,
    "editable": true
   },
   "source": [
    "# What would it look like to sample from a conditional multivariate gaussian? "
   ]
  },
  {
   "cell_type": "code",
   "execution_count": 1,
   "metadata": {
    "collapsed": false,
    "deletable": true,
    "editable": true
   },
   "outputs": [
    {
     "name": "stdout",
     "output_type": "stream",
     "text": [
      "Populating the interactive namespace from numpy and matplotlib\n"
     ]
    }
   ],
   "source": [
    "%pylab inline\n",
    "import numpy as np\n",
    "from numpy.random import normal, multivariate_normal\n",
    "import seaborn as sns; sns.set(style=\"whitegrid\")\n",
    "import pandas as pd"
   ]
  },
  {
   "cell_type": "markdown",
   "metadata": {
    "deletable": true,
    "editable": true
   },
   "source": [
    "## Magic code from [gongyiliao's blog post with python code for the conditional multivariate normal distribution](https://gongyiliao.wordpress.com/2010/01/01/python-code-for-conditional-multivariate-normal-distribution/):"
   ]
  },
  {
   "cell_type": "code",
   "execution_count": 2,
   "metadata": {
    "collapsed": true,
    "deletable": true,
    "editable": true
   },
   "outputs": [],
   "source": [
    "from scipy import *\n",
    "from scipy.linalg import *\n",
    "from numpy.random import *\n",
    "from scipy.stats.distributions import *\n",
    "\n",
    "def qCondMVnor(P, rsNormVec, cpar, meanVec, covMatx):\n",
    "    x2 = delete(rsNormVec, cpar)\n",
    "    mu2 = delete(meanVec, cpar)\n",
    "    mu1 = meanVec[cpar]\n",
    "    cov22 = delete(delete(covMatx, s_[cpar], axis=0), s_[cpar], axis=1)\n",
    "    cov12 = delete(covMatx[1,:], cpar, axis=1)\n",
    "    cov21 = delete(covMatx[:,1], cpar, axis=0)\n",
    "    sd = float(sqrt(covMatx[cpar, cpar] - cov12*inv(cov22)*cov21))\n",
    "    mean = float(mu1 + cov12*inv(cov22)*(matrix(x2 - mu2).reshape(2,1)))\n",
    "    return norm.ppf(P, loc=mean, scale=sd)"
   ]
  },
  {
   "cell_type": "markdown",
   "metadata": {
    "collapsed": true,
    "deletable": true,
    "editable": true
   },
   "source": [
    "## Taking it apart"
   ]
  },
  {
   "cell_type": "code",
   "execution_count": 3,
   "metadata": {
    "collapsed": true,
    "deletable": true,
    "editable": true
   },
   "outputs": [],
   "source": [
    "delete?"
   ]
  },
  {
   "cell_type": "markdown",
   "metadata": {
    "deletable": true,
    "editable": true
   },
   "source": [
    "```\n",
    "Return a new array with sub-arrays along an axis deleted. For a one\n",
    "dimensional array, this returns those entries not returned by\n",
    "`arr[obj]`.\n",
    "\n",
    "Examples\n",
    "--------\n",
    ">>> arr = np.array([[1,2,3,4], [5,6,7,8], [9,10,11,12]])\n",
    ">>> arr\n",
    "array([[ 1,  2,  3,  4],\n",
    "       [ 5,  6,  7,  8],\n",
    "       [ 9, 10, 11, 12]])\n",
    ">>> np.delete(arr, 1, 0)\n",
    "array([[ 1,  2,  3,  4],\n",
    "       [ 9, 10, 11, 12]])\n",
    "```"
   ]
  },
  {
   "cell_type": "code",
   "execution_count": 4,
   "metadata": {
    "collapsed": true,
    "deletable": true,
    "editable": true
   },
   "outputs": [],
   "source": [
    "norm.ppf?"
   ]
  },
  {
   "cell_type": "markdown",
   "metadata": {
    "deletable": true,
    "editable": true
   },
   "source": [
    "```\n",
    "Signature: norm.ppf(q, *args, **kwds)\n",
    "Docstring:\n",
    "Percent point function (inverse of `cdf`) at q of the given RV.\n",
    "\n",
    "Parameters\n",
    "----------\n",
    "q : array_like\n",
    "    lower tail probability\n",
    "arg1, arg2, arg3,... : array_like\n",
    "    The shape parameter(s) for the distribution (see docstring of the\n",
    "    instance object for more information)\n",
    "loc : array_like, optional\n",
    "    location parameter (default=0)\n",
    "scale : array_like, optional\n",
    "    scale parameter (default=1)\n",
    "\n",
    "Returns\n",
    "-------\n",
    "x : array_like\n",
    "    quantile corresponding to the lower tail probability q.\n",
    "File:      ~/Desktop/KVH/venv/lib/python3.6/site-packages/scipy/stats/_distn_infrastructure.py\n",
    "Type:      method\n",
    "```"
   ]
  },
  {
   "cell_type": "code",
   "execution_count": 5,
   "metadata": {
    "collapsed": true,
    "deletable": true,
    "editable": true
   },
   "outputs": [],
   "source": [
    "s_?"
   ]
  },
  {
   "cell_type": "markdown",
   "metadata": {
    "collapsed": true,
    "deletable": true,
    "editable": true
   },
   "source": [
    "(see https://docs.scipy.org/doc/numpy/reference/generated/numpy.s_.html)"
   ]
  },
  {
   "cell_type": "markdown",
   "metadata": {
    "deletable": true,
    "editable": true
   },
   "source": [
    "```\n",
    "Type:        IndexExpression\n",
    "String form: <numpy.lib.index_tricks.IndexExpression object at 0x1121a5208>\n",
    "File:        ~/Documents/proteomics/venv/lib/python3.6/site-packages/numpy/lib/index_tricks.py\n",
    "Docstring:  \n",
    "A nicer way to build up index tuples for arrays.\n",
    "```"
   ]
  },
  {
   "cell_type": "markdown",
   "metadata": {
    "deletable": true,
    "editable": true
   },
   "source": [
    "## Assuming the code follows the [wikipedia article](https://en.wikipedia.org/wiki/Multivariate_normal_distribution#Conditional_distributions) pretty closely, I can change the code to..."
   ]
  },
  {
   "cell_type": "code",
   "execution_count": 6,
   "metadata": {
    "collapsed": true,
    "deletable": true,
    "editable": true
   },
   "outputs": [],
   "source": [
    "from scipy import *\n",
    "from scipy.linalg import *\n",
    "from numpy.random import *\n",
    "from scipy.stats.distributions import *\n",
    "\n",
    "def qConditionalMultivariateNormal(rsNormVec, cpar, meanVec, covMatx):\n",
    "    # Comments are hypotheses as to what things represent.\n",
    "    # `rsNormVec` is ???\n",
    "    # `cpar` is \"conditional part\" or the indices into the meanVec and covMatrix which we condition upon\n",
    "    # `meanVec` is the means of the distribution\n",
    "    # `covMatrix` is the covariance matrix of the distribution\n",
    "    \n",
    "    x2 = delete(rsNormVec, cpar)\n",
    "    # x2 is the rsNormVec without the conditional part. What is rsNormVec? What is x?\n",
    "\n",
    "    mu2 = delete(meanVec, cpar)\n",
    "    # mu2 is the means without the conditional part. mu2 is the actual variable means.\n",
    "    \n",
    "    mu1 = meanVec[cpar]\n",
    "    # mu1 is the complement of mu2, the conditional means\n",
    "    \n",
    "    cov22 = delete(delete(covMatx, s_[cpar], axis=0), s_[cpar], axis=1)\n",
    "    # cov22 is the conditional part x conditional part covariances\n",
    "    \n",
    "    cov12 = delete(covMatx, cpar, axis=1)\n",
    "    # cov12 is the conditional part x variable covariances\n",
    "    \n",
    "    cov21 = delete(covMatx, cpar, axis=0)\n",
    "    # cov21 is the variable x conditional part covariances\n",
    "    \n",
    "    # Now, according to the wikipedia page: (x1 | x2 = a) ~ N(μ, Σ) where\n",
    "    # μ = m1 + cov12 * inv(cov22) * (a - mu2)\n",
    "    # Σ = cov11 - cov12 * inv(cov22) * cov21\n",
    "    # and that's roughly what we see below: \n",
    "    \n",
    "    mean = float(mu1 + cov12*inv(cov22)*(matrix(x2 - mu2).reshape(2,1)))\n",
    "    sd = float(sqrt(covMatx[cpar, cpar] - cov12*inv(cov22)*cov21))\n",
    "    \n",
    "    # somehow, (matrix(x2 - mu2).reshape(2,1)) is (a - mu2)\n",
    "    \n",
    "    # now, with `mean` and `sd`, we should be able to sample (x1 | x2 = a) ~ N(μ, Σ)\n",
    "    # return normal(mean, sd)\n",
    "    return multivariate_normal(mean, sd)  # which one of the above is right? "
   ]
  },
  {
   "cell_type": "markdown",
   "metadata": {
    "collapsed": true,
    "deletable": true,
    "editable": true
   },
   "source": [
    "## Let's try plotting distributions in 2D -- we'll need this for debugging anyhow "
   ]
  },
  {
   "cell_type": "code",
   "execution_count": 7,
   "metadata": {
    "collapsed": false,
    "deletable": true,
    "editable": true
   },
   "outputs": [
    {
     "data": {
      "image/png": "[encoded data removed]",
      "text/plain": [
       "<matplotlib.figure.Figure at 0x10de44e48>"
      ]
     },
     "metadata": {},
     "output_type": "display_data"
    }
   ],
   "source": [
    "samples = pd.DataFrame([multivariate_normal(np.array([2, 2]), np.array([[1, 0], [0, 1]])) for x in range(100)])\n",
    "p = sns.jointplot(samples[0], samples[1], size=8, space=0, kind='kde').plot_joint(plt.scatter, color='white', marker=\"*\")"
   ]
  },
  {
   "cell_type": "code",
   "execution_count": 8,
   "metadata": {
    "collapsed": false,
    "deletable": true,
    "editable": true
   },
   "outputs": [
    {
     "data": {
      "image/png": "[encoded data removed]",
      "text/plain": [
       "<matplotlib.figure.Figure at 0x10e2b65f8>"
      ]
     },
     "metadata": {},
     "output_type": "display_data"
    }
   ],
   "source": [
    "samples = pd.DataFrame([multivariate_normal(np.array([0, 0]), np.array([[1, 0.8], [0.8, 1]])) for x in range(100)])\n",
    "p = sns.jointplot(samples[0], samples[1], size=8, space=0, kind='kde', xlim=(-3, 3), ylim=(-3, 3)).plot_joint(plt.scatter, color='white', marker=\"*\")"
   ]
  },
  {
   "cell_type": "markdown",
   "metadata": {
    "deletable": true,
    "editable": true
   },
   "source": [
    "## Let's try sampling..."
   ]
  },
  {
   "cell_type": "code",
   "execution_count": 9,
   "metadata": {
    "collapsed": false,
    "deletable": true,
    "editable": true
   },
   "outputs": [
    {
     "name": "stdout",
     "output_type": "stream",
     "text": [
      "[]\n",
      "[0]\n"
     ]
    },
    {
     "ename": "ValueError",
     "evalue": "cannot reshape array of size 0 into shape (2,1)",
     "output_type": "error",
     "traceback": [
      "\u001b[0;31m---------------------------------------------------------------------------\u001b[0m",
      "\u001b[0;31mValueError\u001b[0m                                Traceback (most recent call last)",
      "\u001b[0;32m<ipython-input-9-118652d97bc0>\u001b[0m in \u001b[0;36m<module>\u001b[0;34m()\u001b[0m\n\u001b[1;32m      5\u001b[0m                     [0.5, 0.3]])\n\u001b[1;32m      6\u001b[0m \u001b[0;34m\u001b[0m\u001b[0m\n\u001b[0;32m----> 7\u001b[0;31m \u001b[0mqConditionalMultivariateNormal\u001b[0m\u001b[0;34m(\u001b[0m\u001b[0mrsNormVec\u001b[0m\u001b[0;34m,\u001b[0m \u001b[0mcpar\u001b[0m\u001b[0;34m,\u001b[0m \u001b[0mmeanVec\u001b[0m\u001b[0;34m,\u001b[0m \u001b[0mcovMatx\u001b[0m\u001b[0;34m)\u001b[0m\u001b[0;34m\u001b[0m\u001b[0m\n\u001b[0m",
      "\u001b[0;32m<ipython-input-6-39a0f6778b82>\u001b[0m in \u001b[0;36mqConditionalMultivariateNormal\u001b[0;34m(rsNormVec, cpar, meanVec, covMatx)\u001b[0m\n\u001b[1;32m     37\u001b[0m     \u001b[0;31m# and that's roughly what we see below:\u001b[0m\u001b[0;34m\u001b[0m\u001b[0;34m\u001b[0m\u001b[0m\n\u001b[1;32m     38\u001b[0m \u001b[0;34m\u001b[0m\u001b[0m\n\u001b[0;32m---> 39\u001b[0;31m     \u001b[0mmean\u001b[0m \u001b[0;34m=\u001b[0m \u001b[0mfloat\u001b[0m\u001b[0;34m(\u001b[0m\u001b[0mmu1\u001b[0m \u001b[0;34m+\u001b[0m \u001b[0mcov12\u001b[0m\u001b[0;34m*\u001b[0m\u001b[0minv\u001b[0m\u001b[0;34m(\u001b[0m\u001b[0mcov22\u001b[0m\u001b[0;34m)\u001b[0m\u001b[0;34m*\u001b[0m\u001b[0;34m(\u001b[0m\u001b[0mmatrix\u001b[0m\u001b[0;34m(\u001b[0m\u001b[0mx2\u001b[0m \u001b[0;34m-\u001b[0m \u001b[0mmu2\u001b[0m\u001b[0;34m)\u001b[0m\u001b[0;34m.\u001b[0m\u001b[0mreshape\u001b[0m\u001b[0;34m(\u001b[0m\u001b[0;36m2\u001b[0m\u001b[0;34m,\u001b[0m\u001b[0;36m1\u001b[0m\u001b[0;34m)\u001b[0m\u001b[0;34m)\u001b[0m\u001b[0;34m)\u001b[0m\u001b[0;34m\u001b[0m\u001b[0m\n\u001b[0m\u001b[1;32m     40\u001b[0m     \u001b[0msd\u001b[0m \u001b[0;34m=\u001b[0m \u001b[0mfloat\u001b[0m\u001b[0;34m(\u001b[0m\u001b[0msqrt\u001b[0m\u001b[0;34m(\u001b[0m\u001b[0mcovMatx\u001b[0m\u001b[0;34m[\u001b[0m\u001b[0mcpar\u001b[0m\u001b[0;34m,\u001b[0m \u001b[0mcpar\u001b[0m\u001b[0;34m]\u001b[0m \u001b[0;34m-\u001b[0m \u001b[0mcov12\u001b[0m\u001b[0;34m*\u001b[0m\u001b[0minv\u001b[0m\u001b[0;34m(\u001b[0m\u001b[0mcov22\u001b[0m\u001b[0;34m)\u001b[0m\u001b[0;34m*\u001b[0m\u001b[0mcov21\u001b[0m\u001b[0;34m)\u001b[0m\u001b[0;34m)\u001b[0m\u001b[0;34m\u001b[0m\u001b[0m\n\u001b[1;32m     41\u001b[0m \u001b[0;34m\u001b[0m\u001b[0m\n",
      "\u001b[0;31mValueError\u001b[0m: cannot reshape array of size 0 into shape (2,1)"
     ]
    }
   ],
   "source": [
    "rsNormVec = np.array([1])\n",
    "cpar = 0\n",
    "meanVec = np.array([0, 0])\n",
    "covMatx = np.array([[0.9, 0.5], \n",
    "                    [0.5, 0.3]])\n",
    "\n",
    "qConditionalMultivariateNormal(rsNormVec, cpar, meanVec, covMatx)"
   ]
  },
  {
   "cell_type": "code",
   "execution_count": 11,
   "metadata": {
    "collapsed": false,
    "deletable": true,
    "editable": true
   },
   "outputs": [
    {
     "data": {
      "text/plain": [
       "array([], dtype=int64)"
      ]
     },
     "execution_count": 11,
     "metadata": {},
     "output_type": "execute_result"
    }
   ],
   "source": [
    "x2 = delete(rsNormVec, cpar)\n",
    "# x2 is the rsNormVec without the conditional part. What is rsNormVec? What is x?\n",
    "x2"
   ]
  },
  {
   "cell_type": "code",
   "execution_count": 13,
   "metadata": {
    "collapsed": false,
    "deletable": true,
    "editable": true
   },
   "outputs": [
    {
     "ename": "ValueError",
     "evalue": "cannot reshape array of size 0 into shape (2,1)",
     "output_type": "error",
     "traceback": [
      "\u001b[0;31m---------------------------------------------------------------------------\u001b[0m",
      "\u001b[0;31mValueError\u001b[0m                                Traceback (most recent call last)",
      "\u001b[0;32m<ipython-input-13-f01f3d11bea9>\u001b[0m in \u001b[0;36m<module>\u001b[0;34m()\u001b[0m\n\u001b[1;32m     19\u001b[0m \u001b[0;31m# and that's roughly what we see below:\u001b[0m\u001b[0;34m\u001b[0m\u001b[0;34m\u001b[0m\u001b[0m\n\u001b[1;32m     20\u001b[0m \u001b[0;34m\u001b[0m\u001b[0m\n\u001b[0;32m---> 21\u001b[0;31m \u001b[0mmean\u001b[0m \u001b[0;34m=\u001b[0m \u001b[0mfloat\u001b[0m\u001b[0;34m(\u001b[0m\u001b[0mmu1\u001b[0m \u001b[0;34m+\u001b[0m \u001b[0mcov12\u001b[0m\u001b[0;34m*\u001b[0m\u001b[0minv\u001b[0m\u001b[0;34m(\u001b[0m\u001b[0mcov22\u001b[0m\u001b[0;34m)\u001b[0m\u001b[0;34m*\u001b[0m\u001b[0;34m(\u001b[0m\u001b[0mmatrix\u001b[0m\u001b[0;34m(\u001b[0m\u001b[0mx2\u001b[0m \u001b[0;34m-\u001b[0m \u001b[0mmu2\u001b[0m\u001b[0;34m)\u001b[0m\u001b[0;34m.\u001b[0m\u001b[0mreshape\u001b[0m\u001b[0;34m(\u001b[0m\u001b[0;36m2\u001b[0m\u001b[0;34m,\u001b[0m\u001b[0;36m1\u001b[0m\u001b[0;34m)\u001b[0m\u001b[0;34m)\u001b[0m\u001b[0;34m)\u001b[0m\u001b[0;34m\u001b[0m\u001b[0m\n\u001b[0m\u001b[1;32m     22\u001b[0m \u001b[0msd\u001b[0m \u001b[0;34m=\u001b[0m \u001b[0mfloat\u001b[0m\u001b[0;34m(\u001b[0m\u001b[0msqrt\u001b[0m\u001b[0;34m(\u001b[0m\u001b[0mcovMatx\u001b[0m\u001b[0;34m[\u001b[0m\u001b[0mcpar\u001b[0m\u001b[0;34m,\u001b[0m \u001b[0mcpar\u001b[0m\u001b[0;34m]\u001b[0m \u001b[0;34m-\u001b[0m \u001b[0mcov12\u001b[0m\u001b[0;34m*\u001b[0m\u001b[0minv\u001b[0m\u001b[0;34m(\u001b[0m\u001b[0mcov22\u001b[0m\u001b[0;34m)\u001b[0m\u001b[0;34m*\u001b[0m\u001b[0mcov21\u001b[0m\u001b[0;34m)\u001b[0m\u001b[0;34m)\u001b[0m\u001b[0;34m\u001b[0m\u001b[0m\n",
      "\u001b[0;31mValueError\u001b[0m: cannot reshape array of size 0 into shape (2,1)"
     ]
    }
   ],
   "source": [
    "mu2 = delete(meanVec, cpar)\n",
    "# mu2 is the means without the conditional part. mu2 is the actual variable means.\n",
    "\n",
    "mu1 = meanVec[cpar]\n",
    "# mu1 is the complement of mu2, the conditional means\n",
    "\n",
    "cov22 = delete(delete(covMatx, s_[cpar], axis=0), s_[cpar], axis=1)\n",
    "# cov22 is the conditional part x conditional part covariances\n",
    "\n",
    "cov12 = delete(covMatx, cpar, axis=1)\n",
    "# cov12 is the conditional part x variable covariances\n",
    "\n",
    "cov21 = delete(covMatx, cpar, axis=0)\n",
    "# cov21 is the variable x conditional part covariances\n",
    "\n",
    "# Now, according to the wikipedia page: (x1 | x2 = a) ~ N(μ, Σ) where\n",
    "# μ = m1 + cov12 * inv(cov22) * (a - mu2)\n",
    "# Σ = cov11 - cov12 * inv(cov22) * cov21\n",
    "# and that's roughly what we see below: \n",
    "\n",
    "mean = float(mu1 + cov12*inv(cov22)*(matrix(x2 - mu2).reshape(2,1)))\n",
    "sd = float(sqrt(covMatx[cpar, cpar] - cov12*inv(cov22)*cov21))"
   ]
  },
  {
   "cell_type": "code",
   "execution_count": null,
   "metadata": {
    "collapsed": true,
    "deletable": true,
    "editable": true
   },
   "outputs": [],
   "source": []
  },
  {
   "cell_type": "code",
   "execution_count": null,
   "metadata": {
    "collapsed": true,
    "deletable": true,
    "editable": true
   },
   "outputs": [],
   "source": []
  },
  {
   "cell_type": "code",
   "execution_count": null,
   "metadata": {
    "collapsed": true,
    "deletable": true,
    "editable": true
   },
   "outputs": [],
   "source": []
  },
  {
   "cell_type": "code",
   "execution_count": null,
   "metadata": {
    "collapsed": true,
    "deletable": true,
    "editable": true
   },
   "outputs": [],
   "source": []
  },
  {
   "cell_type": "code",
   "execution_count": null,
   "metadata": {
    "collapsed": true,
    "deletable": true,
    "editable": true
   },
   "outputs": [],
   "source": []
  },
  {
   "cell_type": "code",
   "execution_count": null,
   "metadata": {
    "collapsed": true,
    "deletable": true,
    "editable": true
   },
   "outputs": [],
   "source": []
  },
  {
   "cell_type": "code",
   "execution_count": null,
   "metadata": {
    "collapsed": true,
    "deletable": true,
    "editable": true
   },
   "outputs": [],
   "source": []
  },
  {
   "cell_type": "code",
   "execution_count": null,
   "metadata": {
    "collapsed": true,
    "deletable": true,
    "editable": true
   },
   "outputs": [],
   "source": []
  },
  {
   "cell_type": "code",
   "execution_count": null,
   "metadata": {
    "collapsed": true,
    "deletable": true,
    "editable": true
   },
   "outputs": [],
   "source": []
  }
 ],
 "metadata": {
  "kernelspec": {
   "display_name": "Python 3",
   "language": "python",
   "name": "python3"
  },
  "language_info": {
   "codemirror_mode": {
    "name": "ipython",
    "version": 3
   },
   "file_extension": ".py",
   "mimetype": "text/x-python",
   "name": "python",
   "nbconvert_exporter": "python",
   "pygments_lexer": "ipython3",
   "version": "3.6.1"
  }
 },
 "nbformat": 4,
 "nbformat_minor": 2
}
