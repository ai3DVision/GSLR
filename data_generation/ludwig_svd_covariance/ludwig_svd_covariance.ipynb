{
 "cells": [
  {
   "cell_type": "markdown",
   "metadata": {
    "deletable": true,
    "editable": true
   },
   "source": [
    "# Synthetic Data Generation Strategy 4: Upsampling KEGG Pathways and sampling from a random normals multiplied by components of the SVD of our data. \n",
    "\n",
    "\n",
    "## Outline:\n",
    "\n",
    "1.  Get means/variances from empirical data\n",
    "2.  Use SVD trick from Ludwig to sample new 'regular' points.\n",
    "3.  Get pathway information from KEGG database\n",
    "4.  Resample the means for nodes in the pathway (\"dysregulate\" a subset of those nodes)\n",
    "5.  Use SVD trick to sample new 'dysregulated' points."
   ]
  },
  {
   "cell_type": "code",
   "execution_count": 1,
   "metadata": {
    "collapsed": false,
    "deletable": true,
    "editable": true
   },
   "outputs": [
    {
     "name": "stdout",
     "output_type": "stream",
     "text": [
      "Populating the interactive namespace from numpy and matplotlib\n"
     ]
    }
   ],
   "source": [
    "%pylab inline\n",
    "import numpy as np\n",
    "import pandas as pd\n",
    "import pickle as pkl\n",
    "\n",
    "from sklearn.preprocessing import StandardScaler\n",
    "from sklearn.decomposition import PCA"
   ]
  },
  {
   "cell_type": "markdown",
   "metadata": {
    "deletable": true,
    "editable": true
   },
   "source": [
    "# 1. Get means and variances of empirical data\n",
    "\n",
    "Let's use the Ovarian cancer data since it's nicely compact. We'll use the Experimental InBioMap PPI. "
   ]
  },
  {
   "cell_type": "code",
   "execution_count": 2,
   "metadata": {
    "collapsed": false,
    "deletable": true,
    "editable": true
   },
   "outputs": [
    {
     "data": {
      "text/html": [
       "<div>\n",
       "<style>\n",
       "    .dataframe thead tr:only-child th {\n",
       "        text-align: right;\n",
       "    }\n",
       "\n",
       "    .dataframe thead th {\n",
       "        text-align: left;\n",
       "    }\n",
       "\n",
       "    .dataframe tbody tr th {\n",
       "        vertical-align: top;\n",
       "    }\n",
       "</style>\n",
       "<table border=\"1\" class=\"dataframe\">\n",
       "  <thead>\n",
       "    <tr style=\"text-align: right;\">\n",
       "      <th></th>\n",
       "      <th>ZNF91</th>\n",
       "      <th>NDEL1</th>\n",
       "      <th>ELAVL1</th>\n",
       "      <th>SUMO1</th>\n",
       "      <th>SUMO3</th>\n",
       "      <th>CHMP5</th>\n",
       "      <th>UBC</th>\n",
       "      <th>HTT</th>\n",
       "      <th>E2F4</th>\n",
       "      <th>ACP5</th>\n",
       "      <th>...</th>\n",
       "      <th>SPANXN4</th>\n",
       "      <th>ZNF605</th>\n",
       "      <th>SERPINB10</th>\n",
       "      <th>ANKAR</th>\n",
       "      <th>RRH</th>\n",
       "      <th>DHH</th>\n",
       "      <th>CYSLTR1</th>\n",
       "      <th>ZNF268</th>\n",
       "      <th>COL23A1</th>\n",
       "      <th>MEDAG</th>\n",
       "    </tr>\n",
       "  </thead>\n",
       "  <tbody>\n",
       "    <tr>\n",
       "      <th>PNNL-TCGA-09-1664</th>\n",
       "      <td>0.0</td>\n",
       "      <td>-0.119</td>\n",
       "      <td>-0.1880</td>\n",
       "      <td>0.5710</td>\n",
       "      <td>-0.224000</td>\n",
       "      <td>0.3320</td>\n",
       "      <td>0.0</td>\n",
       "      <td>-0.2160</td>\n",
       "      <td>0.205</td>\n",
       "      <td>0.000</td>\n",
       "      <td>...</td>\n",
       "      <td>0.0</td>\n",
       "      <td>0.0</td>\n",
       "      <td>0.0</td>\n",
       "      <td>0.0</td>\n",
       "      <td>0.0</td>\n",
       "      <td>0.0</td>\n",
       "      <td>0.0</td>\n",
       "      <td>0.0</td>\n",
       "      <td>0.0</td>\n",
       "      <td>0.0</td>\n",
       "    </tr>\n",
       "    <tr>\n",
       "      <th>PNNL-TCGA-13-1484</th>\n",
       "      <td>0.0</td>\n",
       "      <td>0.000</td>\n",
       "      <td>-0.1210</td>\n",
       "      <td>-1.4500</td>\n",
       "      <td>0.079000</td>\n",
       "      <td>0.1030</td>\n",
       "      <td>0.0</td>\n",
       "      <td>-0.9750</td>\n",
       "      <td>0.000</td>\n",
       "      <td>0.175</td>\n",
       "      <td>...</td>\n",
       "      <td>0.0</td>\n",
       "      <td>0.0</td>\n",
       "      <td>0.0</td>\n",
       "      <td>0.0</td>\n",
       "      <td>0.0</td>\n",
       "      <td>0.0</td>\n",
       "      <td>0.0</td>\n",
       "      <td>0.0</td>\n",
       "      <td>0.0</td>\n",
       "      <td>0.0</td>\n",
       "    </tr>\n",
       "    <tr>\n",
       "      <th>PNNL-TCGA-13-1488</th>\n",
       "      <td>0.0</td>\n",
       "      <td>0.000</td>\n",
       "      <td>-0.2190</td>\n",
       "      <td>-0.0765</td>\n",
       "      <td>-1.340000</td>\n",
       "      <td>-0.4200</td>\n",
       "      <td>0.0</td>\n",
       "      <td>0.0158</td>\n",
       "      <td>0.000</td>\n",
       "      <td>0.000</td>\n",
       "      <td>...</td>\n",
       "      <td>0.0</td>\n",
       "      <td>0.0</td>\n",
       "      <td>0.0</td>\n",
       "      <td>0.0</td>\n",
       "      <td>0.0</td>\n",
       "      <td>0.0</td>\n",
       "      <td>0.0</td>\n",
       "      <td>0.0</td>\n",
       "      <td>0.0</td>\n",
       "      <td>0.0</td>\n",
       "    </tr>\n",
       "    <tr>\n",
       "      <th>PNNL-TCGA-13-1489</th>\n",
       "      <td>0.0</td>\n",
       "      <td>0.000</td>\n",
       "      <td>0.2360</td>\n",
       "      <td>0.7490</td>\n",
       "      <td>0.107000</td>\n",
       "      <td>-0.0168</td>\n",
       "      <td>0.0</td>\n",
       "      <td>-0.1470</td>\n",
       "      <td>0.000</td>\n",
       "      <td>0.000</td>\n",
       "      <td>...</td>\n",
       "      <td>0.0</td>\n",
       "      <td>0.0</td>\n",
       "      <td>0.0</td>\n",
       "      <td>0.0</td>\n",
       "      <td>0.0</td>\n",
       "      <td>0.0</td>\n",
       "      <td>0.0</td>\n",
       "      <td>0.0</td>\n",
       "      <td>0.0</td>\n",
       "      <td>0.0</td>\n",
       "    </tr>\n",
       "    <tr>\n",
       "      <th>PNNL-TCGA-13-1494</th>\n",
       "      <td>0.0</td>\n",
       "      <td>0.433</td>\n",
       "      <td>0.0158</td>\n",
       "      <td>-0.2100</td>\n",
       "      <td>0.000859</td>\n",
       "      <td>-0.5270</td>\n",
       "      <td>0.0</td>\n",
       "      <td>0.0926</td>\n",
       "      <td>0.000</td>\n",
       "      <td>0.000</td>\n",
       "      <td>...</td>\n",
       "      <td>0.0</td>\n",
       "      <td>0.0</td>\n",
       "      <td>0.0</td>\n",
       "      <td>0.0</td>\n",
       "      <td>0.0</td>\n",
       "      <td>0.0</td>\n",
       "      <td>0.0</td>\n",
       "      <td>0.0</td>\n",
       "      <td>0.0</td>\n",
       "      <td>0.0</td>\n",
       "    </tr>\n",
       "  </tbody>\n",
       "</table>\n",
       "<p>5 rows × 16349 columns</p>\n",
       "</div>"
      ],
      "text/plain": [
       "                   ZNF91  NDEL1  ELAVL1   SUMO1     SUMO3   CHMP5  UBC  \\\n",
       "PNNL-TCGA-09-1664    0.0 -0.119 -0.1880  0.5710 -0.224000  0.3320  0.0   \n",
       "PNNL-TCGA-13-1484    0.0  0.000 -0.1210 -1.4500  0.079000  0.1030  0.0   \n",
       "PNNL-TCGA-13-1488    0.0  0.000 -0.2190 -0.0765 -1.340000 -0.4200  0.0   \n",
       "PNNL-TCGA-13-1489    0.0  0.000  0.2360  0.7490  0.107000 -0.0168  0.0   \n",
       "PNNL-TCGA-13-1494    0.0  0.433  0.0158 -0.2100  0.000859 -0.5270  0.0   \n",
       "\n",
       "                      HTT   E2F4   ACP5  ...    SPANXN4  ZNF605  SERPINB10  \\\n",
       "PNNL-TCGA-09-1664 -0.2160  0.205  0.000  ...        0.0     0.0        0.0   \n",
       "PNNL-TCGA-13-1484 -0.9750  0.000  0.175  ...        0.0     0.0        0.0   \n",
       "PNNL-TCGA-13-1488  0.0158  0.000  0.000  ...        0.0     0.0        0.0   \n",
       "PNNL-TCGA-13-1489 -0.1470  0.000  0.000  ...        0.0     0.0        0.0   \n",
       "PNNL-TCGA-13-1494  0.0926  0.000  0.000  ...        0.0     0.0        0.0   \n",
       "\n",
       "                   ANKAR  RRH  DHH  CYSLTR1  ZNF268  COL23A1  MEDAG  \n",
       "PNNL-TCGA-09-1664    0.0  0.0  0.0      0.0     0.0      0.0    0.0  \n",
       "PNNL-TCGA-13-1484    0.0  0.0  0.0      0.0     0.0      0.0    0.0  \n",
       "PNNL-TCGA-13-1488    0.0  0.0  0.0      0.0     0.0      0.0    0.0  \n",
       "PNNL-TCGA-13-1489    0.0  0.0  0.0      0.0     0.0      0.0    0.0  \n",
       "PNNL-TCGA-13-1494    0.0  0.0  0.0      0.0     0.0      0.0    0.0  \n",
       "\n",
       "[5 rows x 16349 columns]"
      ]
     },
     "execution_count": 2,
     "metadata": {},
     "output_type": "execute_result"
    }
   ],
   "source": [
    "ovarian = pd.read_csv('/Users/alex/Documents/proteomics/data_preparation/proteomics_data/ovarian_inbiomap_exp.tsv', index_col=0)\n",
    "\n",
    "ovarian.head()"
   ]
  },
  {
   "cell_type": "code",
   "execution_count": 3,
   "metadata": {
    "collapsed": false,
    "deletable": true,
    "editable": true
   },
   "outputs": [],
   "source": [
    "means = ovarian.mean(axis=0)\n",
    "variances = ovarian.var(axis=0)"
   ]
  },
  {
   "cell_type": "markdown",
   "metadata": {
    "deletable": true,
    "editable": true
   },
   "source": [
    "# 2. Sample negative examples"
   ]
  },
  {
   "cell_type": "markdown",
   "metadata": {
    "deletable": true,
    "editable": true
   },
   "source": [
    "## 2.1 Apply a standard scaling to our data (subtract by the means, divide by std-dev)"
   ]
  },
  {
   "cell_type": "code",
   "execution_count": 4,
   "metadata": {
    "collapsed": true,
    "deletable": true,
    "editable": true
   },
   "outputs": [],
   "source": [
    "# ovarian = pd.DataFrame(StandardScaler().fit_transform(ovarian), columns=ovarian.columns, index=ovarian.index).astype(np.float32)\n",
    "# ovarian.head()"
   ]
  },
  {
   "cell_type": "markdown",
   "metadata": {
    "deletable": true,
    "editable": true
   },
   "source": [
    "## 2.2 Ludwig's Covariance Sampler"
   ]
  },
  {
   "cell_type": "code",
   "execution_count": 5,
   "metadata": {
    "collapsed": true,
    "deletable": true,
    "editable": true
   },
   "outputs": [],
   "source": [
    "# data is n x d, where n is the number of samples and d the dimension\n",
    "def sample_cov(m, data):\n",
    "    n, d = data.shape\n",
    "    mean = np.mean(data, axis=0)\n",
    "    _, S, V = np.linalg.svd((data - mean) / math.sqrt(n), full_matrices=False)\n",
    "    randomness = np.random.randn(m, min(n, d))\n",
    "    return np.dot(randomness, np.dot(np.diag(S), V))"
   ]
  },
  {
   "cell_type": "markdown",
   "metadata": {
    "deletable": true,
    "editable": true
   },
   "source": [
    "## 2.3 Sample from the same distribution as the input (we call these \"negatives\")"
   ]
  },
  {
   "cell_type": "code",
   "execution_count": 6,
   "metadata": {
    "collapsed": false,
    "deletable": true,
    "editable": true
   },
   "outputs": [
    {
     "data": {
      "text/html": [
       "<div>\n",
       "<style>\n",
       "    .dataframe thead tr:only-child th {\n",
       "        text-align: right;\n",
       "    }\n",
       "\n",
       "    .dataframe thead th {\n",
       "        text-align: left;\n",
       "    }\n",
       "\n",
       "    .dataframe tbody tr th {\n",
       "        vertical-align: top;\n",
       "    }\n",
       "</style>\n",
       "<table border=\"1\" class=\"dataframe\">\n",
       "  <thead>\n",
       "    <tr style=\"text-align: right;\">\n",
       "      <th></th>\n",
       "      <th>ZNF91</th>\n",
       "      <th>NDEL1</th>\n",
       "      <th>ELAVL1</th>\n",
       "      <th>SUMO1</th>\n",
       "      <th>SUMO3</th>\n",
       "      <th>CHMP5</th>\n",
       "      <th>UBC</th>\n",
       "      <th>HTT</th>\n",
       "      <th>E2F4</th>\n",
       "      <th>ACP5</th>\n",
       "      <th>...</th>\n",
       "      <th>SPANXN4</th>\n",
       "      <th>ZNF605</th>\n",
       "      <th>SERPINB10</th>\n",
       "      <th>ANKAR</th>\n",
       "      <th>RRH</th>\n",
       "      <th>DHH</th>\n",
       "      <th>CYSLTR1</th>\n",
       "      <th>ZNF268</th>\n",
       "      <th>COL23A1</th>\n",
       "      <th>MEDAG</th>\n",
       "    </tr>\n",
       "  </thead>\n",
       "  <tbody>\n",
       "    <tr>\n",
       "      <th>negative</th>\n",
       "      <td>-0.0</td>\n",
       "      <td>-0.340342</td>\n",
       "      <td>0.086941</td>\n",
       "      <td>0.704513</td>\n",
       "      <td>1.016886</td>\n",
       "      <td>0.435370</td>\n",
       "      <td>0.0</td>\n",
       "      <td>-0.714178</td>\n",
       "      <td>0.286918</td>\n",
       "      <td>-0.008855</td>\n",
       "      <td>...</td>\n",
       "      <td>0.0</td>\n",
       "      <td>0.0</td>\n",
       "      <td>0.0</td>\n",
       "      <td>0.0</td>\n",
       "      <td>0.0</td>\n",
       "      <td>0.0</td>\n",
       "      <td>0.0</td>\n",
       "      <td>0.0</td>\n",
       "      <td>0.0</td>\n",
       "      <td>0.0</td>\n",
       "    </tr>\n",
       "    <tr>\n",
       "      <th>negative</th>\n",
       "      <td>-0.0</td>\n",
       "      <td>-0.072958</td>\n",
       "      <td>-0.136913</td>\n",
       "      <td>0.750814</td>\n",
       "      <td>0.347315</td>\n",
       "      <td>0.037808</td>\n",
       "      <td>-0.0</td>\n",
       "      <td>-0.295412</td>\n",
       "      <td>-0.164848</td>\n",
       "      <td>-0.138569</td>\n",
       "      <td>...</td>\n",
       "      <td>0.0</td>\n",
       "      <td>0.0</td>\n",
       "      <td>0.0</td>\n",
       "      <td>0.0</td>\n",
       "      <td>0.0</td>\n",
       "      <td>0.0</td>\n",
       "      <td>0.0</td>\n",
       "      <td>0.0</td>\n",
       "      <td>0.0</td>\n",
       "      <td>0.0</td>\n",
       "    </tr>\n",
       "    <tr>\n",
       "      <th>negative</th>\n",
       "      <td>-0.0</td>\n",
       "      <td>0.111395</td>\n",
       "      <td>0.066380</td>\n",
       "      <td>-0.421866</td>\n",
       "      <td>-0.589742</td>\n",
       "      <td>-0.306874</td>\n",
       "      <td>0.0</td>\n",
       "      <td>-0.415386</td>\n",
       "      <td>0.441566</td>\n",
       "      <td>-0.600572</td>\n",
       "      <td>...</td>\n",
       "      <td>0.0</td>\n",
       "      <td>0.0</td>\n",
       "      <td>0.0</td>\n",
       "      <td>0.0</td>\n",
       "      <td>0.0</td>\n",
       "      <td>0.0</td>\n",
       "      <td>0.0</td>\n",
       "      <td>0.0</td>\n",
       "      <td>0.0</td>\n",
       "      <td>0.0</td>\n",
       "    </tr>\n",
       "    <tr>\n",
       "      <th>negative</th>\n",
       "      <td>-0.0</td>\n",
       "      <td>0.119310</td>\n",
       "      <td>-0.007721</td>\n",
       "      <td>0.045142</td>\n",
       "      <td>-0.616843</td>\n",
       "      <td>0.128891</td>\n",
       "      <td>-0.0</td>\n",
       "      <td>0.143808</td>\n",
       "      <td>0.090841</td>\n",
       "      <td>0.504894</td>\n",
       "      <td>...</td>\n",
       "      <td>0.0</td>\n",
       "      <td>0.0</td>\n",
       "      <td>0.0</td>\n",
       "      <td>0.0</td>\n",
       "      <td>0.0</td>\n",
       "      <td>0.0</td>\n",
       "      <td>0.0</td>\n",
       "      <td>0.0</td>\n",
       "      <td>0.0</td>\n",
       "      <td>0.0</td>\n",
       "    </tr>\n",
       "    <tr>\n",
       "      <th>negative</th>\n",
       "      <td>-0.0</td>\n",
       "      <td>-0.189842</td>\n",
       "      <td>-0.191221</td>\n",
       "      <td>0.255840</td>\n",
       "      <td>0.141932</td>\n",
       "      <td>0.082622</td>\n",
       "      <td>0.0</td>\n",
       "      <td>-0.184334</td>\n",
       "      <td>-0.012335</td>\n",
       "      <td>-0.194049</td>\n",
       "      <td>...</td>\n",
       "      <td>0.0</td>\n",
       "      <td>0.0</td>\n",
       "      <td>0.0</td>\n",
       "      <td>0.0</td>\n",
       "      <td>0.0</td>\n",
       "      <td>0.0</td>\n",
       "      <td>0.0</td>\n",
       "      <td>0.0</td>\n",
       "      <td>0.0</td>\n",
       "      <td>0.0</td>\n",
       "    </tr>\n",
       "  </tbody>\n",
       "</table>\n",
       "<p>5 rows × 16349 columns</p>\n",
       "</div>"
      ],
      "text/plain": [
       "          ZNF91     NDEL1    ELAVL1     SUMO1     SUMO3     CHMP5  UBC  \\\n",
       "negative   -0.0 -0.340342  0.086941  0.704513  1.016886  0.435370  0.0   \n",
       "negative   -0.0 -0.072958 -0.136913  0.750814  0.347315  0.037808 -0.0   \n",
       "negative   -0.0  0.111395  0.066380 -0.421866 -0.589742 -0.306874  0.0   \n",
       "negative   -0.0  0.119310 -0.007721  0.045142 -0.616843  0.128891 -0.0   \n",
       "negative   -0.0 -0.189842 -0.191221  0.255840  0.141932  0.082622  0.0   \n",
       "\n",
       "               HTT      E2F4      ACP5  ...    SPANXN4  ZNF605  SERPINB10  \\\n",
       "negative -0.714178  0.286918 -0.008855  ...        0.0     0.0        0.0   \n",
       "negative -0.295412 -0.164848 -0.138569  ...        0.0     0.0        0.0   \n",
       "negative -0.415386  0.441566 -0.600572  ...        0.0     0.0        0.0   \n",
       "negative  0.143808  0.090841  0.504894  ...        0.0     0.0        0.0   \n",
       "negative -0.184334 -0.012335 -0.194049  ...        0.0     0.0        0.0   \n",
       "\n",
       "          ANKAR  RRH  DHH  CYSLTR1  ZNF268  COL23A1  MEDAG  \n",
       "negative    0.0  0.0  0.0      0.0     0.0      0.0    0.0  \n",
       "negative    0.0  0.0  0.0      0.0     0.0      0.0    0.0  \n",
       "negative    0.0  0.0  0.0      0.0     0.0      0.0    0.0  \n",
       "negative    0.0  0.0  0.0      0.0     0.0      0.0    0.0  \n",
       "negative    0.0  0.0  0.0      0.0     0.0      0.0    0.0  \n",
       "\n",
       "[5 rows x 16349 columns]"
      ]
     },
     "execution_count": 6,
     "metadata": {},
     "output_type": "execute_result"
    }
   ],
   "source": [
    "negatives = sample_cov(100, ovarian)\n",
    "negatives = np.around(negatives + means.values, 6)\n",
    "negatives = pd.DataFrame(negatives, columns=ovarian.columns, index=['negative']*100)\n",
    "negatives.head()"
   ]
  },
  {
   "cell_type": "markdown",
   "metadata": {
    "deletable": true,
    "editable": true
   },
   "source": [
    "# 3. Retrieve KEGG pathways\n",
    "\n",
    "(pathways found at http://rest.kegg.jp/list/pathway/hsa)"
   ]
  },
  {
   "cell_type": "code",
   "execution_count": 8,
   "metadata": {
    "collapsed": false,
    "deletable": true,
    "editable": true
   },
   "outputs": [
    {
     "data": {
      "text/plain": [
       "array(['BCO1', 'ADH1A', 'ADH1B', 'ADH1C', 'ADH7', 'ADH4', 'ADH5', 'ADH6',\n",
       "       'DHRS3', 'DHRS4', 'DHRS4L1', 'DHRS4L2', 'DHRS9', 'RDH8', 'RDH10',\n",
       "       'RDH11', 'RDH12', 'RDH16', 'SDR16C5', 'HSD17B6', 'LRAT', 'DGAT1',\n",
       "       'AWAT2', 'PNPLA4', 'RPE65', 'RDH5', 'AOX1', 'ALDH1A2', 'ALDH1A1',\n",
       "       'CYP26A1', 'CYP26B1', 'CYP26C1', 'CYP1A1', 'CYP1A2', 'CYP2A6',\n",
       "       'CYP2B6', 'CYP2C8', 'CYP2C9', 'CYP2C18', 'CYP2S1', 'CYP3A4',\n",
       "       'CYP3A5', 'CYP3A7', 'CYP3A7-CYP3A51P', 'CYP4A11', 'UGT2A1',\n",
       "       'UGT2A3', 'UGT2B17', 'UGT2B11', 'UGT2B28', 'UGT1A6', 'UGT1A4',\n",
       "       'UGT1A1', 'UGT1A3', 'UGT2B10', 'UGT1A9', 'UGT2B7', 'UGT1A10',\n",
       "       'UGT1A8', 'UGT1A5', 'UGT2B15', 'UGT1A7', 'UGT2B4', 'UGT2A2',\n",
       "       'RETSAT'],\n",
       "      dtype='<U15')"
      ]
     },
     "execution_count": 8,
     "metadata": {},
     "output_type": "execute_result"
    }
   ],
   "source": [
    "pathways = pkl.load(open(\"/Users/alex/Documents/proteomics/synthetic_proteomics/data_generation/old_KEGG_pathway_gene_lists.pkl\", \"rb\"))\n",
    "pathway_id = \"hsa00830\"\n",
    "pathway_genes = np.array(pathways[pathway_id])\n",
    "pathway_genes"
   ]
  },
  {
   "cell_type": "markdown",
   "metadata": {
    "deletable": true,
    "editable": true
   },
   "source": [
    "# 4. Update the pathway means by resampling."
   ]
  },
  {
   "cell_type": "code",
   "execution_count": 9,
   "metadata": {
    "collapsed": false,
    "deletable": true,
    "editable": true,
    "scrolled": true
   },
   "outputs": [
    {
     "data": {
      "text/plain": [
       "ZNF91     0.000000\n",
       "NDEL1     0.010325\n",
       "ELAVL1    0.031412\n",
       "SUMO1     0.126737\n",
       "SUMO3    -0.039357\n",
       "dtype: float64"
      ]
     },
     "execution_count": 9,
     "metadata": {},
     "output_type": "execute_result"
    }
   ],
   "source": [
    "new_pathway_means = pd.Series(np.random.normal(0,variances), index=variances.index)[pathway_genes].fillna(0)\n",
    "new_means = pd.concat([means, new_pathway_means], axis=1).fillna(0).sum(axis=1).reindex(means.index)\n",
    "new_means.head()"
   ]
  },
  {
   "cell_type": "markdown",
   "metadata": {
    "deletable": true,
    "editable": true
   },
   "source": [
    "# 5. Sample positive examples"
   ]
  },
  {
   "cell_type": "code",
   "execution_count": 10,
   "metadata": {
    "collapsed": false,
    "deletable": true,
    "editable": true
   },
   "outputs": [
    {
     "data": {
      "text/html": [
       "<div>\n",
       "<style>\n",
       "    .dataframe thead tr:only-child th {\n",
       "        text-align: right;\n",
       "    }\n",
       "\n",
       "    .dataframe thead th {\n",
       "        text-align: left;\n",
       "    }\n",
       "\n",
       "    .dataframe tbody tr th {\n",
       "        vertical-align: top;\n",
       "    }\n",
       "</style>\n",
       "<table border=\"1\" class=\"dataframe\">\n",
       "  <thead>\n",
       "    <tr style=\"text-align: right;\">\n",
       "      <th></th>\n",
       "      <th>ZNF91</th>\n",
       "      <th>NDEL1</th>\n",
       "      <th>ELAVL1</th>\n",
       "      <th>SUMO1</th>\n",
       "      <th>SUMO3</th>\n",
       "      <th>CHMP5</th>\n",
       "      <th>UBC</th>\n",
       "      <th>HTT</th>\n",
       "      <th>E2F4</th>\n",
       "      <th>ACP5</th>\n",
       "      <th>...</th>\n",
       "      <th>SPANXN4</th>\n",
       "      <th>ZNF605</th>\n",
       "      <th>SERPINB10</th>\n",
       "      <th>ANKAR</th>\n",
       "      <th>RRH</th>\n",
       "      <th>DHH</th>\n",
       "      <th>CYSLTR1</th>\n",
       "      <th>ZNF268</th>\n",
       "      <th>COL23A1</th>\n",
       "      <th>MEDAG</th>\n",
       "    </tr>\n",
       "  </thead>\n",
       "  <tbody>\n",
       "    <tr>\n",
       "      <th>hsa00830</th>\n",
       "      <td>0.0</td>\n",
       "      <td>-0.174994</td>\n",
       "      <td>-0.016008</td>\n",
       "      <td>0.578854</td>\n",
       "      <td>-0.883803</td>\n",
       "      <td>0.034943</td>\n",
       "      <td>0.0</td>\n",
       "      <td>0.474227</td>\n",
       "      <td>0.254888</td>\n",
       "      <td>-0.589186</td>\n",
       "      <td>...</td>\n",
       "      <td>0.0</td>\n",
       "      <td>0.0</td>\n",
       "      <td>0.0</td>\n",
       "      <td>0.0</td>\n",
       "      <td>0.0</td>\n",
       "      <td>0.0</td>\n",
       "      <td>0.0</td>\n",
       "      <td>0.0</td>\n",
       "      <td>0.0</td>\n",
       "      <td>0.0</td>\n",
       "    </tr>\n",
       "    <tr>\n",
       "      <th>hsa00830</th>\n",
       "      <td>-0.0</td>\n",
       "      <td>0.177888</td>\n",
       "      <td>-0.182600</td>\n",
       "      <td>0.067403</td>\n",
       "      <td>0.453411</td>\n",
       "      <td>-0.241085</td>\n",
       "      <td>-0.0</td>\n",
       "      <td>-0.237875</td>\n",
       "      <td>0.294950</td>\n",
       "      <td>-0.279966</td>\n",
       "      <td>...</td>\n",
       "      <td>0.0</td>\n",
       "      <td>0.0</td>\n",
       "      <td>0.0</td>\n",
       "      <td>0.0</td>\n",
       "      <td>0.0</td>\n",
       "      <td>0.0</td>\n",
       "      <td>0.0</td>\n",
       "      <td>0.0</td>\n",
       "      <td>0.0</td>\n",
       "      <td>0.0</td>\n",
       "    </tr>\n",
       "    <tr>\n",
       "      <th>hsa00830</th>\n",
       "      <td>0.0</td>\n",
       "      <td>-0.313275</td>\n",
       "      <td>0.334003</td>\n",
       "      <td>0.019009</td>\n",
       "      <td>0.513477</td>\n",
       "      <td>0.533990</td>\n",
       "      <td>-0.0</td>\n",
       "      <td>0.012134</td>\n",
       "      <td>0.956460</td>\n",
       "      <td>-0.027019</td>\n",
       "      <td>...</td>\n",
       "      <td>0.0</td>\n",
       "      <td>0.0</td>\n",
       "      <td>0.0</td>\n",
       "      <td>0.0</td>\n",
       "      <td>0.0</td>\n",
       "      <td>0.0</td>\n",
       "      <td>0.0</td>\n",
       "      <td>0.0</td>\n",
       "      <td>0.0</td>\n",
       "      <td>0.0</td>\n",
       "    </tr>\n",
       "    <tr>\n",
       "      <th>hsa00830</th>\n",
       "      <td>0.0</td>\n",
       "      <td>-0.055120</td>\n",
       "      <td>0.014046</td>\n",
       "      <td>-0.376788</td>\n",
       "      <td>-0.167616</td>\n",
       "      <td>0.363692</td>\n",
       "      <td>0.0</td>\n",
       "      <td>-0.364498</td>\n",
       "      <td>0.305706</td>\n",
       "      <td>0.404443</td>\n",
       "      <td>...</td>\n",
       "      <td>0.0</td>\n",
       "      <td>0.0</td>\n",
       "      <td>0.0</td>\n",
       "      <td>0.0</td>\n",
       "      <td>0.0</td>\n",
       "      <td>0.0</td>\n",
       "      <td>0.0</td>\n",
       "      <td>0.0</td>\n",
       "      <td>0.0</td>\n",
       "      <td>0.0</td>\n",
       "    </tr>\n",
       "    <tr>\n",
       "      <th>hsa00830</th>\n",
       "      <td>-0.0</td>\n",
       "      <td>-0.704375</td>\n",
       "      <td>0.204562</td>\n",
       "      <td>0.384501</td>\n",
       "      <td>-0.445709</td>\n",
       "      <td>-0.362991</td>\n",
       "      <td>0.0</td>\n",
       "      <td>-1.061112</td>\n",
       "      <td>-0.086533</td>\n",
       "      <td>-0.404047</td>\n",
       "      <td>...</td>\n",
       "      <td>0.0</td>\n",
       "      <td>0.0</td>\n",
       "      <td>0.0</td>\n",
       "      <td>0.0</td>\n",
       "      <td>0.0</td>\n",
       "      <td>0.0</td>\n",
       "      <td>0.0</td>\n",
       "      <td>0.0</td>\n",
       "      <td>0.0</td>\n",
       "      <td>0.0</td>\n",
       "    </tr>\n",
       "  </tbody>\n",
       "</table>\n",
       "<p>5 rows × 16349 columns</p>\n",
       "</div>"
      ],
      "text/plain": [
       "          ZNF91     NDEL1    ELAVL1     SUMO1     SUMO3     CHMP5  UBC  \\\n",
       "hsa00830    0.0 -0.174994 -0.016008  0.578854 -0.883803  0.034943  0.0   \n",
       "hsa00830   -0.0  0.177888 -0.182600  0.067403  0.453411 -0.241085 -0.0   \n",
       "hsa00830    0.0 -0.313275  0.334003  0.019009  0.513477  0.533990 -0.0   \n",
       "hsa00830    0.0 -0.055120  0.014046 -0.376788 -0.167616  0.363692  0.0   \n",
       "hsa00830   -0.0 -0.704375  0.204562  0.384501 -0.445709 -0.362991  0.0   \n",
       "\n",
       "               HTT      E2F4      ACP5  ...    SPANXN4  ZNF605  SERPINB10  \\\n",
       "hsa00830  0.474227  0.254888 -0.589186  ...        0.0     0.0        0.0   \n",
       "hsa00830 -0.237875  0.294950 -0.279966  ...        0.0     0.0        0.0   \n",
       "hsa00830  0.012134  0.956460 -0.027019  ...        0.0     0.0        0.0   \n",
       "hsa00830 -0.364498  0.305706  0.404443  ...        0.0     0.0        0.0   \n",
       "hsa00830 -1.061112 -0.086533 -0.404047  ...        0.0     0.0        0.0   \n",
       "\n",
       "          ANKAR  RRH  DHH  CYSLTR1  ZNF268  COL23A1  MEDAG  \n",
       "hsa00830    0.0  0.0  0.0      0.0     0.0      0.0    0.0  \n",
       "hsa00830    0.0  0.0  0.0      0.0     0.0      0.0    0.0  \n",
       "hsa00830    0.0  0.0  0.0      0.0     0.0      0.0    0.0  \n",
       "hsa00830    0.0  0.0  0.0      0.0     0.0      0.0    0.0  \n",
       "hsa00830    0.0  0.0  0.0      0.0     0.0      0.0    0.0  \n",
       "\n",
       "[5 rows x 16349 columns]"
      ]
     },
     "execution_count": 10,
     "metadata": {},
     "output_type": "execute_result"
    }
   ],
   "source": [
    "positives = sample_cov(100, ovarian)\n",
    "positives = np.around(positives + new_means.values, 6)\n",
    "positives = pd.DataFrame(positives, columns=ovarian.columns, index=[pathway_id]*100)\n",
    "positives.head()"
   ]
  },
  {
   "cell_type": "code",
   "execution_count": 12,
   "metadata": {
    "collapsed": false,
    "deletable": true,
    "editable": true
   },
   "outputs": [],
   "source": [
    "ovarian = pd.read_csv('/Users/alex/Documents/proteomics/data_preparation/proteomics_data/ovarian_inbiomap_exp.tsv', index_col=0)\n",
    "ovarian.index = ['true'] * len(ovarian)"
   ]
  },
  {
   "cell_type": "code",
   "execution_count": 13,
   "metadata": {
    "collapsed": false,
    "deletable": true,
    "editable": true
   },
   "outputs": [],
   "source": [
    "dataset = pd.concat([ovarian, positives, negatives])\n",
    "y = dataset.index.values"
   ]
  },
  {
   "cell_type": "code",
   "execution_count": 14,
   "metadata": {
    "collapsed": false,
    "deletable": true,
    "editable": true
   },
   "outputs": [
    {
     "name": "stdout",
     "output_type": "stream",
     "text": [
      "PC 1: 9.35%   PC 2: 4.26%   \n"
     ]
    },
    {
     "data": {
      "image/png": "[encoded data removed]",
      "text/plain": [
       "<matplotlib.figure.Figure at 0x112204048>"
      ]
     },
     "metadata": {},
     "output_type": "display_data"
    }
   ],
   "source": [
    "pca = PCA(n_components=2)\n",
    "Y = pca.fit_transform(dataset)\n",
    "\n",
    "with plt.style.context('seaborn-whitegrid'):\n",
    "    figure(figsize=(7, 7))\n",
    "    for label, color in zip(('true','hsa00830', 'negative'), ('blue','orange', 'green')):\n",
    "        plt.scatter(Y[y==label, 0], Y[y==label, 1], label=label, c=color)\n",
    "        \n",
    "    plt.xlabel('Principal Component 1')\n",
    "    plt.ylabel('Principal Component 2')\n",
    "    plt.legend(loc='upper right',prop={'size':16})\n",
    "    plt.tight_layout()\n",
    "    print(''.join(['PC '+str(i+1)+': '+str(var*100)[:4]+'%   ' for i, var in enumerate(pca.explained_variance_ratio_)]))\n",
    "    plt.show()"
   ]
  },
  {
   "cell_type": "code",
   "execution_count": 18,
   "metadata": {
    "collapsed": false,
    "deletable": true,
    "editable": true
   },
   "outputs": [
    {
     "data": {
      "image/png": "[encoded data removed]",
      "text/plain": [
       "<matplotlib.figure.Figure at 0x111d3d048>"
      ]
     },
     "metadata": {},
     "output_type": "display_data"
    }
   ],
   "source": [
    "from sklearn.manifold import TSNE\n",
    "tsne = TSNE(learning_rate=100, perplexity=20)\n",
    "Y = tsne.fit_transform(dataset)\n",
    "\n",
    "with plt.style.context('seaborn-whitegrid'):\n",
    "    figure(figsize=(7, 7))\n",
    "    for label, color in zip(('true','hsa00830', 'negative'), ('blue','orange', 'green')):\n",
    "        plt.scatter(Y[y==label, 0], Y[y==label, 1], label=label, c=color)\n",
    "        \n",
    "    plt.xlabel('TSNE Component 1')\n",
    "    plt.ylabel('TSNE Component 2')\n",
    "#     plt.legend(loc='upper right',prop={'size':16})\n",
    "    plt.tight_layout()\n",
    "    plt.show()"
   ]
  },
  {
   "cell_type": "code",
   "execution_count": null,
   "metadata": {
    "collapsed": true,
    "deletable": true,
    "editable": true
   },
   "outputs": [],
   "source": []
  }
 ],
 "metadata": {
  "kernelspec": {
   "display_name": "Python 3",
   "language": "python",
   "name": "python3"
  },
  "language_info": {
   "codemirror_mode": {
    "name": "ipython",
    "version": 3
   },
   "file_extension": ".py",
   "mimetype": "text/x-python",
   "name": "python",
   "nbconvert_exporter": "python",
   "pygments_lexer": "ipython3",
   "version": "3.6.1"
  }
 },
 "nbformat": 4,
 "nbformat_minor": 1
}
