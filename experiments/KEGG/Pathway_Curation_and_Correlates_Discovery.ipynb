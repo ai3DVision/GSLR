{
 "cells": [
  {
   "cell_type": "markdown",
   "metadata": {
    "deletable": true,
    "editable": true
   },
   "source": [
    "# Pathway Curation and Correlates Discovery"
   ]
  },
  {
   "cell_type": "code",
   "execution_count": 1,
   "metadata": {
    "collapsed": false,
    "deletable": true,
    "editable": true
   },
   "outputs": [
    {
     "name": "stdout",
     "output_type": "stream",
     "text": [
      "Populating the interactive namespace from numpy and matplotlib\n"
     ]
    },
    {
     "data": {
      "text/html": [
       "<div>\n",
       "<style>\n",
       "    .dataframe thead tr:only-child th {\n",
       "        text-align: right;\n",
       "    }\n",
       "\n",
       "    .dataframe thead th {\n",
       "        text-align: left;\n",
       "    }\n",
       "\n",
       "    .dataframe tbody tr th {\n",
       "        vertical-align: top;\n",
       "    }\n",
       "</style>\n",
       "<table border=\"1\" class=\"dataframe\">\n",
       "  <thead>\n",
       "    <tr style=\"text-align: right;\">\n",
       "      <th></th>\n",
       "      <th></th>\n",
       "      <th></th>\n",
       "      <th>genes</th>\n",
       "      <th>name</th>\n",
       "    </tr>\n",
       "    <tr>\n",
       "      <th>class</th>\n",
       "      <th>subclass</th>\n",
       "      <th>id</th>\n",
       "      <th></th>\n",
       "      <th></th>\n",
       "    </tr>\n",
       "  </thead>\n",
       "  <tbody>\n",
       "    <tr>\n",
       "      <th rowspan=\"5\" valign=\"top\">Cellular Processes</th>\n",
       "      <th rowspan=\"5\" valign=\"top\">Cell growth and death</th>\n",
       "      <th>hsa04110</th>\n",
       "      <td>[CCND1, CCND2, CCND3, CDK4, CDK6, RB1, RBL1, R...</td>\n",
       "      <td>Cell cycle</td>\n",
       "    </tr>\n",
       "    <tr>\n",
       "      <th>hsa04114</th>\n",
       "      <td>[INS, IGF1, IGF1R, PGR, AR, ADCY1, ADCY2, ADCY...</td>\n",
       "      <td>Oocyte meiosis</td>\n",
       "    </tr>\n",
       "    <tr>\n",
       "      <th>hsa04115</th>\n",
       "      <td>[ATM, CHEK2, ATR, CHEK1, GORAB, CDKN2A, MDM2, ...</td>\n",
       "      <td>p53 signaling pathway</td>\n",
       "    </tr>\n",
       "    <tr>\n",
       "      <th>hsa04210</th>\n",
       "      <td>[TNFSF10, TNFRSF10A, TNFRSF10B, TNFRSF10C, TNF...</td>\n",
       "      <td>Apoptosis</td>\n",
       "    </tr>\n",
       "    <tr>\n",
       "      <th>hsa04215</th>\n",
       "      <td>[TNFRSF1A, FADD, CASP8, CASP7, CASP3, BID, BCL...</td>\n",
       "      <td>Apoptosis - multiple species</td>\n",
       "    </tr>\n",
       "  </tbody>\n",
       "</table>\n",
       "</div>"
      ],
      "text/plain": [
       "                                                                                                genes  \\\n",
       "class              subclass               id                                                            \n",
       "Cellular Processes  Cell growth and death hsa04110  [CCND1, CCND2, CCND3, CDK4, CDK6, RB1, RBL1, R...   \n",
       "                                          hsa04114  [INS, IGF1, IGF1R, PGR, AR, ADCY1, ADCY2, ADCY...   \n",
       "                                          hsa04115  [ATM, CHEK2, ATR, CHEK1, GORAB, CDKN2A, MDM2, ...   \n",
       "                                          hsa04210  [TNFSF10, TNFRSF10A, TNFRSF10B, TNFRSF10C, TNF...   \n",
       "                                          hsa04215  [TNFRSF1A, FADD, CASP8, CASP7, CASP3, BID, BCL...   \n",
       "\n",
       "                                                                            name  \n",
       "class              subclass               id                                      \n",
       "Cellular Processes  Cell growth and death hsa04110                    Cell cycle  \n",
       "                                          hsa04114                Oocyte meiosis  \n",
       "                                          hsa04115         p53 signaling pathway  \n",
       "                                          hsa04210                     Apoptosis  \n",
       "                                          hsa04215  Apoptosis - multiple species  "
      ]
     },
     "execution_count": 1,
     "metadata": {},
     "output_type": "execute_result"
    }
   ],
   "source": [
    "%pylab inline\n",
    "import numpy as np\n",
    "import pandas as pd\n",
    "import networkx as nx\n",
    "import pickle\n",
    "\n",
    "pathways_df = pd.read_pickle('/Users/alex/Documents/proteomics/synthetic_proteomics/data_generation/KEGG_df.pickle')\n",
    "pathways_df.head()"
   ]
  },
  {
   "cell_type": "markdown",
   "metadata": {
    "deletable": true,
    "editable": true
   },
   "source": [
    "# I. Pathway Curation"
   ]
  },
  {
   "cell_type": "code",
   "execution_count": 2,
   "metadata": {
    "collapsed": false,
    "deletable": true,
    "editable": true
   },
   "outputs": [
    {
     "data": {
      "text/plain": [
       "array(['Cellular Processes', 'Environmental Information Processing',\n",
       "       'Genetic Information Processing', 'Human Diseases', 'Metabolism',\n",
       "       'Organismal Systems'], dtype=object)"
      ]
     },
     "execution_count": 2,
     "metadata": {},
     "output_type": "execute_result"
    }
   ],
   "source": [
    "np.unique(pathways_df.index.get_level_values(0))"
   ]
  },
  {
   "cell_type": "code",
   "execution_count": 3,
   "metadata": {
    "collapsed": true,
    "deletable": true,
    "editable": true
   },
   "outputs": [],
   "source": [
    "pathways_df = pathways_df.drop('Metabolism', level=0)"
   ]
  },
  {
   "cell_type": "code",
   "execution_count": 4,
   "metadata": {
    "collapsed": false,
    "deletable": true,
    "editable": true
   },
   "outputs": [
    {
     "data": {
      "text/plain": [
       "array(['Cellular Processes', 'Environmental Information Processing',\n",
       "       'Genetic Information Processing', 'Human Diseases',\n",
       "       'Organismal Systems'], dtype=object)"
      ]
     },
     "execution_count": 4,
     "metadata": {},
     "output_type": "execute_result"
    }
   ],
   "source": [
    "np.unique(pathways_df.index.get_level_values(0))"
   ]
  },
  {
   "cell_type": "code",
   "execution_count": 5,
   "metadata": {
    "collapsed": false,
    "deletable": true,
    "editable": true
   },
   "outputs": [
    {
     "data": {
      "text/plain": [
       "array(['hsa04110', 'hsa04114', 'hsa04115', 'hsa04210', 'hsa04215',\n",
       "       'hsa04216', 'hsa04217', 'hsa04218', 'hsa04810', 'hsa04510',\n",
       "       'hsa04520', 'hsa04530', 'hsa04540', 'hsa04550', 'hsa04136',\n",
       "       'hsa04137', 'hsa04140', 'hsa04142', 'hsa04144', 'hsa04145',\n",
       "       'hsa04146', 'hsa02010', 'hsa04010', 'hsa04012', 'hsa04014',\n",
       "       'hsa04015', 'hsa04020', 'hsa04022', 'hsa04024', 'hsa04064',\n",
       "       'hsa04066', 'hsa04068', 'hsa04070', 'hsa04071', 'hsa04072',\n",
       "       'hsa04150', 'hsa04151', 'hsa04152', 'hsa04310', 'hsa04330',\n",
       "       'hsa04340', 'hsa04350', 'hsa04370', 'hsa04371', 'hsa04390',\n",
       "       'hsa04392', 'hsa04630', 'hsa04668', 'hsa04060', 'hsa04080',\n",
       "       'hsa04512', 'hsa04514', 'hsa03018', 'hsa03050', 'hsa03060',\n",
       "       'hsa04120', 'hsa04122', 'hsa04130', 'hsa04141', 'hsa03030',\n",
       "       'hsa03410', 'hsa03420', 'hsa03430', 'hsa03440', 'hsa03450',\n",
       "       'hsa03460', 'hsa03020', 'hsa03022', 'hsa03040', 'hsa00970',\n",
       "       'hsa03008', 'hsa03010', 'hsa03013', 'hsa03015', 'hsa05200',\n",
       "       'hsa05202', 'hsa05203', 'hsa05204', 'hsa05205', 'hsa05206',\n",
       "       'hsa05210', 'hsa05211', 'hsa05212', 'hsa05213', 'hsa05214',\n",
       "       'hsa05215', 'hsa05216', 'hsa05217', 'hsa05218', 'hsa05219',\n",
       "       'hsa05220', 'hsa05221', 'hsa05222', 'hsa05223', 'hsa05224',\n",
       "       'hsa05230', 'hsa05231', 'hsa05410', 'hsa05412', 'hsa05414',\n",
       "       'hsa05416', 'hsa05418', 'hsa01521', 'hsa01522', 'hsa01523',\n",
       "       'hsa01524', 'hsa04930', 'hsa04931', 'hsa04932', 'hsa04933',\n",
       "       'hsa04940', 'hsa04950', 'hsa05310', 'hsa05320', 'hsa05321',\n",
       "       'hsa05322', 'hsa05323', 'hsa05330', 'hsa05332', 'hsa05340',\n",
       "       'hsa05100', 'hsa05110', 'hsa05120', 'hsa05130', 'hsa05131',\n",
       "       'hsa05132', 'hsa05133', 'hsa05134', 'hsa05140', 'hsa05142',\n",
       "       'hsa05143', 'hsa05144', 'hsa05145', 'hsa05146', 'hsa05150',\n",
       "       'hsa05152', 'hsa05160', 'hsa05161', 'hsa05162', 'hsa05164',\n",
       "       'hsa05165', 'hsa05166', 'hsa05167', 'hsa05168', 'hsa05169',\n",
       "       'hsa05010', 'hsa05012', 'hsa05014', 'hsa05016', 'hsa05020',\n",
       "       'hsa05030', 'hsa05031', 'hsa05032', 'hsa05033', 'hsa05034',\n",
       "       'hsa04211', 'hsa04213', 'hsa04260', 'hsa04261', 'hsa04270',\n",
       "       'hsa04360', 'hsa04380', 'hsa04970', 'hsa04971', 'hsa04972',\n",
       "       'hsa04973', 'hsa04974', 'hsa04975', 'hsa04976', 'hsa04977',\n",
       "       'hsa04978', 'hsa03320', 'hsa04614', 'hsa04910', 'hsa04911',\n",
       "       'hsa04912', 'hsa04913', 'hsa04914', 'hsa04915', 'hsa04916',\n",
       "       'hsa04917', 'hsa04918', 'hsa04919', 'hsa04920', 'hsa04921',\n",
       "       'hsa04922', 'hsa04923', 'hsa04924', 'hsa04925', 'hsa04710',\n",
       "       'hsa04713', 'hsa04960', 'hsa04961', 'hsa04962', 'hsa04964',\n",
       "       'hsa04966', 'hsa04062', 'hsa04610', 'hsa04611', 'hsa04612',\n",
       "       'hsa04620', 'hsa04621', 'hsa04622', 'hsa04623', 'hsa04640',\n",
       "       'hsa04650', 'hsa04657', 'hsa04658', 'hsa04659', 'hsa04660',\n",
       "       'hsa04662', 'hsa04664', 'hsa04666', 'hsa04670', 'hsa04672',\n",
       "       'hsa04720', 'hsa04721', 'hsa04722', 'hsa04723', 'hsa04724',\n",
       "       'hsa04725', 'hsa04726', 'hsa04727', 'hsa04728', 'hsa04730',\n",
       "       'hsa04740', 'hsa04742', 'hsa04744', 'hsa04750'], dtype=object)"
      ]
     },
     "execution_count": 5,
     "metadata": {},
     "output_type": "execute_result"
    }
   ],
   "source": [
    "pathways_df.index.get_level_values(2).values"
   ]
  },
  {
   "cell_type": "code",
   "execution_count": 6,
   "metadata": {
    "collapsed": false,
    "deletable": true,
    "editable": true
   },
   "outputs": [],
   "source": [
    "pathway_genes = {row.Index[2]: row.genes for row in pathways_df.itertuples()}"
   ]
  },
  {
   "cell_type": "markdown",
   "metadata": {
    "deletable": true,
    "editable": true
   },
   "source": [
    "# II. Correlates Discovery"
   ]
  },
  {
   "cell_type": "code",
   "execution_count": 7,
   "metadata": {
    "collapsed": false,
    "deletable": true,
    "editable": true
   },
   "outputs": [
    {
     "data": {
      "text/html": [
       "<div>\n",
       "<style>\n",
       "    .dataframe thead tr:only-child th {\n",
       "        text-align: right;\n",
       "    }\n",
       "\n",
       "    .dataframe thead th {\n",
       "        text-align: left;\n",
       "    }\n",
       "\n",
       "    .dataframe tbody tr th {\n",
       "        vertical-align: top;\n",
       "    }\n",
       "</style>\n",
       "<table border=\"1\" class=\"dataframe\">\n",
       "  <thead>\n",
       "    <tr style=\"text-align: right;\">\n",
       "      <th></th>\n",
       "      <th>ZNF91</th>\n",
       "      <th>NDEL1</th>\n",
       "      <th>ELAVL1</th>\n",
       "      <th>SUMO1</th>\n",
       "      <th>SUMO3</th>\n",
       "      <th>CHMP5</th>\n",
       "      <th>UBC</th>\n",
       "      <th>HTT</th>\n",
       "      <th>E2F4</th>\n",
       "      <th>ACP5</th>\n",
       "      <th>...</th>\n",
       "      <th>SPANXN4</th>\n",
       "      <th>ZNF605</th>\n",
       "      <th>SERPINB10</th>\n",
       "      <th>ANKAR</th>\n",
       "      <th>RRH</th>\n",
       "      <th>DHH</th>\n",
       "      <th>CYSLTR1</th>\n",
       "      <th>ZNF268</th>\n",
       "      <th>COL23A1</th>\n",
       "      <th>MEDAG</th>\n",
       "    </tr>\n",
       "  </thead>\n",
       "  <tbody>\n",
       "    <tr>\n",
       "      <th>PNNL-TCGA-09-1664</th>\n",
       "      <td>0.0</td>\n",
       "      <td>-0.119</td>\n",
       "      <td>-0.1880</td>\n",
       "      <td>0.5710</td>\n",
       "      <td>-0.224000</td>\n",
       "      <td>0.3320</td>\n",
       "      <td>0.0</td>\n",
       "      <td>-0.2160</td>\n",
       "      <td>0.205</td>\n",
       "      <td>0.000</td>\n",
       "      <td>...</td>\n",
       "      <td>0.0</td>\n",
       "      <td>0.0</td>\n",
       "      <td>0.0</td>\n",
       "      <td>0.0</td>\n",
       "      <td>0.0</td>\n",
       "      <td>0.0</td>\n",
       "      <td>0.0</td>\n",
       "      <td>0.0</td>\n",
       "      <td>0.0</td>\n",
       "      <td>0.0</td>\n",
       "    </tr>\n",
       "    <tr>\n",
       "      <th>PNNL-TCGA-13-1484</th>\n",
       "      <td>0.0</td>\n",
       "      <td>0.000</td>\n",
       "      <td>-0.1210</td>\n",
       "      <td>-1.4500</td>\n",
       "      <td>0.079000</td>\n",
       "      <td>0.1030</td>\n",
       "      <td>0.0</td>\n",
       "      <td>-0.9750</td>\n",
       "      <td>0.000</td>\n",
       "      <td>0.175</td>\n",
       "      <td>...</td>\n",
       "      <td>0.0</td>\n",
       "      <td>0.0</td>\n",
       "      <td>0.0</td>\n",
       "      <td>0.0</td>\n",
       "      <td>0.0</td>\n",
       "      <td>0.0</td>\n",
       "      <td>0.0</td>\n",
       "      <td>0.0</td>\n",
       "      <td>0.0</td>\n",
       "      <td>0.0</td>\n",
       "    </tr>\n",
       "    <tr>\n",
       "      <th>PNNL-TCGA-13-1488</th>\n",
       "      <td>0.0</td>\n",
       "      <td>0.000</td>\n",
       "      <td>-0.2190</td>\n",
       "      <td>-0.0765</td>\n",
       "      <td>-1.340000</td>\n",
       "      <td>-0.4200</td>\n",
       "      <td>0.0</td>\n",
       "      <td>0.0158</td>\n",
       "      <td>0.000</td>\n",
       "      <td>0.000</td>\n",
       "      <td>...</td>\n",
       "      <td>0.0</td>\n",
       "      <td>0.0</td>\n",
       "      <td>0.0</td>\n",
       "      <td>0.0</td>\n",
       "      <td>0.0</td>\n",
       "      <td>0.0</td>\n",
       "      <td>0.0</td>\n",
       "      <td>0.0</td>\n",
       "      <td>0.0</td>\n",
       "      <td>0.0</td>\n",
       "    </tr>\n",
       "    <tr>\n",
       "      <th>PNNL-TCGA-13-1489</th>\n",
       "      <td>0.0</td>\n",
       "      <td>0.000</td>\n",
       "      <td>0.2360</td>\n",
       "      <td>0.7490</td>\n",
       "      <td>0.107000</td>\n",
       "      <td>-0.0168</td>\n",
       "      <td>0.0</td>\n",
       "      <td>-0.1470</td>\n",
       "      <td>0.000</td>\n",
       "      <td>0.000</td>\n",
       "      <td>...</td>\n",
       "      <td>0.0</td>\n",
       "      <td>0.0</td>\n",
       "      <td>0.0</td>\n",
       "      <td>0.0</td>\n",
       "      <td>0.0</td>\n",
       "      <td>0.0</td>\n",
       "      <td>0.0</td>\n",
       "      <td>0.0</td>\n",
       "      <td>0.0</td>\n",
       "      <td>0.0</td>\n",
       "    </tr>\n",
       "    <tr>\n",
       "      <th>PNNL-TCGA-13-1494</th>\n",
       "      <td>0.0</td>\n",
       "      <td>0.433</td>\n",
       "      <td>0.0158</td>\n",
       "      <td>-0.2100</td>\n",
       "      <td>0.000859</td>\n",
       "      <td>-0.5270</td>\n",
       "      <td>0.0</td>\n",
       "      <td>0.0926</td>\n",
       "      <td>0.000</td>\n",
       "      <td>0.000</td>\n",
       "      <td>...</td>\n",
       "      <td>0.0</td>\n",
       "      <td>0.0</td>\n",
       "      <td>0.0</td>\n",
       "      <td>0.0</td>\n",
       "      <td>0.0</td>\n",
       "      <td>0.0</td>\n",
       "      <td>0.0</td>\n",
       "      <td>0.0</td>\n",
       "      <td>0.0</td>\n",
       "      <td>0.0</td>\n",
       "    </tr>\n",
       "  </tbody>\n",
       "</table>\n",
       "<p>5 rows × 16349 columns</p>\n",
       "</div>"
      ],
      "text/plain": [
       "                   ZNF91  NDEL1  ELAVL1   SUMO1     SUMO3   CHMP5  UBC  \\\n",
       "PNNL-TCGA-09-1664    0.0 -0.119 -0.1880  0.5710 -0.224000  0.3320  0.0   \n",
       "PNNL-TCGA-13-1484    0.0  0.000 -0.1210 -1.4500  0.079000  0.1030  0.0   \n",
       "PNNL-TCGA-13-1488    0.0  0.000 -0.2190 -0.0765 -1.340000 -0.4200  0.0   \n",
       "PNNL-TCGA-13-1489    0.0  0.000  0.2360  0.7490  0.107000 -0.0168  0.0   \n",
       "PNNL-TCGA-13-1494    0.0  0.433  0.0158 -0.2100  0.000859 -0.5270  0.0   \n",
       "\n",
       "                      HTT   E2F4   ACP5  ...    SPANXN4  ZNF605  SERPINB10  \\\n",
       "PNNL-TCGA-09-1664 -0.2160  0.205  0.000  ...        0.0     0.0        0.0   \n",
       "PNNL-TCGA-13-1484 -0.9750  0.000  0.175  ...        0.0     0.0        0.0   \n",
       "PNNL-TCGA-13-1488  0.0158  0.000  0.000  ...        0.0     0.0        0.0   \n",
       "PNNL-TCGA-13-1489 -0.1470  0.000  0.000  ...        0.0     0.0        0.0   \n",
       "PNNL-TCGA-13-1494  0.0926  0.000  0.000  ...        0.0     0.0        0.0   \n",
       "\n",
       "                   ANKAR  RRH  DHH  CYSLTR1  ZNF268  COL23A1  MEDAG  \n",
       "PNNL-TCGA-09-1664    0.0  0.0  0.0      0.0     0.0      0.0    0.0  \n",
       "PNNL-TCGA-13-1484    0.0  0.0  0.0      0.0     0.0      0.0    0.0  \n",
       "PNNL-TCGA-13-1488    0.0  0.0  0.0      0.0     0.0      0.0    0.0  \n",
       "PNNL-TCGA-13-1489    0.0  0.0  0.0      0.0     0.0      0.0    0.0  \n",
       "PNNL-TCGA-13-1494    0.0  0.0  0.0      0.0     0.0      0.0    0.0  \n",
       "\n",
       "[5 rows x 16349 columns]"
      ]
     },
     "execution_count": 7,
     "metadata": {},
     "output_type": "execute_result"
    }
   ],
   "source": [
    "ovarian = pd.read_csv('/Users/alex/Documents/proteomics/data_preparation/proteomics_data/ovarian_inbiomap_exp.tsv', index_col=0)\n",
    "ovarian.head()"
   ]
  },
  {
   "cell_type": "code",
   "execution_count": 8,
   "metadata": {
    "collapsed": false,
    "deletable": true,
    "editable": true,
    "scrolled": true
   },
   "outputs": [
    {
     "data": {
      "text/html": [
       "<div>\n",
       "<style>\n",
       "    .dataframe thead tr:only-child th {\n",
       "        text-align: right;\n",
       "    }\n",
       "\n",
       "    .dataframe thead th {\n",
       "        text-align: left;\n",
       "    }\n",
       "\n",
       "    .dataframe tbody tr th {\n",
       "        vertical-align: top;\n",
       "    }\n",
       "</style>\n",
       "<table border=\"1\" class=\"dataframe\">\n",
       "  <thead>\n",
       "    <tr style=\"text-align: right;\">\n",
       "      <th></th>\n",
       "      <th>ZNF91</th>\n",
       "      <th>NDEL1</th>\n",
       "      <th>ELAVL1</th>\n",
       "      <th>SUMO1</th>\n",
       "      <th>SUMO3</th>\n",
       "      <th>CHMP5</th>\n",
       "      <th>UBC</th>\n",
       "      <th>HTT</th>\n",
       "      <th>E2F4</th>\n",
       "      <th>ACP5</th>\n",
       "      <th>...</th>\n",
       "      <th>SPANXN4</th>\n",
       "      <th>ZNF605</th>\n",
       "      <th>SERPINB10</th>\n",
       "      <th>ANKAR</th>\n",
       "      <th>RRH</th>\n",
       "      <th>DHH</th>\n",
       "      <th>CYSLTR1</th>\n",
       "      <th>ZNF268</th>\n",
       "      <th>COL23A1</th>\n",
       "      <th>MEDAG</th>\n",
       "    </tr>\n",
       "  </thead>\n",
       "  <tbody>\n",
       "    <tr>\n",
       "      <th>ZNF91</th>\n",
       "      <td>0.0</td>\n",
       "      <td>0.000000</td>\n",
       "      <td>0.000000</td>\n",
       "      <td>0.000000</td>\n",
       "      <td>0.000000</td>\n",
       "      <td>0.000000</td>\n",
       "      <td>0.0</td>\n",
       "      <td>0.000000</td>\n",
       "      <td>0.000000</td>\n",
       "      <td>0.000000</td>\n",
       "      <td>...</td>\n",
       "      <td>0.0</td>\n",
       "      <td>0.0</td>\n",
       "      <td>0.0</td>\n",
       "      <td>0.0</td>\n",
       "      <td>0.0</td>\n",
       "      <td>0.0</td>\n",
       "      <td>0.0</td>\n",
       "      <td>0.0</td>\n",
       "      <td>0.0</td>\n",
       "      <td>0.0</td>\n",
       "    </tr>\n",
       "    <tr>\n",
       "      <th>NDEL1</th>\n",
       "      <td>0.0</td>\n",
       "      <td>1.000000</td>\n",
       "      <td>-0.073285</td>\n",
       "      <td>-0.025216</td>\n",
       "      <td>-0.126911</td>\n",
       "      <td>-0.088318</td>\n",
       "      <td>0.0</td>\n",
       "      <td>0.108099</td>\n",
       "      <td>-0.038949</td>\n",
       "      <td>0.066746</td>\n",
       "      <td>...</td>\n",
       "      <td>0.0</td>\n",
       "      <td>0.0</td>\n",
       "      <td>0.0</td>\n",
       "      <td>0.0</td>\n",
       "      <td>0.0</td>\n",
       "      <td>0.0</td>\n",
       "      <td>0.0</td>\n",
       "      <td>0.0</td>\n",
       "      <td>0.0</td>\n",
       "      <td>0.0</td>\n",
       "    </tr>\n",
       "    <tr>\n",
       "      <th>ELAVL1</th>\n",
       "      <td>0.0</td>\n",
       "      <td>-0.073285</td>\n",
       "      <td>1.000000</td>\n",
       "      <td>0.124255</td>\n",
       "      <td>0.159750</td>\n",
       "      <td>0.220798</td>\n",
       "      <td>0.0</td>\n",
       "      <td>-0.169447</td>\n",
       "      <td>0.198932</td>\n",
       "      <td>-0.035839</td>\n",
       "      <td>...</td>\n",
       "      <td>0.0</td>\n",
       "      <td>0.0</td>\n",
       "      <td>0.0</td>\n",
       "      <td>0.0</td>\n",
       "      <td>0.0</td>\n",
       "      <td>0.0</td>\n",
       "      <td>0.0</td>\n",
       "      <td>0.0</td>\n",
       "      <td>0.0</td>\n",
       "      <td>0.0</td>\n",
       "    </tr>\n",
       "    <tr>\n",
       "      <th>SUMO1</th>\n",
       "      <td>0.0</td>\n",
       "      <td>-0.025216</td>\n",
       "      <td>0.124255</td>\n",
       "      <td>1.000000</td>\n",
       "      <td>0.086653</td>\n",
       "      <td>-0.020583</td>\n",
       "      <td>0.0</td>\n",
       "      <td>0.031148</td>\n",
       "      <td>0.129732</td>\n",
       "      <td>-0.075274</td>\n",
       "      <td>...</td>\n",
       "      <td>0.0</td>\n",
       "      <td>0.0</td>\n",
       "      <td>0.0</td>\n",
       "      <td>0.0</td>\n",
       "      <td>0.0</td>\n",
       "      <td>0.0</td>\n",
       "      <td>0.0</td>\n",
       "      <td>0.0</td>\n",
       "      <td>0.0</td>\n",
       "      <td>0.0</td>\n",
       "    </tr>\n",
       "    <tr>\n",
       "      <th>SUMO3</th>\n",
       "      <td>0.0</td>\n",
       "      <td>-0.126911</td>\n",
       "      <td>0.159750</td>\n",
       "      <td>0.086653</td>\n",
       "      <td>1.000000</td>\n",
       "      <td>0.082105</td>\n",
       "      <td>0.0</td>\n",
       "      <td>-0.063146</td>\n",
       "      <td>0.039365</td>\n",
       "      <td>-0.066734</td>\n",
       "      <td>...</td>\n",
       "      <td>0.0</td>\n",
       "      <td>0.0</td>\n",
       "      <td>0.0</td>\n",
       "      <td>0.0</td>\n",
       "      <td>0.0</td>\n",
       "      <td>0.0</td>\n",
       "      <td>0.0</td>\n",
       "      <td>0.0</td>\n",
       "      <td>0.0</td>\n",
       "      <td>0.0</td>\n",
       "    </tr>\n",
       "  </tbody>\n",
       "</table>\n",
       "<p>5 rows × 16349 columns</p>\n",
       "</div>"
      ],
      "text/plain": [
       "        ZNF91     NDEL1    ELAVL1     SUMO1     SUMO3     CHMP5  UBC  \\\n",
       "ZNF91     0.0  0.000000  0.000000  0.000000  0.000000  0.000000  0.0   \n",
       "NDEL1     0.0  1.000000 -0.073285 -0.025216 -0.126911 -0.088318  0.0   \n",
       "ELAVL1    0.0 -0.073285  1.000000  0.124255  0.159750  0.220798  0.0   \n",
       "SUMO1     0.0 -0.025216  0.124255  1.000000  0.086653 -0.020583  0.0   \n",
       "SUMO3     0.0 -0.126911  0.159750  0.086653  1.000000  0.082105  0.0   \n",
       "\n",
       "             HTT      E2F4      ACP5  ...    SPANXN4  ZNF605  SERPINB10  \\\n",
       "ZNF91   0.000000  0.000000  0.000000  ...        0.0     0.0        0.0   \n",
       "NDEL1   0.108099 -0.038949  0.066746  ...        0.0     0.0        0.0   \n",
       "ELAVL1 -0.169447  0.198932 -0.035839  ...        0.0     0.0        0.0   \n",
       "SUMO1   0.031148  0.129732 -0.075274  ...        0.0     0.0        0.0   \n",
       "SUMO3  -0.063146  0.039365 -0.066734  ...        0.0     0.0        0.0   \n",
       "\n",
       "        ANKAR  RRH  DHH  CYSLTR1  ZNF268  COL23A1  MEDAG  \n",
       "ZNF91     0.0  0.0  0.0      0.0     0.0      0.0    0.0  \n",
       "NDEL1     0.0  0.0  0.0      0.0     0.0      0.0    0.0  \n",
       "ELAVL1    0.0  0.0  0.0      0.0     0.0      0.0    0.0  \n",
       "SUMO1     0.0  0.0  0.0      0.0     0.0      0.0    0.0  \n",
       "SUMO3     0.0  0.0  0.0      0.0     0.0      0.0    0.0  \n",
       "\n",
       "[5 rows x 16349 columns]"
      ]
     },
     "execution_count": 8,
     "metadata": {},
     "output_type": "execute_result"
    }
   ],
   "source": [
    "ovarian_corr = ovarian.corr().fillna(0)\n",
    "ovarian_corr.head()"
   ]
  },
  {
   "cell_type": "markdown",
   "metadata": {
    "deletable": true,
    "editable": true
   },
   "source": [
    "### Take the 100 top correlates for each pathway\n",
    "Hard cutoffs at particular values were arbitrary and didn't work too well. The relative correlates in each dataset will matter most to regression anyhow. "
   ]
  },
  {
   "cell_type": "code",
   "execution_count": 9,
   "metadata": {
    "collapsed": true,
    "deletable": true,
    "editable": true
   },
   "outputs": [],
   "source": [
    "correlates = {pathway: [abs(ovarian_corr.loc[genes, ~ovarian_corr.columns.isin(genes)].mean()).nlargest(100).index.values] for pathway, genes in pathway_genes.items()}"
   ]
  },
  {
   "cell_type": "code",
   "execution_count": 10,
   "metadata": {
    "collapsed": false,
    "deletable": true,
    "editable": true
   },
   "outputs": [
    {
     "data": {
      "text/html": [
       "<div>\n",
       "<style>\n",
       "    .dataframe thead tr:only-child th {\n",
       "        text-align: right;\n",
       "    }\n",
       "\n",
       "    .dataframe thead th {\n",
       "        text-align: left;\n",
       "    }\n",
       "\n",
       "    .dataframe tbody tr th {\n",
       "        vertical-align: top;\n",
       "    }\n",
       "</style>\n",
       "<table border=\"1\" class=\"dataframe\">\n",
       "  <thead>\n",
       "    <tr style=\"text-align: right;\">\n",
       "      <th></th>\n",
       "      <th>correlates</th>\n",
       "    </tr>\n",
       "    <tr>\n",
       "      <th>id</th>\n",
       "      <th></th>\n",
       "    </tr>\n",
       "  </thead>\n",
       "  <tbody>\n",
       "    <tr>\n",
       "      <th>hsa00970</th>\n",
       "      <td>[DBT, AIMP2, TRAP1, HSPA9, TUFM, PNPT1, HSPD1,...</td>\n",
       "    </tr>\n",
       "    <tr>\n",
       "      <th>hsa01521</th>\n",
       "      <td>[]</td>\n",
       "    </tr>\n",
       "    <tr>\n",
       "      <th>hsa01522</th>\n",
       "      <td>[]</td>\n",
       "    </tr>\n",
       "    <tr>\n",
       "      <th>hsa01523</th>\n",
       "      <td>[]</td>\n",
       "    </tr>\n",
       "    <tr>\n",
       "      <th>hsa01524</th>\n",
       "      <td>[]</td>\n",
       "    </tr>\n",
       "    <tr>\n",
       "      <th>hsa02010</th>\n",
       "      <td>[MNDA, TAPBP, NCF1, ITGAM, FERMT3, HLA-C, GPSM...</td>\n",
       "    </tr>\n",
       "    <tr>\n",
       "      <th>hsa03008</th>\n",
       "      <td>[NGDN, RSL1D1, PDCD11, UTP3, NCL, NOL11, DDX27...</td>\n",
       "    </tr>\n",
       "    <tr>\n",
       "      <th>hsa03010</th>\n",
       "      <td>[SERBP1, RACK1, MRPS18B, RTN4, NACA, STOM, NOL...</td>\n",
       "    </tr>\n",
       "    <tr>\n",
       "      <th>hsa03013</th>\n",
       "      <td>[DHX9, PRPF8, CHD4, RBM12, SRRT, RBM39, HNRNPU...</td>\n",
       "    </tr>\n",
       "    <tr>\n",
       "      <th>hsa03015</th>\n",
       "      <td>[RBM12, HNRNPM, CHD4, RBM39, NONO, DHX9, HNRNP...</td>\n",
       "    </tr>\n",
       "  </tbody>\n",
       "</table>\n",
       "</div>"
      ],
      "text/plain": [
       "                                                 correlates\n",
       "id                                                         \n",
       "hsa00970  [DBT, AIMP2, TRAP1, HSPA9, TUFM, PNPT1, HSPD1,...\n",
       "hsa01521                                                 []\n",
       "hsa01522                                                 []\n",
       "hsa01523                                                 []\n",
       "hsa01524                                                 []\n",
       "hsa02010  [MNDA, TAPBP, NCF1, ITGAM, FERMT3, HLA-C, GPSM...\n",
       "hsa03008  [NGDN, RSL1D1, PDCD11, UTP3, NCL, NOL11, DDX27...\n",
       "hsa03010  [SERBP1, RACK1, MRPS18B, RTN4, NACA, STOM, NOL...\n",
       "hsa03013  [DHX9, PRPF8, CHD4, RBM12, SRRT, RBM39, HNRNPU...\n",
       "hsa03015  [RBM12, HNRNPM, CHD4, RBM39, NONO, DHX9, HNRNP..."
      ]
     },
     "execution_count": 10,
     "metadata": {},
     "output_type": "execute_result"
    }
   ],
   "source": [
    "pd.DataFrame(correlates, index=['correlates']).transpose().rename_axis('id').head(10)"
   ]
  },
  {
   "cell_type": "markdown",
   "metadata": {
    "deletable": true,
    "editable": true
   },
   "source": [
    "### Merge those into the pathways dataframe"
   ]
  },
  {
   "cell_type": "code",
   "execution_count": 11,
   "metadata": {
    "collapsed": false,
    "deletable": true,
    "editable": true
   },
   "outputs": [],
   "source": [
    "pathways_df = pathways_df.join(pd.DataFrame(correlates, index=['correlates']).transpose().rename_axis('id'))"
   ]
  },
  {
   "cell_type": "code",
   "execution_count": 12,
   "metadata": {
    "collapsed": true,
    "deletable": true,
    "editable": true
   },
   "outputs": [],
   "source": [
    "pathways_df.to_pickle('/Users/alex/Documents/proteomics/synthetic_proteomics/data_generation/KEGG_df.filtered.with_correlates.pickle')"
   ]
  },
  {
   "cell_type": "code",
   "execution_count": null,
   "metadata": {
    "collapsed": true,
    "deletable": true,
    "editable": true
   },
   "outputs": [],
   "source": []
  }
 ],
 "metadata": {
  "kernelspec": {
   "display_name": "Python 3",
   "language": "python",
   "name": "python3"
  },
  "language_info": {
   "codemirror_mode": {
    "name": "ipython",
    "version": 3
   },
   "file_extension": ".py",
   "mimetype": "text/x-python",
   "name": "python",
   "nbconvert_exporter": "python",
   "pygments_lexer": "ipython3",
   "version": "3.6.1"
  }
 },
 "nbformat": 4,
 "nbformat_minor": 2
}
