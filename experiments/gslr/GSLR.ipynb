{
 "cells": [
  {
   "cell_type": "markdown",
   "metadata": {
    "deletable": true,
    "editable": true
   },
   "source": [
    "# *Graph-Sparse* Logistic Regression for sparse recovery of the dysregulated pathways in our synthetic datasets"
   ]
  },
  {
   "cell_type": "code",
   "execution_count": 1,
   "metadata": {
    "collapsed": false,
    "deletable": true,
    "editable": true
   },
   "outputs": [
    {
     "name": "stdout",
     "output_type": "stream",
     "text": [
      "Populating the interactive namespace from numpy and matplotlib\n"
     ]
    }
   ],
   "source": [
    "%pylab inline\n",
    "# %load_ext line_profiler\n",
    "\n",
    "import sys\n",
    "import pickle\n",
    "from timeit import default_timer as timer\n",
    "\n",
    "import pandas as pd\n",
    "\n",
    "from sklearn.preprocessing import LabelEncoder\n",
    "\n",
    "from matplotlib_venn import venn3, venn3_circles, venn2\n",
    "\n",
    "repo_path = '/Users/alex/Documents/proteomics/'\n",
    "data_path = '/Users/alex/Documents/proteomics/synthetic_proteomics/generated_data/ludwig_svd_normals/'\n",
    "\n",
    "# repo_path = '/Users/ludwig/research/model_cs/cluster_model/bio/repo2/'\n",
    "# data_path = '/Users/ludwig/research/model_cs/cluster_model/bio/data/'\n",
    "\n",
    "sys.path.append(repo_path + 'synthetic_proteomics/analysis/gslr/')\n",
    "import gslr"
   ]
  },
  {
   "cell_type": "markdown",
   "metadata": {
    "deletable": true,
    "editable": true
   },
   "source": [
    "### I. Load Synthetic Dataset which is known to be at least somewhat connected in the interactome. "
   ]
  },
  {
   "cell_type": "code",
   "execution_count": 2,
   "metadata": {
    "collapsed": false,
    "deletable": true,
    "editable": true,
    "scrolled": true
   },
   "outputs": [
    {
     "data": {
      "text/html": [
       "<div>\n",
       "<style>\n",
       "    .dataframe thead tr:only-child th {\n",
       "        text-align: right;\n",
       "    }\n",
       "\n",
       "    .dataframe thead th {\n",
       "        text-align: left;\n",
       "    }\n",
       "\n",
       "    .dataframe tbody tr th {\n",
       "        vertical-align: top;\n",
       "    }\n",
       "</style>\n",
       "<table border=\"1\" class=\"dataframe\">\n",
       "  <thead>\n",
       "    <tr style=\"text-align: right;\">\n",
       "      <th></th>\n",
       "      <th>ZNF91</th>\n",
       "      <th>NDEL1</th>\n",
       "      <th>ELAVL1</th>\n",
       "      <th>SUMO1</th>\n",
       "      <th>SUMO3</th>\n",
       "      <th>CHMP5</th>\n",
       "      <th>UBC</th>\n",
       "      <th>HTT</th>\n",
       "      <th>E2F4</th>\n",
       "      <th>ACP5</th>\n",
       "      <th>...</th>\n",
       "      <th>SPANXN4</th>\n",
       "      <th>ZNF605</th>\n",
       "      <th>SERPINB10</th>\n",
       "      <th>ANKAR</th>\n",
       "      <th>RRH</th>\n",
       "      <th>DHH</th>\n",
       "      <th>CYSLTR1</th>\n",
       "      <th>ZNF268</th>\n",
       "      <th>COL23A1</th>\n",
       "      <th>MEDAG</th>\n",
       "    </tr>\n",
       "  </thead>\n",
       "  <tbody>\n",
       "    <tr>\n",
       "      <th>hsa04110</th>\n",
       "      <td>0.0</td>\n",
       "      <td>0.014856</td>\n",
       "      <td>0.264810</td>\n",
       "      <td>0.109797</td>\n",
       "      <td>-0.976005</td>\n",
       "      <td>0.173769</td>\n",
       "      <td>0.0</td>\n",
       "      <td>0.285756</td>\n",
       "      <td>0.288839</td>\n",
       "      <td>-0.231566</td>\n",
       "      <td>...</td>\n",
       "      <td>0.0</td>\n",
       "      <td>0.0</td>\n",
       "      <td>0.0</td>\n",
       "      <td>0.0</td>\n",
       "      <td>0.0</td>\n",
       "      <td>0.0</td>\n",
       "      <td>0.0</td>\n",
       "      <td>0.0</td>\n",
       "      <td>0.0</td>\n",
       "      <td>0.0</td>\n",
       "    </tr>\n",
       "    <tr>\n",
       "      <th>negative</th>\n",
       "      <td>0.0</td>\n",
       "      <td>-0.228736</td>\n",
       "      <td>0.089442</td>\n",
       "      <td>0.339065</td>\n",
       "      <td>-0.597546</td>\n",
       "      <td>0.040049</td>\n",
       "      <td>0.0</td>\n",
       "      <td>-0.098450</td>\n",
       "      <td>0.073976</td>\n",
       "      <td>-0.494193</td>\n",
       "      <td>...</td>\n",
       "      <td>0.0</td>\n",
       "      <td>0.0</td>\n",
       "      <td>0.0</td>\n",
       "      <td>0.0</td>\n",
       "      <td>0.0</td>\n",
       "      <td>0.0</td>\n",
       "      <td>0.0</td>\n",
       "      <td>0.0</td>\n",
       "      <td>0.0</td>\n",
       "      <td>0.0</td>\n",
       "    </tr>\n",
       "    <tr>\n",
       "      <th>negative</th>\n",
       "      <td>-0.0</td>\n",
       "      <td>-0.715740</td>\n",
       "      <td>-0.143526</td>\n",
       "      <td>-0.480106</td>\n",
       "      <td>0.125846</td>\n",
       "      <td>0.284645</td>\n",
       "      <td>-0.0</td>\n",
       "      <td>0.021132</td>\n",
       "      <td>-0.115910</td>\n",
       "      <td>-0.016950</td>\n",
       "      <td>...</td>\n",
       "      <td>0.0</td>\n",
       "      <td>0.0</td>\n",
       "      <td>0.0</td>\n",
       "      <td>0.0</td>\n",
       "      <td>0.0</td>\n",
       "      <td>0.0</td>\n",
       "      <td>0.0</td>\n",
       "      <td>0.0</td>\n",
       "      <td>0.0</td>\n",
       "      <td>0.0</td>\n",
       "    </tr>\n",
       "    <tr>\n",
       "      <th>negative</th>\n",
       "      <td>-0.0</td>\n",
       "      <td>-0.383979</td>\n",
       "      <td>0.359009</td>\n",
       "      <td>0.394243</td>\n",
       "      <td>-0.387827</td>\n",
       "      <td>-0.281805</td>\n",
       "      <td>0.0</td>\n",
       "      <td>-0.922308</td>\n",
       "      <td>0.340674</td>\n",
       "      <td>-0.278771</td>\n",
       "      <td>...</td>\n",
       "      <td>0.0</td>\n",
       "      <td>0.0</td>\n",
       "      <td>0.0</td>\n",
       "      <td>0.0</td>\n",
       "      <td>0.0</td>\n",
       "      <td>0.0</td>\n",
       "      <td>0.0</td>\n",
       "      <td>0.0</td>\n",
       "      <td>0.0</td>\n",
       "      <td>0.0</td>\n",
       "    </tr>\n",
       "    <tr>\n",
       "      <th>negative</th>\n",
       "      <td>0.0</td>\n",
       "      <td>-0.023037</td>\n",
       "      <td>0.196800</td>\n",
       "      <td>-0.292508</td>\n",
       "      <td>0.165186</td>\n",
       "      <td>0.105207</td>\n",
       "      <td>0.0</td>\n",
       "      <td>-0.521385</td>\n",
       "      <td>-0.194466</td>\n",
       "      <td>-0.234121</td>\n",
       "      <td>...</td>\n",
       "      <td>0.0</td>\n",
       "      <td>0.0</td>\n",
       "      <td>0.0</td>\n",
       "      <td>0.0</td>\n",
       "      <td>0.0</td>\n",
       "      <td>0.0</td>\n",
       "      <td>0.0</td>\n",
       "      <td>0.0</td>\n",
       "      <td>0.0</td>\n",
       "      <td>0.0</td>\n",
       "    </tr>\n",
       "  </tbody>\n",
       "</table>\n",
       "<p>5 rows × 16349 columns</p>\n",
       "</div>"
      ],
      "text/plain": [
       "          ZNF91     NDEL1    ELAVL1     SUMO1     SUMO3     CHMP5  UBC  \\\n",
       "hsa04110    0.0  0.014856  0.264810  0.109797 -0.976005  0.173769  0.0   \n",
       "negative    0.0 -0.228736  0.089442  0.339065 -0.597546  0.040049  0.0   \n",
       "negative   -0.0 -0.715740 -0.143526 -0.480106  0.125846  0.284645 -0.0   \n",
       "negative   -0.0 -0.383979  0.359009  0.394243 -0.387827 -0.281805  0.0   \n",
       "negative    0.0 -0.023037  0.196800 -0.292508  0.165186  0.105207  0.0   \n",
       "\n",
       "               HTT      E2F4      ACP5  ...    SPANXN4  ZNF605  SERPINB10  \\\n",
       "hsa04110  0.285756  0.288839 -0.231566  ...        0.0     0.0        0.0   \n",
       "negative -0.098450  0.073976 -0.494193  ...        0.0     0.0        0.0   \n",
       "negative  0.021132 -0.115910 -0.016950  ...        0.0     0.0        0.0   \n",
       "negative -0.922308  0.340674 -0.278771  ...        0.0     0.0        0.0   \n",
       "negative -0.521385 -0.194466 -0.234121  ...        0.0     0.0        0.0   \n",
       "\n",
       "          ANKAR  RRH  DHH  CYSLTR1  ZNF268  COL23A1  MEDAG  \n",
       "hsa04110    0.0  0.0  0.0      0.0     0.0      0.0    0.0  \n",
       "negative    0.0  0.0  0.0      0.0     0.0      0.0    0.0  \n",
       "negative    0.0  0.0  0.0      0.0     0.0      0.0    0.0  \n",
       "negative    0.0  0.0  0.0      0.0     0.0      0.0    0.0  \n",
       "negative    0.0  0.0  0.0      0.0     0.0      0.0    0.0  \n",
       "\n",
       "[5 rows x 16349 columns]"
      ]
     },
     "execution_count": 2,
     "metadata": {},
     "output_type": "execute_result"
    }
   ],
   "source": [
    "dataset = pd.read_csv(data_path + 'hsa04110_inbiomap_exp.csv', index_col=0)\n",
    "dataset.head()"
   ]
  },
  {
   "cell_type": "markdown",
   "metadata": {
    "deletable": true,
    "editable": true
   },
   "source": [
    "### II. Extract Labels"
   ]
  },
  {
   "cell_type": "code",
   "execution_count": 3,
   "metadata": {
    "collapsed": false,
    "deletable": true,
    "editable": true
   },
   "outputs": [
    {
     "data": {
      "text/plain": [
       "array([0, 1, 1, 1, 1, 1, 1, 0, 1, 1, 0, 1, 0, 0, 0, 1, 0, 1, 1, 0, 1, 0, 1,\n",
       "       1, 1, 0, 1, 1, 0, 1, 1, 0, 0, 1, 1, 1, 1, 0, 1, 1, 1, 0, 0, 1, 1, 1,\n",
       "       1, 0, 0, 1, 0, 0, 0, 1, 1, 1, 0, 1, 0, 1, 0, 0, 0, 0, 0, 0, 0, 0, 1,\n",
       "       1, 0, 1, 1, 0, 0, 0, 1, 0, 0, 0, 1, 0, 1, 1, 0, 0, 0, 0, 1, 0, 0, 0,\n",
       "       1, 1, 1, 0, 1, 0, 0, 1, 1, 1, 1, 1, 0, 1, 1, 0, 0, 0, 1, 0, 0, 0, 1,\n",
       "       1, 1, 1, 0, 0, 1, 1, 1, 1, 0, 0, 1, 0, 0, 0, 1, 0, 1, 0, 0, 1, 1, 0,\n",
       "       1, 1, 0, 1, 1, 0, 0, 0, 0, 1, 1, 0, 1, 1, 1, 0, 1, 1, 0, 1, 0, 1, 0,\n",
       "       1, 1, 1, 0, 0, 0, 0, 0, 0, 0, 0, 1, 0, 0, 1, 1, 0, 0, 1, 0, 1, 0, 1,\n",
       "       1, 1, 0, 0, 1, 1, 0, 1, 0, 0, 0, 1, 1, 0, 0, 0])"
      ]
     },
     "execution_count": 3,
     "metadata": {},
     "output_type": "execute_result"
    }
   ],
   "source": [
    "labeler = LabelEncoder()\n",
    "labeler.fit(dataset.index.tolist())\n",
    "labels = labeler.transform(dataset.index.tolist())\n",
    "y = labels\n",
    "y"
   ]
  },
  {
   "cell_type": "markdown",
   "metadata": {
    "deletable": true,
    "editable": true
   },
   "source": [
    "### III. Load Interactome"
   ]
  },
  {
   "cell_type": "code",
   "execution_count": 4,
   "metadata": {
    "collapsed": false,
    "deletable": true,
    "editable": true,
    "scrolled": false
   },
   "outputs": [
    {
     "data": {
      "text/html": [
       "<div>\n",
       "<style>\n",
       "    .dataframe thead tr:only-child th {\n",
       "        text-align: right;\n",
       "    }\n",
       "\n",
       "    .dataframe thead th {\n",
       "        text-align: left;\n",
       "    }\n",
       "\n",
       "    .dataframe tbody tr th {\n",
       "        vertical-align: top;\n",
       "    }\n",
       "</style>\n",
       "<table border=\"1\" class=\"dataframe\">\n",
       "  <thead>\n",
       "    <tr style=\"text-align: right;\">\n",
       "      <th></th>\n",
       "      <th>protein1</th>\n",
       "      <th>protein2</th>\n",
       "      <th>cost</th>\n",
       "    </tr>\n",
       "  </thead>\n",
       "  <tbody>\n",
       "    <tr>\n",
       "      <th>0</th>\n",
       "      <td>ZNF91</td>\n",
       "      <td>NDEL1</td>\n",
       "      <td>1.253</td>\n",
       "    </tr>\n",
       "    <tr>\n",
       "      <th>1</th>\n",
       "      <td>ZNF91</td>\n",
       "      <td>ELAVL1</td>\n",
       "      <td>1.254</td>\n",
       "    </tr>\n",
       "    <tr>\n",
       "      <th>2</th>\n",
       "      <td>ZNF91</td>\n",
       "      <td>SUMO1</td>\n",
       "      <td>1.245</td>\n",
       "    </tr>\n",
       "    <tr>\n",
       "      <th>3</th>\n",
       "      <td>ZNF91</td>\n",
       "      <td>SUMO3</td>\n",
       "      <td>1.245</td>\n",
       "    </tr>\n",
       "    <tr>\n",
       "      <th>4</th>\n",
       "      <td>ZNF91</td>\n",
       "      <td>CHMP5</td>\n",
       "      <td>1.241</td>\n",
       "    </tr>\n",
       "  </tbody>\n",
       "</table>\n",
       "</div>"
      ],
      "text/plain": [
       "  protein1 protein2   cost\n",
       "0    ZNF91    NDEL1  1.253\n",
       "1    ZNF91   ELAVL1  1.254\n",
       "2    ZNF91    SUMO1  1.245\n",
       "3    ZNF91    SUMO3  1.245\n",
       "4    ZNF91    CHMP5  1.241"
      ]
     },
     "execution_count": 4,
     "metadata": {},
     "output_type": "execute_result"
    }
   ],
   "source": [
    "inbiomap_experimentally = pd.read_csv('../pcsf/inbiomap_temp.tsv', sep='\\t', names=['protein1','protein2','cost'])\n",
    "inbiomap_experimentally.head()"
   ]
  },
  {
   "cell_type": "code",
   "execution_count": 5,
   "metadata": {
    "collapsed": false,
    "deletable": true,
    "editable": true
   },
   "outputs": [
    {
     "data": {
      "text/plain": [
       "array([[    0,  1228],\n",
       "       [    0,  1279],\n",
       "       [    0,  4071],\n",
       "       ..., \n",
       "       [14190, 14237],\n",
       "       [14191, 14378],\n",
       "       [14192, 14539]])"
      ]
     },
     "execution_count": 5,
     "metadata": {},
     "output_type": "execute_result"
    }
   ],
   "source": [
    "(edges, nodes) = pd.factorize(inbiomap_experimentally[[\"protein1\",\"protein2\"]].unstack())\n",
    "edges = edges.reshape(inbiomap_experimentally[[\"protein1\",\"protein2\"]].shape, order='F')\n",
    "edges"
   ]
  },
  {
   "cell_type": "code",
   "execution_count": 6,
   "metadata": {
    "collapsed": false,
    "deletable": true,
    "editable": true
   },
   "outputs": [
    {
     "data": {
      "text/plain": [
       "Index(['ZNF91', 'NDEL1', 'ELAVL1', 'SUMO1', 'SUMO3', 'CHMP5', 'UBC', 'HTT',\n",
       "       'E2F4', 'ACP5',\n",
       "       ...\n",
       "       'SPANXN4', 'ZNF605', 'SERPINB10', 'ANKAR', 'RRH', 'DHH', 'CYSLTR1',\n",
       "       'ZNF268', 'COL23A1', 'MEDAG'],\n",
       "      dtype='object', length=16349)"
      ]
     },
     "execution_count": 6,
     "metadata": {},
     "output_type": "execute_result"
    }
   ],
   "source": [
    "dataset.columns"
   ]
  },
  {
   "cell_type": "code",
   "execution_count": 7,
   "metadata": {
    "collapsed": false,
    "deletable": true,
    "editable": true
   },
   "outputs": [
    {
     "data": {
      "text/plain": [
       "Index(['ZNF91', 'ACP5', 'SLC27A2', 'PAX9', 'ADAM15', 'ELOVL2', 'DDX60L',\n",
       "       'FGF7', 'CDHR5', 'LYPD3',\n",
       "       ...\n",
       "       'CNR2', 'GIG44', 'LINC00588', 'TAAR2', 'CHRNE', 'ANKAR', 'DHH',\n",
       "       'CYSLTR1', 'COL23A1', 'MEDAG'],\n",
       "      dtype='object', length=16349)"
      ]
     },
     "execution_count": 7,
     "metadata": {},
     "output_type": "execute_result"
    }
   ],
   "source": [
    "nodes"
   ]
  },
  {
   "cell_type": "markdown",
   "metadata": {
    "deletable": true,
    "editable": true
   },
   "source": [
    "### IV. Prepare Dataset"
   ]
  },
  {
   "cell_type": "code",
   "execution_count": 8,
   "metadata": {
    "collapsed": false,
    "deletable": true,
    "editable": true
   },
   "outputs": [
    {
     "data": {
      "text/html": [
       "<div>\n",
       "<style>\n",
       "    .dataframe thead tr:only-child th {\n",
       "        text-align: right;\n",
       "    }\n",
       "\n",
       "    .dataframe thead th {\n",
       "        text-align: left;\n",
       "    }\n",
       "\n",
       "    .dataframe tbody tr th {\n",
       "        vertical-align: top;\n",
       "    }\n",
       "</style>\n",
       "<table border=\"1\" class=\"dataframe\">\n",
       "  <thead>\n",
       "    <tr style=\"text-align: right;\">\n",
       "      <th></th>\n",
       "      <th>ZNF91</th>\n",
       "      <th>ACP5</th>\n",
       "      <th>SLC27A2</th>\n",
       "      <th>PAX9</th>\n",
       "      <th>ADAM15</th>\n",
       "      <th>ELOVL2</th>\n",
       "      <th>DDX60L</th>\n",
       "      <th>FGF7</th>\n",
       "      <th>CDHR5</th>\n",
       "      <th>LYPD3</th>\n",
       "      <th>...</th>\n",
       "      <th>CNR2</th>\n",
       "      <th>GIG44</th>\n",
       "      <th>LINC00588</th>\n",
       "      <th>TAAR2</th>\n",
       "      <th>CHRNE</th>\n",
       "      <th>ANKAR</th>\n",
       "      <th>DHH</th>\n",
       "      <th>CYSLTR1</th>\n",
       "      <th>COL23A1</th>\n",
       "      <th>MEDAG</th>\n",
       "    </tr>\n",
       "  </thead>\n",
       "  <tbody>\n",
       "    <tr>\n",
       "      <th>hsa04110</th>\n",
       "      <td>0.0</td>\n",
       "      <td>-0.231566</td>\n",
       "      <td>-0.194981</td>\n",
       "      <td>-0.0</td>\n",
       "      <td>0.251072</td>\n",
       "      <td>-0.0</td>\n",
       "      <td>0.570449</td>\n",
       "      <td>0.0</td>\n",
       "      <td>-0.0</td>\n",
       "      <td>-0.692269</td>\n",
       "      <td>...</td>\n",
       "      <td>0.0</td>\n",
       "      <td>0.0</td>\n",
       "      <td>0.0</td>\n",
       "      <td>0.0</td>\n",
       "      <td>0.0</td>\n",
       "      <td>0.0</td>\n",
       "      <td>0.0</td>\n",
       "      <td>0.0</td>\n",
       "      <td>0.0</td>\n",
       "      <td>0.0</td>\n",
       "    </tr>\n",
       "    <tr>\n",
       "      <th>negative</th>\n",
       "      <td>0.0</td>\n",
       "      <td>-0.494193</td>\n",
       "      <td>0.026474</td>\n",
       "      <td>0.0</td>\n",
       "      <td>0.281624</td>\n",
       "      <td>-0.0</td>\n",
       "      <td>0.521439</td>\n",
       "      <td>-0.0</td>\n",
       "      <td>-0.0</td>\n",
       "      <td>-0.799044</td>\n",
       "      <td>...</td>\n",
       "      <td>0.0</td>\n",
       "      <td>0.0</td>\n",
       "      <td>0.0</td>\n",
       "      <td>0.0</td>\n",
       "      <td>0.0</td>\n",
       "      <td>0.0</td>\n",
       "      <td>0.0</td>\n",
       "      <td>0.0</td>\n",
       "      <td>0.0</td>\n",
       "      <td>0.0</td>\n",
       "    </tr>\n",
       "    <tr>\n",
       "      <th>negative</th>\n",
       "      <td>-0.0</td>\n",
       "      <td>-0.016950</td>\n",
       "      <td>0.181384</td>\n",
       "      <td>0.0</td>\n",
       "      <td>0.546825</td>\n",
       "      <td>-0.0</td>\n",
       "      <td>-0.090188</td>\n",
       "      <td>0.0</td>\n",
       "      <td>-0.0</td>\n",
       "      <td>0.234445</td>\n",
       "      <td>...</td>\n",
       "      <td>0.0</td>\n",
       "      <td>0.0</td>\n",
       "      <td>0.0</td>\n",
       "      <td>0.0</td>\n",
       "      <td>0.0</td>\n",
       "      <td>0.0</td>\n",
       "      <td>0.0</td>\n",
       "      <td>0.0</td>\n",
       "      <td>0.0</td>\n",
       "      <td>0.0</td>\n",
       "    </tr>\n",
       "    <tr>\n",
       "      <th>negative</th>\n",
       "      <td>-0.0</td>\n",
       "      <td>-0.278771</td>\n",
       "      <td>-0.403404</td>\n",
       "      <td>-0.0</td>\n",
       "      <td>0.168978</td>\n",
       "      <td>-0.0</td>\n",
       "      <td>-1.855316</td>\n",
       "      <td>0.0</td>\n",
       "      <td>-0.0</td>\n",
       "      <td>-0.800104</td>\n",
       "      <td>...</td>\n",
       "      <td>0.0</td>\n",
       "      <td>0.0</td>\n",
       "      <td>0.0</td>\n",
       "      <td>0.0</td>\n",
       "      <td>0.0</td>\n",
       "      <td>0.0</td>\n",
       "      <td>0.0</td>\n",
       "      <td>0.0</td>\n",
       "      <td>0.0</td>\n",
       "      <td>0.0</td>\n",
       "    </tr>\n",
       "    <tr>\n",
       "      <th>negative</th>\n",
       "      <td>0.0</td>\n",
       "      <td>-0.234121</td>\n",
       "      <td>0.114927</td>\n",
       "      <td>0.0</td>\n",
       "      <td>0.295396</td>\n",
       "      <td>-0.0</td>\n",
       "      <td>-1.144877</td>\n",
       "      <td>0.0</td>\n",
       "      <td>-0.0</td>\n",
       "      <td>0.910444</td>\n",
       "      <td>...</td>\n",
       "      <td>0.0</td>\n",
       "      <td>0.0</td>\n",
       "      <td>0.0</td>\n",
       "      <td>0.0</td>\n",
       "      <td>0.0</td>\n",
       "      <td>0.0</td>\n",
       "      <td>0.0</td>\n",
       "      <td>0.0</td>\n",
       "      <td>0.0</td>\n",
       "      <td>0.0</td>\n",
       "    </tr>\n",
       "  </tbody>\n",
       "</table>\n",
       "<p>5 rows × 16349 columns</p>\n",
       "</div>"
      ],
      "text/plain": [
       "          ZNF91      ACP5   SLC27A2  PAX9    ADAM15  ELOVL2    DDX60L  FGF7  \\\n",
       "hsa04110    0.0 -0.231566 -0.194981  -0.0  0.251072    -0.0  0.570449   0.0   \n",
       "negative    0.0 -0.494193  0.026474   0.0  0.281624    -0.0  0.521439  -0.0   \n",
       "negative   -0.0 -0.016950  0.181384   0.0  0.546825    -0.0 -0.090188   0.0   \n",
       "negative   -0.0 -0.278771 -0.403404  -0.0  0.168978    -0.0 -1.855316   0.0   \n",
       "negative    0.0 -0.234121  0.114927   0.0  0.295396    -0.0 -1.144877   0.0   \n",
       "\n",
       "          CDHR5     LYPD3  ...    CNR2  GIG44  LINC00588  TAAR2  CHRNE  ANKAR  \\\n",
       "hsa04110   -0.0 -0.692269  ...     0.0    0.0        0.0    0.0    0.0    0.0   \n",
       "negative   -0.0 -0.799044  ...     0.0    0.0        0.0    0.0    0.0    0.0   \n",
       "negative   -0.0  0.234445  ...     0.0    0.0        0.0    0.0    0.0    0.0   \n",
       "negative   -0.0 -0.800104  ...     0.0    0.0        0.0    0.0    0.0    0.0   \n",
       "negative   -0.0  0.910444  ...     0.0    0.0        0.0    0.0    0.0    0.0   \n",
       "\n",
       "          DHH  CYSLTR1  COL23A1  MEDAG  \n",
       "hsa04110  0.0      0.0      0.0    0.0  \n",
       "negative  0.0      0.0      0.0    0.0  \n",
       "negative  0.0      0.0      0.0    0.0  \n",
       "negative  0.0      0.0      0.0    0.0  \n",
       "negative  0.0      0.0      0.0    0.0  \n",
       "\n",
       "[5 rows x 16349 columns]"
      ]
     },
     "execution_count": 8,
     "metadata": {},
     "output_type": "execute_result"
    }
   ],
   "source": [
    "dataset = dataset.transpose().reindex(index=nodes).transpose()\n",
    "X = dataset.values\n",
    "dataset.head()"
   ]
  },
  {
   "cell_type": "markdown",
   "metadata": {
    "deletable": true,
    "editable": true
   },
   "source": [
    "### V. Graph-Sparse Logistic Regression"
   ]
  },
  {
   "cell_type": "code",
   "execution_count": 9,
   "metadata": {
    "collapsed": true,
    "deletable": true,
    "editable": true,
    "scrolled": false
   },
   "outputs": [],
   "source": [
    "d = len(nodes)\n",
    "c = 2\n",
    "\n",
    "graph_opts = gslr.GraphOptions(edges=edges, root=-1, num_clusters=1, pruning='strong')\n",
    "\n",
    "sparsity_low = 80\n",
    "sparsity_high = 160\n",
    "\n",
    "verbosity_level = 1\n",
    "\n",
    "num_steps = 25\n",
    "possible_steps = np.array([0.03, 0.1, 0.3])\n",
    "steps = np.tile(possible_steps, (num_steps, 1))\n",
    "\n",
    "W0 = np.zeros((c, d))"
   ]
  },
  {
   "cell_type": "code",
   "execution_count": 43,
   "metadata": {
    "collapsed": false,
    "deletable": true,
    "editable": true,
    "scrolled": false
   },
   "outputs": [
    {
     "name": "stdout",
     "output_type": "stream",
     "text": [
      "iteration 1:\n",
      "  loss_cur = 0.6931471805599465   loss_next = 0.6537647267268138   step_size = 0.03\n",
      "  loss_cur = 0.6931471805599465   loss_next = 0.5797527894830647   step_size = 0.1\n",
      "  loss_cur = 0.6931471805599465   loss_next = 0.4759224281608484   step_size = 0.3\n",
      "  best_step_size: 0.3\n",
      "iteration 2:\n",
      "  loss_cur = 0.4759224281608484   loss_next = 0.46149257220740947   step_size = 0.03\n",
      "  loss_cur = 0.4759224281608484   loss_next = 0.4262615639353607   step_size = 0.1\n",
      "  loss_cur = 0.4759224281608484   loss_next = 0.5275621497808476   step_size = 0.3\n",
      "  best_step_size: 0.1\n",
      "iteration 3:\n",
      "  loss_cur = 0.4262615639353607   loss_next = 0.4192312491146555   step_size = 0.03\n",
      "  loss_cur = 0.4262615639353607   loss_next = 0.4030827802080785   step_size = 0.1\n",
      "  loss_cur = 0.4262615639353607   loss_next = 0.6020540438495441   step_size = 0.3\n",
      "  best_step_size: 0.1\n",
      "iteration 4:\n",
      "  loss_cur = 0.4030827802080785   loss_next = 0.3974760419269741   step_size = 0.03\n",
      "  loss_cur = 0.4030827802080785   loss_next = 0.3845999427934494   step_size = 0.1\n",
      "  loss_cur = 0.4030827802080785   loss_next = 0.3689525770733873   step_size = 0.3\n",
      "  best_step_size: 0.3\n",
      "iteration 5:\n",
      "  loss_cur = 0.3689525770733873   loss_next = 0.33052147474438764   step_size = 0.03\n",
      "  loss_cur = 0.3689525770733873   loss_next = 0.3786533025526627   step_size = 0.1\n",
      "  loss_cur = 0.3689525770733873   loss_next = 1.805544539729339   step_size = 0.3\n",
      "  best_step_size: 0.03\n",
      "iteration 6:\n",
      "  loss_cur = 0.33052147474438764   loss_next = 0.32585762071327307   step_size = 0.03\n",
      "  loss_cur = 0.33052147474438764   loss_next = 0.3154209936588798   step_size = 0.1\n",
      "  loss_cur = 0.33052147474438764   loss_next = 0.28881532121107073   step_size = 0.3\n",
      "  best_step_size: 0.3\n",
      "iteration 7:\n",
      "  loss_cur = 0.28881532121107073   loss_next = 0.2855541166270644   step_size = 0.03\n",
      "  loss_cur = 0.28881532121107073   loss_next = 0.278379930771904   step_size = 0.1\n",
      "  loss_cur = 0.28881532121107073   loss_next = 0.25948408494205144   step_size = 0.3\n",
      "  best_step_size: 0.3\n",
      "iteration 8:\n",
      "  loss_cur = 0.25948408494205144   loss_next = 0.2571356634634688   step_size = 0.03\n",
      "  loss_cur = 0.25948408494205144   loss_next = 0.2517754924353997   step_size = 0.1\n",
      "  loss_cur = 0.25948408494205144   loss_next = 0.23723508390478215   step_size = 0.3\n",
      "  best_step_size: 0.3\n",
      "iteration 9:\n",
      "  loss_cur = 0.23723508390478215   loss_next = 0.23539829666098772   step_size = 0.03\n",
      "  loss_cur = 0.23723508390478215   loss_next = 0.23118576497289617   step_size = 0.1\n",
      "  loss_cur = 0.23723508390478215   loss_next = 0.219600877833442   step_size = 0.3\n",
      "  best_step_size: 0.3\n",
      "iteration 10:\n",
      "  loss_cur = 0.219600877833442   loss_next = 0.21809877209491918   step_size = 0.03\n",
      "  loss_cur = 0.219600877833442   loss_next = 0.21464664692715715   step_size = 0.1\n",
      "  loss_cur = 0.219600877833442   loss_next = 0.20513064768887687   step_size = 0.3\n",
      "  best_step_size: 0.3\n",
      "iteration 11:\n",
      "  loss_cur = 0.20513064768887687   loss_next = 0.20387295597626676   step_size = 0.03\n",
      "  loss_cur = 0.20513064768887687   loss_next = 0.2009774318732968   step_size = 0.1\n",
      "  loss_cur = 0.20513064768887687   loss_next = 0.19298934863895464   step_size = 0.3\n",
      "  best_step_size: 0.3\n",
      "iteration 12:\n",
      "  loss_cur = 0.19298934863895464   loss_next = 0.19193336960179846   step_size = 0.03\n",
      "  loss_cur = 0.19298934863895464   loss_next = 0.18944137361153246   step_size = 0.1\n",
      "  loss_cur = 0.19298934863895464   loss_next = 0.1825954056068327   step_size = 0.3\n",
      "  best_step_size: 0.3\n",
      "iteration 13:\n",
      "  loss_cur = 0.1825954056068327   loss_next = 0.1816647205870874   step_size = 0.03\n",
      "  loss_cur = 0.1825954056068327   loss_next = 0.1795166011696028   step_size = 0.1\n",
      "  loss_cur = 0.1825954056068327   loss_next = 0.17355592917715804   step_size = 0.3\n",
      "  best_step_size: 0.3\n",
      "iteration 14:\n",
      "  loss_cur = 0.17355592917715804   loss_next = 0.17273817730585914   step_size = 0.03\n",
      "  loss_cur = 0.17355592917715804   loss_next = 0.17084897319212655   step_size = 0.1\n",
      "  loss_cur = 0.17355592917715804   loss_next = 0.16559373331536947   step_size = 0.3\n",
      "  best_step_size: 0.3\n",
      "iteration 15:\n",
      "  loss_cur = 0.16559373331536947   loss_next = 0.16486732877065044   step_size = 0.03\n",
      "  loss_cur = 0.16559373331536947   loss_next = 0.16318786033041183   step_size = 0.1\n",
      "  loss_cur = 0.16559373331536947   loss_next = 0.15850634465830443   step_size = 0.3\n",
      "  best_step_size: 0.3\n",
      "iteration 16:\n",
      "  loss_cur = 0.15850634465830443   loss_next = 0.15785516059569293   step_size = 0.03\n",
      "  loss_cur = 0.15850634465830443   loss_next = 0.1563486153273854   step_size = 0.1\n",
      "  loss_cur = 0.15850634465830443   loss_next = 0.1520064221549045   step_size = 0.3\n",
      "  best_step_size: 0.3\n",
      "iteration 17:\n",
      "  loss_cur = 0.1520064221549045   loss_next = 0.1514020926213124   step_size = 0.03\n",
      "WARNING: returning sparsity 79 although minimum sparsity 80 was requested.\n",
      "  loss_cur = 0.1520064221549045   loss_next = 0.15000829967805435   step_size = 0.1\n",
      "  loss_cur = 0.1520064221549045   loss_next = 0.14614915540064227   step_size = 0.3\n",
      "  best_step_size: 0.3\n",
      "iteration 18:\n",
      "  loss_cur = 0.14614915540064227   loss_next = 0.14561433934957657   step_size = 0.03\n",
      "WARNING: returning sparsity 79 although minimum sparsity 80 was requested.\n",
      "  loss_cur = 0.14614915540064227   loss_next = 0.14437617707282654   step_size = 0.1\n",
      "  loss_cur = 0.14614915540064227   loss_next = 0.1398516816046006   step_size = 0.3\n",
      "  best_step_size: 0.3\n",
      "iteration 19:\n",
      "WARNING: returning sparsity 79 although minimum sparsity 80 was requested.\n",
      "  loss_cur = 0.1398516816046006   loss_next = 0.14042765044036784   step_size = 0.03\n",
      "  loss_cur = 0.1398516816046006   loss_next = 0.1390007500872354   step_size = 0.1\n",
      "  loss_cur = 0.1398516816046006   loss_next = 0.1349377035231928   step_size = 0.3\n",
      "  best_step_size: 0.3\n",
      "iteration 20:\n",
      "  loss_cur = 0.1349377035231928   loss_next = 0.13444601008358414   step_size = 0.03\n",
      "  loss_cur = 0.1349377035231928   loss_next = 0.13330720410567018   step_size = 0.1\n",
      "  loss_cur = 0.1349377035231928   loss_next = 0.12987520009739167   step_size = 0.3\n",
      "  best_step_size: 0.3\n",
      "iteration 21:\n",
      "  loss_cur = 0.12987520009739167   loss_next = 0.12940640758907812   step_size = 0.03\n",
      "  loss_cur = 0.12987520009739167   loss_next = 0.1283205829705884   step_size = 0.1\n",
      "  loss_cur = 0.12987520009739167   loss_next = 0.12525070755306944   step_size = 0.3\n",
      "  best_step_size: 0.3\n",
      "iteration 22:\n",
      "  loss_cur = 0.12525070755306944   loss_next = 0.12482192655530742   step_size = 0.03\n",
      "  loss_cur = 0.12525070755306944   loss_next = 0.12382832516987886   step_size = 0.1\n",
      "  loss_cur = 0.12525070755306944   loss_next = 0.12102216559913533   step_size = 0.3\n",
      "  best_step_size: 0.3\n",
      "iteration 23:\n",
      "  loss_cur = 0.12102216559913533   loss_next = 0.12062726317411274   step_size = 0.03\n",
      "  loss_cur = 0.12102216559913533   loss_next = 0.11971183303499096   step_size = 0.1\n",
      "  loss_cur = 0.12102216559913533   loss_next = 0.11714202038845878   step_size = 0.3\n",
      "  best_step_size: 0.3\n",
      "iteration 24:\n",
      "WARNING: returning sparsity 79 although minimum sparsity 80 was requested.\n",
      "  loss_cur = 0.11714202038845878   loss_next = 0.11677678560615665   step_size = 0.03\n",
      "  loss_cur = 0.11714202038845878   loss_next = 0.11592983610245186   step_size = 0.1\n",
      "  loss_cur = 0.11714202038845878   loss_next = 0.11355005480911652   step_size = 0.3\n",
      "  best_step_size: 0.3\n",
      "iteration 25:\n",
      "  loss_cur = 0.11355005480911652   loss_next = 0.11321088643925402   step_size = 0.03\n",
      "  loss_cur = 0.11355005480911652   loss_next = 0.11242414756150483   step_size = 0.1\n",
      "  loss_cur = 0.11355005480911652   loss_next = 0.10995697060332037   step_size = 0.3\n",
      "  best_step_size: 0.3\n"
     ]
    }
   ],
   "source": [
    "W_hat, losses = gslr.gslr(X, y, W0, sparsity_low, sparsity_high, graph_opts, steps, verbosity_level, edge_costs=inbiomap_experimentally.cost.values, edge_costs_multiplier=6)"
   ]
  },
  {
   "cell_type": "code",
   "execution_count": 44,
   "metadata": {
    "collapsed": false,
    "deletable": true,
    "editable": true,
    "scrolled": false
   },
   "outputs": [
    {
     "name": "stdout",
     "output_type": "stream",
     "text": [
      "Train accuracy: 0.985\n"
     ]
    },
    {
     "data": {
      "image/png": "[encoded data removed]",
      "text/plain": [
       "<matplotlib.figure.Figure at 0x10bb25748>"
      ]
     },
     "metadata": {},
     "output_type": "display_data"
    }
   ],
   "source": [
    "yhat = gslr.predict(X, W_hat)\n",
    "num_cor = gslr.num_correct(y, yhat)\n",
    "print('Train accuracy: {}'.format(num_cor / float(len(y))))\n",
    "\n",
    "plt.plot(losses)\n",
    "plt.yscale('log')"
   ]
  },
  {
   "cell_type": "markdown",
   "metadata": {
    "deletable": true,
    "editable": true
   },
   "source": [
    "### VI. Examine Results"
   ]
  },
  {
   "cell_type": "code",
   "execution_count": 45,
   "metadata": {
    "collapsed": false,
    "deletable": true,
    "editable": true,
    "scrolled": false
   },
   "outputs": [
    {
     "data": {
      "text/plain": [
       "<matplotlib.axes._subplots.AxesSubplot at 0x10ad78c18>"
      ]
     },
     "execution_count": 45,
     "metadata": {},
     "output_type": "execute_result"
    },
    {
     "data": {
      "image/png": "[encoded data removed]",
      "text/plain": [
       "<matplotlib.figure.Figure at 0x10bbc92b0>"
      ]
     },
     "metadata": {},
     "output_type": "display_data"
    }
   ],
   "source": [
    "coefs = pd.DataFrame(W_hat, columns=dataset.columns)\n",
    "coefs.transpose().plot(figsize=(17,8))"
   ]
  },
  {
   "cell_type": "code",
   "execution_count": 51,
   "metadata": {
    "collapsed": false,
    "deletable": true,
    "editable": true,
    "scrolled": true
   },
   "outputs": [
    {
     "data": {
      "text/plain": [
       "82"
      ]
     },
     "execution_count": 51,
     "metadata": {},
     "output_type": "execute_result"
    }
   ],
   "source": [
    "features = coefs.columns[(coefs != 0).any()].tolist()\n",
    "len(features)"
   ]
  },
  {
   "cell_type": "code",
   "execution_count": 47,
   "metadata": {
    "collapsed": false,
    "deletable": true,
    "editable": true,
    "scrolled": false
   },
   "outputs": [
    {
     "name": "stderr",
     "output_type": "stream",
     "text": [
      "/Users/alex/Documents/proteomics/venv/lib/python3.6/site-packages/matplotlib_venn/_venn3.py:117: UserWarning: Bad circle positioning\n",
      "  warnings.warn(\"Bad circle positioning\")\n"
     ]
    },
    {
     "data": {
      "text/plain": [
       "<matplotlib_venn._common.VennDiagram at 0x10c706e80>"
      ]
     },
     "execution_count": 47,
     "metadata": {},
     "output_type": "execute_result"
    },
    {
     "data": {
      "image/png": "[encoded data removed]",
      "text/plain": [
       "<matplotlib.figure.Figure at 0x10850f780>"
      ]
     },
     "metadata": {},
     "output_type": "display_data"
    }
   ],
   "source": [
    "pathways_df = pd.read_pickle('../../data_generation/KEGG_df.filtered.with_correlates.pickle')\n",
    "genes, correlates = pathways_df.loc[pd.IndexSlice[:, :, ['hsa04110']],['genes', 'correlates']].values[0]\n",
    "correlates = correlates.tolist()\n",
    "venn3([set(features), set(genes), set(genes)|set(correlates)])"
   ]
  },
  {
   "cell_type": "markdown",
   "metadata": {
    "collapsed": true,
    "deletable": true,
    "editable": true
   },
   "source": [
    "### V. Analysis of edge weights in kegg pathways versus solutions given by GSLR"
   ]
  },
  {
   "cell_type": "code",
   "execution_count": 48,
   "metadata": {
    "collapsed": false,
    "deletable": true,
    "editable": true
   },
   "outputs": [],
   "source": [
    "import pandas as pd\n",
    "import networkx as nx\n",
    "\n",
    "interactome_file = \"/Users/alex/Documents/proteomics/data_preparation/interactomes/InBioMap/inbiomap_exp.normalized.cleaned.connected.tsv\"\n",
    "\n",
    "interactome_dataframe = pd.read_csv(interactome_file, sep='\\t')\n",
    "\n",
    "interactome_graph = nx.from_pandas_dataframe(interactome_dataframe, 'protein1', 'protein2', edge_attr=['confidence'])"
   ]
  },
  {
   "cell_type": "markdown",
   "metadata": {},
   "source": [
    "### Selected subgraph edge confidences histogram"
   ]
  },
  {
   "cell_type": "code",
   "execution_count": 49,
   "metadata": {
    "collapsed": false,
    "deletable": true,
    "editable": true
   },
   "outputs": [
    {
     "data": {
      "text/plain": [
       "<matplotlib.axes._subplots.AxesSubplot at 0x1145132b0>"
      ]
     },
     "execution_count": 49,
     "metadata": {},
     "output_type": "execute_result"
    },
    {
     "data": {
      "image/png": "[encoded data removed]",
      "text/plain": [
       "<matplotlib.figure.Figure at 0x114513c18>"
      ]
     },
     "metadata": {},
     "output_type": "display_data"
    }
   ],
   "source": [
    "subgraph = interactome_graph.subgraph(features)\n",
    "confidences = pd.DataFrame([confidence_dict['confidence'] for source, target, confidence_dict in subgraph.edges(data=True)], columns=['confidence']).astype(float)\n",
    "confidences.plot.hist(bins=50)"
   ]
  },
  {
   "cell_type": "markdown",
   "metadata": {},
   "source": [
    "### Ground Truth subgraph edge confidence histogram"
   ]
  },
  {
   "cell_type": "code",
   "execution_count": 50,
   "metadata": {
    "collapsed": false,
    "deletable": true,
    "editable": true
   },
   "outputs": [
    {
     "data": {
      "text/plain": [
       "<matplotlib.axes._subplots.AxesSubplot at 0x10a83bef0>"
      ]
     },
     "execution_count": 50,
     "metadata": {},
     "output_type": "execute_result"
    },
    {
     "data": {
      "image/png": "[encoded data removed]",
      "text/plain": [
       "<matplotlib.figure.Figure at 0x10a858a20>"
      ]
     },
     "metadata": {},
     "output_type": "display_data"
    }
   ],
   "source": [
    "subgraph2 = interactome_graph.subgraph(genes)\n",
    "confidences2 = pd.DataFrame([confidence_dict['confidence'] for source, target, confidence_dict in subgraph2.edges(data=True)], columns=['confidence']).astype(float)\n",
    "confidences2.plot.hist(bins=50)"
   ]
  },
  {
   "cell_type": "code",
   "execution_count": null,
   "metadata": {
    "collapsed": true,
    "deletable": true,
    "editable": true
   },
   "outputs": [],
   "source": []
  }
 ],
 "metadata": {
  "kernelspec": {
   "display_name": "Python 3",
   "language": "python",
   "name": "python3"
  },
  "language_info": {
   "codemirror_mode": {
    "name": "ipython",
    "version": 3
   },
   "file_extension": ".py",
   "mimetype": "text/x-python",
   "name": "python",
   "nbconvert_exporter": "python",
   "pygments_lexer": "ipython3",
   "version": "3.6.1"
  }
 },
 "nbformat": 4,
 "nbformat_minor": 2
}
