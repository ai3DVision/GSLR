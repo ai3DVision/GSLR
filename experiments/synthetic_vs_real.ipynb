{
 "cells": [
  {
   "cell_type": "markdown",
   "metadata": {},
   "source": [
    "# Understanding the geometry of the synthetic data relative to the geometry of the real data"
   ]
  },
  {
   "cell_type": "markdown",
   "metadata": {},
   "source": [
    "## I. Real Data"
   ]
  },
  {
   "cell_type": "markdown",
   "metadata": {},
   "source": [
    "### i. Load Real Data"
   ]
  },
  {
   "cell_type": "code",
   "execution_count": 1,
   "metadata": {
    "collapsed": false
   },
   "outputs": [
    {
     "name": "stdout",
     "output_type": "stream",
     "text": [
      "Populating the interactive namespace from numpy and matplotlib\n"
     ]
    },
    {
     "data": {
      "text/html": [
       "<div>\n",
       "<style>\n",
       "    .dataframe thead tr:only-child th {\n",
       "        text-align: right;\n",
       "    }\n",
       "\n",
       "    .dataframe thead th {\n",
       "        text-align: left;\n",
       "    }\n",
       "\n",
       "    .dataframe tbody tr th {\n",
       "        vertical-align: top;\n",
       "    }\n",
       "</style>\n",
       "<table border=\"1\" class=\"dataframe\">\n",
       "  <thead>\n",
       "    <tr style=\"text-align: right;\">\n",
       "      <th></th>\n",
       "      <th>PNNL-TCGA-09-1664</th>\n",
       "      <th>PNNL-TCGA-13-1484</th>\n",
       "      <th>PNNL-TCGA-13-1488</th>\n",
       "      <th>PNNL-TCGA-13-1489</th>\n",
       "      <th>PNNL-TCGA-13-1494</th>\n",
       "      <th>PNNL-TCGA-13-1495</th>\n",
       "      <th>PNNL-TCGA-13-1499</th>\n",
       "      <th>PNNL-TCGA-13-2071</th>\n",
       "      <th>PNNL-TCGA-23-1123</th>\n",
       "      <th>PNNL-TCGA-23-1124</th>\n",
       "      <th>...</th>\n",
       "      <th>JHU-TCGA-61-1911</th>\n",
       "      <th>JHU-TCGA-61-1914</th>\n",
       "      <th>JHU-TCGA-61-1915</th>\n",
       "      <th>JHU-TCGA-61-1918</th>\n",
       "      <th>JHU-TCGA-61-1995</th>\n",
       "      <th>JHU-TCGA-61-2008</th>\n",
       "      <th>JHU-TCGA-61-2087</th>\n",
       "      <th>JHU-TCGA-61-2088</th>\n",
       "      <th>JHU-TCGA-61-2094</th>\n",
       "      <th>JHU-TCGA-61-2613</th>\n",
       "    </tr>\n",
       "  </thead>\n",
       "  <tbody>\n",
       "    <tr>\n",
       "      <th>A1BG</th>\n",
       "      <td>0.2560</td>\n",
       "      <td>-1.060</td>\n",
       "      <td>-0.0348</td>\n",
       "      <td>0.0390</td>\n",
       "      <td>-0.49700</td>\n",
       "      <td>0.34700</td>\n",
       "      <td>-0.282</td>\n",
       "      <td>0.438</td>\n",
       "      <td>-0.631</td>\n",
       "      <td>-0.9280</td>\n",
       "      <td>...</td>\n",
       "      <td>-0.22430</td>\n",
       "      <td>-0.70530</td>\n",
       "      <td>-0.30090</td>\n",
       "      <td>-0.00830</td>\n",
       "      <td>-0.29820</td>\n",
       "      <td>0.86970</td>\n",
       "      <td>-1.11530</td>\n",
       "      <td>-0.83830</td>\n",
       "      <td>-0.06730</td>\n",
       "      <td>0.90970</td>\n",
       "    </tr>\n",
       "    <tr>\n",
       "      <th>A2M</th>\n",
       "      <td>-0.0581</td>\n",
       "      <td>-0.688</td>\n",
       "      <td>0.5180</td>\n",
       "      <td>-0.4320</td>\n",
       "      <td>0.33300</td>\n",
       "      <td>0.10900</td>\n",
       "      <td>-1.230</td>\n",
       "      <td>0.172</td>\n",
       "      <td>-1.270</td>\n",
       "      <td>-0.0129</td>\n",
       "      <td>...</td>\n",
       "      <td>0.26575</td>\n",
       "      <td>-0.68825</td>\n",
       "      <td>-0.07125</td>\n",
       "      <td>-0.76725</td>\n",
       "      <td>-0.82125</td>\n",
       "      <td>-0.36055</td>\n",
       "      <td>-1.02225</td>\n",
       "      <td>-1.17225</td>\n",
       "      <td>-0.13225</td>\n",
       "      <td>1.16575</td>\n",
       "    </tr>\n",
       "    <tr>\n",
       "      <th>A2ML1</th>\n",
       "      <td>-0.3360</td>\n",
       "      <td>-0.973</td>\n",
       "      <td>0.7980</td>\n",
       "      <td>0.0000</td>\n",
       "      <td>-0.08010</td>\n",
       "      <td>0.62800</td>\n",
       "      <td>0.551</td>\n",
       "      <td>-1.650</td>\n",
       "      <td>0.000</td>\n",
       "      <td>-0.7840</td>\n",
       "      <td>...</td>\n",
       "      <td>0.45120</td>\n",
       "      <td>-0.34180</td>\n",
       "      <td>-1.15880</td>\n",
       "      <td>-0.24280</td>\n",
       "      <td>0.64220</td>\n",
       "      <td>0.60620</td>\n",
       "      <td>0.77920</td>\n",
       "      <td>0.44120</td>\n",
       "      <td>0.03020</td>\n",
       "      <td>0.08930</td>\n",
       "    </tr>\n",
       "    <tr>\n",
       "      <th>AAAS</th>\n",
       "      <td>-0.0363</td>\n",
       "      <td>-0.657</td>\n",
       "      <td>0.1290</td>\n",
       "      <td>0.0873</td>\n",
       "      <td>0.00218</td>\n",
       "      <td>-0.00385</td>\n",
       "      <td>0.110</td>\n",
       "      <td>-0.228</td>\n",
       "      <td>0.190</td>\n",
       "      <td>-0.1370</td>\n",
       "      <td>...</td>\n",
       "      <td>-0.20516</td>\n",
       "      <td>-0.24216</td>\n",
       "      <td>0.45984</td>\n",
       "      <td>0.17584</td>\n",
       "      <td>0.07238</td>\n",
       "      <td>0.04764</td>\n",
       "      <td>-0.04616</td>\n",
       "      <td>0.62984</td>\n",
       "      <td>0.11074</td>\n",
       "      <td>-0.12116</td>\n",
       "    </tr>\n",
       "    <tr>\n",
       "      <th>AACS</th>\n",
       "      <td>-0.0648</td>\n",
       "      <td>-0.165</td>\n",
       "      <td>-0.3930</td>\n",
       "      <td>-0.5020</td>\n",
       "      <td>-0.62300</td>\n",
       "      <td>-0.47800</td>\n",
       "      <td>0.000</td>\n",
       "      <td>-0.312</td>\n",
       "      <td>0.044</td>\n",
       "      <td>-0.4150</td>\n",
       "      <td>...</td>\n",
       "      <td>-0.01380</td>\n",
       "      <td>0.68060</td>\n",
       "      <td>0.44660</td>\n",
       "      <td>0.11690</td>\n",
       "      <td>0.18860</td>\n",
       "      <td>-0.56140</td>\n",
       "      <td>-0.01400</td>\n",
       "      <td>0.72060</td>\n",
       "      <td>0.26160</td>\n",
       "      <td>0.02367</td>\n",
       "    </tr>\n",
       "  </tbody>\n",
       "</table>\n",
       "<p>5 rows × 206 columns</p>\n",
       "</div>"
      ],
      "text/plain": [
       "       PNNL-TCGA-09-1664  PNNL-TCGA-13-1484  PNNL-TCGA-13-1488  \\\n",
       "A1BG              0.2560             -1.060            -0.0348   \n",
       "A2M              -0.0581             -0.688             0.5180   \n",
       "A2ML1            -0.3360             -0.973             0.7980   \n",
       "AAAS             -0.0363             -0.657             0.1290   \n",
       "AACS             -0.0648             -0.165            -0.3930   \n",
       "\n",
       "       PNNL-TCGA-13-1489  PNNL-TCGA-13-1494  PNNL-TCGA-13-1495  \\\n",
       "A1BG              0.0390           -0.49700            0.34700   \n",
       "A2M              -0.4320            0.33300            0.10900   \n",
       "A2ML1             0.0000           -0.08010            0.62800   \n",
       "AAAS              0.0873            0.00218           -0.00385   \n",
       "AACS             -0.5020           -0.62300           -0.47800   \n",
       "\n",
       "       PNNL-TCGA-13-1499  PNNL-TCGA-13-2071  PNNL-TCGA-23-1123  \\\n",
       "A1BG              -0.282              0.438             -0.631   \n",
       "A2M               -1.230              0.172             -1.270   \n",
       "A2ML1              0.551             -1.650              0.000   \n",
       "AAAS               0.110             -0.228              0.190   \n",
       "AACS               0.000             -0.312              0.044   \n",
       "\n",
       "       PNNL-TCGA-23-1124        ...         JHU-TCGA-61-1911  \\\n",
       "A1BG             -0.9280        ...                 -0.22430   \n",
       "A2M              -0.0129        ...                  0.26575   \n",
       "A2ML1            -0.7840        ...                  0.45120   \n",
       "AAAS             -0.1370        ...                 -0.20516   \n",
       "AACS             -0.4150        ...                 -0.01380   \n",
       "\n",
       "       JHU-TCGA-61-1914  JHU-TCGA-61-1915  JHU-TCGA-61-1918  JHU-TCGA-61-1995  \\\n",
       "A1BG           -0.70530          -0.30090          -0.00830          -0.29820   \n",
       "A2M            -0.68825          -0.07125          -0.76725          -0.82125   \n",
       "A2ML1          -0.34180          -1.15880          -0.24280           0.64220   \n",
       "AAAS           -0.24216           0.45984           0.17584           0.07238   \n",
       "AACS            0.68060           0.44660           0.11690           0.18860   \n",
       "\n",
       "       JHU-TCGA-61-2008  JHU-TCGA-61-2087  JHU-TCGA-61-2088  JHU-TCGA-61-2094  \\\n",
       "A1BG            0.86970          -1.11530          -0.83830          -0.06730   \n",
       "A2M            -0.36055          -1.02225          -1.17225          -0.13225   \n",
       "A2ML1           0.60620           0.77920           0.44120           0.03020   \n",
       "AAAS            0.04764          -0.04616           0.62984           0.11074   \n",
       "AACS           -0.56140          -0.01400           0.72060           0.26160   \n",
       "\n",
       "       JHU-TCGA-61-2613  \n",
       "A1BG            0.90970  \n",
       "A2M             1.16575  \n",
       "A2ML1           0.08930  \n",
       "AAAS           -0.12116  \n",
       "AACS            0.02367  \n",
       "\n",
       "[5 rows x 206 columns]"
      ]
     },
     "execution_count": 1,
     "metadata": {},
     "output_type": "execute_result"
    }
   ],
   "source": [
    "%pylab inline\n",
    "import pandas as pd\n",
    "from scipy.spatial import distance\n",
    "from itertools import combinations\n",
    "\n",
    "ovarian = pd.read_csv('data_preparation/proteomics_data/raw/ovarian_proteomics.cleaned.normalized.csv', header=0, index_col=0).fillna(0)\n",
    "ovarian.head()"
   ]
  },
  {
   "cell_type": "code",
   "execution_count": 2,
   "metadata": {
    "collapsed": false
   },
   "outputs": [
    {
     "data": {
      "text/plain": [
       "206"
      ]
     },
     "execution_count": 2,
     "metadata": {},
     "output_type": "execute_result"
    }
   ],
   "source": [
    "ovarian_labels = pd.read_csv('/Users/alex/Documents/proteomics/data_preparation/proteomics_data/raw/ovarian_labels.csv', index_col=0)\n",
    "ovarian_labels = ovarian_labels['Proteomic subtype'].replace(np.nan, 'nan').values\n",
    "len(ovarian_labels)"
   ]
  },
  {
   "cell_type": "markdown",
   "metadata": {},
   "source": [
    "### ii. Get the means for each class"
   ]
  },
  {
   "cell_type": "code",
   "execution_count": 3,
   "metadata": {
    "collapsed": false
   },
   "outputs": [],
   "source": [
    "ovarian = ovarian.transpose()\n",
    "\n",
    "Differentiated = ovarian[ovarian_labels == 'Differentiated']\n",
    "Immunoreactive = ovarian[ovarian_labels == 'Immunoreactive']\n",
    "Mesenchymal = ovarian[ovarian_labels == 'Mesenchymal']\n",
    "Proliferative = ovarian[ovarian_labels == 'Proliferative']\n",
    "Stromal = ovarian[ovarian_labels == 'Stromal']\n",
    "nan = ovarian[ovarian_labels == 'nan']"
   ]
  },
  {
   "cell_type": "code",
   "execution_count": 4,
   "metadata": {
    "collapsed": true
   },
   "outputs": [],
   "source": [
    "Differentiated_mean = Differentiated.mean()\n",
    "Immunoreactive_mean = Immunoreactive.mean()\n",
    "Mesenchymal_mean = Mesenchymal.mean()\n",
    "Proliferative_mean = Proliferative.mean()\n",
    "Stromal_mean = Stromal.mean()\n",
    "nan_mean = nan.mean()"
   ]
  },
  {
   "cell_type": "markdown",
   "metadata": {},
   "source": [
    "### iii. Find all pairwise distances"
   ]
  },
  {
   "cell_type": "code",
   "execution_count": 5,
   "metadata": {
    "collapsed": false
   },
   "outputs": [],
   "source": [
    "distances = pd.DataFrame([distance.euclidean(a,b) for a,b in combinations([Differentiated_mean,Immunoreactive_mean,Mesenchymal_mean,Proliferative_mean,Stromal_mean,nan_mean],2)])"
   ]
  },
  {
   "cell_type": "code",
   "execution_count": 6,
   "metadata": {
    "collapsed": false
   },
   "outputs": [
    {
     "data": {
      "text/html": [
       "<div>\n",
       "<style>\n",
       "    .dataframe thead tr:only-child th {\n",
       "        text-align: right;\n",
       "    }\n",
       "\n",
       "    .dataframe thead th {\n",
       "        text-align: left;\n",
       "    }\n",
       "\n",
       "    .dataframe tbody tr th {\n",
       "        vertical-align: top;\n",
       "    }\n",
       "</style>\n",
       "<table border=\"1\" class=\"dataframe\">\n",
       "  <thead>\n",
       "    <tr style=\"text-align: right;\">\n",
       "      <th></th>\n",
       "      <th>0</th>\n",
       "    </tr>\n",
       "  </thead>\n",
       "  <tbody>\n",
       "    <tr>\n",
       "      <th>0</th>\n",
       "      <td>15.879834</td>\n",
       "    </tr>\n",
       "    <tr>\n",
       "      <th>1</th>\n",
       "      <td>17.359174</td>\n",
       "    </tr>\n",
       "    <tr>\n",
       "      <th>2</th>\n",
       "      <td>21.189180</td>\n",
       "    </tr>\n",
       "    <tr>\n",
       "      <th>3</th>\n",
       "      <td>26.877732</td>\n",
       "    </tr>\n",
       "    <tr>\n",
       "      <th>4</th>\n",
       "      <td>20.110938</td>\n",
       "    </tr>\n",
       "    <tr>\n",
       "      <th>5</th>\n",
       "      <td>20.622562</td>\n",
       "    </tr>\n",
       "    <tr>\n",
       "      <th>6</th>\n",
       "      <td>22.534145</td>\n",
       "    </tr>\n",
       "    <tr>\n",
       "      <th>7</th>\n",
       "      <td>32.335380</td>\n",
       "    </tr>\n",
       "    <tr>\n",
       "      <th>8</th>\n",
       "      <td>25.248076</td>\n",
       "    </tr>\n",
       "    <tr>\n",
       "      <th>9</th>\n",
       "      <td>28.419521</td>\n",
       "    </tr>\n",
       "    <tr>\n",
       "      <th>10</th>\n",
       "      <td>22.201520</td>\n",
       "    </tr>\n",
       "    <tr>\n",
       "      <th>11</th>\n",
       "      <td>27.441315</td>\n",
       "    </tr>\n",
       "    <tr>\n",
       "      <th>12</th>\n",
       "      <td>36.112401</td>\n",
       "    </tr>\n",
       "    <tr>\n",
       "      <th>13</th>\n",
       "      <td>26.063674</td>\n",
       "    </tr>\n",
       "    <tr>\n",
       "      <th>14</th>\n",
       "      <td>33.822729</td>\n",
       "    </tr>\n",
       "  </tbody>\n",
       "</table>\n",
       "</div>"
      ],
      "text/plain": [
       "            0\n",
       "0   15.879834\n",
       "1   17.359174\n",
       "2   21.189180\n",
       "3   26.877732\n",
       "4   20.110938\n",
       "5   20.622562\n",
       "6   22.534145\n",
       "7   32.335380\n",
       "8   25.248076\n",
       "9   28.419521\n",
       "10  22.201520\n",
       "11  27.441315\n",
       "12  36.112401\n",
       "13  26.063674\n",
       "14  33.822729"
      ]
     },
     "execution_count": 6,
     "metadata": {},
     "output_type": "execute_result"
    }
   ],
   "source": [
    "distances"
   ]
  },
  {
   "cell_type": "code",
   "execution_count": 7,
   "metadata": {
    "collapsed": false
   },
   "outputs": [
    {
     "data": {
      "text/plain": [
       "<matplotlib.axes._subplots.AxesSubplot at 0x1082f79e8>"
      ]
     },
     "execution_count": 7,
     "metadata": {},
     "output_type": "execute_result"
    },
    {
     "data": {
      "image/png": "[encoded data removed]",
      "text/plain": [
       "<matplotlib.figure.Figure at 0x1091474a8>"
      ]
     },
     "metadata": {},
     "output_type": "display_data"
    }
   ],
   "source": [
    "distances.plot.hist()"
   ]
  },
  {
   "cell_type": "markdown",
   "metadata": {},
   "source": [
    "## II. Synthetic Data by original upsampling strategy"
   ]
  },
  {
   "cell_type": "markdown",
   "metadata": {},
   "source": [
    "### i. Load Synthetic Data"
   ]
  },
  {
   "cell_type": "code",
   "execution_count": 8,
   "metadata": {
    "collapsed": false,
    "scrolled": true
   },
   "outputs": [
    {
     "data": {
      "text/html": [
       "<div>\n",
       "<style>\n",
       "    .dataframe thead tr:only-child th {\n",
       "        text-align: right;\n",
       "    }\n",
       "\n",
       "    .dataframe thead th {\n",
       "        text-align: left;\n",
       "    }\n",
       "\n",
       "    .dataframe tbody tr th {\n",
       "        vertical-align: top;\n",
       "    }\n",
       "</style>\n",
       "<table border=\"1\" class=\"dataframe\">\n",
       "  <thead>\n",
       "    <tr style=\"text-align: right;\">\n",
       "      <th></th>\n",
       "      <th>ZNF91</th>\n",
       "      <th>NDEL1</th>\n",
       "      <th>ELAVL1</th>\n",
       "      <th>SUMO1</th>\n",
       "      <th>SUMO3</th>\n",
       "      <th>CHMP5</th>\n",
       "      <th>UBC</th>\n",
       "      <th>HTT</th>\n",
       "      <th>E2F4</th>\n",
       "      <th>ACP5</th>\n",
       "      <th>...</th>\n",
       "      <th>SPANXN4</th>\n",
       "      <th>ZNF605</th>\n",
       "      <th>SERPINB10</th>\n",
       "      <th>ANKAR</th>\n",
       "      <th>RRH</th>\n",
       "      <th>DHH</th>\n",
       "      <th>CYSLTR1</th>\n",
       "      <th>ZNF268</th>\n",
       "      <th>COL23A1</th>\n",
       "      <th>MEDAG</th>\n",
       "    </tr>\n",
       "  </thead>\n",
       "  <tbody>\n",
       "    <tr>\n",
       "      <th>hsa04010</th>\n",
       "      <td>0.0</td>\n",
       "      <td>0.285224</td>\n",
       "      <td>0.643828</td>\n",
       "      <td>0.542200</td>\n",
       "      <td>-0.447987</td>\n",
       "      <td>0.218837</td>\n",
       "      <td>-0.0</td>\n",
       "      <td>-0.019012</td>\n",
       "      <td>0.743505</td>\n",
       "      <td>-0.351974</td>\n",
       "      <td>...</td>\n",
       "      <td>0.0</td>\n",
       "      <td>0.0</td>\n",
       "      <td>0.0</td>\n",
       "      <td>0.0</td>\n",
       "      <td>0.0</td>\n",
       "      <td>0.0</td>\n",
       "      <td>0.0</td>\n",
       "      <td>0.0</td>\n",
       "      <td>0.0</td>\n",
       "      <td>0.0</td>\n",
       "    </tr>\n",
       "    <tr>\n",
       "      <th>negative</th>\n",
       "      <td>-0.0</td>\n",
       "      <td>0.046622</td>\n",
       "      <td>-0.249768</td>\n",
       "      <td>-0.267652</td>\n",
       "      <td>-0.532723</td>\n",
       "      <td>0.160892</td>\n",
       "      <td>-0.0</td>\n",
       "      <td>0.127052</td>\n",
       "      <td>0.033737</td>\n",
       "      <td>0.089601</td>\n",
       "      <td>...</td>\n",
       "      <td>0.0</td>\n",
       "      <td>0.0</td>\n",
       "      <td>0.0</td>\n",
       "      <td>0.0</td>\n",
       "      <td>0.0</td>\n",
       "      <td>0.0</td>\n",
       "      <td>0.0</td>\n",
       "      <td>0.0</td>\n",
       "      <td>0.0</td>\n",
       "      <td>0.0</td>\n",
       "    </tr>\n",
       "    <tr>\n",
       "      <th>negative</th>\n",
       "      <td>-0.0</td>\n",
       "      <td>-0.511173</td>\n",
       "      <td>0.089534</td>\n",
       "      <td>0.898882</td>\n",
       "      <td>-0.145523</td>\n",
       "      <td>-0.021377</td>\n",
       "      <td>0.0</td>\n",
       "      <td>-0.379183</td>\n",
       "      <td>-0.073551</td>\n",
       "      <td>-0.478076</td>\n",
       "      <td>...</td>\n",
       "      <td>0.0</td>\n",
       "      <td>0.0</td>\n",
       "      <td>0.0</td>\n",
       "      <td>0.0</td>\n",
       "      <td>0.0</td>\n",
       "      <td>0.0</td>\n",
       "      <td>0.0</td>\n",
       "      <td>0.0</td>\n",
       "      <td>0.0</td>\n",
       "      <td>0.0</td>\n",
       "    </tr>\n",
       "    <tr>\n",
       "      <th>negative</th>\n",
       "      <td>0.0</td>\n",
       "      <td>-0.079820</td>\n",
       "      <td>-0.397150</td>\n",
       "      <td>-0.385432</td>\n",
       "      <td>-0.419035</td>\n",
       "      <td>0.149168</td>\n",
       "      <td>0.0</td>\n",
       "      <td>0.155897</td>\n",
       "      <td>0.743164</td>\n",
       "      <td>-0.389875</td>\n",
       "      <td>...</td>\n",
       "      <td>0.0</td>\n",
       "      <td>0.0</td>\n",
       "      <td>0.0</td>\n",
       "      <td>0.0</td>\n",
       "      <td>0.0</td>\n",
       "      <td>0.0</td>\n",
       "      <td>0.0</td>\n",
       "      <td>0.0</td>\n",
       "      <td>0.0</td>\n",
       "      <td>0.0</td>\n",
       "    </tr>\n",
       "    <tr>\n",
       "      <th>negative</th>\n",
       "      <td>-0.0</td>\n",
       "      <td>0.149707</td>\n",
       "      <td>-0.128439</td>\n",
       "      <td>-0.243953</td>\n",
       "      <td>-0.066834</td>\n",
       "      <td>0.471421</td>\n",
       "      <td>0.0</td>\n",
       "      <td>0.240100</td>\n",
       "      <td>0.096536</td>\n",
       "      <td>0.168752</td>\n",
       "      <td>...</td>\n",
       "      <td>0.0</td>\n",
       "      <td>0.0</td>\n",
       "      <td>0.0</td>\n",
       "      <td>0.0</td>\n",
       "      <td>0.0</td>\n",
       "      <td>0.0</td>\n",
       "      <td>0.0</td>\n",
       "      <td>0.0</td>\n",
       "      <td>0.0</td>\n",
       "      <td>0.0</td>\n",
       "    </tr>\n",
       "  </tbody>\n",
       "</table>\n",
       "<p>5 rows × 16349 columns</p>\n",
       "</div>"
      ],
      "text/plain": [
       "          ZNF91     NDEL1    ELAVL1     SUMO1     SUMO3     CHMP5  UBC  \\\n",
       "hsa04010    0.0  0.285224  0.643828  0.542200 -0.447987  0.218837 -0.0   \n",
       "negative   -0.0  0.046622 -0.249768 -0.267652 -0.532723  0.160892 -0.0   \n",
       "negative   -0.0 -0.511173  0.089534  0.898882 -0.145523 -0.021377  0.0   \n",
       "negative    0.0 -0.079820 -0.397150 -0.385432 -0.419035  0.149168  0.0   \n",
       "negative   -0.0  0.149707 -0.128439 -0.243953 -0.066834  0.471421  0.0   \n",
       "\n",
       "               HTT      E2F4      ACP5  ...    SPANXN4  ZNF605  SERPINB10  \\\n",
       "hsa04010 -0.019012  0.743505 -0.351974  ...        0.0     0.0        0.0   \n",
       "negative  0.127052  0.033737  0.089601  ...        0.0     0.0        0.0   \n",
       "negative -0.379183 -0.073551 -0.478076  ...        0.0     0.0        0.0   \n",
       "negative  0.155897  0.743164 -0.389875  ...        0.0     0.0        0.0   \n",
       "negative  0.240100  0.096536  0.168752  ...        0.0     0.0        0.0   \n",
       "\n",
       "          ANKAR  RRH  DHH  CYSLTR1  ZNF268  COL23A1  MEDAG  \n",
       "hsa04010    0.0  0.0  0.0      0.0     0.0      0.0    0.0  \n",
       "negative    0.0  0.0  0.0      0.0     0.0      0.0    0.0  \n",
       "negative    0.0  0.0  0.0      0.0     0.0      0.0    0.0  \n",
       "negative    0.0  0.0  0.0      0.0     0.0      0.0    0.0  \n",
       "negative    0.0  0.0  0.0      0.0     0.0      0.0    0.0  \n",
       "\n",
       "[5 rows x 16349 columns]"
      ]
     },
     "execution_count": 8,
     "metadata": {},
     "output_type": "execute_result"
    }
   ],
   "source": [
    "synthetic = pd.read_csv('synthetic_proteomics/generated_data/ludwig_svd_normals/hsa04010_inbiomap_exp.csv', index_col=0)\n",
    "synthetic.head()"
   ]
  },
  {
   "cell_type": "markdown",
   "metadata": {},
   "source": [
    "### ii. Get the means for each class"
   ]
  },
  {
   "cell_type": "code",
   "execution_count": 9,
   "metadata": {
    "collapsed": true
   },
   "outputs": [],
   "source": [
    "hsa04010 = synthetic.loc['hsa04010']\n",
    "negative = synthetic.loc['negative']"
   ]
  },
  {
   "cell_type": "code",
   "execution_count": 10,
   "metadata": {
    "collapsed": false
   },
   "outputs": [],
   "source": [
    "hsa04010_mean = hsa04010.mean()\n",
    "negative_mean = negative.mean()"
   ]
  },
  {
   "cell_type": "markdown",
   "metadata": {},
   "source": [
    "### iii. Compute Distance"
   ]
  },
  {
   "cell_type": "code",
   "execution_count": 11,
   "metadata": {
    "collapsed": false
   },
   "outputs": [
    {
     "data": {
      "text/plain": [
       "5.812306142520208"
      ]
     },
     "execution_count": 11,
     "metadata": {},
     "output_type": "execute_result"
    }
   ],
   "source": [
    "distance.euclidean(hsa04010_mean, negative_mean)"
   ]
  },
  {
   "cell_type": "markdown",
   "metadata": {},
   "source": [
    "## III. Synthetic data by newer \"gaussian mixture\" strategy"
   ]
  },
  {
   "cell_type": "markdown",
   "metadata": {},
   "source": [
    "### i. Load Synthetic Data"
   ]
  },
  {
   "cell_type": "code",
   "execution_count": 14,
   "metadata": {
    "collapsed": false,
    "scrolled": true
   },
   "outputs": [
    {
     "data": {
      "text/html": [
       "<div>\n",
       "<style>\n",
       "    .dataframe thead tr:only-child th {\n",
       "        text-align: right;\n",
       "    }\n",
       "\n",
       "    .dataframe thead th {\n",
       "        text-align: left;\n",
       "    }\n",
       "\n",
       "    .dataframe tbody tr th {\n",
       "        vertical-align: top;\n",
       "    }\n",
       "</style>\n",
       "<table border=\"1\" class=\"dataframe\">\n",
       "  <thead>\n",
       "    <tr style=\"text-align: right;\">\n",
       "      <th></th>\n",
       "      <th>ZNF91</th>\n",
       "      <th>NDEL1</th>\n",
       "      <th>ELAVL1</th>\n",
       "      <th>SUMO1</th>\n",
       "      <th>SUMO3</th>\n",
       "      <th>CHMP5</th>\n",
       "      <th>UBC</th>\n",
       "      <th>HTT</th>\n",
       "      <th>E2F4</th>\n",
       "      <th>ACP5</th>\n",
       "      <th>...</th>\n",
       "      <th>SPANXN4</th>\n",
       "      <th>ZNF605</th>\n",
       "      <th>SERPINB10</th>\n",
       "      <th>ANKAR</th>\n",
       "      <th>RRH</th>\n",
       "      <th>DHH</th>\n",
       "      <th>CYSLTR1</th>\n",
       "      <th>ZNF268</th>\n",
       "      <th>COL23A1</th>\n",
       "      <th>MEDAG</th>\n",
       "    </tr>\n",
       "  </thead>\n",
       "  <tbody>\n",
       "    <tr>\n",
       "      <th>hsa04010</th>\n",
       "      <td>-0.0</td>\n",
       "      <td>0.158690</td>\n",
       "      <td>-0.394318</td>\n",
       "      <td>0.048283</td>\n",
       "      <td>-0.201953</td>\n",
       "      <td>-0.790005</td>\n",
       "      <td>0.0</td>\n",
       "      <td>-0.165628</td>\n",
       "      <td>-0.265260</td>\n",
       "      <td>-0.406883</td>\n",
       "      <td>...</td>\n",
       "      <td>0.0</td>\n",
       "      <td>0.0</td>\n",
       "      <td>0.0</td>\n",
       "      <td>0.0</td>\n",
       "      <td>0.0</td>\n",
       "      <td>0.0</td>\n",
       "      <td>0.0</td>\n",
       "      <td>0.0</td>\n",
       "      <td>0.0</td>\n",
       "      <td>0.0</td>\n",
       "    </tr>\n",
       "    <tr>\n",
       "      <th>negative</th>\n",
       "      <td>0.0</td>\n",
       "      <td>0.305709</td>\n",
       "      <td>-0.002625</td>\n",
       "      <td>-0.589600</td>\n",
       "      <td>0.533584</td>\n",
       "      <td>-0.102741</td>\n",
       "      <td>0.0</td>\n",
       "      <td>0.193306</td>\n",
       "      <td>-0.206218</td>\n",
       "      <td>-0.307823</td>\n",
       "      <td>...</td>\n",
       "      <td>0.0</td>\n",
       "      <td>0.0</td>\n",
       "      <td>0.0</td>\n",
       "      <td>0.0</td>\n",
       "      <td>0.0</td>\n",
       "      <td>0.0</td>\n",
       "      <td>0.0</td>\n",
       "      <td>0.0</td>\n",
       "      <td>0.0</td>\n",
       "      <td>0.0</td>\n",
       "    </tr>\n",
       "    <tr>\n",
       "      <th>negative</th>\n",
       "      <td>0.0</td>\n",
       "      <td>0.029672</td>\n",
       "      <td>0.094166</td>\n",
       "      <td>-0.203532</td>\n",
       "      <td>-0.054745</td>\n",
       "      <td>0.267907</td>\n",
       "      <td>-0.0</td>\n",
       "      <td>-0.283995</td>\n",
       "      <td>-0.284301</td>\n",
       "      <td>0.457806</td>\n",
       "      <td>...</td>\n",
       "      <td>0.0</td>\n",
       "      <td>0.0</td>\n",
       "      <td>0.0</td>\n",
       "      <td>0.0</td>\n",
       "      <td>0.0</td>\n",
       "      <td>0.0</td>\n",
       "      <td>0.0</td>\n",
       "      <td>0.0</td>\n",
       "      <td>0.0</td>\n",
       "      <td>0.0</td>\n",
       "    </tr>\n",
       "    <tr>\n",
       "      <th>negative</th>\n",
       "      <td>0.0</td>\n",
       "      <td>-0.380300</td>\n",
       "      <td>0.640951</td>\n",
       "      <td>0.198824</td>\n",
       "      <td>0.171792</td>\n",
       "      <td>-0.218459</td>\n",
       "      <td>-0.0</td>\n",
       "      <td>-0.328153</td>\n",
       "      <td>0.171313</td>\n",
       "      <td>-0.475737</td>\n",
       "      <td>...</td>\n",
       "      <td>0.0</td>\n",
       "      <td>0.0</td>\n",
       "      <td>0.0</td>\n",
       "      <td>0.0</td>\n",
       "      <td>0.0</td>\n",
       "      <td>0.0</td>\n",
       "      <td>0.0</td>\n",
       "      <td>0.0</td>\n",
       "      <td>0.0</td>\n",
       "      <td>0.0</td>\n",
       "    </tr>\n",
       "    <tr>\n",
       "      <th>hsa04010</th>\n",
       "      <td>0.0</td>\n",
       "      <td>-0.045509</td>\n",
       "      <td>-0.015171</td>\n",
       "      <td>0.203484</td>\n",
       "      <td>0.123955</td>\n",
       "      <td>0.281097</td>\n",
       "      <td>0.0</td>\n",
       "      <td>-0.224586</td>\n",
       "      <td>0.432370</td>\n",
       "      <td>0.108690</td>\n",
       "      <td>...</td>\n",
       "      <td>0.0</td>\n",
       "      <td>0.0</td>\n",
       "      <td>0.0</td>\n",
       "      <td>0.0</td>\n",
       "      <td>0.0</td>\n",
       "      <td>0.0</td>\n",
       "      <td>0.0</td>\n",
       "      <td>0.0</td>\n",
       "      <td>0.0</td>\n",
       "      <td>0.0</td>\n",
       "    </tr>\n",
       "  </tbody>\n",
       "</table>\n",
       "<p>5 rows × 16349 columns</p>\n",
       "</div>"
      ],
      "text/plain": [
       "          ZNF91     NDEL1    ELAVL1     SUMO1     SUMO3     CHMP5  UBC  \\\n",
       "hsa04010   -0.0  0.158690 -0.394318  0.048283 -0.201953 -0.790005  0.0   \n",
       "negative    0.0  0.305709 -0.002625 -0.589600  0.533584 -0.102741  0.0   \n",
       "negative    0.0  0.029672  0.094166 -0.203532 -0.054745  0.267907 -0.0   \n",
       "negative    0.0 -0.380300  0.640951  0.198824  0.171792 -0.218459 -0.0   \n",
       "hsa04010    0.0 -0.045509 -0.015171  0.203484  0.123955  0.281097  0.0   \n",
       "\n",
       "               HTT      E2F4      ACP5  ...    SPANXN4  ZNF605  SERPINB10  \\\n",
       "hsa04010 -0.165628 -0.265260 -0.406883  ...        0.0     0.0        0.0   \n",
       "negative  0.193306 -0.206218 -0.307823  ...        0.0     0.0        0.0   \n",
       "negative -0.283995 -0.284301  0.457806  ...        0.0     0.0        0.0   \n",
       "negative -0.328153  0.171313 -0.475737  ...        0.0     0.0        0.0   \n",
       "hsa04010 -0.224586  0.432370  0.108690  ...        0.0     0.0        0.0   \n",
       "\n",
       "          ANKAR  RRH  DHH  CYSLTR1  ZNF268  COL23A1  MEDAG  \n",
       "hsa04010    0.0  0.0  0.0      0.0     0.0      0.0    0.0  \n",
       "negative    0.0  0.0  0.0      0.0     0.0      0.0    0.0  \n",
       "negative    0.0  0.0  0.0      0.0     0.0      0.0    0.0  \n",
       "negative    0.0  0.0  0.0      0.0     0.0      0.0    0.0  \n",
       "hsa04010    0.0  0.0  0.0      0.0     0.0      0.0    0.0  \n",
       "\n",
       "[5 rows x 16349 columns]"
      ]
     },
     "execution_count": 14,
     "metadata": {},
     "output_type": "execute_result"
    }
   ],
   "source": [
    "synthetic = pd.read_csv('synthetic_proteomics/generated_data/ludwig_svd_normals_gaussian_mixture/hsa04010_inbiomap_exp.csv', index_col=0)\n",
    "synthetic.head()"
   ]
  },
  {
   "cell_type": "markdown",
   "metadata": {},
   "source": [
    "### ii. Get the means for each class"
   ]
  },
  {
   "cell_type": "code",
   "execution_count": 15,
   "metadata": {
    "collapsed": true
   },
   "outputs": [],
   "source": [
    "hsa04010 = synthetic.loc['hsa04010']\n",
    "negative = synthetic.loc['negative']"
   ]
  },
  {
   "cell_type": "code",
   "execution_count": 16,
   "metadata": {
    "collapsed": true
   },
   "outputs": [],
   "source": [
    "hsa04010_mean = hsa04010.mean()\n",
    "negative_mean = negative.mean()"
   ]
  },
  {
   "cell_type": "markdown",
   "metadata": {},
   "source": [
    "### iii. Compute Distance"
   ]
  },
  {
   "cell_type": "code",
   "execution_count": 17,
   "metadata": {
    "collapsed": false
   },
   "outputs": [
    {
     "data": {
      "text/plain": [
       "7.969267019495971"
      ]
     },
     "execution_count": 17,
     "metadata": {},
     "output_type": "execute_result"
    }
   ],
   "source": [
    "distance.euclidean(hsa04010_mean, negative_mean)"
   ]
  }
 ],
 "metadata": {
  "kernelspec": {
   "display_name": "Python 3",
   "language": "python",
   "name": "python3"
  },
  "language_info": {
   "codemirror_mode": {
    "name": "ipython",
    "version": 3
   },
   "file_extension": ".py",
   "mimetype": "text/x-python",
   "name": "python",
   "nbconvert_exporter": "python",
   "pygments_lexer": "ipython3",
   "version": "3.6.1"
  }
 },
 "nbformat": 4,
 "nbformat_minor": 2
}
