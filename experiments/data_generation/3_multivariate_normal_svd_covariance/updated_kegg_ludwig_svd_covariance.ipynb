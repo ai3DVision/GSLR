{
 "cells": [
  {
   "cell_type": "markdown",
   "metadata": {
    "deletable": true,
    "editable": true
   },
   "source": [
    "# Synthetic Data Generation Strategy 5: Upsampling selected KEGG Pathways *with* Ludwig's Covariance sampler\n",
    "\n",
    "\n",
    "## Outline:\n",
    "\n",
    "1.  Get means/variances from empirical data\n",
    "2.  Use SVD trick from Ludwig to sample new 'regular' points.\n",
    "3.  Get pathway genes from KEGG\n",
    "4.  Resample the means for nodes in the pathway (\"dysregulate\" a subset of those nodes)\n",
    "5.  Use SVD trick to sample new 'dysregulated' points."
   ]
  },
  {
   "cell_type": "code",
   "execution_count": 1,
   "metadata": {
    "collapsed": false,
    "deletable": true,
    "editable": true
   },
   "outputs": [
    {
     "name": "stdout",
     "output_type": "stream",
     "text": [
      "Populating the interactive namespace from numpy and matplotlib\n"
     ]
    }
   ],
   "source": [
    "%pylab inline\n",
    "import numpy as np\n",
    "import pandas as pd\n",
    "import pickle as pkl\n",
    "\n",
    "from sklearn.preprocessing import StandardScaler\n",
    "from sklearn.decomposition import PCA"
   ]
  },
  {
   "cell_type": "markdown",
   "metadata": {
    "deletable": true,
    "editable": true
   },
   "source": [
    "# 1. Get means and variances of empirical data\n",
    "\n",
    "Let's use the Ovarian cancer data since it's nicely compact. We'll use the Experimental InBioMap PPI. "
   ]
  },
  {
   "cell_type": "code",
   "execution_count": 2,
   "metadata": {
    "collapsed": false,
    "deletable": true,
    "editable": true
   },
   "outputs": [
    {
     "data": {
      "text/html": [
       "<div>\n",
       "<style>\n",
       "    .dataframe thead tr:only-child th {\n",
       "        text-align: right;\n",
       "    }\n",
       "\n",
       "    .dataframe thead th {\n",
       "        text-align: left;\n",
       "    }\n",
       "\n",
       "    .dataframe tbody tr th {\n",
       "        vertical-align: top;\n",
       "    }\n",
       "</style>\n",
       "<table border=\"1\" class=\"dataframe\">\n",
       "  <thead>\n",
       "    <tr style=\"text-align: right;\">\n",
       "      <th></th>\n",
       "      <th>ZNF91</th>\n",
       "      <th>NDEL1</th>\n",
       "      <th>ELAVL1</th>\n",
       "      <th>SUMO1</th>\n",
       "      <th>SUMO3</th>\n",
       "      <th>CHMP5</th>\n",
       "      <th>UBC</th>\n",
       "      <th>HTT</th>\n",
       "      <th>E2F4</th>\n",
       "      <th>ACP5</th>\n",
       "      <th>...</th>\n",
       "      <th>SPANXN4</th>\n",
       "      <th>ZNF605</th>\n",
       "      <th>SERPINB10</th>\n",
       "      <th>ANKAR</th>\n",
       "      <th>RRH</th>\n",
       "      <th>DHH</th>\n",
       "      <th>CYSLTR1</th>\n",
       "      <th>ZNF268</th>\n",
       "      <th>COL23A1</th>\n",
       "      <th>MEDAG</th>\n",
       "    </tr>\n",
       "  </thead>\n",
       "  <tbody>\n",
       "    <tr>\n",
       "      <th>PNNL-TCGA-09-1664</th>\n",
       "      <td>0.0</td>\n",
       "      <td>-0.119</td>\n",
       "      <td>-0.1880</td>\n",
       "      <td>0.5710</td>\n",
       "      <td>-0.224000</td>\n",
       "      <td>0.3320</td>\n",
       "      <td>0.0</td>\n",
       "      <td>-0.2160</td>\n",
       "      <td>0.205</td>\n",
       "      <td>0.000</td>\n",
       "      <td>...</td>\n",
       "      <td>0.0</td>\n",
       "      <td>0.0</td>\n",
       "      <td>0.0</td>\n",
       "      <td>0.0</td>\n",
       "      <td>0.0</td>\n",
       "      <td>0.0</td>\n",
       "      <td>0.0</td>\n",
       "      <td>0.0</td>\n",
       "      <td>0.0</td>\n",
       "      <td>0.0</td>\n",
       "    </tr>\n",
       "    <tr>\n",
       "      <th>PNNL-TCGA-13-1484</th>\n",
       "      <td>0.0</td>\n",
       "      <td>0.000</td>\n",
       "      <td>-0.1210</td>\n",
       "      <td>-1.4500</td>\n",
       "      <td>0.079000</td>\n",
       "      <td>0.1030</td>\n",
       "      <td>0.0</td>\n",
       "      <td>-0.9750</td>\n",
       "      <td>0.000</td>\n",
       "      <td>0.175</td>\n",
       "      <td>...</td>\n",
       "      <td>0.0</td>\n",
       "      <td>0.0</td>\n",
       "      <td>0.0</td>\n",
       "      <td>0.0</td>\n",
       "      <td>0.0</td>\n",
       "      <td>0.0</td>\n",
       "      <td>0.0</td>\n",
       "      <td>0.0</td>\n",
       "      <td>0.0</td>\n",
       "      <td>0.0</td>\n",
       "    </tr>\n",
       "    <tr>\n",
       "      <th>PNNL-TCGA-13-1488</th>\n",
       "      <td>0.0</td>\n",
       "      <td>0.000</td>\n",
       "      <td>-0.2190</td>\n",
       "      <td>-0.0765</td>\n",
       "      <td>-1.340000</td>\n",
       "      <td>-0.4200</td>\n",
       "      <td>0.0</td>\n",
       "      <td>0.0158</td>\n",
       "      <td>0.000</td>\n",
       "      <td>0.000</td>\n",
       "      <td>...</td>\n",
       "      <td>0.0</td>\n",
       "      <td>0.0</td>\n",
       "      <td>0.0</td>\n",
       "      <td>0.0</td>\n",
       "      <td>0.0</td>\n",
       "      <td>0.0</td>\n",
       "      <td>0.0</td>\n",
       "      <td>0.0</td>\n",
       "      <td>0.0</td>\n",
       "      <td>0.0</td>\n",
       "    </tr>\n",
       "    <tr>\n",
       "      <th>PNNL-TCGA-13-1489</th>\n",
       "      <td>0.0</td>\n",
       "      <td>0.000</td>\n",
       "      <td>0.2360</td>\n",
       "      <td>0.7490</td>\n",
       "      <td>0.107000</td>\n",
       "      <td>-0.0168</td>\n",
       "      <td>0.0</td>\n",
       "      <td>-0.1470</td>\n",
       "      <td>0.000</td>\n",
       "      <td>0.000</td>\n",
       "      <td>...</td>\n",
       "      <td>0.0</td>\n",
       "      <td>0.0</td>\n",
       "      <td>0.0</td>\n",
       "      <td>0.0</td>\n",
       "      <td>0.0</td>\n",
       "      <td>0.0</td>\n",
       "      <td>0.0</td>\n",
       "      <td>0.0</td>\n",
       "      <td>0.0</td>\n",
       "      <td>0.0</td>\n",
       "    </tr>\n",
       "    <tr>\n",
       "      <th>PNNL-TCGA-13-1494</th>\n",
       "      <td>0.0</td>\n",
       "      <td>0.433</td>\n",
       "      <td>0.0158</td>\n",
       "      <td>-0.2100</td>\n",
       "      <td>0.000859</td>\n",
       "      <td>-0.5270</td>\n",
       "      <td>0.0</td>\n",
       "      <td>0.0926</td>\n",
       "      <td>0.000</td>\n",
       "      <td>0.000</td>\n",
       "      <td>...</td>\n",
       "      <td>0.0</td>\n",
       "      <td>0.0</td>\n",
       "      <td>0.0</td>\n",
       "      <td>0.0</td>\n",
       "      <td>0.0</td>\n",
       "      <td>0.0</td>\n",
       "      <td>0.0</td>\n",
       "      <td>0.0</td>\n",
       "      <td>0.0</td>\n",
       "      <td>0.0</td>\n",
       "    </tr>\n",
       "  </tbody>\n",
       "</table>\n",
       "<p>5 rows × 16349 columns</p>\n",
       "</div>"
      ],
      "text/plain": [
       "                   ZNF91  NDEL1  ELAVL1   SUMO1     SUMO3   CHMP5  UBC  \\\n",
       "PNNL-TCGA-09-1664    0.0 -0.119 -0.1880  0.5710 -0.224000  0.3320  0.0   \n",
       "PNNL-TCGA-13-1484    0.0  0.000 -0.1210 -1.4500  0.079000  0.1030  0.0   \n",
       "PNNL-TCGA-13-1488    0.0  0.000 -0.2190 -0.0765 -1.340000 -0.4200  0.0   \n",
       "PNNL-TCGA-13-1489    0.0  0.000  0.2360  0.7490  0.107000 -0.0168  0.0   \n",
       "PNNL-TCGA-13-1494    0.0  0.433  0.0158 -0.2100  0.000859 -0.5270  0.0   \n",
       "\n",
       "                      HTT   E2F4   ACP5  ...    SPANXN4  ZNF605  SERPINB10  \\\n",
       "PNNL-TCGA-09-1664 -0.2160  0.205  0.000  ...        0.0     0.0        0.0   \n",
       "PNNL-TCGA-13-1484 -0.9750  0.000  0.175  ...        0.0     0.0        0.0   \n",
       "PNNL-TCGA-13-1488  0.0158  0.000  0.000  ...        0.0     0.0        0.0   \n",
       "PNNL-TCGA-13-1489 -0.1470  0.000  0.000  ...        0.0     0.0        0.0   \n",
       "PNNL-TCGA-13-1494  0.0926  0.000  0.000  ...        0.0     0.0        0.0   \n",
       "\n",
       "                   ANKAR  RRH  DHH  CYSLTR1  ZNF268  COL23A1  MEDAG  \n",
       "PNNL-TCGA-09-1664    0.0  0.0  0.0      0.0     0.0      0.0    0.0  \n",
       "PNNL-TCGA-13-1484    0.0  0.0  0.0      0.0     0.0      0.0    0.0  \n",
       "PNNL-TCGA-13-1488    0.0  0.0  0.0      0.0     0.0      0.0    0.0  \n",
       "PNNL-TCGA-13-1489    0.0  0.0  0.0      0.0     0.0      0.0    0.0  \n",
       "PNNL-TCGA-13-1494    0.0  0.0  0.0      0.0     0.0      0.0    0.0  \n",
       "\n",
       "[5 rows x 16349 columns]"
      ]
     },
     "execution_count": 2,
     "metadata": {},
     "output_type": "execute_result"
    }
   ],
   "source": [
    "ovarian = pd.read_csv('/Users/alex/Documents/proteomics/data_preparation/proteomics_data/ovarian_inbiomap_exp.tsv', index_col=0)\n",
    "\n",
    "ovarian.head()"
   ]
  },
  {
   "cell_type": "code",
   "execution_count": 3,
   "metadata": {
    "collapsed": false,
    "deletable": true,
    "editable": true
   },
   "outputs": [],
   "source": [
    "means = ovarian.mean(axis=0)\n",
    "variances = ovarian.var(axis=0)"
   ]
  },
  {
   "cell_type": "markdown",
   "metadata": {
    "deletable": true,
    "editable": true
   },
   "source": [
    "# 2. Sample negative examples"
   ]
  },
  {
   "cell_type": "markdown",
   "metadata": {
    "collapsed": true,
    "deletable": true,
    "editable": true
   },
   "source": [
    "## 2.1 Apply a standard scaling\n",
    "We don't do this anymore, it's bundled into  Ludwig's covariance sampler."
   ]
  },
  {
   "cell_type": "markdown",
   "metadata": {
    "deletable": true,
    "editable": true
   },
   "source": [
    "## 2.2 Ludwig's Covariance Sampler"
   ]
  },
  {
   "cell_type": "code",
   "execution_count": 4,
   "metadata": {
    "collapsed": true,
    "deletable": true,
    "editable": true
   },
   "outputs": [],
   "source": [
    "# data is n x d, where n is the number of samples and d the dimension\n",
    "def sample_cov(number_of_samples_desired, data):\n",
    "    n, d = data.shape\n",
    "    mean = np.mean(data, axis=0)\n",
    "    _, S, V = np.linalg.svd((data - mean) / math.sqrt(n), full_matrices=False)\n",
    "    randomness = np.random.randn(number_of_samples_desired, min(n, d))\n",
    "    return np.dot(randomness, np.dot(np.diag(S), V))"
   ]
  },
  {
   "cell_type": "markdown",
   "metadata": {
    "deletable": true,
    "editable": true
   },
   "source": [
    "## 2.3 Sample from the same distribution as the input (we call these \"negatives\")"
   ]
  },
  {
   "cell_type": "code",
   "execution_count": 5,
   "metadata": {
    "collapsed": false,
    "deletable": true,
    "editable": true
   },
   "outputs": [
    {
     "data": {
      "text/html": [
       "<div>\n",
       "<style>\n",
       "    .dataframe thead tr:only-child th {\n",
       "        text-align: right;\n",
       "    }\n",
       "\n",
       "    .dataframe thead th {\n",
       "        text-align: left;\n",
       "    }\n",
       "\n",
       "    .dataframe tbody tr th {\n",
       "        vertical-align: top;\n",
       "    }\n",
       "</style>\n",
       "<table border=\"1\" class=\"dataframe\">\n",
       "  <thead>\n",
       "    <tr style=\"text-align: right;\">\n",
       "      <th></th>\n",
       "      <th>ZNF91</th>\n",
       "      <th>NDEL1</th>\n",
       "      <th>ELAVL1</th>\n",
       "      <th>SUMO1</th>\n",
       "      <th>SUMO3</th>\n",
       "      <th>CHMP5</th>\n",
       "      <th>UBC</th>\n",
       "      <th>HTT</th>\n",
       "      <th>E2F4</th>\n",
       "      <th>ACP5</th>\n",
       "      <th>...</th>\n",
       "      <th>SPANXN4</th>\n",
       "      <th>ZNF605</th>\n",
       "      <th>SERPINB10</th>\n",
       "      <th>ANKAR</th>\n",
       "      <th>RRH</th>\n",
       "      <th>DHH</th>\n",
       "      <th>CYSLTR1</th>\n",
       "      <th>ZNF268</th>\n",
       "      <th>COL23A1</th>\n",
       "      <th>MEDAG</th>\n",
       "    </tr>\n",
       "  </thead>\n",
       "  <tbody>\n",
       "    <tr>\n",
       "      <th>negative</th>\n",
       "      <td>-0.0</td>\n",
       "      <td>-0.027707</td>\n",
       "      <td>-0.241953</td>\n",
       "      <td>-0.791363</td>\n",
       "      <td>-0.250398</td>\n",
       "      <td>-0.020193</td>\n",
       "      <td>-0.0</td>\n",
       "      <td>-0.741158</td>\n",
       "      <td>-0.234180</td>\n",
       "      <td>0.139104</td>\n",
       "      <td>...</td>\n",
       "      <td>0.0</td>\n",
       "      <td>0.0</td>\n",
       "      <td>0.0</td>\n",
       "      <td>0.0</td>\n",
       "      <td>0.0</td>\n",
       "      <td>0.0</td>\n",
       "      <td>0.0</td>\n",
       "      <td>0.0</td>\n",
       "      <td>0.0</td>\n",
       "      <td>0.0</td>\n",
       "    </tr>\n",
       "    <tr>\n",
       "      <th>negative</th>\n",
       "      <td>0.0</td>\n",
       "      <td>-0.074602</td>\n",
       "      <td>-0.258861</td>\n",
       "      <td>0.041920</td>\n",
       "      <td>-0.855773</td>\n",
       "      <td>0.026916</td>\n",
       "      <td>-0.0</td>\n",
       "      <td>-0.120745</td>\n",
       "      <td>-0.009547</td>\n",
       "      <td>0.231819</td>\n",
       "      <td>...</td>\n",
       "      <td>0.0</td>\n",
       "      <td>0.0</td>\n",
       "      <td>0.0</td>\n",
       "      <td>0.0</td>\n",
       "      <td>0.0</td>\n",
       "      <td>0.0</td>\n",
       "      <td>0.0</td>\n",
       "      <td>0.0</td>\n",
       "      <td>0.0</td>\n",
       "      <td>0.0</td>\n",
       "    </tr>\n",
       "    <tr>\n",
       "      <th>negative</th>\n",
       "      <td>0.0</td>\n",
       "      <td>0.587159</td>\n",
       "      <td>0.351837</td>\n",
       "      <td>1.271397</td>\n",
       "      <td>-0.119095</td>\n",
       "      <td>-0.565970</td>\n",
       "      <td>0.0</td>\n",
       "      <td>0.039232</td>\n",
       "      <td>-0.428672</td>\n",
       "      <td>0.092480</td>\n",
       "      <td>...</td>\n",
       "      <td>0.0</td>\n",
       "      <td>0.0</td>\n",
       "      <td>0.0</td>\n",
       "      <td>0.0</td>\n",
       "      <td>0.0</td>\n",
       "      <td>0.0</td>\n",
       "      <td>0.0</td>\n",
       "      <td>0.0</td>\n",
       "      <td>0.0</td>\n",
       "      <td>0.0</td>\n",
       "    </tr>\n",
       "    <tr>\n",
       "      <th>negative</th>\n",
       "      <td>-0.0</td>\n",
       "      <td>-0.201352</td>\n",
       "      <td>-0.101680</td>\n",
       "      <td>-1.160840</td>\n",
       "      <td>1.054695</td>\n",
       "      <td>0.520418</td>\n",
       "      <td>0.0</td>\n",
       "      <td>-0.180909</td>\n",
       "      <td>0.572704</td>\n",
       "      <td>-0.878204</td>\n",
       "      <td>...</td>\n",
       "      <td>0.0</td>\n",
       "      <td>0.0</td>\n",
       "      <td>0.0</td>\n",
       "      <td>0.0</td>\n",
       "      <td>0.0</td>\n",
       "      <td>0.0</td>\n",
       "      <td>0.0</td>\n",
       "      <td>0.0</td>\n",
       "      <td>0.0</td>\n",
       "      <td>0.0</td>\n",
       "    </tr>\n",
       "    <tr>\n",
       "      <th>negative</th>\n",
       "      <td>-0.0</td>\n",
       "      <td>-0.113378</td>\n",
       "      <td>-0.464057</td>\n",
       "      <td>-0.676378</td>\n",
       "      <td>-0.583622</td>\n",
       "      <td>0.006282</td>\n",
       "      <td>-0.0</td>\n",
       "      <td>0.035001</td>\n",
       "      <td>0.560040</td>\n",
       "      <td>-0.056646</td>\n",
       "      <td>...</td>\n",
       "      <td>0.0</td>\n",
       "      <td>0.0</td>\n",
       "      <td>0.0</td>\n",
       "      <td>0.0</td>\n",
       "      <td>0.0</td>\n",
       "      <td>0.0</td>\n",
       "      <td>0.0</td>\n",
       "      <td>0.0</td>\n",
       "      <td>0.0</td>\n",
       "      <td>0.0</td>\n",
       "    </tr>\n",
       "  </tbody>\n",
       "</table>\n",
       "<p>5 rows × 16349 columns</p>\n",
       "</div>"
      ],
      "text/plain": [
       "          ZNF91     NDEL1    ELAVL1     SUMO1     SUMO3     CHMP5  UBC  \\\n",
       "negative   -0.0 -0.027707 -0.241953 -0.791363 -0.250398 -0.020193 -0.0   \n",
       "negative    0.0 -0.074602 -0.258861  0.041920 -0.855773  0.026916 -0.0   \n",
       "negative    0.0  0.587159  0.351837  1.271397 -0.119095 -0.565970  0.0   \n",
       "negative   -0.0 -0.201352 -0.101680 -1.160840  1.054695  0.520418  0.0   \n",
       "negative   -0.0 -0.113378 -0.464057 -0.676378 -0.583622  0.006282 -0.0   \n",
       "\n",
       "               HTT      E2F4      ACP5  ...    SPANXN4  ZNF605  SERPINB10  \\\n",
       "negative -0.741158 -0.234180  0.139104  ...        0.0     0.0        0.0   \n",
       "negative -0.120745 -0.009547  0.231819  ...        0.0     0.0        0.0   \n",
       "negative  0.039232 -0.428672  0.092480  ...        0.0     0.0        0.0   \n",
       "negative -0.180909  0.572704 -0.878204  ...        0.0     0.0        0.0   \n",
       "negative  0.035001  0.560040 -0.056646  ...        0.0     0.0        0.0   \n",
       "\n",
       "          ANKAR  RRH  DHH  CYSLTR1  ZNF268  COL23A1  MEDAG  \n",
       "negative    0.0  0.0  0.0      0.0     0.0      0.0    0.0  \n",
       "negative    0.0  0.0  0.0      0.0     0.0      0.0    0.0  \n",
       "negative    0.0  0.0  0.0      0.0     0.0      0.0    0.0  \n",
       "negative    0.0  0.0  0.0      0.0     0.0      0.0    0.0  \n",
       "negative    0.0  0.0  0.0      0.0     0.0      0.0    0.0  \n",
       "\n",
       "[5 rows x 16349 columns]"
      ]
     },
     "execution_count": 5,
     "metadata": {},
     "output_type": "execute_result"
    }
   ],
   "source": [
    "negatives = sample_cov(100, ovarian)\n",
    "negatives = np.around(negatives + means.values, 6)\n",
    "negatives = pd.DataFrame(negatives, columns=ovarian.columns, index=['negative']*100)\n",
    "negatives.head()"
   ]
  },
  {
   "cell_type": "markdown",
   "metadata": {
    "deletable": true,
    "editable": true
   },
   "source": [
    "# 3. Retrieve KEGG pathways we'd like to \"dysregulate\" for our positive sets\n",
    "\n",
    "(pathways downloaded and normalized in sibling notebook)"
   ]
  },
  {
   "cell_type": "markdown",
   "metadata": {
    "deletable": true,
    "editable": true
   },
   "source": [
    "## 3.1 Load pathways dataframe"
   ]
  },
  {
   "cell_type": "code",
   "execution_count": 7,
   "metadata": {
    "collapsed": false,
    "deletable": true,
    "editable": true
   },
   "outputs": [
    {
     "data": {
      "text/html": [
       "<div>\n",
       "<style>\n",
       "    .dataframe thead tr:only-child th {\n",
       "        text-align: right;\n",
       "    }\n",
       "\n",
       "    .dataframe thead th {\n",
       "        text-align: left;\n",
       "    }\n",
       "\n",
       "    .dataframe tbody tr th {\n",
       "        vertical-align: top;\n",
       "    }\n",
       "</style>\n",
       "<table border=\"1\" class=\"dataframe\">\n",
       "  <thead>\n",
       "    <tr style=\"text-align: right;\">\n",
       "      <th></th>\n",
       "      <th></th>\n",
       "      <th></th>\n",
       "      <th>genes</th>\n",
       "      <th>name</th>\n",
       "    </tr>\n",
       "    <tr>\n",
       "      <th>class</th>\n",
       "      <th>subclass</th>\n",
       "      <th>id</th>\n",
       "      <th></th>\n",
       "      <th></th>\n",
       "    </tr>\n",
       "  </thead>\n",
       "  <tbody>\n",
       "    <tr>\n",
       "      <th rowspan=\"5\" valign=\"top\">Cellular Processes</th>\n",
       "      <th rowspan=\"5\" valign=\"top\">Cell growth and death</th>\n",
       "      <th>hsa04110</th>\n",
       "      <td>[CCND1, CCND2, CCND3, CDK4, CDK6, RB1, RBL1, R...</td>\n",
       "      <td>Cell cycle</td>\n",
       "    </tr>\n",
       "    <tr>\n",
       "      <th>hsa04114</th>\n",
       "      <td>[INS, IGF1, IGF1R, PGR, AR, ADCY1, ADCY2, ADCY...</td>\n",
       "      <td>Oocyte meiosis</td>\n",
       "    </tr>\n",
       "    <tr>\n",
       "      <th>hsa04115</th>\n",
       "      <td>[ATM, CHEK2, ATR, CHEK1, GORAB, CDKN2A, MDM2, ...</td>\n",
       "      <td>p53 signaling pathway</td>\n",
       "    </tr>\n",
       "    <tr>\n",
       "      <th>hsa04210</th>\n",
       "      <td>[TNFSF10, TNFRSF10A, TNFRSF10B, TNFRSF10C, TNF...</td>\n",
       "      <td>Apoptosis</td>\n",
       "    </tr>\n",
       "    <tr>\n",
       "      <th>hsa04215</th>\n",
       "      <td>[TNFRSF1A, FADD, CASP8, CASP7, CASP3, BID, BCL...</td>\n",
       "      <td>Apoptosis - multiple species</td>\n",
       "    </tr>\n",
       "  </tbody>\n",
       "</table>\n",
       "</div>"
      ],
      "text/plain": [
       "                                                                                                genes  \\\n",
       "class              subclass               id                                                            \n",
       "Cellular Processes  Cell growth and death hsa04110  [CCND1, CCND2, CCND3, CDK4, CDK6, RB1, RBL1, R...   \n",
       "                                          hsa04114  [INS, IGF1, IGF1R, PGR, AR, ADCY1, ADCY2, ADCY...   \n",
       "                                          hsa04115  [ATM, CHEK2, ATR, CHEK1, GORAB, CDKN2A, MDM2, ...   \n",
       "                                          hsa04210  [TNFSF10, TNFRSF10A, TNFRSF10B, TNFRSF10C, TNF...   \n",
       "                                          hsa04215  [TNFRSF1A, FADD, CASP8, CASP7, CASP3, BID, BCL...   \n",
       "\n",
       "                                                                            name  \n",
       "class              subclass               id                                      \n",
       "Cellular Processes  Cell growth and death hsa04110                    Cell cycle  \n",
       "                                          hsa04114                Oocyte meiosis  \n",
       "                                          hsa04115         p53 signaling pathway  \n",
       "                                          hsa04210                     Apoptosis  \n",
       "                                          hsa04215  Apoptosis - multiple species  "
      ]
     },
     "execution_count": 7,
     "metadata": {},
     "output_type": "execute_result"
    }
   ],
   "source": [
    "pathways = pd.read_pickle('/Users/alex/Documents/proteomics/synthetic_proteomics/data_generation/KEGG_df.pickle')\n",
    "pathways.head()"
   ]
  },
  {
   "cell_type": "code",
   "execution_count": 8,
   "metadata": {
    "collapsed": false,
    "deletable": true,
    "editable": true
   },
   "outputs": [
    {
     "data": {
      "text/plain": [
       "array(['Cellular Processes', 'Environmental Information Processing',\n",
       "       'Genetic Information Processing', 'Human Diseases', 'Metabolism',\n",
       "       'Organismal Systems'], dtype=object)"
      ]
     },
     "execution_count": 8,
     "metadata": {},
     "output_type": "execute_result"
    }
   ],
   "source": [
    "np.unique(pathways.index.get_level_values(0))"
   ]
  },
  {
   "cell_type": "markdown",
   "metadata": {
    "deletable": true,
    "editable": true
   },
   "source": [
    "## 3.2 Remove metabolic pathways"
   ]
  },
  {
   "cell_type": "code",
   "execution_count": 9,
   "metadata": {
    "collapsed": true,
    "deletable": true,
    "editable": true
   },
   "outputs": [],
   "source": [
    "pathways = pathways.drop('Metabolism', level=0)"
   ]
  },
  {
   "cell_type": "code",
   "execution_count": 10,
   "metadata": {
    "collapsed": false,
    "deletable": true,
    "editable": true
   },
   "outputs": [
    {
     "data": {
      "text/plain": [
       "array(['Cellular Processes', 'Environmental Information Processing',\n",
       "       'Genetic Information Processing', 'Human Diseases',\n",
       "       'Organismal Systems'], dtype=object)"
      ]
     },
     "execution_count": 10,
     "metadata": {},
     "output_type": "execute_result"
    }
   ],
   "source": [
    "np.unique(pathways.index.get_level_values(0))"
   ]
  },
  {
   "cell_type": "markdown",
   "metadata": {
    "deletable": true,
    "editable": true
   },
   "source": [
    "# 4. Update the pathway means by resampling."
   ]
  },
  {
   "cell_type": "code",
   "execution_count": 12,
   "metadata": {
    "collapsed": false,
    "deletable": true,
    "editable": true
   },
   "outputs": [],
   "source": [
    "pathway_id = \"hsa04110\"\n",
    "pathway_genes = pathways.loc[pd.IndexSlice[:,:,[pathway_id]], ['genes']].values[0][0]"
   ]
  },
  {
   "cell_type": "code",
   "execution_count": 13,
   "metadata": {
    "collapsed": false,
    "deletable": true,
    "editable": true,
    "scrolled": true
   },
   "outputs": [
    {
     "data": {
      "text/plain": [
       "ZNF91     0.000000\n",
       "NDEL1     0.010325\n",
       "ELAVL1    0.031412\n",
       "SUMO1     0.126737\n",
       "SUMO3    -0.039357\n",
       "dtype: float64"
      ]
     },
     "execution_count": 13,
     "metadata": {},
     "output_type": "execute_result"
    }
   ],
   "source": [
    "new_pathway_means = pd.Series(np.random.normal(0,variances), index=variances.index)[pathway_genes].fillna(0)\n",
    "new_means = pd.concat([means, new_pathway_means], axis=1).fillna(0).sum(axis=1).reindex(means.index)\n",
    "new_means.head()"
   ]
  },
  {
   "cell_type": "markdown",
   "metadata": {
    "deletable": true,
    "editable": true
   },
   "source": [
    "# 5. Sample positive examples"
   ]
  },
  {
   "cell_type": "code",
   "execution_count": 14,
   "metadata": {
    "collapsed": false,
    "deletable": true,
    "editable": true
   },
   "outputs": [
    {
     "data": {
      "text/html": [
       "<div>\n",
       "<style>\n",
       "    .dataframe thead tr:only-child th {\n",
       "        text-align: right;\n",
       "    }\n",
       "\n",
       "    .dataframe thead th {\n",
       "        text-align: left;\n",
       "    }\n",
       "\n",
       "    .dataframe tbody tr th {\n",
       "        vertical-align: top;\n",
       "    }\n",
       "</style>\n",
       "<table border=\"1\" class=\"dataframe\">\n",
       "  <thead>\n",
       "    <tr style=\"text-align: right;\">\n",
       "      <th></th>\n",
       "      <th>ZNF91</th>\n",
       "      <th>NDEL1</th>\n",
       "      <th>ELAVL1</th>\n",
       "      <th>SUMO1</th>\n",
       "      <th>SUMO3</th>\n",
       "      <th>CHMP5</th>\n",
       "      <th>UBC</th>\n",
       "      <th>HTT</th>\n",
       "      <th>E2F4</th>\n",
       "      <th>ACP5</th>\n",
       "      <th>...</th>\n",
       "      <th>SPANXN4</th>\n",
       "      <th>ZNF605</th>\n",
       "      <th>SERPINB10</th>\n",
       "      <th>ANKAR</th>\n",
       "      <th>RRH</th>\n",
       "      <th>DHH</th>\n",
       "      <th>CYSLTR1</th>\n",
       "      <th>ZNF268</th>\n",
       "      <th>COL23A1</th>\n",
       "      <th>MEDAG</th>\n",
       "    </tr>\n",
       "  </thead>\n",
       "  <tbody>\n",
       "    <tr>\n",
       "      <th>hsa04110</th>\n",
       "      <td>-0.0</td>\n",
       "      <td>0.289412</td>\n",
       "      <td>-0.255266</td>\n",
       "      <td>-0.224572</td>\n",
       "      <td>-0.834915</td>\n",
       "      <td>0.157898</td>\n",
       "      <td>0.0</td>\n",
       "      <td>-0.035655</td>\n",
       "      <td>0.548856</td>\n",
       "      <td>-0.121948</td>\n",
       "      <td>...</td>\n",
       "      <td>0.0</td>\n",
       "      <td>0.0</td>\n",
       "      <td>0.0</td>\n",
       "      <td>0.0</td>\n",
       "      <td>0.0</td>\n",
       "      <td>0.0</td>\n",
       "      <td>0.0</td>\n",
       "      <td>0.0</td>\n",
       "      <td>0.0</td>\n",
       "      <td>0.0</td>\n",
       "    </tr>\n",
       "    <tr>\n",
       "      <th>hsa04110</th>\n",
       "      <td>-0.0</td>\n",
       "      <td>0.015679</td>\n",
       "      <td>0.033530</td>\n",
       "      <td>-0.005626</td>\n",
       "      <td>0.105907</td>\n",
       "      <td>0.413857</td>\n",
       "      <td>-0.0</td>\n",
       "      <td>-0.520199</td>\n",
       "      <td>1.327620</td>\n",
       "      <td>-0.576041</td>\n",
       "      <td>...</td>\n",
       "      <td>0.0</td>\n",
       "      <td>0.0</td>\n",
       "      <td>0.0</td>\n",
       "      <td>0.0</td>\n",
       "      <td>0.0</td>\n",
       "      <td>0.0</td>\n",
       "      <td>0.0</td>\n",
       "      <td>0.0</td>\n",
       "      <td>0.0</td>\n",
       "      <td>0.0</td>\n",
       "    </tr>\n",
       "    <tr>\n",
       "      <th>hsa04110</th>\n",
       "      <td>-0.0</td>\n",
       "      <td>-0.047103</td>\n",
       "      <td>0.093755</td>\n",
       "      <td>-0.264099</td>\n",
       "      <td>-0.772337</td>\n",
       "      <td>0.093963</td>\n",
       "      <td>-0.0</td>\n",
       "      <td>-0.086158</td>\n",
       "      <td>0.651008</td>\n",
       "      <td>-0.665216</td>\n",
       "      <td>...</td>\n",
       "      <td>0.0</td>\n",
       "      <td>0.0</td>\n",
       "      <td>0.0</td>\n",
       "      <td>0.0</td>\n",
       "      <td>0.0</td>\n",
       "      <td>0.0</td>\n",
       "      <td>0.0</td>\n",
       "      <td>0.0</td>\n",
       "      <td>0.0</td>\n",
       "      <td>0.0</td>\n",
       "    </tr>\n",
       "    <tr>\n",
       "      <th>hsa04110</th>\n",
       "      <td>0.0</td>\n",
       "      <td>0.034222</td>\n",
       "      <td>0.022828</td>\n",
       "      <td>0.507435</td>\n",
       "      <td>1.062884</td>\n",
       "      <td>0.469328</td>\n",
       "      <td>-0.0</td>\n",
       "      <td>0.025344</td>\n",
       "      <td>1.456044</td>\n",
       "      <td>-0.149424</td>\n",
       "      <td>...</td>\n",
       "      <td>0.0</td>\n",
       "      <td>0.0</td>\n",
       "      <td>0.0</td>\n",
       "      <td>0.0</td>\n",
       "      <td>0.0</td>\n",
       "      <td>0.0</td>\n",
       "      <td>0.0</td>\n",
       "      <td>0.0</td>\n",
       "      <td>0.0</td>\n",
       "      <td>0.0</td>\n",
       "    </tr>\n",
       "    <tr>\n",
       "      <th>hsa04110</th>\n",
       "      <td>0.0</td>\n",
       "      <td>0.095778</td>\n",
       "      <td>-0.053393</td>\n",
       "      <td>-0.158899</td>\n",
       "      <td>0.696211</td>\n",
       "      <td>-0.261009</td>\n",
       "      <td>-0.0</td>\n",
       "      <td>-0.263787</td>\n",
       "      <td>0.063522</td>\n",
       "      <td>0.626228</td>\n",
       "      <td>...</td>\n",
       "      <td>0.0</td>\n",
       "      <td>0.0</td>\n",
       "      <td>0.0</td>\n",
       "      <td>0.0</td>\n",
       "      <td>0.0</td>\n",
       "      <td>0.0</td>\n",
       "      <td>0.0</td>\n",
       "      <td>0.0</td>\n",
       "      <td>0.0</td>\n",
       "      <td>0.0</td>\n",
       "    </tr>\n",
       "  </tbody>\n",
       "</table>\n",
       "<p>5 rows × 16349 columns</p>\n",
       "</div>"
      ],
      "text/plain": [
       "          ZNF91     NDEL1    ELAVL1     SUMO1     SUMO3     CHMP5  UBC  \\\n",
       "hsa04110   -0.0  0.289412 -0.255266 -0.224572 -0.834915  0.157898  0.0   \n",
       "hsa04110   -0.0  0.015679  0.033530 -0.005626  0.105907  0.413857 -0.0   \n",
       "hsa04110   -0.0 -0.047103  0.093755 -0.264099 -0.772337  0.093963 -0.0   \n",
       "hsa04110    0.0  0.034222  0.022828  0.507435  1.062884  0.469328 -0.0   \n",
       "hsa04110    0.0  0.095778 -0.053393 -0.158899  0.696211 -0.261009 -0.0   \n",
       "\n",
       "               HTT      E2F4      ACP5  ...    SPANXN4  ZNF605  SERPINB10  \\\n",
       "hsa04110 -0.035655  0.548856 -0.121948  ...        0.0     0.0        0.0   \n",
       "hsa04110 -0.520199  1.327620 -0.576041  ...        0.0     0.0        0.0   \n",
       "hsa04110 -0.086158  0.651008 -0.665216  ...        0.0     0.0        0.0   \n",
       "hsa04110  0.025344  1.456044 -0.149424  ...        0.0     0.0        0.0   \n",
       "hsa04110 -0.263787  0.063522  0.626228  ...        0.0     0.0        0.0   \n",
       "\n",
       "          ANKAR  RRH  DHH  CYSLTR1  ZNF268  COL23A1  MEDAG  \n",
       "hsa04110    0.0  0.0  0.0      0.0     0.0      0.0    0.0  \n",
       "hsa04110    0.0  0.0  0.0      0.0     0.0      0.0    0.0  \n",
       "hsa04110    0.0  0.0  0.0      0.0     0.0      0.0    0.0  \n",
       "hsa04110    0.0  0.0  0.0      0.0     0.0      0.0    0.0  \n",
       "hsa04110    0.0  0.0  0.0      0.0     0.0      0.0    0.0  \n",
       "\n",
       "[5 rows x 16349 columns]"
      ]
     },
     "execution_count": 14,
     "metadata": {},
     "output_type": "execute_result"
    }
   ],
   "source": [
    "positives = sample_cov(100, ovarian)\n",
    "positives = np.around(positives + new_means.values, 6)\n",
    "positives = pd.DataFrame(positives, columns=ovarian.columns, index=[pathway_id]*100)\n",
    "positives.head()"
   ]
  },
  {
   "cell_type": "code",
   "execution_count": 15,
   "metadata": {
    "collapsed": false,
    "deletable": true,
    "editable": true
   },
   "outputs": [],
   "source": [
    "ovarian = pd.read_csv('/Users/alex/Documents/proteomics/data_preparation/proteomics_data/ovarian_inbiomap_exp.tsv', index_col=0)\n",
    "ovarian.index = ['true'] * len(ovarian)"
   ]
  },
  {
   "cell_type": "code",
   "execution_count": 16,
   "metadata": {
    "collapsed": false,
    "deletable": true,
    "editable": true
   },
   "outputs": [],
   "source": [
    "dataset = pd.concat([ovarian, positives, negatives])\n",
    "y = dataset.index.values"
   ]
  },
  {
   "cell_type": "code",
   "execution_count": 17,
   "metadata": {
    "collapsed": false,
    "deletable": true,
    "editable": true
   },
   "outputs": [
    {
     "name": "stdout",
     "output_type": "stream",
     "text": [
      "PC 1: 8.49%   PC 2: 4.41%   \n"
     ]
    },
    {
     "data": {
      "image/png": "[encoded data removed]",
      "text/plain": [
       "<matplotlib.figure.Figure at 0x1059a3208>"
      ]
     },
     "metadata": {},
     "output_type": "display_data"
    }
   ],
   "source": [
    "pca = PCA(n_components=2)\n",
    "Y = pca.fit_transform(dataset)\n",
    "\n",
    "with plt.style.context('seaborn-whitegrid'):\n",
    "    figure(figsize=(7, 7))\n",
    "    for label, color in zip(('true','hsa04110', 'negative'), ('blue','orange', 'green')):\n",
    "        plt.scatter(Y[y==label, 0], Y[y==label, 1], label=label, c=color)\n",
    "        \n",
    "    plt.xlabel('Principal Component 1')\n",
    "    plt.ylabel('Principal Component 2')\n",
    "    plt.legend(loc='upper right',prop={'size':16})\n",
    "    plt.tight_layout()\n",
    "    print(''.join(['PC '+str(i+1)+': '+str(var*100)[:4]+'%   ' for i, var in enumerate(pca.explained_variance_ratio_)]))\n",
    "    plt.show()"
   ]
  },
  {
   "cell_type": "code",
   "execution_count": 18,
   "metadata": {
    "collapsed": false,
    "deletable": true,
    "editable": true
   },
   "outputs": [
    {
     "data": {
      "image/png": "[encoded data removed]",
      "text/plain": [
       "<matplotlib.figure.Figure at 0x105992a58>"
      ]
     },
     "metadata": {},
     "output_type": "display_data"
    }
   ],
   "source": [
    "from sklearn.manifold import TSNE\n",
    "tsne = TSNE(learning_rate=100, perplexity=100)\n",
    "Y = tsne.fit_transform(dataset)\n",
    "\n",
    "with plt.style.context('seaborn-whitegrid'):\n",
    "    figure(figsize=(7, 7))\n",
    "    for label, color in zip(('true','hsa04110', 'negative'), ('blue','orange', 'green')):\n",
    "        plt.scatter(Y[y==label, 0], Y[y==label, 1], label=label, c=color)\n",
    "        \n",
    "    plt.xlabel('TSNE Component 1')\n",
    "    plt.ylabel('TSNE Component 2')\n",
    "    plt.legend(loc='upper right',prop={'size':16})\n",
    "    plt.tight_layout()\n",
    "    plt.show()"
   ]
  },
  {
   "cell_type": "code",
   "execution_count": null,
   "metadata": {
    "collapsed": true,
    "deletable": true,
    "editable": true
   },
   "outputs": [],
   "source": []
  }
 ],
 "metadata": {
  "kernelspec": {
   "display_name": "Python 3",
   "language": "python",
   "name": "python3"
  },
  "language_info": {
   "codemirror_mode": {
    "name": "ipython",
    "version": 3
   },
   "file_extension": ".py",
   "mimetype": "text/x-python",
   "name": "python",
   "nbconvert_exporter": "python",
   "pygments_lexer": "ipython3",
   "version": "3.6.1"
  }
 },
 "nbformat": 4,
 "nbformat_minor": 1
}
