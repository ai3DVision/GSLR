{
 "cells": [
  {
   "cell_type": "markdown",
   "metadata": {
    "deletable": true,
    "editable": true
   },
   "source": [
    "# Synthetic Data Generation Strategy 2: Upsampling KEGG Pathways and sampling from a multivariate normal\n",
    "\n",
    "## Outline:\n",
    "\n",
    "1.  Get mean/covariance matrix from empirical data\n",
    "2.  Get pathway information from KEGG database\n",
    "3.  Change mean values of proteins in pathway\n",
    "4.  Randomly draw from multivariate normal distribution."
   ]
  },
  {
   "cell_type": "code",
   "execution_count": 2,
   "metadata": {
    "collapsed": false,
    "deletable": true,
    "editable": true
   },
   "outputs": [
    {
     "name": "stdout",
     "output_type": "stream",
     "text": [
      "Populating the interactive namespace from numpy and matplotlib\n"
     ]
    }
   ],
   "source": [
    "%pylab inline\n",
    "import numpy as np\n",
    "import pandas as pd\n",
    "import pickle as pkl\n",
    "\n",
    "from sklearn.covariance import GraphLasso"
   ]
  },
  {
   "cell_type": "markdown",
   "metadata": {
    "deletable": true,
    "editable": true
   },
   "source": [
    "# 1. Get mean/covariance matrix\n",
    "\n",
    "Let's use the Ovarian cancer data since it's nicely compact. We'll use the Experimental InBioMap PPI. "
   ]
  },
  {
   "cell_type": "code",
   "execution_count": 3,
   "metadata": {
    "collapsed": false,
    "deletable": true,
    "editable": true
   },
   "outputs": [
    {
     "data": {
      "text/html": [
       "<div>\n",
       "<table border=\"1\" class=\"dataframe\">\n",
       "  <thead>\n",
       "    <tr style=\"text-align: right;\">\n",
       "      <th></th>\n",
       "      <th>ZNF91</th>\n",
       "      <th>NDEL1</th>\n",
       "      <th>ELAVL1</th>\n",
       "      <th>SUMO1</th>\n",
       "      <th>SUMO3</th>\n",
       "      <th>CHMP5</th>\n",
       "      <th>UBC</th>\n",
       "      <th>HTT</th>\n",
       "      <th>E2F4</th>\n",
       "      <th>ACP5</th>\n",
       "      <th>...</th>\n",
       "      <th>SPANXN4</th>\n",
       "      <th>ZNF605</th>\n",
       "      <th>SERPINB10</th>\n",
       "      <th>ANKAR</th>\n",
       "      <th>RRH</th>\n",
       "      <th>DHH</th>\n",
       "      <th>CYSLTR1</th>\n",
       "      <th>ZNF268</th>\n",
       "      <th>COL23A1</th>\n",
       "      <th>MEDAG</th>\n",
       "    </tr>\n",
       "  </thead>\n",
       "  <tbody>\n",
       "    <tr>\n",
       "      <th>PNNL-TCGA-09-1664</th>\n",
       "      <td>0.0</td>\n",
       "      <td>-0.119</td>\n",
       "      <td>-0.1880</td>\n",
       "      <td>0.5710</td>\n",
       "      <td>-0.224000</td>\n",
       "      <td>0.3320</td>\n",
       "      <td>0.0</td>\n",
       "      <td>-0.2160</td>\n",
       "      <td>0.205</td>\n",
       "      <td>0.000</td>\n",
       "      <td>...</td>\n",
       "      <td>0.0</td>\n",
       "      <td>0.0</td>\n",
       "      <td>0.0</td>\n",
       "      <td>0.0</td>\n",
       "      <td>0.0</td>\n",
       "      <td>0.0</td>\n",
       "      <td>0.0</td>\n",
       "      <td>0.0</td>\n",
       "      <td>0.0</td>\n",
       "      <td>0.0</td>\n",
       "    </tr>\n",
       "    <tr>\n",
       "      <th>PNNL-TCGA-13-1484</th>\n",
       "      <td>0.0</td>\n",
       "      <td>0.000</td>\n",
       "      <td>-0.1210</td>\n",
       "      <td>-1.4500</td>\n",
       "      <td>0.079000</td>\n",
       "      <td>0.1030</td>\n",
       "      <td>0.0</td>\n",
       "      <td>-0.9750</td>\n",
       "      <td>0.000</td>\n",
       "      <td>0.175</td>\n",
       "      <td>...</td>\n",
       "      <td>0.0</td>\n",
       "      <td>0.0</td>\n",
       "      <td>0.0</td>\n",
       "      <td>0.0</td>\n",
       "      <td>0.0</td>\n",
       "      <td>0.0</td>\n",
       "      <td>0.0</td>\n",
       "      <td>0.0</td>\n",
       "      <td>0.0</td>\n",
       "      <td>0.0</td>\n",
       "    </tr>\n",
       "    <tr>\n",
       "      <th>PNNL-TCGA-13-1488</th>\n",
       "      <td>0.0</td>\n",
       "      <td>0.000</td>\n",
       "      <td>-0.2190</td>\n",
       "      <td>-0.0765</td>\n",
       "      <td>-1.340000</td>\n",
       "      <td>-0.4200</td>\n",
       "      <td>0.0</td>\n",
       "      <td>0.0158</td>\n",
       "      <td>0.000</td>\n",
       "      <td>0.000</td>\n",
       "      <td>...</td>\n",
       "      <td>0.0</td>\n",
       "      <td>0.0</td>\n",
       "      <td>0.0</td>\n",
       "      <td>0.0</td>\n",
       "      <td>0.0</td>\n",
       "      <td>0.0</td>\n",
       "      <td>0.0</td>\n",
       "      <td>0.0</td>\n",
       "      <td>0.0</td>\n",
       "      <td>0.0</td>\n",
       "    </tr>\n",
       "    <tr>\n",
       "      <th>PNNL-TCGA-13-1489</th>\n",
       "      <td>0.0</td>\n",
       "      <td>0.000</td>\n",
       "      <td>0.2360</td>\n",
       "      <td>0.7490</td>\n",
       "      <td>0.107000</td>\n",
       "      <td>-0.0168</td>\n",
       "      <td>0.0</td>\n",
       "      <td>-0.1470</td>\n",
       "      <td>0.000</td>\n",
       "      <td>0.000</td>\n",
       "      <td>...</td>\n",
       "      <td>0.0</td>\n",
       "      <td>0.0</td>\n",
       "      <td>0.0</td>\n",
       "      <td>0.0</td>\n",
       "      <td>0.0</td>\n",
       "      <td>0.0</td>\n",
       "      <td>0.0</td>\n",
       "      <td>0.0</td>\n",
       "      <td>0.0</td>\n",
       "      <td>0.0</td>\n",
       "    </tr>\n",
       "    <tr>\n",
       "      <th>PNNL-TCGA-13-1494</th>\n",
       "      <td>0.0</td>\n",
       "      <td>0.433</td>\n",
       "      <td>0.0158</td>\n",
       "      <td>-0.2100</td>\n",
       "      <td>0.000859</td>\n",
       "      <td>-0.5270</td>\n",
       "      <td>0.0</td>\n",
       "      <td>0.0926</td>\n",
       "      <td>0.000</td>\n",
       "      <td>0.000</td>\n",
       "      <td>...</td>\n",
       "      <td>0.0</td>\n",
       "      <td>0.0</td>\n",
       "      <td>0.0</td>\n",
       "      <td>0.0</td>\n",
       "      <td>0.0</td>\n",
       "      <td>0.0</td>\n",
       "      <td>0.0</td>\n",
       "      <td>0.0</td>\n",
       "      <td>0.0</td>\n",
       "      <td>0.0</td>\n",
       "    </tr>\n",
       "  </tbody>\n",
       "</table>\n",
       "<p>5 rows × 16349 columns</p>\n",
       "</div>"
      ],
      "text/plain": [
       "                   ZNF91  NDEL1  ELAVL1   SUMO1     SUMO3   CHMP5  UBC  \\\n",
       "PNNL-TCGA-09-1664    0.0 -0.119 -0.1880  0.5710 -0.224000  0.3320  0.0   \n",
       "PNNL-TCGA-13-1484    0.0  0.000 -0.1210 -1.4500  0.079000  0.1030  0.0   \n",
       "PNNL-TCGA-13-1488    0.0  0.000 -0.2190 -0.0765 -1.340000 -0.4200  0.0   \n",
       "PNNL-TCGA-13-1489    0.0  0.000  0.2360  0.7490  0.107000 -0.0168  0.0   \n",
       "PNNL-TCGA-13-1494    0.0  0.433  0.0158 -0.2100  0.000859 -0.5270  0.0   \n",
       "\n",
       "                      HTT   E2F4   ACP5  ...    SPANXN4  ZNF605  SERPINB10  \\\n",
       "PNNL-TCGA-09-1664 -0.2160  0.205  0.000  ...        0.0     0.0        0.0   \n",
       "PNNL-TCGA-13-1484 -0.9750  0.000  0.175  ...        0.0     0.0        0.0   \n",
       "PNNL-TCGA-13-1488  0.0158  0.000  0.000  ...        0.0     0.0        0.0   \n",
       "PNNL-TCGA-13-1489 -0.1470  0.000  0.000  ...        0.0     0.0        0.0   \n",
       "PNNL-TCGA-13-1494  0.0926  0.000  0.000  ...        0.0     0.0        0.0   \n",
       "\n",
       "                   ANKAR  RRH  DHH  CYSLTR1  ZNF268  COL23A1  MEDAG  \n",
       "PNNL-TCGA-09-1664    0.0  0.0  0.0      0.0     0.0      0.0    0.0  \n",
       "PNNL-TCGA-13-1484    0.0  0.0  0.0      0.0     0.0      0.0    0.0  \n",
       "PNNL-TCGA-13-1488    0.0  0.0  0.0      0.0     0.0      0.0    0.0  \n",
       "PNNL-TCGA-13-1489    0.0  0.0  0.0      0.0     0.0      0.0    0.0  \n",
       "PNNL-TCGA-13-1494    0.0  0.0  0.0      0.0     0.0      0.0    0.0  \n",
       "\n",
       "[5 rows x 16349 columns]"
      ]
     },
     "execution_count": 3,
     "metadata": {},
     "output_type": "execute_result"
    }
   ],
   "source": [
    "ovarian = pd.read_csv('/Users/alex/Documents/proteomics/data_preparation/ovarian_inbiomap_exp.tsv', index_col=0)\n",
    "\n",
    "ovarian.head()"
   ]
  },
  {
   "cell_type": "code",
   "execution_count": 4,
   "metadata": {
    "collapsed": false,
    "deletable": true,
    "editable": true
   },
   "outputs": [
    {
     "data": {
      "text/plain": [
       "((16349,), (16349, 16349), (16349,))"
      ]
     },
     "execution_count": 4,
     "metadata": {},
     "output_type": "execute_result"
    }
   ],
   "source": [
    "means = ovarian.mean(axis=0)\n",
    "covariances = ovarian.cov()\n",
    "variances = ovarian.var()\n",
    "means.shape, covariances.shape, variances.shape"
   ]
  },
  {
   "cell_type": "markdown",
   "metadata": {
    "deletable": true,
    "editable": true
   },
   "source": [
    "# 2. Retrieve KEGG pathways\n",
    "\n",
    "(pathways found at http://rest.kegg.jp/list/pathway/hsa)\n"
   ]
  },
  {
   "cell_type": "code",
   "execution_count": 5,
   "metadata": {
    "collapsed": false,
    "deletable": true,
    "editable": true
   },
   "outputs": [
    {
     "data": {
      "text/plain": [
       "array(['BCO1', 'ADH1A', 'ADH1B', 'ADH1C', 'ADH7', 'ADH4', 'ADH5', 'ADH6',\n",
       "       'DHRS3', 'DHRS4', 'DHRS4L1', 'DHRS4L2', 'DHRS9', 'RDH8', 'RDH10',\n",
       "       'RDH11', 'RDH12', 'RDH16', 'SDR16C5', 'HSD17B6', 'LRAT', 'DGAT1',\n",
       "       'AWAT2', 'PNPLA4', 'RPE65', 'RDH5', 'AOX1', 'ALDH1A2', 'ALDH1A1',\n",
       "       'CYP26A1', 'CYP26B1', 'CYP26C1', 'CYP1A1', 'CYP1A2', 'CYP2A6',\n",
       "       'CYP2B6', 'CYP2C8', 'CYP2C9', 'CYP2C18', 'CYP2S1', 'CYP3A4',\n",
       "       'CYP3A5', 'CYP3A7', 'CYP3A7-CYP3A51P', 'CYP4A11', 'UGT2A1',\n",
       "       'UGT2A3', 'UGT2B17', 'UGT2B11', 'UGT2B28', 'UGT1A6', 'UGT1A4',\n",
       "       'UGT1A1', 'UGT1A3', 'UGT2B10', 'UGT1A9', 'UGT2B7', 'UGT1A10',\n",
       "       'UGT1A8', 'UGT1A5', 'UGT2B15', 'UGT1A7', 'UGT2B4', 'UGT2A2',\n",
       "       'RETSAT'], \n",
       "      dtype='<U15')"
      ]
     },
     "execution_count": 5,
     "metadata": {},
     "output_type": "execute_result"
    }
   ],
   "source": [
    "pathways = pkl.load(open(\"../KEGG_pathway_gene_lists.pkl\", \"rb\"))\n",
    "pathway_id = \"hsa00830\"\n",
    "pathway_genes = np.array(pathways[pathway_id])\n",
    "pathway_genes"
   ]
  },
  {
   "cell_type": "markdown",
   "metadata": {
    "deletable": true,
    "editable": true
   },
   "source": [
    "# 3. Update multinomial distribution\n",
    "\n",
    "- genes in pathway will have their means updated by an amount b. \n",
    "- b is drawn from a zero-centered normal with std given by the variation"
   ]
  },
  {
   "cell_type": "code",
   "execution_count": 6,
   "metadata": {
    "collapsed": false,
    "deletable": true,
    "editable": true
   },
   "outputs": [
    {
     "data": {
      "image/png": "[encoded data removed]",
      "text/plain": [
       "<matplotlib.figure.Figure at 0x108799208>"
      ]
     },
     "metadata": {},
     "output_type": "display_data"
    }
   ],
   "source": [
    "adjust_means = variances.apply(lambda x: np.random.normal(0,x))\n",
    "\n",
    "fig, ax = plt.subplots()\n",
    "adjust_means.hist(ax=ax, bins=100, bottom=0.1)\n",
    "ax.set_yscale('log')"
   ]
  },
  {
   "cell_type": "code",
   "execution_count": 7,
   "metadata": {
    "collapsed": false,
    "deletable": true,
    "editable": true
   },
   "outputs": [
    {
     "data": {
      "text/html": [
       "<div>\n",
       "<table border=\"1\" class=\"dataframe\">\n",
       "  <thead>\n",
       "    <tr style=\"text-align: right;\">\n",
       "      <th></th>\n",
       "      <th>adjust_means</th>\n",
       "    </tr>\n",
       "  </thead>\n",
       "  <tbody>\n",
       "    <tr>\n",
       "      <th>ADH1A</th>\n",
       "      <td>-0.485597</td>\n",
       "    </tr>\n",
       "    <tr>\n",
       "      <th>ADH1B</th>\n",
       "      <td>-2.229136</td>\n",
       "    </tr>\n",
       "    <tr>\n",
       "      <th>ADH1C</th>\n",
       "      <td>-2.280619</td>\n",
       "    </tr>\n",
       "    <tr>\n",
       "      <th>ADH7</th>\n",
       "      <td>0.044538</td>\n",
       "    </tr>\n",
       "    <tr>\n",
       "      <th>ADH4</th>\n",
       "      <td>-0.179593</td>\n",
       "    </tr>\n",
       "    <tr>\n",
       "      <th>ADH5</th>\n",
       "      <td>0.086320</td>\n",
       "    </tr>\n",
       "    <tr>\n",
       "      <th>DHRS3</th>\n",
       "      <td>0.263886</td>\n",
       "    </tr>\n",
       "    <tr>\n",
       "      <th>DHRS4</th>\n",
       "      <td>-0.458351</td>\n",
       "    </tr>\n",
       "    <tr>\n",
       "      <th>RDH10</th>\n",
       "      <td>-0.154830</td>\n",
       "    </tr>\n",
       "    <tr>\n",
       "      <th>RDH11</th>\n",
       "      <td>0.100076</td>\n",
       "    </tr>\n",
       "    <tr>\n",
       "      <th>DGAT1</th>\n",
       "      <td>-0.074194</td>\n",
       "    </tr>\n",
       "    <tr>\n",
       "      <th>PNPLA4</th>\n",
       "      <td>0.207849</td>\n",
       "    </tr>\n",
       "    <tr>\n",
       "      <th>AOX1</th>\n",
       "      <td>0.178981</td>\n",
       "    </tr>\n",
       "    <tr>\n",
       "      <th>ALDH1A2</th>\n",
       "      <td>0.015327</td>\n",
       "    </tr>\n",
       "    <tr>\n",
       "      <th>ALDH1A1</th>\n",
       "      <td>0.323681</td>\n",
       "    </tr>\n",
       "    <tr>\n",
       "      <th>CYP2S1</th>\n",
       "      <td>0.284910</td>\n",
       "    </tr>\n",
       "    <tr>\n",
       "      <th>RETSAT</th>\n",
       "      <td>-0.290111</td>\n",
       "    </tr>\n",
       "  </tbody>\n",
       "</table>\n",
       "</div>"
      ],
      "text/plain": [
       "         adjust_means\n",
       "ADH1A       -0.485597\n",
       "ADH1B       -2.229136\n",
       "ADH1C       -2.280619\n",
       "ADH7         0.044538\n",
       "ADH4        -0.179593\n",
       "ADH5         0.086320\n",
       "DHRS3        0.263886\n",
       "DHRS4       -0.458351\n",
       "RDH10       -0.154830\n",
       "RDH11        0.100076\n",
       "DGAT1       -0.074194\n",
       "PNPLA4       0.207849\n",
       "AOX1         0.178981\n",
       "ALDH1A2      0.015327\n",
       "ALDH1A1      0.323681\n",
       "CYP2S1       0.284910\n",
       "RETSAT      -0.290111"
      ]
     },
     "execution_count": 7,
     "metadata": {},
     "output_type": "execute_result"
    }
   ],
   "source": [
    "adjust_pathway_means = pd.DataFrame(adjust_means[pathway_genes], columns=[\"adjust_means\"]).fillna(0)\n",
    "adjust_pathway_means = adjust_pathway_means[adjust_pathway_means.adjust_means != 0]\n",
    "adjust_pathway_means"
   ]
  },
  {
   "cell_type": "code",
   "execution_count": 8,
   "metadata": {
    "collapsed": false,
    "deletable": true,
    "editable": true
   },
   "outputs": [
    {
     "data": {
      "text/html": [
       "<div>\n",
       "<table border=\"1\" class=\"dataframe\">\n",
       "  <thead>\n",
       "    <tr style=\"text-align: right;\">\n",
       "      <th></th>\n",
       "      <th>mean</th>\n",
       "      <th>adjust_means</th>\n",
       "    </tr>\n",
       "  </thead>\n",
       "  <tbody>\n",
       "    <tr>\n",
       "      <th>ZNF91</th>\n",
       "      <td>0.000000</td>\n",
       "      <td>0.0</td>\n",
       "    </tr>\n",
       "    <tr>\n",
       "      <th>NDEL1</th>\n",
       "      <td>0.010325</td>\n",
       "      <td>0.0</td>\n",
       "    </tr>\n",
       "    <tr>\n",
       "      <th>ELAVL1</th>\n",
       "      <td>0.031412</td>\n",
       "      <td>0.0</td>\n",
       "    </tr>\n",
       "    <tr>\n",
       "      <th>SUMO1</th>\n",
       "      <td>0.126737</td>\n",
       "      <td>0.0</td>\n",
       "    </tr>\n",
       "    <tr>\n",
       "      <th>SUMO3</th>\n",
       "      <td>-0.039357</td>\n",
       "      <td>0.0</td>\n",
       "    </tr>\n",
       "  </tbody>\n",
       "</table>\n",
       "</div>"
      ],
      "text/plain": [
       "            mean  adjust_means\n",
       "ZNF91   0.000000           0.0\n",
       "NDEL1   0.010325           0.0\n",
       "ELAVL1  0.031412           0.0\n",
       "SUMO1   0.126737           0.0\n",
       "SUMO3  -0.039357           0.0"
      ]
     },
     "execution_count": 8,
     "metadata": {},
     "output_type": "execute_result"
    }
   ],
   "source": [
    "means = pd.DataFrame(means, columns=[\"mean\"]).merge(adjust_pathway_means, left_index=True, right_index=True, how=\"left\").fillna(0)\n",
    "means.head()"
   ]
  },
  {
   "cell_type": "code",
   "execution_count": 9,
   "metadata": {
    "collapsed": false,
    "deletable": true,
    "editable": true,
    "scrolled": true
   },
   "outputs": [
    {
     "data": {
      "text/plain": [
       "ZNF91     0.000000\n",
       "NDEL1     0.010325\n",
       "ELAVL1    0.031412\n",
       "SUMO1     0.126737\n",
       "SUMO3    -0.039357\n",
       "dtype: float64"
      ]
     },
     "execution_count": 9,
     "metadata": {},
     "output_type": "execute_result"
    }
   ],
   "source": [
    "updated_means = means.sum(axis=1)\n",
    "updated_means.head()"
   ]
  },
  {
   "cell_type": "markdown",
   "metadata": {
    "deletable": true,
    "editable": true
   },
   "source": [
    "# 4. Sample from multivariate gaussian\n",
    " "
   ]
  },
  {
   "cell_type": "code",
   "execution_count": null,
   "metadata": {
    "collapsed": false,
    "deletable": true,
    "editable": true
   },
   "outputs": [],
   "source": [
    "values = np.random.multivariate_normal(updated_means, covariances, 1)\n",
    "values.shape"
   ]
  },
  {
   "cell_type": "markdown",
   "metadata": {
    "collapsed": true,
    "deletable": true,
    "editable": true
   },
   "source": [
    "\n",
    "The issue with this approach is that it takes a pretty long time (http://stackoverflow.com/questions/40100340/numpy-multivariate-normal-bug-when-dimension-too-high/40197926) so I'm going to generate a dataset which naively assumes proteins are independent in another notebook..."
   ]
  }
 ],
 "metadata": {
  "kernelspec": {
   "display_name": "Python 3",
   "language": "python",
   "name": "python3"
  },
  "language_info": {
   "codemirror_mode": {
    "name": "ipython",
    "version": 3
   },
   "file_extension": ".py",
   "mimetype": "text/x-python",
   "name": "python",
   "nbconvert_exporter": "python",
   "pygments_lexer": "ipython3",
   "version": "3.6.1"
  }
 },
 "nbformat": 4,
 "nbformat_minor": 2
}
