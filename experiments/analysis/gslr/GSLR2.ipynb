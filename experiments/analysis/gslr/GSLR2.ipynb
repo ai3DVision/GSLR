{
 "cells": [
  {
   "cell_type": "markdown",
   "metadata": {},
   "source": [
    "# An effort to write GSLR out of the OmicsIntegrator Framework"
   ]
  },
  {
   "cell_type": "code",
   "execution_count": 1,
   "metadata": {
    "collapsed": false
   },
   "outputs": [
    {
     "name": "stdout",
     "output_type": "stream",
     "text": [
      "Populating the interactive namespace from numpy and matplotlib\n"
     ]
    }
   ],
   "source": [
    "%pylab inline\n",
    "import sys\n",
    "import pickle\n",
    "import pandas as pd\n",
    "\n",
    "from sklearn.preprocessing import LabelEncoder\n",
    "\n",
    "from matplotlib_venn import venn3, venn3_circles, venn2\n",
    "\n",
    "sys.path.append('/Users/alex/Documents/OmicsIntegrator2/src/')\n",
    "from graph import Graph"
   ]
  },
  {
   "cell_type": "markdown",
   "metadata": {},
   "source": [
    "### I. Load Synthetic Dataset which is known to be at least somewhat connected in the interactome. "
   ]
  },
  {
   "cell_type": "code",
   "execution_count": 2,
   "metadata": {
    "collapsed": false
   },
   "outputs": [
    {
     "data": {
      "text/html": [
       "<div>\n",
       "<style>\n",
       "    .dataframe thead tr:only-child th {\n",
       "        text-align: right;\n",
       "    }\n",
       "\n",
       "    .dataframe thead th {\n",
       "        text-align: left;\n",
       "    }\n",
       "\n",
       "    .dataframe tbody tr th {\n",
       "        vertical-align: top;\n",
       "    }\n",
       "</style>\n",
       "<table border=\"1\" class=\"dataframe\">\n",
       "  <thead>\n",
       "    <tr style=\"text-align: right;\">\n",
       "      <th></th>\n",
       "      <th>ZNF91</th>\n",
       "      <th>NDEL1</th>\n",
       "      <th>ELAVL1</th>\n",
       "      <th>SUMO1</th>\n",
       "      <th>SUMO3</th>\n",
       "      <th>CHMP5</th>\n",
       "      <th>UBC</th>\n",
       "      <th>HTT</th>\n",
       "      <th>E2F4</th>\n",
       "      <th>ACP5</th>\n",
       "      <th>...</th>\n",
       "      <th>SPANXN4</th>\n",
       "      <th>ZNF605</th>\n",
       "      <th>SERPINB10</th>\n",
       "      <th>ANKAR</th>\n",
       "      <th>RRH</th>\n",
       "      <th>DHH</th>\n",
       "      <th>CYSLTR1</th>\n",
       "      <th>ZNF268</th>\n",
       "      <th>COL23A1</th>\n",
       "      <th>MEDAG</th>\n",
       "    </tr>\n",
       "  </thead>\n",
       "  <tbody>\n",
       "    <tr>\n",
       "      <th>hsa04110</th>\n",
       "      <td>0.0</td>\n",
       "      <td>0.014856</td>\n",
       "      <td>0.264810</td>\n",
       "      <td>0.109797</td>\n",
       "      <td>-0.976005</td>\n",
       "      <td>0.173769</td>\n",
       "      <td>0.0</td>\n",
       "      <td>0.285756</td>\n",
       "      <td>0.288839</td>\n",
       "      <td>-0.231566</td>\n",
       "      <td>...</td>\n",
       "      <td>0.0</td>\n",
       "      <td>0.0</td>\n",
       "      <td>0.0</td>\n",
       "      <td>0.0</td>\n",
       "      <td>0.0</td>\n",
       "      <td>0.0</td>\n",
       "      <td>0.0</td>\n",
       "      <td>0.0</td>\n",
       "      <td>0.0</td>\n",
       "      <td>0.0</td>\n",
       "    </tr>\n",
       "    <tr>\n",
       "      <th>negative</th>\n",
       "      <td>0.0</td>\n",
       "      <td>-0.228736</td>\n",
       "      <td>0.089442</td>\n",
       "      <td>0.339065</td>\n",
       "      <td>-0.597546</td>\n",
       "      <td>0.040049</td>\n",
       "      <td>0.0</td>\n",
       "      <td>-0.098450</td>\n",
       "      <td>0.073976</td>\n",
       "      <td>-0.494193</td>\n",
       "      <td>...</td>\n",
       "      <td>0.0</td>\n",
       "      <td>0.0</td>\n",
       "      <td>0.0</td>\n",
       "      <td>0.0</td>\n",
       "      <td>0.0</td>\n",
       "      <td>0.0</td>\n",
       "      <td>0.0</td>\n",
       "      <td>0.0</td>\n",
       "      <td>0.0</td>\n",
       "      <td>0.0</td>\n",
       "    </tr>\n",
       "    <tr>\n",
       "      <th>negative</th>\n",
       "      <td>-0.0</td>\n",
       "      <td>-0.715740</td>\n",
       "      <td>-0.143526</td>\n",
       "      <td>-0.480106</td>\n",
       "      <td>0.125846</td>\n",
       "      <td>0.284645</td>\n",
       "      <td>-0.0</td>\n",
       "      <td>0.021132</td>\n",
       "      <td>-0.115910</td>\n",
       "      <td>-0.016950</td>\n",
       "      <td>...</td>\n",
       "      <td>0.0</td>\n",
       "      <td>0.0</td>\n",
       "      <td>0.0</td>\n",
       "      <td>0.0</td>\n",
       "      <td>0.0</td>\n",
       "      <td>0.0</td>\n",
       "      <td>0.0</td>\n",
       "      <td>0.0</td>\n",
       "      <td>0.0</td>\n",
       "      <td>0.0</td>\n",
       "    </tr>\n",
       "    <tr>\n",
       "      <th>negative</th>\n",
       "      <td>-0.0</td>\n",
       "      <td>-0.383979</td>\n",
       "      <td>0.359009</td>\n",
       "      <td>0.394243</td>\n",
       "      <td>-0.387827</td>\n",
       "      <td>-0.281805</td>\n",
       "      <td>0.0</td>\n",
       "      <td>-0.922308</td>\n",
       "      <td>0.340674</td>\n",
       "      <td>-0.278771</td>\n",
       "      <td>...</td>\n",
       "      <td>0.0</td>\n",
       "      <td>0.0</td>\n",
       "      <td>0.0</td>\n",
       "      <td>0.0</td>\n",
       "      <td>0.0</td>\n",
       "      <td>0.0</td>\n",
       "      <td>0.0</td>\n",
       "      <td>0.0</td>\n",
       "      <td>0.0</td>\n",
       "      <td>0.0</td>\n",
       "    </tr>\n",
       "    <tr>\n",
       "      <th>negative</th>\n",
       "      <td>0.0</td>\n",
       "      <td>-0.023037</td>\n",
       "      <td>0.196800</td>\n",
       "      <td>-0.292508</td>\n",
       "      <td>0.165186</td>\n",
       "      <td>0.105207</td>\n",
       "      <td>0.0</td>\n",
       "      <td>-0.521385</td>\n",
       "      <td>-0.194466</td>\n",
       "      <td>-0.234121</td>\n",
       "      <td>...</td>\n",
       "      <td>0.0</td>\n",
       "      <td>0.0</td>\n",
       "      <td>0.0</td>\n",
       "      <td>0.0</td>\n",
       "      <td>0.0</td>\n",
       "      <td>0.0</td>\n",
       "      <td>0.0</td>\n",
       "      <td>0.0</td>\n",
       "      <td>0.0</td>\n",
       "      <td>0.0</td>\n",
       "    </tr>\n",
       "  </tbody>\n",
       "</table>\n",
       "<p>5 rows × 16349 columns</p>\n",
       "</div>"
      ],
      "text/plain": [
       "          ZNF91     NDEL1    ELAVL1     SUMO1     SUMO3     CHMP5  UBC  \\\n",
       "hsa04110    0.0  0.014856  0.264810  0.109797 -0.976005  0.173769  0.0   \n",
       "negative    0.0 -0.228736  0.089442  0.339065 -0.597546  0.040049  0.0   \n",
       "negative   -0.0 -0.715740 -0.143526 -0.480106  0.125846  0.284645 -0.0   \n",
       "negative   -0.0 -0.383979  0.359009  0.394243 -0.387827 -0.281805  0.0   \n",
       "negative    0.0 -0.023037  0.196800 -0.292508  0.165186  0.105207  0.0   \n",
       "\n",
       "               HTT      E2F4      ACP5  ...    SPANXN4  ZNF605  SERPINB10  \\\n",
       "hsa04110  0.285756  0.288839 -0.231566  ...        0.0     0.0        0.0   \n",
       "negative -0.098450  0.073976 -0.494193  ...        0.0     0.0        0.0   \n",
       "negative  0.021132 -0.115910 -0.016950  ...        0.0     0.0        0.0   \n",
       "negative -0.922308  0.340674 -0.278771  ...        0.0     0.0        0.0   \n",
       "negative -0.521385 -0.194466 -0.234121  ...        0.0     0.0        0.0   \n",
       "\n",
       "          ANKAR  RRH  DHH  CYSLTR1  ZNF268  COL23A1  MEDAG  \n",
       "hsa04110    0.0  0.0  0.0      0.0     0.0      0.0    0.0  \n",
       "negative    0.0  0.0  0.0      0.0     0.0      0.0    0.0  \n",
       "negative    0.0  0.0  0.0      0.0     0.0      0.0    0.0  \n",
       "negative    0.0  0.0  0.0      0.0     0.0      0.0    0.0  \n",
       "negative    0.0  0.0  0.0      0.0     0.0      0.0    0.0  \n",
       "\n",
       "[5 rows x 16349 columns]"
      ]
     },
     "execution_count": 2,
     "metadata": {},
     "output_type": "execute_result"
    }
   ],
   "source": [
    "dataset = pd.read_csv('/Users/alex/Documents/proteomics/synthetic_proteomics/generated_data/ludwig_svd_normals/hsa04110_inbiomap_exp.csv', index_col=0)\n",
    "dataset.head()"
   ]
  },
  {
   "cell_type": "markdown",
   "metadata": {},
   "source": [
    "### II. Extract Labels "
   ]
  },
  {
   "cell_type": "code",
   "execution_count": 3,
   "metadata": {
    "collapsed": false
   },
   "outputs": [
    {
     "data": {
      "text/plain": [
       "array([0, 1, 1, 1, 1, 1, 1, 0, 1, 1, 0, 1, 0, 0, 0, 1, 0, 1, 1, 0, 1, 0, 1,\n",
       "       1, 1, 0, 1, 1, 0, 1, 1, 0, 0, 1, 1, 1, 1, 0, 1, 1, 1, 0, 0, 1, 1, 1,\n",
       "       1, 0, 0, 1, 0, 0, 0, 1, 1, 1, 0, 1, 0, 1, 0, 0, 0, 0, 0, 0, 0, 0, 1,\n",
       "       1, 0, 1, 1, 0, 0, 0, 1, 0, 0, 0, 1, 0, 1, 1, 0, 0, 0, 0, 1, 0, 0, 0,\n",
       "       1, 1, 1, 0, 1, 0, 0, 1, 1, 1, 1, 1, 0, 1, 1, 0, 0, 0, 1, 0, 0, 0, 1,\n",
       "       1, 1, 1, 0, 0, 1, 1, 1, 1, 0, 0, 1, 0, 0, 0, 1, 0, 1, 0, 0, 1, 1, 0,\n",
       "       1, 1, 0, 1, 1, 0, 0, 0, 0, 1, 1, 0, 1, 1, 1, 0, 1, 1, 0, 1, 0, 1, 0,\n",
       "       1, 1, 1, 0, 0, 0, 0, 0, 0, 0, 0, 1, 0, 0, 1, 1, 0, 0, 1, 0, 1, 0, 1,\n",
       "       1, 1, 0, 0, 1, 1, 0, 1, 0, 0, 0, 1, 1, 0, 0, 0])"
      ]
     },
     "execution_count": 3,
     "metadata": {},
     "output_type": "execute_result"
    }
   ],
   "source": [
    "labeler = LabelEncoder()\n",
    "labeler.fit(dataset.index.tolist())\n",
    "labels = labeler.transform(dataset.index.tolist())\n",
    "y = labels\n",
    "y"
   ]
  },
  {
   "cell_type": "markdown",
   "metadata": {},
   "source": [
    "### III. Graph Sparse Logistic Regression"
   ]
  },
  {
   "cell_type": "code",
   "execution_count": 6,
   "metadata": {
    "collapsed": false
   },
   "outputs": [
    {
     "name": "stderr",
     "output_type": "stream",
     "text": [
      "08:12:40 - Graph: INFO - Duplicated edges in the interactome file (we'll keep the max cost):\n",
      "08:12:40 - Graph: INFO - []\n"
     ]
    }
   ],
   "source": [
    "interactome_file = '../pcsf/inbiomap_temp.tsv'\n",
    "graph = Graph(interactome_file, {'a':1500, 'b':4, 'w':7})"
   ]
  },
  {
   "cell_type": "code",
   "execution_count": null,
   "metadata": {
    "collapsed": true
   },
   "outputs": [],
   "source": [
    "def gslr(graph, X, y, learning_rate, iterations):\n",
    "\n",
    "    theta = np.zeros(len(graph.nodes))\n",
    "\n",
    "    for i in range(iterations):\n",
    "\n",
    "        gradients = gradient_descent(X.transpose(), theta, y)\n",
    "\n",
    "        theta = theta - (learning_rate * gradients)\n",
    "\n",
    "        vertex_indices, edge_indices = graph.pcsf(theta)\n",
    "\n",
    "        theta[~vertex_indices] = 0\n",
    "\n",
    "    return theta\n",
    "\n",
    "\n",
    "def gradient_descent(X, theta, y):\n",
    "\n",
    "    denominators = 1.0 + np.exp(np.multiply(y, np.dot(X, theta)))\n",
    "    return -np.sum(np.divide(np.multiply(np.expand_dims(y, axis=1), X), np.expand_dims(denominators, axis=1)), axis=0)\n",
    "\n"
   ]
  },
  {
   "cell_type": "code",
   "execution_count": null,
   "metadata": {
    "collapsed": true
   },
   "outputs": [],
   "source": [
    "\n",
    "\n"
   ]
  },
  {
   "cell_type": "code",
   "execution_count": null,
   "metadata": {
    "collapsed": true
   },
   "outputs": [],
   "source": []
  },
  {
   "cell_type": "code",
   "execution_count": null,
   "metadata": {
    "collapsed": true
   },
   "outputs": [],
   "source": []
  },
  {
   "cell_type": "code",
   "execution_count": null,
   "metadata": {
    "collapsed": true
   },
   "outputs": [],
   "source": []
  },
  {
   "cell_type": "code",
   "execution_count": null,
   "metadata": {
    "collapsed": true
   },
   "outputs": [],
   "source": []
  }
 ],
 "metadata": {
  "kernelspec": {
   "display_name": "Python 3",
   "language": "python",
   "name": "python3"
  },
  "language_info": {
   "codemirror_mode": {
    "name": "ipython",
    "version": 3
   },
   "file_extension": ".py",
   "mimetype": "text/x-python",
   "name": "python",
   "nbconvert_exporter": "python",
   "pygments_lexer": "ipython3",
   "version": "3.6.1"
  }
 },
 "nbformat": 4,
 "nbformat_minor": 2
}
