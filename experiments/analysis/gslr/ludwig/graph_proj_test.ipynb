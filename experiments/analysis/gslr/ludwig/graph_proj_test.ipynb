{
 "cells": [
  {
   "cell_type": "code",
   "execution_count": 1,
   "metadata": {
    "collapsed": true,
    "deletable": true,
    "editable": true
   },
   "outputs": [],
   "source": [
    "from __future__ import division\n",
    "from __future__ import print_function\n",
    "\n",
    "%matplotlib notebook\n",
    "\n",
    "import matplotlib.pyplot as plt\n",
    "import numpy as np\n",
    "import sys\n",
    "from timeit import default_timer as timer\n",
    "\n",
    "sys.path.append('/Users/ludwig/research/model_cs/cluster_model/biology_application/pcst_fast_repo')\n",
    "import gslr"
   ]
  },
  {
   "cell_type": "code",
   "execution_count": 6,
   "metadata": {
    "collapsed": false,
    "deletable": true,
    "editable": true
   },
   "outputs": [
    {
     "name": "stdout",
     "output_type": "stream",
     "text": [
      "Initial lambda_l = 7.2   lambda_r = 0.0   eps = 0.012\n",
      "lambda_l = 7.2   lambda_r = 0.0   lambda_m = 3.6   cur_sparsity = 1\n",
      "lambda_l = 3.6   lambda_r = 0.0   lambda_m = 1.8   cur_sparsity = 1\n",
      "lambda_l = 1.8   lambda_r = 0.0   lambda_m = 0.9   cur_sparsity = 1\n",
      "lambda_l = 0.9   lambda_r = 0.0   lambda_m = 0.45   cur_sparsity = 3\n",
      "Returning intermediate solution for lambda_m\n"
     ]
    }
   ],
   "source": [
    "d = 8\n",
    "prizes = np.zeros(d)\n",
    "prizes[3] = 1.2\n",
    "prizes[5] = 1.0\n",
    "prizes[6] = 0.2\n",
    "edges = np.transpose(np.vstack([np.arange(d - 1), np.arange(d - 1) + 1]))\n",
    "\n",
    "n = 1000\n",
    "d = 10\n",
    "c = 4\n",
    "sigma = 0.8\n",
    "\n",
    "\n",
    "sparsity_low = 2\n",
    "sparsity_high = 3\n",
    "root = -1\n",
    "num_clusters = 1\n",
    "pruning = 'strong'\n",
    "verbosity_level = 1\n",
    "result, sol_vertices, sol_edges = gslr.graph_proj_sparsity(prizes, edges, sparsity_low, sparsity_high, root, num_clusters, pruning, verbosity_level)"
   ]
  },
  {
   "cell_type": "code",
   "execution_count": 7,
   "metadata": {
    "collapsed": false,
    "deletable": true,
    "editable": true
   },
   "outputs": [
    {
     "data": {
      "text/plain": [
       "array([3, 4, 5], dtype=int32)"
      ]
     },
     "execution_count": 7,
     "metadata": {},
     "output_type": "execute_result"
    }
   ],
   "source": [
    "sol_vertices"
   ]
  },
  {
   "cell_type": "code",
   "execution_count": 8,
   "metadata": {
    "collapsed": false,
    "deletable": true,
    "editable": true
   },
   "outputs": [
    {
     "data": {
      "text/plain": [
       "array([4, 3], dtype=int32)"
      ]
     },
     "execution_count": 8,
     "metadata": {},
     "output_type": "execute_result"
    }
   ],
   "source": [
    "sol_edges"
   ]
  },
  {
   "cell_type": "code",
   "execution_count": 9,
   "metadata": {
    "collapsed": false,
    "deletable": true,
    "editable": true
   },
   "outputs": [
    {
     "data": {
      "text/plain": [
       "array([ 0. ,  0. ,  0. ,  1.2,  0. ,  1. ,  0. ,  0. ])"
      ]
     },
     "execution_count": 9,
     "metadata": {},
     "output_type": "execute_result"
    }
   ],
   "source": [
    "result"
   ]
  },
  {
   "cell_type": "code",
   "execution_count": null,
   "metadata": {
    "collapsed": true,
    "deletable": true,
    "editable": true
   },
   "outputs": [],
   "source": []
  }
 ],
 "metadata": {
  "kernelspec": {
   "display_name": "Python 3",
   "language": "python",
   "name": "python3"
  },
  "language_info": {
   "codemirror_mode": {
    "name": "ipython",
    "version": 3
   },
   "file_extension": ".py",
   "mimetype": "text/x-python",
   "name": "python",
   "nbconvert_exporter": "python",
   "pygments_lexer": "ipython3",
   "version": "3.6.1"
  }
 },
 "nbformat": 4,
 "nbformat_minor": 1
}
