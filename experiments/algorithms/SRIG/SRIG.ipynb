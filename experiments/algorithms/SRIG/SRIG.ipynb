{
 "cells": [
  {
   "cell_type": "markdown",
   "metadata": {},
   "source": [
    "# Sparse Regression Incorporating Graphical Structure Among Predictors (SRIG)"
   ]
  },
  {
   "cell_type": "code",
   "execution_count": 29,
   "metadata": {},
   "outputs": [
    {
     "name": "stdout",
     "output_type": "stream",
     "text": [
      "Populating the interactive namespace from numpy and matplotlib\n"
     ]
    },
    {
     "name": "stderr",
     "output_type": "stream",
     "text": [
      "/Users/alex/miniconda3/envs/condaenv/lib/python3.5/site-packages/IPython/core/magics/pylab.py:160: UserWarning: pylab import has clobbered these variables: ['flatten']\n",
      "`%matplotlib` prevents importing * from pylab and numpy\n",
      "  \"\\n`%matplotlib` prevents importing * from pylab and numpy\"\n"
     ]
    }
   ],
   "source": [
    "%pylab inline\n",
    "import pickle\n",
    "import pandas as pd\n",
    "import networkx as nx\n",
    "import scipy\n",
    "\n",
    "from sklearn.linear_model import LogisticRegression\n",
    "from sklearn.preprocessing import LabelEncoder\n",
    "# from sklearn.model_selection import train_test_split, cross_val_score, KFold\n",
    "def flatten(list_of_lists): return [item for sublist in list_of_lists for item in sublist]\n",
    "\n",
    "repo_path = '/Users/alex/Documents/gslr/'\n",
    "data_path = repo_path + 'experiments/generated_data/3/'\n",
    "KEGG_path = repo_path + 'experiments/KEGG/KEGG_df.filtered.with_correlates.pickle'\n",
    "interactome_path = repo_path + 'experiments/algorithms/pcsf/inbiomap_temp.tsv'\n",
    "pathway_id = 'hsa04110'"
   ]
  },
  {
   "cell_type": "markdown",
   "metadata": {},
   "source": [
    "### I. Load Dataset"
   ]
  },
  {
   "cell_type": "code",
   "execution_count": 3,
   "metadata": {},
   "outputs": [
    {
     "data": {
      "text/html": [
       "<div>\n",
       "<style scoped>\n",
       "    .dataframe tbody tr th:only-of-type {\n",
       "        vertical-align: middle;\n",
       "    }\n",
       "\n",
       "    .dataframe tbody tr th {\n",
       "        vertical-align: top;\n",
       "    }\n",
       "\n",
       "    .dataframe thead th {\n",
       "        text-align: right;\n",
       "    }\n",
       "</style>\n",
       "<table border=\"1\" class=\"dataframe\">\n",
       "  <thead>\n",
       "    <tr style=\"text-align: right;\">\n",
       "      <th></th>\n",
       "      <th>ZNF91</th>\n",
       "      <th>NDEL1</th>\n",
       "      <th>ELAVL1</th>\n",
       "      <th>SUMO1</th>\n",
       "      <th>SUMO3</th>\n",
       "      <th>CHMP5</th>\n",
       "      <th>UBC</th>\n",
       "      <th>HTT</th>\n",
       "      <th>E2F4</th>\n",
       "      <th>ACP5</th>\n",
       "      <th>...</th>\n",
       "      <th>SPANXN4</th>\n",
       "      <th>ZNF605</th>\n",
       "      <th>SERPINB10</th>\n",
       "      <th>ANKAR</th>\n",
       "      <th>RRH</th>\n",
       "      <th>DHH</th>\n",
       "      <th>CYSLTR1</th>\n",
       "      <th>ZNF268</th>\n",
       "      <th>COL23A1</th>\n",
       "      <th>MEDAG</th>\n",
       "    </tr>\n",
       "  </thead>\n",
       "  <tbody>\n",
       "    <tr>\n",
       "      <th>hsa04110</th>\n",
       "      <td>0.0</td>\n",
       "      <td>0.115272</td>\n",
       "      <td>-0.365345</td>\n",
       "      <td>-0.014955</td>\n",
       "      <td>-0.374350</td>\n",
       "      <td>0.109953</td>\n",
       "      <td>-0.0</td>\n",
       "      <td>-0.313725</td>\n",
       "      <td>0.034973</td>\n",
       "      <td>-0.309654</td>\n",
       "      <td>...</td>\n",
       "      <td>0.0</td>\n",
       "      <td>0.0</td>\n",
       "      <td>0.0</td>\n",
       "      <td>0.0</td>\n",
       "      <td>0.0</td>\n",
       "      <td>0.0</td>\n",
       "      <td>0.0</td>\n",
       "      <td>0.0</td>\n",
       "      <td>0.0</td>\n",
       "      <td>0.0</td>\n",
       "    </tr>\n",
       "    <tr>\n",
       "      <th>hsa04110</th>\n",
       "      <td>-0.0</td>\n",
       "      <td>-0.138520</td>\n",
       "      <td>-0.340004</td>\n",
       "      <td>0.430427</td>\n",
       "      <td>0.618810</td>\n",
       "      <td>-0.400398</td>\n",
       "      <td>-0.0</td>\n",
       "      <td>0.281479</td>\n",
       "      <td>-0.903482</td>\n",
       "      <td>0.312078</td>\n",
       "      <td>...</td>\n",
       "      <td>0.0</td>\n",
       "      <td>0.0</td>\n",
       "      <td>0.0</td>\n",
       "      <td>0.0</td>\n",
       "      <td>0.0</td>\n",
       "      <td>0.0</td>\n",
       "      <td>0.0</td>\n",
       "      <td>0.0</td>\n",
       "      <td>0.0</td>\n",
       "      <td>0.0</td>\n",
       "    </tr>\n",
       "    <tr>\n",
       "      <th>negative</th>\n",
       "      <td>-0.0</td>\n",
       "      <td>-0.492418</td>\n",
       "      <td>0.612346</td>\n",
       "      <td>0.544840</td>\n",
       "      <td>-0.253648</td>\n",
       "      <td>-0.004268</td>\n",
       "      <td>-0.0</td>\n",
       "      <td>-0.109864</td>\n",
       "      <td>0.337787</td>\n",
       "      <td>-0.604446</td>\n",
       "      <td>...</td>\n",
       "      <td>0.0</td>\n",
       "      <td>0.0</td>\n",
       "      <td>0.0</td>\n",
       "      <td>0.0</td>\n",
       "      <td>0.0</td>\n",
       "      <td>0.0</td>\n",
       "      <td>0.0</td>\n",
       "      <td>0.0</td>\n",
       "      <td>0.0</td>\n",
       "      <td>0.0</td>\n",
       "    </tr>\n",
       "    <tr>\n",
       "      <th>hsa04110</th>\n",
       "      <td>-0.0</td>\n",
       "      <td>-0.592521</td>\n",
       "      <td>0.050179</td>\n",
       "      <td>0.383061</td>\n",
       "      <td>0.261450</td>\n",
       "      <td>-0.131206</td>\n",
       "      <td>0.0</td>\n",
       "      <td>-0.265055</td>\n",
       "      <td>0.179607</td>\n",
       "      <td>-0.416877</td>\n",
       "      <td>...</td>\n",
       "      <td>0.0</td>\n",
       "      <td>0.0</td>\n",
       "      <td>0.0</td>\n",
       "      <td>0.0</td>\n",
       "      <td>0.0</td>\n",
       "      <td>0.0</td>\n",
       "      <td>0.0</td>\n",
       "      <td>0.0</td>\n",
       "      <td>0.0</td>\n",
       "      <td>0.0</td>\n",
       "    </tr>\n",
       "    <tr>\n",
       "      <th>hsa04110</th>\n",
       "      <td>0.0</td>\n",
       "      <td>0.000973</td>\n",
       "      <td>0.040952</td>\n",
       "      <td>-0.728286</td>\n",
       "      <td>-0.604990</td>\n",
       "      <td>-0.119933</td>\n",
       "      <td>-0.0</td>\n",
       "      <td>-0.047649</td>\n",
       "      <td>0.165359</td>\n",
       "      <td>-0.616325</td>\n",
       "      <td>...</td>\n",
       "      <td>0.0</td>\n",
       "      <td>0.0</td>\n",
       "      <td>0.0</td>\n",
       "      <td>0.0</td>\n",
       "      <td>0.0</td>\n",
       "      <td>0.0</td>\n",
       "      <td>0.0</td>\n",
       "      <td>0.0</td>\n",
       "      <td>0.0</td>\n",
       "      <td>0.0</td>\n",
       "    </tr>\n",
       "  </tbody>\n",
       "</table>\n",
       "<p>5 rows × 16349 columns</p>\n",
       "</div>"
      ],
      "text/plain": [
       "          ZNF91     NDEL1    ELAVL1     SUMO1     SUMO3     CHMP5  UBC  \\\n",
       "hsa04110    0.0  0.115272 -0.365345 -0.014955 -0.374350  0.109953 -0.0   \n",
       "hsa04110   -0.0 -0.138520 -0.340004  0.430427  0.618810 -0.400398 -0.0   \n",
       "negative   -0.0 -0.492418  0.612346  0.544840 -0.253648 -0.004268 -0.0   \n",
       "hsa04110   -0.0 -0.592521  0.050179  0.383061  0.261450 -0.131206  0.0   \n",
       "hsa04110    0.0  0.000973  0.040952 -0.728286 -0.604990 -0.119933 -0.0   \n",
       "\n",
       "               HTT      E2F4      ACP5  ...    SPANXN4  ZNF605  SERPINB10  \\\n",
       "hsa04110 -0.313725  0.034973 -0.309654  ...        0.0     0.0        0.0   \n",
       "hsa04110  0.281479 -0.903482  0.312078  ...        0.0     0.0        0.0   \n",
       "negative -0.109864  0.337787 -0.604446  ...        0.0     0.0        0.0   \n",
       "hsa04110 -0.265055  0.179607 -0.416877  ...        0.0     0.0        0.0   \n",
       "hsa04110 -0.047649  0.165359 -0.616325  ...        0.0     0.0        0.0   \n",
       "\n",
       "          ANKAR  RRH  DHH  CYSLTR1  ZNF268  COL23A1  MEDAG  \n",
       "hsa04110    0.0  0.0  0.0      0.0     0.0      0.0    0.0  \n",
       "hsa04110    0.0  0.0  0.0      0.0     0.0      0.0    0.0  \n",
       "negative    0.0  0.0  0.0      0.0     0.0      0.0    0.0  \n",
       "hsa04110    0.0  0.0  0.0      0.0     0.0      0.0    0.0  \n",
       "hsa04110    0.0  0.0  0.0      0.0     0.0      0.0    0.0  \n",
       "\n",
       "[5 rows x 16349 columns]"
      ]
     },
     "execution_count": 3,
     "metadata": {},
     "output_type": "execute_result"
    }
   ],
   "source": [
    "dataset = pd.read_csv(data_path + pathway_id + '_inbiomap_exp.csv', index_col=0)\n",
    "dataset.head()"
   ]
  },
  {
   "cell_type": "markdown",
   "metadata": {},
   "source": [
    "### II. Extract Labels"
   ]
  },
  {
   "cell_type": "code",
   "execution_count": 4,
   "metadata": {},
   "outputs": [
    {
     "data": {
      "text/plain": [
       "array([0, 0, 1, 0, 0, 1, 0, 0, 1, 0, 1, 0, 0, 1, 1, 0, 0, 1, 1, 1, 0, 0, 1,\n",
       "       0, 0, 0, 0, 1, 0, 1, 0, 0, 0, 0, 1, 0, 0, 0, 0, 0, 1, 1, 0, 1, 1, 1,\n",
       "       0, 0, 0, 0, 0, 1, 0, 1, 0, 1, 1, 0, 1, 0, 0, 0, 1, 0, 1, 1, 1, 1, 1,\n",
       "       1, 1, 1, 1, 1, 1, 1, 1, 1, 1, 1, 1, 0, 0, 1, 1, 1, 0, 1, 0, 1, 1, 1,\n",
       "       1, 1, 1, 0, 1, 1, 1, 1, 1, 0, 0, 0, 0, 1, 0, 0, 0, 1, 0, 1, 1, 1, 0,\n",
       "       1, 0, 0, 1, 0, 0, 0, 1, 0, 0, 1, 1, 1, 0, 1, 0, 1, 1, 0, 0, 1, 0, 1,\n",
       "       0, 0, 0, 1, 0, 1, 1, 1, 0, 0, 1, 1, 0, 0, 0, 1, 0, 0, 0, 0, 0, 1, 1,\n",
       "       1, 0, 0, 0, 0, 0, 0, 1, 1, 0, 1, 0, 0, 1, 1, 1, 0, 0, 1, 1, 1, 1, 0,\n",
       "       1, 1, 0, 1, 1, 0, 0, 0, 0, 0, 1, 1, 1, 0, 1, 0])"
      ]
     },
     "execution_count": 4,
     "metadata": {},
     "output_type": "execute_result"
    }
   ],
   "source": [
    "labeler = LabelEncoder()\n",
    "labeler.fit(dataset.index.tolist())\n",
    "labels = labeler.transform(dataset.index.tolist())\n",
    "y = labels\n",
    "y"
   ]
  },
  {
   "cell_type": "markdown",
   "metadata": {},
   "source": [
    "### III. Load Interactome"
   ]
  },
  {
   "cell_type": "code",
   "execution_count": 5,
   "metadata": {},
   "outputs": [
    {
     "data": {
      "text/html": [
       "<div>\n",
       "<style scoped>\n",
       "    .dataframe tbody tr th:only-of-type {\n",
       "        vertical-align: middle;\n",
       "    }\n",
       "\n",
       "    .dataframe tbody tr th {\n",
       "        vertical-align: top;\n",
       "    }\n",
       "\n",
       "    .dataframe thead th {\n",
       "        text-align: right;\n",
       "    }\n",
       "</style>\n",
       "<table border=\"1\" class=\"dataframe\">\n",
       "  <thead>\n",
       "    <tr style=\"text-align: right;\">\n",
       "      <th></th>\n",
       "      <th>protein1</th>\n",
       "      <th>protein2</th>\n",
       "      <th>cost</th>\n",
       "    </tr>\n",
       "  </thead>\n",
       "  <tbody>\n",
       "    <tr>\n",
       "      <th>0</th>\n",
       "      <td>ZNF91</td>\n",
       "      <td>NDEL1</td>\n",
       "      <td>1.253</td>\n",
       "    </tr>\n",
       "    <tr>\n",
       "      <th>1</th>\n",
       "      <td>ZNF91</td>\n",
       "      <td>ELAVL1</td>\n",
       "      <td>1.254</td>\n",
       "    </tr>\n",
       "    <tr>\n",
       "      <th>2</th>\n",
       "      <td>ZNF91</td>\n",
       "      <td>SUMO1</td>\n",
       "      <td>1.245</td>\n",
       "    </tr>\n",
       "    <tr>\n",
       "      <th>3</th>\n",
       "      <td>ZNF91</td>\n",
       "      <td>SUMO3</td>\n",
       "      <td>1.245</td>\n",
       "    </tr>\n",
       "    <tr>\n",
       "      <th>4</th>\n",
       "      <td>ZNF91</td>\n",
       "      <td>CHMP5</td>\n",
       "      <td>1.241</td>\n",
       "    </tr>\n",
       "  </tbody>\n",
       "</table>\n",
       "</div>"
      ],
      "text/plain": [
       "  protein1 protein2   cost\n",
       "0    ZNF91    NDEL1  1.253\n",
       "1    ZNF91   ELAVL1  1.254\n",
       "2    ZNF91    SUMO1  1.245\n",
       "3    ZNF91    SUMO3  1.245\n",
       "4    ZNF91    CHMP5  1.241"
      ]
     },
     "execution_count": 5,
     "metadata": {},
     "output_type": "execute_result"
    }
   ],
   "source": [
    "inbiomap_experimentally = pd.read_csv(interactome_path, sep='\\t', names=['protein1','protein2','cost'])\n",
    "inbiomap_experimentally_graph = nx.from_pandas_dataframe(inbiomap_experimentally, 'protein1', 'protein2', edge_attr=['cost'])\n",
    "inbiomap_experimentally.head()"
   ]
  },
  {
   "cell_type": "code",
   "execution_count": 6,
   "metadata": {},
   "outputs": [
    {
     "data": {
      "text/plain": [
       "array([[    0,  1228],\n",
       "       [    0,  1279],\n",
       "       [    0,  4071],\n",
       "       ..., \n",
       "       [14190, 14237],\n",
       "       [14191, 14378],\n",
       "       [14192, 14539]])"
      ]
     },
     "execution_count": 6,
     "metadata": {},
     "output_type": "execute_result"
    }
   ],
   "source": [
    "(edges, nodes) = pd.factorize(inbiomap_experimentally[[\"protein1\",\"protein2\"]].unstack())\n",
    "edges = edges.reshape(inbiomap_experimentally[[\"protein1\",\"protein2\"]].shape, order='F')\n",
    "edges"
   ]
  },
  {
   "cell_type": "markdown",
   "metadata": {},
   "source": [
    "### IV. Prepare Dataset"
   ]
  },
  {
   "cell_type": "code",
   "execution_count": 7,
   "metadata": {},
   "outputs": [
    {
     "data": {
      "text/plain": [
       "Index(['ZNF91', 'NDEL1', 'ELAVL1', 'SUMO1', 'SUMO3', 'CHMP5', 'UBC', 'HTT',\n",
       "       'E2F4', 'ACP5',\n",
       "       ...\n",
       "       'SPANXN4', 'ZNF605', 'SERPINB10', 'ANKAR', 'RRH', 'DHH', 'CYSLTR1',\n",
       "       'ZNF268', 'COL23A1', 'MEDAG'],\n",
       "      dtype='object', length=16349)"
      ]
     },
     "execution_count": 7,
     "metadata": {},
     "output_type": "execute_result"
    }
   ],
   "source": [
    "dataset.columns"
   ]
  },
  {
   "cell_type": "code",
   "execution_count": 8,
   "metadata": {},
   "outputs": [
    {
     "data": {
      "text/plain": [
       "Index(['ZNF91', 'ACP5', 'SLC27A2', 'PAX9', 'ADAM15', 'ELOVL2', 'DDX60L',\n",
       "       'FGF7', 'CDHR5', 'LYPD3',\n",
       "       ...\n",
       "       'CNR2', 'GIG44', 'LINC00588', 'TAAR2', 'CHRNE', 'ANKAR', 'DHH',\n",
       "       'CYSLTR1', 'COL23A1', 'MEDAG'],\n",
       "      dtype='object', length=16349)"
      ]
     },
     "execution_count": 8,
     "metadata": {},
     "output_type": "execute_result"
    }
   ],
   "source": [
    "nodes"
   ]
  },
  {
   "cell_type": "code",
   "execution_count": 9,
   "metadata": {
    "scrolled": true
   },
   "outputs": [
    {
     "data": {
      "text/html": [
       "<div>\n",
       "<style scoped>\n",
       "    .dataframe tbody tr th:only-of-type {\n",
       "        vertical-align: middle;\n",
       "    }\n",
       "\n",
       "    .dataframe tbody tr th {\n",
       "        vertical-align: top;\n",
       "    }\n",
       "\n",
       "    .dataframe thead th {\n",
       "        text-align: right;\n",
       "    }\n",
       "</style>\n",
       "<table border=\"1\" class=\"dataframe\">\n",
       "  <thead>\n",
       "    <tr style=\"text-align: right;\">\n",
       "      <th></th>\n",
       "      <th>ZNF91</th>\n",
       "      <th>ACP5</th>\n",
       "      <th>SLC27A2</th>\n",
       "      <th>PAX9</th>\n",
       "      <th>ADAM15</th>\n",
       "      <th>ELOVL2</th>\n",
       "      <th>DDX60L</th>\n",
       "      <th>FGF7</th>\n",
       "      <th>CDHR5</th>\n",
       "      <th>LYPD3</th>\n",
       "      <th>...</th>\n",
       "      <th>CNR2</th>\n",
       "      <th>GIG44</th>\n",
       "      <th>LINC00588</th>\n",
       "      <th>TAAR2</th>\n",
       "      <th>CHRNE</th>\n",
       "      <th>ANKAR</th>\n",
       "      <th>DHH</th>\n",
       "      <th>CYSLTR1</th>\n",
       "      <th>COL23A1</th>\n",
       "      <th>MEDAG</th>\n",
       "    </tr>\n",
       "  </thead>\n",
       "  <tbody>\n",
       "    <tr>\n",
       "      <th>hsa04110</th>\n",
       "      <td>0.0</td>\n",
       "      <td>-0.309654</td>\n",
       "      <td>-0.465889</td>\n",
       "      <td>-0.0</td>\n",
       "      <td>0.248297</td>\n",
       "      <td>-0.0</td>\n",
       "      <td>-0.733481</td>\n",
       "      <td>0.0</td>\n",
       "      <td>-0.0</td>\n",
       "      <td>0.301864</td>\n",
       "      <td>...</td>\n",
       "      <td>0.0</td>\n",
       "      <td>0.0</td>\n",
       "      <td>0.0</td>\n",
       "      <td>0.0</td>\n",
       "      <td>0.0</td>\n",
       "      <td>0.0</td>\n",
       "      <td>0.0</td>\n",
       "      <td>0.0</td>\n",
       "      <td>0.0</td>\n",
       "      <td>0.0</td>\n",
       "    </tr>\n",
       "    <tr>\n",
       "      <th>hsa04110</th>\n",
       "      <td>-0.0</td>\n",
       "      <td>0.312078</td>\n",
       "      <td>-0.133484</td>\n",
       "      <td>0.0</td>\n",
       "      <td>-0.098908</td>\n",
       "      <td>0.0</td>\n",
       "      <td>-0.072859</td>\n",
       "      <td>0.0</td>\n",
       "      <td>-0.0</td>\n",
       "      <td>-0.137809</td>\n",
       "      <td>...</td>\n",
       "      <td>0.0</td>\n",
       "      <td>0.0</td>\n",
       "      <td>0.0</td>\n",
       "      <td>0.0</td>\n",
       "      <td>0.0</td>\n",
       "      <td>0.0</td>\n",
       "      <td>0.0</td>\n",
       "      <td>0.0</td>\n",
       "      <td>0.0</td>\n",
       "      <td>0.0</td>\n",
       "    </tr>\n",
       "    <tr>\n",
       "      <th>negative</th>\n",
       "      <td>-0.0</td>\n",
       "      <td>-0.604446</td>\n",
       "      <td>0.158134</td>\n",
       "      <td>-0.0</td>\n",
       "      <td>0.367447</td>\n",
       "      <td>-0.0</td>\n",
       "      <td>-0.497150</td>\n",
       "      <td>-0.0</td>\n",
       "      <td>0.0</td>\n",
       "      <td>-0.753135</td>\n",
       "      <td>...</td>\n",
       "      <td>0.0</td>\n",
       "      <td>0.0</td>\n",
       "      <td>0.0</td>\n",
       "      <td>0.0</td>\n",
       "      <td>0.0</td>\n",
       "      <td>0.0</td>\n",
       "      <td>0.0</td>\n",
       "      <td>0.0</td>\n",
       "      <td>0.0</td>\n",
       "      <td>0.0</td>\n",
       "    </tr>\n",
       "    <tr>\n",
       "      <th>hsa04110</th>\n",
       "      <td>-0.0</td>\n",
       "      <td>-0.416877</td>\n",
       "      <td>-0.277561</td>\n",
       "      <td>-0.0</td>\n",
       "      <td>1.229557</td>\n",
       "      <td>-0.0</td>\n",
       "      <td>0.450307</td>\n",
       "      <td>0.0</td>\n",
       "      <td>0.0</td>\n",
       "      <td>-0.393031</td>\n",
       "      <td>...</td>\n",
       "      <td>0.0</td>\n",
       "      <td>0.0</td>\n",
       "      <td>0.0</td>\n",
       "      <td>0.0</td>\n",
       "      <td>0.0</td>\n",
       "      <td>0.0</td>\n",
       "      <td>0.0</td>\n",
       "      <td>0.0</td>\n",
       "      <td>0.0</td>\n",
       "      <td>0.0</td>\n",
       "    </tr>\n",
       "    <tr>\n",
       "      <th>hsa04110</th>\n",
       "      <td>0.0</td>\n",
       "      <td>-0.616325</td>\n",
       "      <td>-0.081220</td>\n",
       "      <td>0.0</td>\n",
       "      <td>0.366697</td>\n",
       "      <td>-0.0</td>\n",
       "      <td>0.932978</td>\n",
       "      <td>0.0</td>\n",
       "      <td>-0.0</td>\n",
       "      <td>0.016254</td>\n",
       "      <td>...</td>\n",
       "      <td>0.0</td>\n",
       "      <td>0.0</td>\n",
       "      <td>0.0</td>\n",
       "      <td>0.0</td>\n",
       "      <td>0.0</td>\n",
       "      <td>0.0</td>\n",
       "      <td>0.0</td>\n",
       "      <td>0.0</td>\n",
       "      <td>0.0</td>\n",
       "      <td>0.0</td>\n",
       "    </tr>\n",
       "  </tbody>\n",
       "</table>\n",
       "<p>5 rows × 16349 columns</p>\n",
       "</div>"
      ],
      "text/plain": [
       "          ZNF91      ACP5   SLC27A2  PAX9    ADAM15  ELOVL2    DDX60L  FGF7  \\\n",
       "hsa04110    0.0 -0.309654 -0.465889  -0.0  0.248297    -0.0 -0.733481   0.0   \n",
       "hsa04110   -0.0  0.312078 -0.133484   0.0 -0.098908     0.0 -0.072859   0.0   \n",
       "negative   -0.0 -0.604446  0.158134  -0.0  0.367447    -0.0 -0.497150  -0.0   \n",
       "hsa04110   -0.0 -0.416877 -0.277561  -0.0  1.229557    -0.0  0.450307   0.0   \n",
       "hsa04110    0.0 -0.616325 -0.081220   0.0  0.366697    -0.0  0.932978   0.0   \n",
       "\n",
       "          CDHR5     LYPD3  ...    CNR2  GIG44  LINC00588  TAAR2  CHRNE  ANKAR  \\\n",
       "hsa04110   -0.0  0.301864  ...     0.0    0.0        0.0    0.0    0.0    0.0   \n",
       "hsa04110   -0.0 -0.137809  ...     0.0    0.0        0.0    0.0    0.0    0.0   \n",
       "negative    0.0 -0.753135  ...     0.0    0.0        0.0    0.0    0.0    0.0   \n",
       "hsa04110    0.0 -0.393031  ...     0.0    0.0        0.0    0.0    0.0    0.0   \n",
       "hsa04110   -0.0  0.016254  ...     0.0    0.0        0.0    0.0    0.0    0.0   \n",
       "\n",
       "          DHH  CYSLTR1  COL23A1  MEDAG  \n",
       "hsa04110  0.0      0.0      0.0    0.0  \n",
       "hsa04110  0.0      0.0      0.0    0.0  \n",
       "negative  0.0      0.0      0.0    0.0  \n",
       "hsa04110  0.0      0.0      0.0    0.0  \n",
       "hsa04110  0.0      0.0      0.0    0.0  \n",
       "\n",
       "[5 rows x 16349 columns]"
      ]
     },
     "execution_count": 9,
     "metadata": {},
     "output_type": "execute_result"
    }
   ],
   "source": [
    "dataset = dataset.transpose().reindex(index=nodes).transpose()\n",
    "X = dataset.values\n",
    "dataset.head()"
   ]
  },
  {
   "cell_type": "code",
   "execution_count": 10,
   "metadata": {},
   "outputs": [],
   "source": [
    "neighborhoods = [[i]+[nodes.get_loc(neighbor) for neighbor in inbiomap_experimentally_graph.neighbors(node)] for i, node in enumerate(nodes)]"
   ]
  },
  {
   "cell_type": "markdown",
   "metadata": {},
   "source": [
    "### V. Try SRIG via the [PyLearn-ParsimonY](https://github.com/neurospin/pylearn-parsimony) library"
   ]
  },
  {
   "cell_type": "code",
   "execution_count": 40,
   "metadata": {
    "collapsed": true
   },
   "outputs": [],
   "source": [
    "import parsimony.estimators as estimators\n",
    "import parsimony.algorithms as algorithms\n",
    "import parsimony.functions.nesterov.gl as gl\n",
    "k = 0.0  # l2 ridge regression coefficient\n",
    "l = 0.1  # l1 lasso coefficient\n",
    "g = 0.1  # group lasso coefficient\n",
    "num_ft = len(nodes)"
   ]
  },
  {
   "cell_type": "code",
   "execution_count": 41,
   "metadata": {},
   "outputs": [
    {
     "name": "stdout",
     "output_type": "stream",
     "text": [
      "Estimated prediction rate = 0.5\n"
     ]
    }
   ],
   "source": [
    "A = gl.linear_operator_from_groups(num_ft, neighborhoods)\n",
    "estimator = estimators.LogisticRegressionL1L2GL(\n",
    "                                      k, l, g, A=A,\n",
    "                                      algorithm=algorithms.proximal.FISTA(),\n",
    "                                      algorithm_params=dict(max_iter=1000))\n",
    "res = estimator.fit(X, y)\n",
    "print(\"Estimated prediction rate =\", estimator.score(X, y))"
   ]
  },
  {
   "cell_type": "markdown",
   "metadata": {},
   "source": [
    "### VI. Try SRIG via the [SPAMS](http://spams-devel.gforge.inria.fr/) library"
   ]
  },
  {
   "cell_type": "code",
   "execution_count": 11,
   "metadata": {},
   "outputs": [],
   "source": [
    "import spams"
   ]
  },
  {
   "cell_type": "code",
   "execution_count": 33,
   "metadata": {},
   "outputs": [],
   "source": [
    "num_groups = len(neighborhoods)"
   ]
  },
  {
   "cell_type": "code",
   "execution_count": 34,
   "metadata": {},
   "outputs": [],
   "source": [
    "#       graph: struct\n",
    "#             with three fields, eta_g, groups, and groups_var\n",
    "#             \n",
    "#             The first fields sets the weights for every group\n",
    "#                graph.eta_g            double N vector \n",
    "#\n",
    "eta_g = np.ones(num_groups)\n",
    "#                \n",
    "#             The next field sets inclusion relations between groups \n",
    "#             (but not between groups and variables):\n",
    "#                graph.groups           sparse (double or boolean) N x N matrix  \n",
    "#                the (i,j) entry is non-zero if and only if i is different than j and \n",
    "#                gi is included in gj.\n",
    "#                \n",
    "groups = scipy.sparse.csc_matrix(np.zeros((num_groups,num_groups)),dtype=np.bool)"
   ]
  },
  {
   "cell_type": "code",
   "execution_count": 27,
   "metadata": {},
   "outputs": [],
   "source": [
    "data, (i_j) = zip(*flatten([[ (1,(i,j)) for j in neighborhood ] for i, neighborhood in enumerate(neighborhoods)]))\n",
    "i, j = zip(*i_j)"
   ]
  },
  {
   "cell_type": "code",
   "execution_count": 35,
   "metadata": {},
   "outputs": [],
   "source": [
    "#\n",
    "#             The next field sets inclusion relations between groups and variables\n",
    "#                graph.groups_var       sparse (double or boolean) p x N matrix\n",
    "#                the (i,j) entry is non-zero if and only if the variable i is included \n",
    "#                in gj, but not in any children of gj.\n",
    "#\n",
    "groups_var = scipy.sparse.csc_matrix((data,(i,j)),dtype=np.bool)\n",
    "#\n",
    "#       graph: struct\n",
    "#             with three fields, eta_g, groups, and groups_var\n",
    "#             \n",
    "graph = {'eta_g':eta_g,'groups':groups,'groups_var':groups_var}"
   ]
  },
  {
   "cell_type": "code",
   "execution_count": 36,
   "metadata": {},
   "outputs": [
    {
     "data": {
      "text/plain": [
       "array([ 1.,  1.,  1., ...,  1.,  1.,  1.])"
      ]
     },
     "execution_count": 36,
     "metadata": {},
     "output_type": "execute_result"
    }
   ],
   "source": [
    "graph['eta_g']"
   ]
  },
  {
   "cell_type": "code",
   "execution_count": 37,
   "metadata": {},
   "outputs": [
    {
     "data": {
      "text/plain": [
       "<16349x16349 sparse matrix of type '<class 'numpy.bool_'>'\n",
       "\twith 0 stored elements in Compressed Sparse Column format>"
      ]
     },
     "execution_count": 37,
     "metadata": {},
     "output_type": "execute_result"
    }
   ],
   "source": [
    "graph['groups']"
   ]
  },
  {
   "cell_type": "code",
   "execution_count": 38,
   "metadata": {},
   "outputs": [
    {
     "data": {
      "text/plain": [
       "<16349x16349 sparse matrix of type '<class 'numpy.bool_'>'\n",
       "\twith 494957 stored elements in Compressed Sparse Column format>"
      ]
     },
     "execution_count": 38,
     "metadata": {},
     "output_type": "execute_result"
    }
   ],
   "source": [
    "graph['groups_var']"
   ]
  },
  {
   "cell_type": "markdown",
   "metadata": {},
   "source": [
    "#### Documentation for spams.fistaGraph"
   ]
  },
  {
   "cell_type": "code",
   "execution_count": 40,
   "metadata": {},
   "outputs": [],
   "source": [
    "#\n",
    "# Name: fistaGraph\n",
    "#\n",
    "# Usage: spams.fistaGraph(  Y\n",
    "#                           X\n",
    "#                           W0\n",
    "#                           graph\n",
    "#                           return_optim_info=False\n",
    "#                           numThreads=-1\n",
    "#                           max_it=1000\n",
    "#                           L0=1.0\n",
    "#                           fixed_step=False\n",
    "#                           gamma=1.5\n",
    "#                           lambda1=1.0\n",
    "#                           delta=1.0\n",
    "#                           lambda2=0.\n",
    "#                           lambda3=0.\n",
    "#                           a=1.0\n",
    "#                           b=0.\n",
    "#                           c=1.0\n",
    "#                           tol=0.000001\n",
    "#                           it0=100\n",
    "#                           max_iter_backtracking=1000\n",
    "#                           compute_gram=False\n",
    "#                           lin_admm=False\n",
    "#                           admm=False\n",
    "#                           intercept=False\n",
    "#                           resetflow=False\n",
    "#                           regul=\"\"\n",
    "#                           loss=\"\"\n",
    "#                           verbose=False\n",
    "#                           pos=False\n",
    "#                           clever=False\n",
    "#                           log=False\n",
    "#                           ista=False\n",
    "#                           subgrad=False\n",
    "#                           logName=\"\"\n",
    "#                           is_inner_weights=False\n",
    "#                           inner_weights=None\n",
    "#                           size_group=1\n",
    "#                           sqrt_step=True\n",
    "#                           transpose=False\n",
    "#                           linesearch_mode=0)\n",
    "#\n",
    "# Description:\n",
    "#     fistaGraph solves sparse regularized problems.\n",
    "#         X is a design matrix of size m x p\n",
    "#         X=[x^1...,x^n]', where the x_i's are the rows of X\n",
    "#         Y=[y^1,...,y^n] is a matrix of size m x n\n",
    "#         It implements the algorithms FISTA, ISTA and subgradient descent.\n",
    "#         \n",
    "#         It implements the algorithms FISTA, ISTA and subgradient descent for solving\n",
    "#         \n",
    "#           min_W  loss(W) + lambda1 psi(W)\n",
    "#           \n",
    "#         The function psi are those used by proximalGraph (see documentation)\n",
    "#         for the loss functions, see the documentation of fistaFlat\n",
    "#         \n",
    "#         This function can also handle intercepts (last row of W is not regularized),\n",
    "#         and/or non-negativity constraints on W.\n",
    "#\n",
    "# Inputs:\n",
    "#       Y                : double dense m x n matrix\n",
    "#       X                : double dense or sparse m x p matrix   \n",
    "#       W0               : double dense p x n matrix or p x Nn matrix (for multi-logistic loss) initial guess\n",
    "#       graph            : struct (see documentation of proximalGraph)\n",
    "#       return_optim_info: if true the function will return a tuple of matrices.\n",
    "#       loss             : (choice of loss, see above)\n",
    "#       regul            : (choice of regularization, see function proximalFlat)\n",
    "#       lambda1          : (regularization parameter)\n",
    "#       lambda2          : (optional, regularization parameter, 0 by default)\n",
    "#       lambda3          : (optional, regularization parameter, 0 by default)\n",
    "#       verbose          : (optional, verbosity level, false by default)\n",
    "#       pos              : (optional, adds positivity constraints on the coefficients, false by default)\n",
    "#       numThreads       : (optional, number of threads for exploiting multi-core / multi-cpus. By default, it takes the value -1, which automatically selects all the available CPUs/cores).\n",
    "#       max_it           : (optional, maximum number of iterations, 100 by default)\n",
    "#       it0              : (optional, frequency for computing duality gap, every 10 iterations by default)\n",
    "#       tol              : (optional, tolerance for stopping criteration, which is a relative duality gap if it is available, or a relative change of parameters).\n",
    "#       gamma            : (optional, multiplier for increasing the parameter L in fista, 1.5 by default)\n",
    "#       L0               : (optional, initial parameter L in fista, 0.1 by default, should be small enough)\n",
    "#       fixed_step       : (deactive the line search for L in fista and use L0 instead)\n",
    "#       compute_gram     : (optional, pre-compute X^TX, false by default).\n",
    "#       intercept        : (optional, do not regularize last row of W, false by default).\n",
    "#       ista             : (optional, use ista instead of fista, false by default).\n",
    "#       subgrad          : (optional, if not ista, use subradient descent instead of fista, false by default).\n",
    "#       a                : \n",
    "#       b                : (optional, if subgrad, the gradient step is a/(t+b) also similar options as proximalTree\n",
    "#       \n",
    "#       the function also implements the ADMM algorithm via an option admm=true. It is not documented and you need to look at the source code to use it.\n",
    "#\n",
    "#       delta                : undocumented; modify at your own risks!\n",
    "#       c                    : undocumented; modify at your own risks!\n",
    "#       max_iter_backtracking: undocumented; modify at your own risks!\n",
    "#       lin_admm             : undocumented; modify at your own risks!\n",
    "#       admm                 : undocumented; modify at your own risks!\n",
    "#       resetflow            : undocumented; modify at your own risks!\n",
    "#       clever               : undocumented; modify at your own risks!\n",
    "#       log                  : undocumented; modify at your own risks!\n",
    "#       logName              : undocumented; modify at your own risks!\n",
    "#       is_inner_weights     : undocumented; modify at your own risks!\n",
    "#       inner_weights        : undocumented; modify at your own risks!\n",
    "#       sqrt_step            : undocumented; modify at your own risks!\n",
    "#       size_group           : undocumented; modify at your own risks!\n",
    "#       transpose            : undocumented; modify at your own risks!\n",
    "#\n",
    "# Output:\n",
    "#       W:  double dense p x n matrix or p x Nn matrix (for multi-logistic loss)\n",
    "#       optim: optional, double dense 4 x n matrix.\n",
    "#           first row: values of the objective functions.\n",
    "#           third row: values of the relative duality gap (if available)\n",
    "#           fourth row: number of iterations\n",
    "#       optim_info:        vector of size 4, containing information of the optimization.\n",
    "#             W = spams.fistaGraph(Y,X,W0,graph,return_optim_info = False,...)\n",
    "#             (W,optim_info) = spams.fistaGraph(Y,X,W0,graph,return_optim_info = True,...)\n",
    "#"
   ]
  },
  {
   "cell_type": "code",
   "execution_count": 63,
   "metadata": {},
   "outputs": [],
   "source": [
    "X = dataset.values\n",
    "X = spams.normalize(X)\n",
    "\n",
    "Y = np.asfortranarray(np.expand_dims(y, axis=1))"
   ]
  },
  {
   "cell_type": "code",
   "execution_count": 65,
   "metadata": {},
   "outputs": [],
   "source": [
    "W0 = np.zeros((X.shape[1],Y.shape[1]),dtype=np.float64,order=\"F\")"
   ]
  },
  {
   "cell_type": "code",
   "execution_count": 72,
   "metadata": {},
   "outputs": [
    {
     "ename": "NotImplementedError",
     "evalue": "Wrong number or type of arguments for overloaded function 'fistaGraph'.\n  Possible C/C++ prototypes are:\n    _fistaGraph< double >(Matrix< double > *,AbstractMatrixB< double > *,Matrix< double > *,Matrix< double > *,Vector< double > *,SpMatrix< bool > *,SpMatrix< bool > *,int,int,double,bool,double,double,double,double,double,double,double,double,double,int,int,bool,bool,bool,bool,bool,char *,char *,bool,bool,bool,bool,bool,bool,char *,bool,Vector< double > *,int,bool,bool,int)\n    _fistaGraph< float >(Matrix< float > *,AbstractMatrixB< float > *,Matrix< float > *,Matrix< float > *,Vector< float > *,SpMatrix< bool > *,SpMatrix< bool > *,int,int,float,bool,float,float,float,float,float,float,float,float,float,int,int,bool,bool,bool,bool,bool,char *,char *,bool,bool,bool,bool,bool,bool,char *,bool,Vector< float > *,int,bool,bool,int)\n",
     "output_type": "error",
     "traceback": [
      "\u001b[0;31m---------------------------------------------------------------------------\u001b[0m",
      "\u001b[0;31mNotImplementedError\u001b[0m                       Traceback (most recent call last)",
      "\u001b[0;32m<ipython-input-72-cc0af76efeb7>\u001b[0m in \u001b[0;36m<module>\u001b[0;34m()\u001b[0m\n\u001b[1;32m     14\u001b[0m \u001b[0mtic\u001b[0m          \u001b[0;34m=\u001b[0m \u001b[0mtime\u001b[0m\u001b[0;34m.\u001b[0m\u001b[0mtime\u001b[0m\u001b[0;34m(\u001b[0m\u001b[0;34m)\u001b[0m\u001b[0;34m\u001b[0m\u001b[0m\n\u001b[1;32m     15\u001b[0m (W, optim_info) = spams.fistaGraph(Y, X, W0, graph, return_optim_info=True, verbose=verbose, lambda1=lambda1, it0=it0, max_it=max_it, L0=L0, tol=tol, \n\u001b[0;32m---> 16\u001b[0;31m                                    intercept=intercept, pos=pos, compute_gram=compute_gram, regul=regul, loss=loss)\n\u001b[0m\u001b[1;32m     17\u001b[0m \u001b[0mtac\u001b[0m \u001b[0;34m=\u001b[0m \u001b[0mtime\u001b[0m\u001b[0;34m.\u001b[0m\u001b[0mtime\u001b[0m\u001b[0;34m(\u001b[0m\u001b[0;34m)\u001b[0m\u001b[0;34m\u001b[0m\u001b[0m\n\u001b[1;32m     18\u001b[0m \u001b[0mt\u001b[0m \u001b[0;34m=\u001b[0m \u001b[0mtac\u001b[0m \u001b[0;34m-\u001b[0m \u001b[0mtic\u001b[0m\u001b[0;34m\u001b[0m\u001b[0m\n",
      "\u001b[0;32m~/miniconda3/envs/condaenv/lib/python3.5/site-packages/spams.py\u001b[0m in \u001b[0;36mfistaGraph\u001b[0;34m(Y, X, W0, graph, return_optim_info, numThreads, max_it, L0, fixed_step, gamma, lambda1, delta, lambda2, lambda3, a, b, c, tol, it0, max_iter_backtracking, compute_gram, lin_admm, admm, intercept, resetflow, regul, loss, verbose, pos, clever, log, ista, subgrad, logName, is_inner_weights, inner_weights, size_group, sqrt_step, transpose, linesearch_mode)\u001b[0m\n\u001b[1;32m   1355\u001b[0m     \u001b[0mgroups_var\u001b[0m \u001b[0;34m=\u001b[0m \u001b[0mgraph\u001b[0m\u001b[0;34m[\u001b[0m\u001b[0;34m'groups_var'\u001b[0m\u001b[0;34m]\u001b[0m\u001b[0;34m\u001b[0m\u001b[0m\n\u001b[1;32m   1356\u001b[0m     \u001b[0mW\u001b[0m \u001b[0;34m=\u001b[0m \u001b[0mnp\u001b[0m\u001b[0;34m.\u001b[0m\u001b[0mzeros\u001b[0m\u001b[0;34m(\u001b[0m\u001b[0;34m(\u001b[0m\u001b[0mW0\u001b[0m\u001b[0;34m.\u001b[0m\u001b[0mshape\u001b[0m\u001b[0;34m[\u001b[0m\u001b[0;36m0\u001b[0m\u001b[0;34m]\u001b[0m\u001b[0;34m,\u001b[0m\u001b[0mW0\u001b[0m\u001b[0;34m.\u001b[0m\u001b[0mshape\u001b[0m\u001b[0;34m[\u001b[0m\u001b[0;36m1\u001b[0m\u001b[0;34m]\u001b[0m\u001b[0;34m)\u001b[0m\u001b[0;34m,\u001b[0m\u001b[0mdtype\u001b[0m\u001b[0;34m=\u001b[0m\u001b[0mW0\u001b[0m\u001b[0;34m.\u001b[0m\u001b[0mdtype\u001b[0m\u001b[0;34m,\u001b[0m\u001b[0morder\u001b[0m\u001b[0;34m=\u001b[0m\u001b[0;34m\"F\"\u001b[0m\u001b[0;34m)\u001b[0m\u001b[0;34m\u001b[0m\u001b[0m\n\u001b[0;32m-> 1357\u001b[0;31m     \u001b[0moptim_info\u001b[0m \u001b[0;34m=\u001b[0m \u001b[0mspams_wrap\u001b[0m\u001b[0;34m.\u001b[0m\u001b[0mfistaGraph\u001b[0m\u001b[0;34m(\u001b[0m\u001b[0mY\u001b[0m\u001b[0;34m,\u001b[0m\u001b[0mX\u001b[0m\u001b[0;34m,\u001b[0m\u001b[0mW0\u001b[0m\u001b[0;34m,\u001b[0m\u001b[0mW\u001b[0m\u001b[0;34m,\u001b[0m\u001b[0meta_g\u001b[0m\u001b[0;34m,\u001b[0m\u001b[0mgroups\u001b[0m\u001b[0;34m,\u001b[0m\u001b[0mgroups_var\u001b[0m\u001b[0;34m,\u001b[0m\u001b[0mnumThreads\u001b[0m \u001b[0;34m,\u001b[0m\u001b[0mmax_it\u001b[0m \u001b[0;34m,\u001b[0m\u001b[0mL0\u001b[0m\u001b[0;34m,\u001b[0m\u001b[0mfixed_step\u001b[0m\u001b[0;34m,\u001b[0m\u001b[0mgamma\u001b[0m\u001b[0;34m,\u001b[0m\u001b[0mlambda1\u001b[0m\u001b[0;34m,\u001b[0m\u001b[0mdelta\u001b[0m\u001b[0;34m,\u001b[0m\u001b[0mlambda2\u001b[0m\u001b[0;34m,\u001b[0m\u001b[0mlambda3\u001b[0m\u001b[0;34m,\u001b[0m\u001b[0ma\u001b[0m\u001b[0;34m,\u001b[0m\u001b[0mb\u001b[0m\u001b[0;34m,\u001b[0m\u001b[0mc\u001b[0m\u001b[0;34m,\u001b[0m\u001b[0mtol\u001b[0m\u001b[0;34m,\u001b[0m\u001b[0mit0\u001b[0m\u001b[0;34m,\u001b[0m\u001b[0mmax_iter_backtracking\u001b[0m\u001b[0;34m,\u001b[0m\u001b[0mcompute_gram\u001b[0m\u001b[0;34m,\u001b[0m\u001b[0mlin_admm\u001b[0m\u001b[0;34m,\u001b[0m\u001b[0madmm\u001b[0m\u001b[0;34m,\u001b[0m\u001b[0mintercept\u001b[0m\u001b[0;34m,\u001b[0m\u001b[0mresetflow\u001b[0m\u001b[0;34m,\u001b[0m\u001b[0mregul\u001b[0m\u001b[0;34m,\u001b[0m\u001b[0mloss\u001b[0m\u001b[0;34m,\u001b[0m\u001b[0mverbose\u001b[0m\u001b[0;34m,\u001b[0m\u001b[0mpos\u001b[0m\u001b[0;34m,\u001b[0m\u001b[0mclever\u001b[0m\u001b[0;34m,\u001b[0m\u001b[0mlog\u001b[0m\u001b[0;34m,\u001b[0m\u001b[0mista\u001b[0m\u001b[0;34m,\u001b[0m\u001b[0msubgrad\u001b[0m\u001b[0;34m,\u001b[0m\u001b[0mlogName\u001b[0m\u001b[0;34m,\u001b[0m\u001b[0mis_inner_weights\u001b[0m\u001b[0;34m,\u001b[0m\u001b[0minner_weights\u001b[0m\u001b[0;34m,\u001b[0m\u001b[0msize_group\u001b[0m\u001b[0;34m,\u001b[0m\u001b[0msqrt_step\u001b[0m\u001b[0;34m,\u001b[0m\u001b[0mtranspose\u001b[0m\u001b[0;34m,\u001b[0m\u001b[0mlinesearch_mode\u001b[0m\u001b[0;34m)\u001b[0m\u001b[0;34m\u001b[0m\u001b[0m\n\u001b[0m\u001b[1;32m   1358\u001b[0m     \u001b[0;32mif\u001b[0m \u001b[0mreturn_optim_info\u001b[0m\u001b[0;34m:\u001b[0m\u001b[0;34m\u001b[0m\u001b[0m\n\u001b[1;32m   1359\u001b[0m         \u001b[0;32mreturn\u001b[0m\u001b[0;34m(\u001b[0m\u001b[0mW\u001b[0m\u001b[0;34m,\u001b[0m\u001b[0moptim_info\u001b[0m\u001b[0;34m)\u001b[0m\u001b[0;34m\u001b[0m\u001b[0m\n",
      "\u001b[0;32m~/miniconda3/envs/condaenv/lib/python3.5/site-packages/spams_wrap.py\u001b[0m in \u001b[0;36mfistaGraph\u001b[0;34m(*args)\u001b[0m\n\u001b[1;32m    304\u001b[0m     \u001b[0mfistaGraph\u001b[0m\u001b[0;34m(\u001b[0m\u001b[0mMatrix\u001b[0m\u001b[0;34m<\u001b[0m \u001b[0mfloat\u001b[0m \u001b[0;34m>\u001b[0m \u001b[0;34m*\u001b[0m \u001b[0mX\u001b[0m\u001b[0;34m,\u001b[0m \u001b[0mAbstractMatrixB\u001b[0m\u001b[0;34m<\u001b[0m \u001b[0mfloat\u001b[0m \u001b[0;34m>\u001b[0m \u001b[0;34m*\u001b[0m \u001b[0mD\u001b[0m\u001b[0;34m,\u001b[0m \u001b[0mMatrix\u001b[0m\u001b[0;34m<\u001b[0m \u001b[0mfloat\u001b[0m \u001b[0;34m>\u001b[0m \u001b[0;34m*\u001b[0m \u001b[0malpha0\u001b[0m\u001b[0;34m,\u001b[0m \u001b[0mMatrix\u001b[0m\u001b[0;34m<\u001b[0m \u001b[0mfloat\u001b[0m \u001b[0;34m>\u001b[0m \u001b[0;34m*\u001b[0m \u001b[0malpha\u001b[0m\u001b[0;34m,\u001b[0m \u001b[0mVector\u001b[0m\u001b[0;34m<\u001b[0m \u001b[0mfloat\u001b[0m \u001b[0;34m>\u001b[0m \u001b[0;34m*\u001b[0m \u001b[0meta_g\u001b[0m\u001b[0;34m,\u001b[0m \u001b[0mSpMatrix\u001b[0m\u001b[0;34m<\u001b[0m \u001b[0mbool\u001b[0m \u001b[0;34m>\u001b[0m \u001b[0;34m*\u001b[0m \u001b[0mgroups\u001b[0m\u001b[0;34m,\u001b[0m \u001b[0mSpMatrix\u001b[0m\u001b[0;34m<\u001b[0m \u001b[0mbool\u001b[0m \u001b[0;34m>\u001b[0m \u001b[0;34m*\u001b[0m \u001b[0mgroups_var\u001b[0m\u001b[0;34m,\u001b[0m \u001b[0mint\u001b[0m \u001b[0mnum_threads\u001b[0m\u001b[0;34m,\u001b[0m \u001b[0mint\u001b[0m \u001b[0mmax_it\u001b[0m\u001b[0;34m,\u001b[0m \u001b[0mfloat\u001b[0m \u001b[0mL0\u001b[0m\u001b[0;34m,\u001b[0m \u001b[0mbool\u001b[0m \u001b[0mfixed_step\u001b[0m\u001b[0;34m,\u001b[0m \u001b[0mfloat\u001b[0m \u001b[0mgamma\u001b[0m\u001b[0;34m,\u001b[0m \u001b[0mfloat\u001b[0m \u001b[0m_lambda\u001b[0m\u001b[0;34m,\u001b[0m \u001b[0mfloat\u001b[0m \u001b[0mdelta\u001b[0m\u001b[0;34m,\u001b[0m \u001b[0mfloat\u001b[0m \u001b[0mlambda2\u001b[0m\u001b[0;34m,\u001b[0m \u001b[0mfloat\u001b[0m \u001b[0mlambda3\u001b[0m\u001b[0;34m,\u001b[0m \u001b[0mfloat\u001b[0m \u001b[0ma\u001b[0m\u001b[0;34m,\u001b[0m \u001b[0mfloat\u001b[0m \u001b[0mb\u001b[0m\u001b[0;34m,\u001b[0m \u001b[0mfloat\u001b[0m \u001b[0mc\u001b[0m\u001b[0;34m,\u001b[0m \u001b[0mfloat\u001b[0m \u001b[0mtol\u001b[0m\u001b[0;34m,\u001b[0m \u001b[0mint\u001b[0m \u001b[0mit0\u001b[0m\u001b[0;34m,\u001b[0m \u001b[0mint\u001b[0m \u001b[0mmax_iter_backtracking\u001b[0m\u001b[0;34m,\u001b[0m \u001b[0mbool\u001b[0m \u001b[0mcompute_gram\u001b[0m\u001b[0;34m,\u001b[0m \u001b[0mbool\u001b[0m \u001b[0mlin_admm\u001b[0m\u001b[0;34m,\u001b[0m \u001b[0mbool\u001b[0m \u001b[0madmm\u001b[0m\u001b[0;34m,\u001b[0m \u001b[0mbool\u001b[0m \u001b[0mintercept\u001b[0m\u001b[0;34m,\u001b[0m \u001b[0mbool\u001b[0m \u001b[0mresetflow\u001b[0m\u001b[0;34m,\u001b[0m \u001b[0mchar\u001b[0m \u001b[0;34m*\u001b[0m \u001b[0mname_regul\u001b[0m\u001b[0;34m,\u001b[0m \u001b[0mchar\u001b[0m \u001b[0;34m*\u001b[0m \u001b[0mname_loss\u001b[0m\u001b[0;34m,\u001b[0m \u001b[0mbool\u001b[0m \u001b[0mverbose\u001b[0m\u001b[0;34m,\u001b[0m \u001b[0mbool\u001b[0m \u001b[0mpos\u001b[0m\u001b[0;34m,\u001b[0m \u001b[0mbool\u001b[0m \u001b[0mclever\u001b[0m\u001b[0;34m,\u001b[0m \u001b[0mbool\u001b[0m \u001b[0mlog\u001b[0m\u001b[0;34m,\u001b[0m \u001b[0mbool\u001b[0m \u001b[0mista\u001b[0m\u001b[0;34m,\u001b[0m \u001b[0mbool\u001b[0m \u001b[0msubgrad\u001b[0m\u001b[0;34m,\u001b[0m \u001b[0mchar\u001b[0m \u001b[0;34m*\u001b[0m \u001b[0mlogName\u001b[0m\u001b[0;34m,\u001b[0m \u001b[0mbool\u001b[0m \u001b[0mis_inner_weights\u001b[0m\u001b[0;34m,\u001b[0m \u001b[0mVector\u001b[0m\u001b[0;34m<\u001b[0m \u001b[0mfloat\u001b[0m \u001b[0;34m>\u001b[0m \u001b[0;34m*\u001b[0m \u001b[0minner_weights\u001b[0m\u001b[0;34m,\u001b[0m \u001b[0mint\u001b[0m \u001b[0msize_group\u001b[0m\u001b[0;34m,\u001b[0m \u001b[0mbool\u001b[0m \u001b[0msqrt_step\u001b[0m\u001b[0;34m,\u001b[0m \u001b[0mbool\u001b[0m \u001b[0mtranspose\u001b[0m\u001b[0;34m,\u001b[0m \u001b[0mint\u001b[0m \u001b[0mlinesearch_mode\u001b[0m\u001b[0;34m)\u001b[0m \u001b[0;34m->\u001b[0m \u001b[0mMatrix\u001b[0m\u001b[0;34m<\u001b[0m \u001b[0mfloat\u001b[0m \u001b[0;34m>\u001b[0m \u001b[0;34m*\u001b[0m\u001b[0;34m\u001b[0m\u001b[0m\n\u001b[1;32m    305\u001b[0m     \"\"\"\n\u001b[0;32m--> 306\u001b[0;31m     \u001b[0;32mreturn\u001b[0m \u001b[0m_spams_wrap\u001b[0m\u001b[0;34m.\u001b[0m\u001b[0mfistaGraph\u001b[0m\u001b[0;34m(\u001b[0m\u001b[0;34m*\u001b[0m\u001b[0margs\u001b[0m\u001b[0;34m)\u001b[0m\u001b[0;34m\u001b[0m\u001b[0m\n\u001b[0m\u001b[1;32m    307\u001b[0m \u001b[0;34m\u001b[0m\u001b[0m\n\u001b[1;32m    308\u001b[0m \u001b[0;32mdef\u001b[0m \u001b[0mproximalFlat\u001b[0m\u001b[0;34m(\u001b[0m\u001b[0;34m*\u001b[0m\u001b[0margs\u001b[0m\u001b[0;34m)\u001b[0m \u001b[0;34m->\u001b[0m \u001b[0;34m\"Vector< float > *\"\u001b[0m\u001b[0;34m:\u001b[0m\u001b[0;34m\u001b[0m\u001b[0m\n",
      "\u001b[0;31mNotImplementedError\u001b[0m: Wrong number or type of arguments for overloaded function 'fistaGraph'.\n  Possible C/C++ prototypes are:\n    _fistaGraph< double >(Matrix< double > *,AbstractMatrixB< double > *,Matrix< double > *,Matrix< double > *,Vector< double > *,SpMatrix< bool > *,SpMatrix< bool > *,int,int,double,bool,double,double,double,double,double,double,double,double,double,int,int,bool,bool,bool,bool,bool,char *,char *,bool,bool,bool,bool,bool,bool,char *,bool,Vector< double > *,int,bool,bool,int)\n    _fistaGraph< float >(Matrix< float > *,AbstractMatrixB< float > *,Matrix< float > *,Matrix< float > *,Vector< float > *,SpMatrix< bool > *,SpMatrix< bool > *,int,int,float,bool,float,float,float,float,float,float,float,float,float,int,int,bool,bool,bool,bool,bool,char *,char *,bool,bool,bool,bool,bool,bool,char *,bool,Vector< float > *,int,bool,bool,int)\n"
     ]
    }
   ],
   "source": [
    "verbose      = True\n",
    "num_threads  = -1      # all cores (-1 by default)\n",
    "verbose      = False   # verbosity, false by default\n",
    "lambda1      = 0.1     # regularization ter\n",
    "it0          = 1       # frequency for duality gap computations\n",
    "max_it       = 100     # maximum number of iterations\n",
    "L0           = 0.1\n",
    "tol          = 1e-5\n",
    "intercept    = False\n",
    "pos          = False\n",
    "compute_gram = True\n",
    "\n",
    "loss         = 'square'\n",
    "regul        = 'graph'\n",
    "tic          = time.time()\n",
    "(W, optim_info) = spams.fistaGraph(Y, X, W0, graph, return_optim_info=True, verbose=verbose, lambda1=lambda1, it0=it0, max_it=max_it, L0=L0, tol=tol, \n",
    "                                   intercept=intercept, pos=pos, compute_gram=compute_gram, regul=regul, loss=loss)\n",
    "tac = time.time()\n",
    "t = tac - tic\n",
    "print('mean loss: %f, mean relative duality_gap: %f, time: %f, number of iterations: %f' %(np.mean(optim_info[0,:]),np.mean(optim_info[2,:]),t,np.mean(optim_info[3,:])))"
   ]
  },
  {
   "cell_type": "code",
   "execution_count": null,
   "metadata": {},
   "outputs": [],
   "source": []
  },
  {
   "cell_type": "code",
   "execution_count": null,
   "metadata": {},
   "outputs": [],
   "source": []
  }
 ],
 "metadata": {
  "kernelspec": {
   "display_name": "Python 3",
   "language": "python",
   "name": "python3"
  },
  "language_info": {
   "codemirror_mode": {
    "name": "ipython",
    "version": 3
   },
   "file_extension": ".py",
   "mimetype": "text/x-python",
   "name": "python",
   "nbconvert_exporter": "python",
   "pygments_lexer": "ipython3",
   "version": "3.5.4"
  }
 },
 "nbformat": 4,
 "nbformat_minor": 2
}
