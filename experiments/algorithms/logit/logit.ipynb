{
 "cells": [
  {
   "cell_type": "markdown",
   "metadata": {
    "deletable": true,
    "editable": true
   },
   "source": [
    "# Logistic Regression with L1 regularization for sparse recovery of the dysregulated pathways in our synthetic datasets"
   ]
  },
  {
   "cell_type": "code",
   "execution_count": 2,
   "metadata": {
    "collapsed": false,
    "deletable": true,
    "editable": true
   },
   "outputs": [
    {
     "name": "stdout",
     "output_type": "stream",
     "text": [
      "Populating the interactive namespace from numpy and matplotlib\n"
     ]
    }
   ],
   "source": [
    "%pylab inline\n",
    "import numpy as np\n",
    "import pandas as pd\n",
    "import networkx as nx\n",
    "\n",
    "from sklearn.linear_model import LogisticRegression\n",
    "from sklearn.preprocessing import LabelEncoder\n",
    "# from sklearn.model_selection import train_test_split, cross_val_score, KFold\n",
    "\n",
    "import pickle\n",
    "from matplotlib_venn import venn3, venn3_circles, venn2"
   ]
  },
  {
   "cell_type": "markdown",
   "metadata": {
    "deletable": true,
    "editable": true
   },
   "source": [
    "### I. Load Dataset"
   ]
  },
  {
   "cell_type": "code",
   "execution_count": 3,
   "metadata": {
    "collapsed": false,
    "deletable": true,
    "editable": true
   },
   "outputs": [
    {
     "data": {
      "text/html": [
       "<div>\n",
       "<style>\n",
       "    .dataframe thead tr:only-child th {\n",
       "        text-align: right;\n",
       "    }\n",
       "\n",
       "    .dataframe thead th {\n",
       "        text-align: left;\n",
       "    }\n",
       "\n",
       "    .dataframe tbody tr th {\n",
       "        vertical-align: top;\n",
       "    }\n",
       "</style>\n",
       "<table border=\"1\" class=\"dataframe\">\n",
       "  <thead>\n",
       "    <tr style=\"text-align: right;\">\n",
       "      <th></th>\n",
       "      <th>ZNF91</th>\n",
       "      <th>NDEL1</th>\n",
       "      <th>ELAVL1</th>\n",
       "      <th>SUMO1</th>\n",
       "      <th>SUMO3</th>\n",
       "      <th>CHMP5</th>\n",
       "      <th>UBC</th>\n",
       "      <th>HTT</th>\n",
       "      <th>E2F4</th>\n",
       "      <th>ACP5</th>\n",
       "      <th>...</th>\n",
       "      <th>SPANXN4</th>\n",
       "      <th>ZNF605</th>\n",
       "      <th>SERPINB10</th>\n",
       "      <th>ANKAR</th>\n",
       "      <th>RRH</th>\n",
       "      <th>DHH</th>\n",
       "      <th>CYSLTR1</th>\n",
       "      <th>ZNF268</th>\n",
       "      <th>COL23A1</th>\n",
       "      <th>MEDAG</th>\n",
       "    </tr>\n",
       "  </thead>\n",
       "  <tbody>\n",
       "    <tr>\n",
       "      <th>hsa04110</th>\n",
       "      <td>0.0</td>\n",
       "      <td>0.014856</td>\n",
       "      <td>0.264810</td>\n",
       "      <td>0.109797</td>\n",
       "      <td>-0.976005</td>\n",
       "      <td>0.173769</td>\n",
       "      <td>0.0</td>\n",
       "      <td>0.285756</td>\n",
       "      <td>0.288839</td>\n",
       "      <td>-0.231566</td>\n",
       "      <td>...</td>\n",
       "      <td>0.0</td>\n",
       "      <td>0.0</td>\n",
       "      <td>0.0</td>\n",
       "      <td>0.0</td>\n",
       "      <td>0.0</td>\n",
       "      <td>0.0</td>\n",
       "      <td>0.0</td>\n",
       "      <td>0.0</td>\n",
       "      <td>0.0</td>\n",
       "      <td>0.0</td>\n",
       "    </tr>\n",
       "    <tr>\n",
       "      <th>negative</th>\n",
       "      <td>0.0</td>\n",
       "      <td>-0.228736</td>\n",
       "      <td>0.089442</td>\n",
       "      <td>0.339065</td>\n",
       "      <td>-0.597546</td>\n",
       "      <td>0.040049</td>\n",
       "      <td>0.0</td>\n",
       "      <td>-0.098450</td>\n",
       "      <td>0.073976</td>\n",
       "      <td>-0.494193</td>\n",
       "      <td>...</td>\n",
       "      <td>0.0</td>\n",
       "      <td>0.0</td>\n",
       "      <td>0.0</td>\n",
       "      <td>0.0</td>\n",
       "      <td>0.0</td>\n",
       "      <td>0.0</td>\n",
       "      <td>0.0</td>\n",
       "      <td>0.0</td>\n",
       "      <td>0.0</td>\n",
       "      <td>0.0</td>\n",
       "    </tr>\n",
       "    <tr>\n",
       "      <th>negative</th>\n",
       "      <td>-0.0</td>\n",
       "      <td>-0.715740</td>\n",
       "      <td>-0.143526</td>\n",
       "      <td>-0.480106</td>\n",
       "      <td>0.125846</td>\n",
       "      <td>0.284645</td>\n",
       "      <td>-0.0</td>\n",
       "      <td>0.021132</td>\n",
       "      <td>-0.115910</td>\n",
       "      <td>-0.016950</td>\n",
       "      <td>...</td>\n",
       "      <td>0.0</td>\n",
       "      <td>0.0</td>\n",
       "      <td>0.0</td>\n",
       "      <td>0.0</td>\n",
       "      <td>0.0</td>\n",
       "      <td>0.0</td>\n",
       "      <td>0.0</td>\n",
       "      <td>0.0</td>\n",
       "      <td>0.0</td>\n",
       "      <td>0.0</td>\n",
       "    </tr>\n",
       "    <tr>\n",
       "      <th>negative</th>\n",
       "      <td>-0.0</td>\n",
       "      <td>-0.383979</td>\n",
       "      <td>0.359009</td>\n",
       "      <td>0.394243</td>\n",
       "      <td>-0.387827</td>\n",
       "      <td>-0.281805</td>\n",
       "      <td>0.0</td>\n",
       "      <td>-0.922308</td>\n",
       "      <td>0.340674</td>\n",
       "      <td>-0.278771</td>\n",
       "      <td>...</td>\n",
       "      <td>0.0</td>\n",
       "      <td>0.0</td>\n",
       "      <td>0.0</td>\n",
       "      <td>0.0</td>\n",
       "      <td>0.0</td>\n",
       "      <td>0.0</td>\n",
       "      <td>0.0</td>\n",
       "      <td>0.0</td>\n",
       "      <td>0.0</td>\n",
       "      <td>0.0</td>\n",
       "    </tr>\n",
       "    <tr>\n",
       "      <th>negative</th>\n",
       "      <td>0.0</td>\n",
       "      <td>-0.023037</td>\n",
       "      <td>0.196800</td>\n",
       "      <td>-0.292508</td>\n",
       "      <td>0.165186</td>\n",
       "      <td>0.105207</td>\n",
       "      <td>0.0</td>\n",
       "      <td>-0.521385</td>\n",
       "      <td>-0.194466</td>\n",
       "      <td>-0.234121</td>\n",
       "      <td>...</td>\n",
       "      <td>0.0</td>\n",
       "      <td>0.0</td>\n",
       "      <td>0.0</td>\n",
       "      <td>0.0</td>\n",
       "      <td>0.0</td>\n",
       "      <td>0.0</td>\n",
       "      <td>0.0</td>\n",
       "      <td>0.0</td>\n",
       "      <td>0.0</td>\n",
       "      <td>0.0</td>\n",
       "    </tr>\n",
       "  </tbody>\n",
       "</table>\n",
       "<p>5 rows × 16349 columns</p>\n",
       "</div>"
      ],
      "text/plain": [
       "          ZNF91     NDEL1    ELAVL1     SUMO1     SUMO3     CHMP5  UBC  \\\n",
       "hsa04110    0.0  0.014856  0.264810  0.109797 -0.976005  0.173769  0.0   \n",
       "negative    0.0 -0.228736  0.089442  0.339065 -0.597546  0.040049  0.0   \n",
       "negative   -0.0 -0.715740 -0.143526 -0.480106  0.125846  0.284645 -0.0   \n",
       "negative   -0.0 -0.383979  0.359009  0.394243 -0.387827 -0.281805  0.0   \n",
       "negative    0.0 -0.023037  0.196800 -0.292508  0.165186  0.105207  0.0   \n",
       "\n",
       "               HTT      E2F4      ACP5  ...    SPANXN4  ZNF605  SERPINB10  \\\n",
       "hsa04110  0.285756  0.288839 -0.231566  ...        0.0     0.0        0.0   \n",
       "negative -0.098450  0.073976 -0.494193  ...        0.0     0.0        0.0   \n",
       "negative  0.021132 -0.115910 -0.016950  ...        0.0     0.0        0.0   \n",
       "negative -0.922308  0.340674 -0.278771  ...        0.0     0.0        0.0   \n",
       "negative -0.521385 -0.194466 -0.234121  ...        0.0     0.0        0.0   \n",
       "\n",
       "          ANKAR  RRH  DHH  CYSLTR1  ZNF268  COL23A1  MEDAG  \n",
       "hsa04110    0.0  0.0  0.0      0.0     0.0      0.0    0.0  \n",
       "negative    0.0  0.0  0.0      0.0     0.0      0.0    0.0  \n",
       "negative    0.0  0.0  0.0      0.0     0.0      0.0    0.0  \n",
       "negative    0.0  0.0  0.0      0.0     0.0      0.0    0.0  \n",
       "negative    0.0  0.0  0.0      0.0     0.0      0.0    0.0  \n",
       "\n",
       "[5 rows x 16349 columns]"
      ]
     },
     "execution_count": 3,
     "metadata": {},
     "output_type": "execute_result"
    }
   ],
   "source": [
    "dataset = pd.read_csv('/Users/alex/Documents/proteomics/synthetic_proteomics/generated_data/ludwig_svd_normals/hsa04110_inbiomap_exp.csv', index_col=0)\n",
    "dataset.head()"
   ]
  },
  {
   "cell_type": "markdown",
   "metadata": {
    "deletable": true,
    "editable": true
   },
   "source": [
    "### II. Extract Labels"
   ]
  },
  {
   "cell_type": "code",
   "execution_count": 4,
   "metadata": {
    "collapsed": false,
    "deletable": true,
    "editable": true,
    "scrolled": false
   },
   "outputs": [
    {
     "data": {
      "text/plain": [
       "array(['hsa04110', 'negative', 'negative', 'negative', 'negative',\n",
       "       'negative', 'negative', 'hsa04110', 'negative', 'negative',\n",
       "       'hsa04110', 'negative', 'hsa04110', 'hsa04110', 'hsa04110',\n",
       "       'negative', 'hsa04110', 'negative', 'negative', 'hsa04110',\n",
       "       'negative', 'hsa04110', 'negative', 'negative', 'negative',\n",
       "       'hsa04110', 'negative', 'negative', 'hsa04110', 'negative',\n",
       "       'negative', 'hsa04110', 'hsa04110', 'negative', 'negative',\n",
       "       'negative', 'negative', 'hsa04110', 'negative', 'negative',\n",
       "       'negative', 'hsa04110', 'hsa04110', 'negative', 'negative',\n",
       "       'negative', 'negative', 'hsa04110', 'hsa04110', 'negative',\n",
       "       'hsa04110', 'hsa04110', 'hsa04110', 'negative', 'negative',\n",
       "       'negative', 'hsa04110', 'negative', 'hsa04110', 'negative',\n",
       "       'hsa04110', 'hsa04110', 'hsa04110', 'hsa04110', 'hsa04110',\n",
       "       'hsa04110', 'hsa04110', 'hsa04110', 'negative', 'negative',\n",
       "       'hsa04110', 'negative', 'negative', 'hsa04110', 'hsa04110',\n",
       "       'hsa04110', 'negative', 'hsa04110', 'hsa04110', 'hsa04110',\n",
       "       'negative', 'hsa04110', 'negative', 'negative', 'hsa04110',\n",
       "       'hsa04110', 'hsa04110', 'hsa04110', 'negative', 'hsa04110',\n",
       "       'hsa04110', 'hsa04110', 'negative', 'negative', 'negative',\n",
       "       'hsa04110', 'negative', 'hsa04110', 'hsa04110', 'negative',\n",
       "       'negative', 'negative', 'negative', 'negative', 'hsa04110',\n",
       "       'negative', 'negative', 'hsa04110', 'hsa04110', 'hsa04110',\n",
       "       'negative', 'hsa04110', 'hsa04110', 'hsa04110', 'negative',\n",
       "       'negative', 'negative', 'negative', 'hsa04110', 'hsa04110',\n",
       "       'negative', 'negative', 'negative', 'negative', 'hsa04110',\n",
       "       'hsa04110', 'negative', 'hsa04110', 'hsa04110', 'hsa04110',\n",
       "       'negative', 'hsa04110', 'negative', 'hsa04110', 'hsa04110',\n",
       "       'negative', 'negative', 'hsa04110', 'negative', 'negative',\n",
       "       'hsa04110', 'negative', 'negative', 'hsa04110', 'hsa04110',\n",
       "       'hsa04110', 'hsa04110', 'negative', 'negative', 'hsa04110',\n",
       "       'negative', 'negative', 'negative', 'hsa04110', 'negative',\n",
       "       'negative', 'hsa04110', 'negative', 'hsa04110', 'negative',\n",
       "       'hsa04110', 'negative', 'negative', 'negative', 'hsa04110',\n",
       "       'hsa04110', 'hsa04110', 'hsa04110', 'hsa04110', 'hsa04110',\n",
       "       'hsa04110', 'hsa04110', 'negative', 'hsa04110', 'hsa04110',\n",
       "       'negative', 'negative', 'hsa04110', 'hsa04110', 'negative',\n",
       "       'hsa04110', 'negative', 'hsa04110', 'negative', 'negative',\n",
       "       'negative', 'hsa04110', 'hsa04110', 'negative', 'negative',\n",
       "       'hsa04110', 'negative', 'hsa04110', 'hsa04110', 'hsa04110',\n",
       "       'negative', 'negative', 'hsa04110', 'hsa04110', 'hsa04110'], dtype=object)"
      ]
     },
     "execution_count": 4,
     "metadata": {},
     "output_type": "execute_result"
    }
   ],
   "source": [
    "labels = dataset.index.values\n",
    "labels"
   ]
  },
  {
   "cell_type": "markdown",
   "metadata": {
    "deletable": true,
    "editable": true
   },
   "source": [
    "### III. L1-regularized Sparse Logistic Regression"
   ]
  },
  {
   "cell_type": "code",
   "execution_count": 17,
   "metadata": {
    "collapsed": false,
    "deletable": true,
    "editable": true
   },
   "outputs": [
    {
     "name": "stderr",
     "output_type": "stream",
     "text": [
      "/Users/alex/Documents/proteomics/venv/lib/python3.6/site-packages/ipykernel/__main__.py:4: DeprecationWarning: \n",
      ".ix is deprecated. Please use\n",
      ".loc for label based indexing or\n",
      ".iloc for positional indexing\n",
      "\n",
      "See the documentation here:\n",
      "http://pandas.pydata.org/pandas-docs/stable/indexing.html#ix-indexer-is-deprecated\n"
     ]
    }
   ],
   "source": [
    "classifier = LogisticRegression(solver='liblinear', penalty='l1', C=100)\n",
    "classifier = classifier.fit(dataset.values, labels)\n",
    "coefs = pd.DataFrame(classifier.coef_, columns=dataset.columns)\n",
    "features = coefs.ix[0, coefs.loc[0].nonzero()[0].tolist()].index.tolist()"
   ]
  },
  {
   "cell_type": "markdown",
   "metadata": {
    "deletable": true,
    "editable": true
   },
   "source": [
    "### IV. Examine Results"
   ]
  },
  {
   "cell_type": "code",
   "execution_count": 18,
   "metadata": {
    "collapsed": false,
    "deletable": true,
    "editable": true
   },
   "outputs": [
    {
     "data": {
      "text/plain": [
       "array(['hsa04110', 'negative'], dtype=object)"
      ]
     },
     "execution_count": 18,
     "metadata": {},
     "output_type": "execute_result"
    }
   ],
   "source": [
    "classifier.classes_"
   ]
  },
  {
   "cell_type": "code",
   "execution_count": 19,
   "metadata": {
    "collapsed": false,
    "deletable": true,
    "editable": true
   },
   "outputs": [
    {
     "data": {
      "text/plain": [
       "<matplotlib.axes._subplots.AxesSubplot at 0x115de60f0>"
      ]
     },
     "execution_count": 19,
     "metadata": {},
     "output_type": "execute_result"
    },
    {
     "data": {
      "image/png": "[encoded data removed]",
      "text/plain": [
       "<matplotlib.figure.Figure at 0x115de7c18>"
      ]
     },
     "metadata": {},
     "output_type": "display_data"
    }
   ],
   "source": [
    "pd.DataFrame(classifier.coef_, columns=dataset.columns).transpose().plot(figsize=(17,8))"
   ]
  },
  {
   "cell_type": "code",
   "execution_count": 20,
   "metadata": {
    "collapsed": false,
    "deletable": true,
    "editable": true
   },
   "outputs": [],
   "source": [
    "pathways_df = pd.read_pickle('/Users/alex/Documents/proteomics/synthetic_proteomics/data_generation/KEGG_df.filtered.with_correlates.pickle')"
   ]
  },
  {
   "cell_type": "code",
   "execution_count": 21,
   "metadata": {
    "collapsed": false,
    "deletable": true,
    "editable": true
   },
   "outputs": [],
   "source": [
    "genes, correlates = pathways_df.loc[pd.IndexSlice[:, :, ['hsa04110']],['genes', 'correlates']].values[0]\n",
    "correlates = correlates.tolist()\n",
    "# pathways_df.loc[pd.IndexSlice[:, :, ['hsa04810']],['genes', 'correlates']]"
   ]
  },
  {
   "cell_type": "code",
   "execution_count": 22,
   "metadata": {
    "collapsed": false,
    "deletable": true,
    "editable": true
   },
   "outputs": [
    {
     "name": "stderr",
     "output_type": "stream",
     "text": [
      "/Users/alex/Documents/proteomics/venv/lib/python3.6/site-packages/matplotlib_venn/_venn3.py:117: UserWarning: Bad circle positioning\n",
      "  warnings.warn(\"Bad circle positioning\")\n"
     ]
    },
    {
     "data": {
      "text/plain": [
       "<matplotlib_venn._common.VennDiagram at 0x115c17f98>"
      ]
     },
     "execution_count": 22,
     "metadata": {},
     "output_type": "execute_result"
    },
    {
     "data": {
      "image/png": "[encoded data removed]",
      "text/plain": [
       "<matplotlib.figure.Figure at 0x115c00860>"
      ]
     },
     "metadata": {},
     "output_type": "display_data"
    }
   ],
   "source": [
    "venn3([set(features), set(genes), set(genes) | set(correlates)])"
   ]
  },
  {
   "cell_type": "markdown",
   "metadata": {
    "collapsed": true,
    "deletable": true,
    "editable": true
   },
   "source": [
    "### V. Ludwig's Softmax Loss experiments"
   ]
  },
  {
   "cell_type": "code",
   "execution_count": 22,
   "metadata": {
    "collapsed": true,
    "deletable": true,
    "editable": true
   },
   "outputs": [],
   "source": [
    "def softmax_loss(X, y, W):\n",
    "    # TODO: make this work with nopython=True\n",
    "    assert len(X.shape) == 2\n",
    "    n, d = X.shape\n",
    "    assert y.shape == (n,)\n",
    "    assert len(W.shape) == 2\n",
    "    assert W.shape[1] == d\n",
    "    c = W.shape[0]\n",
    "    # TODO: check that elements in y are in the correct range\n",
    "    \n",
    "    # TODO: replace with transpose_b=True ?\n",
    "    prod = np.dot(X, W.transpose())\n",
    "    row_max = np.amax(prod, axis=1)\n",
    "    prod_normalized = prod - np.expand_dims(row_max, 1)\n",
    "    exp_prod = np.exp(prod_normalized)\n",
    "    denom = np.sum(exp_prod, axis=1)\n",
    "    \n",
    "    total_loss = 0.0\n",
    "    for ii in range(n):\n",
    "        cur_y = y[ii]\n",
    "        cur_x = X[ii,:]\n",
    "        total_loss += prod_normalized[ii, cur_y] - math.log(denom[ii])\n",
    "    return -total_loss / n"
   ]
  },
  {
   "cell_type": "code",
   "execution_count": 23,
   "metadata": {
    "collapsed": false,
    "deletable": true,
    "editable": true
   },
   "outputs": [
    {
     "data": {
      "text/plain": [
       "array([0, 1, 1, 1, 1, 1, 1, 0, 1, 1, 0, 1, 0, 0, 0, 1, 0, 1, 1, 0, 1, 0, 1,\n",
       "       1, 1, 0, 1, 1, 0, 1, 1, 0, 0, 1, 1, 1, 1, 0, 1, 1, 1, 0, 0, 1, 1, 1,\n",
       "       1, 0, 0, 1, 0, 0, 0, 1, 1, 1, 0, 1, 0, 1, 0, 0, 0, 0, 0, 0, 0, 0, 1,\n",
       "       1, 0, 1, 1, 0, 0, 0, 1, 0, 0, 0, 1, 0, 1, 1, 0, 0, 0, 0, 1, 0, 0, 0,\n",
       "       1, 1, 1, 0, 1, 0, 0, 1, 1, 1, 1, 1, 0, 1, 1, 0, 0, 0, 1, 0, 0, 0, 1,\n",
       "       1, 1, 1, 0, 0, 1, 1, 1, 1, 0, 0, 1, 0, 0, 0, 1, 0, 1, 0, 0, 1, 1, 0,\n",
       "       1, 1, 0, 1, 1, 0, 0, 0, 0, 1, 1, 0, 1, 1, 1, 0, 1, 1, 0, 1, 0, 1, 0,\n",
       "       1, 1, 1, 0, 0, 0, 0, 0, 0, 0, 0, 1, 0, 0, 1, 1, 0, 0, 1, 0, 1, 0, 1,\n",
       "       1, 1, 0, 0, 1, 1, 0, 1, 0, 0, 0, 1, 1, 0, 0, 0])"
      ]
     },
     "execution_count": 23,
     "metadata": {},
     "output_type": "execute_result"
    }
   ],
   "source": [
    "labeler = LabelEncoder()\n",
    "labeler.fit(labels)\n",
    "labels = labeler.transform(dataset.index.tolist())\n",
    "y = labels\n",
    "y"
   ]
  },
  {
   "cell_type": "code",
   "execution_count": 24,
   "metadata": {
    "collapsed": false,
    "deletable": true,
    "editable": true
   },
   "outputs": [
    {
     "data": {
      "text/plain": [
       "0.036948344162044962"
      ]
     },
     "execution_count": 24,
     "metadata": {},
     "output_type": "execute_result"
    }
   ],
   "source": [
    "softmax_loss(dataset.values, y, np.vstack([-coefs.values, coefs.values]))"
   ]
  },
  {
   "cell_type": "code",
   "execution_count": null,
   "metadata": {
    "collapsed": true,
    "deletable": true,
    "editable": true
   },
   "outputs": [],
   "source": []
  }
 ],
 "metadata": {
  "kernelspec": {
   "display_name": "Python 3",
   "language": "python",
   "name": "python3"
  },
  "language_info": {
   "codemirror_mode": {
    "name": "ipython",
    "version": 3
   },
   "file_extension": ".py",
   "mimetype": "text/x-python",
   "name": "python",
   "nbconvert_exporter": "python",
   "pygments_lexer": "ipython3",
   "version": "3.6.1"
  }
 },
 "nbformat": 4,
 "nbformat_minor": 2
}
