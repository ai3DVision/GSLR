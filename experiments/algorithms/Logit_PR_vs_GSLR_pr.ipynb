{
 "cells": [
  {
   "cell_type": "markdown",
   "metadata": {},
   "source": [
    "# Comparing the performances of L1-Regularized Sparse Logistic Regression and Graph-Sparse Logistic Regression on Synthetic Data *for multiple sparsities*"
   ]
  },
  {
   "cell_type": "code",
   "execution_count": 1,
   "metadata": {},
   "outputs": [
    {
     "name": "stdout",
     "output_type": "stream",
     "text": [
      "Populating the interactive namespace from numpy and matplotlib\n"
     ]
    }
   ],
   "source": [
    "%pylab inline\n",
    "pylab.rcParams['figure.figsize'] = (17, 8)\n",
    "\n",
    "import pickle\n",
    "import pandas as pd\n",
    "import seaborn as sns; sns.set_style(\"whitegrid\")\n",
    "\n",
    "repo_path = '/Users/alex/Documents/gslr/'\n",
    "KEGG_path = repo_path + 'experiments/KEGG/KEGG_df.filtered.with_correlates.pickle'"
   ]
  },
  {
   "cell_type": "code",
   "execution_count": 2,
   "metadata": {},
   "outputs": [],
   "source": [
    "logit_scores = pd.read_pickle('logit/logit_pr_scores.pickle')\n",
    "logit_recalls = pd.read_pickle('logit/logit_pr_recalls.pickle')\n",
    "logit_precisions = pd.read_pickle('logit/logit_pr_precisions.pickle')\n",
    "\n",
    "logit_gmm_scores = pd.read_pickle('logit/logit_gmm_pr_scores.pickle')\n",
    "logit_gmm_recalls = pd.read_pickle('logit/logit_gmm_pr_recalls.pickle')\n",
    "logit_gmm_precisions = pd.read_pickle('logit/logit_gmm_pr_precisions.pickle')\n",
    "\n",
    "gslr_scores = pd.read_pickle('gslr/gslr_pr_scores.pickle')\n",
    "gslr_recalls = pd.read_pickle('gslr/gslr_pr_recalls.pickle')\n",
    "gslr_precisions = pd.read_pickle('gslr/gslr_pr_precisions.pickle')\n",
    "\n",
    "gslr_gmm_scores = pd.read_pickle('gslr/gslr_gmm_pr_scores.pickle')\n",
    "gslr_gmm_recalls = pd.read_pickle('gslr/gslr_gmm_pr_recalls.pickle')\n",
    "gslr_gmm_precisions = pd.read_pickle('gslr/gslr_gmm_pr_precisions.pickle')"
   ]
  },
  {
   "cell_type": "code",
   "execution_count": null,
   "metadata": {},
   "outputs": [],
   "source": []
  },
  {
   "cell_type": "code",
   "execution_count": null,
   "metadata": {},
   "outputs": [],
   "source": []
  },
  {
   "cell_type": "code",
   "execution_count": null,
   "metadata": {},
   "outputs": [],
   "source": []
  },
  {
   "cell_type": "code",
   "execution_count": null,
   "metadata": {},
   "outputs": [],
   "source": []
  },
  {
   "cell_type": "code",
   "execution_count": null,
   "metadata": {},
   "outputs": [],
   "source": []
  },
  {
   "cell_type": "code",
   "execution_count": null,
   "metadata": {},
   "outputs": [],
   "source": []
  },
  {
   "cell_type": "code",
   "execution_count": null,
   "metadata": {},
   "outputs": [],
   "source": []
  }
 ],
 "metadata": {
  "kernelspec": {
   "display_name": "Python 3",
   "language": "python",
   "name": "python3"
  },
  "language_info": {
   "codemirror_mode": {
    "name": "ipython",
    "version": 3
   },
   "file_extension": ".py",
   "mimetype": "text/x-python",
   "name": "python",
   "nbconvert_exporter": "python",
   "pygments_lexer": "ipython3",
   "version": "3.6.1"
  }
 },
 "nbformat": 4,
 "nbformat_minor": 2
}
