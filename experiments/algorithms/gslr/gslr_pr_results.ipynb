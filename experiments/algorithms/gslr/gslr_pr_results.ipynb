{
 "cells": [
  {
   "cell_type": "markdown",
   "metadata": {},
   "source": [
    "# Graph-Sparse Logistic Regression Precision / Recall Curve"
   ]
  },
  {
   "cell_type": "code",
   "execution_count": 1,
   "metadata": {},
   "outputs": [
    {
     "name": "stdout",
     "output_type": "stream",
     "text": [
      "Populating the interactive namespace from numpy and matplotlib\n"
     ]
    }
   ],
   "source": [
    "%pylab inline\n",
    "pylab.rcParams['figure.figsize'] = (17, 8)\n",
    "\n",
    "import pickle\n",
    "import pandas as pd\n",
    "import seaborn as sns; sns.set_style(\"whitegrid\")\n",
    "\n",
    "repo_path = '/Users/alex/Documents/gslr/'\n",
    "KEGG_path = repo_path + 'experiments/KEGG/KEGG_df.filtered.with_correlates.pickle'\n",
    "\n",
    "# File was serialized like so: \n",
    "#   logit_pr_results = [(pathway_id, scores, classifier.coef_, classifier.Cs_), ...]\n",
    "#   pickle.dump(results, open('logit_pr_results.pickle', 'wb'))"
   ]
  },
  {
   "cell_type": "markdown",
   "metadata": {},
   "source": [
    "## I. Extract Data"
   ]
  },
  {
   "cell_type": "markdown",
   "metadata": {},
   "source": [
    "### i. Load data"
   ]
  },
  {
   "cell_type": "code",
   "execution_count": 2,
   "metadata": {},
   "outputs": [],
   "source": [
    "nodes = pd.read_csv(repo_path + 'experiments/generated_data/3/hsa04110_inbiomap_exp.csv', index_col=0).columns"
   ]
  },
  {
   "cell_type": "code",
   "execution_count": 3,
   "metadata": {},
   "outputs": [],
   "source": [
    "pathways_df = pd.read_pickle(KEGG_path)\n",
    "\n",
    "pathways = {pathway_id: set(pathways_df.loc[pd.IndexSlice[:, :, [pathway_id]],['genes', 'correlates']].values[0][0]) for pathway_id in pathways_df.index.get_level_values(2)}"
   ]
  },
  {
   "cell_type": "code",
   "execution_count": 4,
   "metadata": {},
   "outputs": [],
   "source": [
    "lows_and_highs = [(0, 100),(50, 150),(100, 200),(150, 300),(250, 500)]"
   ]
  },
  {
   "cell_type": "code",
   "execution_count": 5,
   "metadata": {},
   "outputs": [],
   "source": [
    "results = pickle.load(open('gslr_pr_results.pickle', 'rb'))"
   ]
  },
  {
   "cell_type": "markdown",
   "metadata": {},
   "source": [
    "### ii. Define Precision and Recall"
   ]
  },
  {
   "cell_type": "code",
   "execution_count": 7,
   "metadata": {},
   "outputs": [],
   "source": [
    "def recall(truth, pred):    \n",
    "    return len(truth & pred) / float(len(truth))\n",
    "    \n",
    "def precision(truth, pred):\n",
    "    if len(pred) == 0: return float(0)\n",
    "    return len(truth & pred) / float(len(pred))"
   ]
  },
  {
   "cell_type": "markdown",
   "metadata": {},
   "source": [
    "### iii. Retrieve Scores, Precisions, and Recalls for every pathway for every fold for every sparsity"
   ]
  },
  {
   "cell_type": "code",
   "execution_count": 12,
   "metadata": {
    "scrolled": false
   },
   "outputs": [
    {
     "data": {
      "text/html": [
       "<div>\n",
       "<style>\n",
       "    .dataframe thead tr:only-child th {\n",
       "        text-align: right;\n",
       "    }\n",
       "\n",
       "    .dataframe thead th {\n",
       "        text-align: left;\n",
       "    }\n",
       "\n",
       "    .dataframe tbody tr th {\n",
       "        vertical-align: top;\n",
       "    }\n",
       "</style>\n",
       "<table border=\"1\" class=\"dataframe\">\n",
       "  <thead>\n",
       "    <tr style=\"text-align: right;\">\n",
       "      <th></th>\n",
       "      <th></th>\n",
       "      <th>fold_0</th>\n",
       "      <th>fold_1</th>\n",
       "      <th>fold_2</th>\n",
       "      <th>fold_3</th>\n",
       "      <th>fold_4</th>\n",
       "      <th>fold_5</th>\n",
       "      <th>fold_6</th>\n",
       "      <th>fold_7</th>\n",
       "      <th>fold_8</th>\n",
       "      <th>fold_9</th>\n",
       "    </tr>\n",
       "  </thead>\n",
       "  <tbody>\n",
       "    <tr>\n",
       "      <th rowspan=\"5\" valign=\"top\">hsa04110</th>\n",
       "      <th>(0, 100)</th>\n",
       "      <td>0.70</td>\n",
       "      <td>0.85</td>\n",
       "      <td>0.75</td>\n",
       "      <td>0.85</td>\n",
       "      <td>0.80</td>\n",
       "      <td>0.90</td>\n",
       "      <td>0.65</td>\n",
       "      <td>0.65</td>\n",
       "      <td>0.80</td>\n",
       "      <td>0.70</td>\n",
       "    </tr>\n",
       "    <tr>\n",
       "      <th>(50, 150)</th>\n",
       "      <td>0.85</td>\n",
       "      <td>0.95</td>\n",
       "      <td>0.80</td>\n",
       "      <td>0.90</td>\n",
       "      <td>0.90</td>\n",
       "      <td>0.95</td>\n",
       "      <td>0.85</td>\n",
       "      <td>0.85</td>\n",
       "      <td>1.00</td>\n",
       "      <td>0.95</td>\n",
       "    </tr>\n",
       "    <tr>\n",
       "      <th>(100, 200)</th>\n",
       "      <td>0.90</td>\n",
       "      <td>0.95</td>\n",
       "      <td>0.90</td>\n",
       "      <td>0.90</td>\n",
       "      <td>0.85</td>\n",
       "      <td>0.95</td>\n",
       "      <td>0.85</td>\n",
       "      <td>0.85</td>\n",
       "      <td>1.00</td>\n",
       "      <td>1.00</td>\n",
       "    </tr>\n",
       "    <tr>\n",
       "      <th>(150, 300)</th>\n",
       "      <td>0.90</td>\n",
       "      <td>0.90</td>\n",
       "      <td>0.85</td>\n",
       "      <td>0.95</td>\n",
       "      <td>0.75</td>\n",
       "      <td>1.00</td>\n",
       "      <td>0.80</td>\n",
       "      <td>0.90</td>\n",
       "      <td>0.90</td>\n",
       "      <td>0.95</td>\n",
       "    </tr>\n",
       "    <tr>\n",
       "      <th>(250, 500)</th>\n",
       "      <td>0.85</td>\n",
       "      <td>0.90</td>\n",
       "      <td>0.85</td>\n",
       "      <td>0.90</td>\n",
       "      <td>0.70</td>\n",
       "      <td>0.95</td>\n",
       "      <td>0.85</td>\n",
       "      <td>0.90</td>\n",
       "      <td>0.95</td>\n",
       "      <td>1.00</td>\n",
       "    </tr>\n",
       "  </tbody>\n",
       "</table>\n",
       "</div>"
      ],
      "text/plain": [
       "                     fold_0  fold_1  fold_2  fold_3  fold_4  fold_5  fold_6  \\\n",
       "hsa04110 (0, 100)      0.70    0.85    0.75    0.85    0.80    0.90    0.65   \n",
       "         (50, 150)     0.85    0.95    0.80    0.90    0.90    0.95    0.85   \n",
       "         (100, 200)    0.90    0.95    0.90    0.90    0.85    0.95    0.85   \n",
       "         (150, 300)    0.90    0.90    0.85    0.95    0.75    1.00    0.80   \n",
       "         (250, 500)    0.85    0.90    0.85    0.90    0.70    0.95    0.85   \n",
       "\n",
       "                     fold_7  fold_8  fold_9  \n",
       "hsa04110 (0, 100)      0.65    0.80    0.70  \n",
       "         (50, 150)     0.85    1.00    0.95  \n",
       "         (100, 200)    0.85    1.00    1.00  \n",
       "         (150, 300)    0.90    0.90    0.95  \n",
       "         (250, 500)    0.90    0.95    1.00  "
      ]
     },
     "execution_count": 12,
     "metadata": {},
     "output_type": "execute_result"
    }
   ],
   "source": [
    "scores = pd.DataFrame({(pathway_id, sparsity): {'fold_'+str(i): fold_score for i, fold_score in enumerate(scores)} for pathway_id, sparsity, scores, features in results}).transpose()\n",
    "scores"
   ]
  },
  {
   "cell_type": "code",
   "execution_count": 15,
   "metadata": {},
   "outputs": [
    {
     "data": {
      "text/html": [
       "<div>\n",
       "<style>\n",
       "    .dataframe thead tr:only-child th {\n",
       "        text-align: right;\n",
       "    }\n",
       "\n",
       "    .dataframe thead th {\n",
       "        text-align: left;\n",
       "    }\n",
       "\n",
       "    .dataframe tbody tr th {\n",
       "        vertical-align: top;\n",
       "    }\n",
       "</style>\n",
       "<table border=\"1\" class=\"dataframe\">\n",
       "  <thead>\n",
       "    <tr style=\"text-align: right;\">\n",
       "      <th></th>\n",
       "      <th></th>\n",
       "      <th>fold_0</th>\n",
       "      <th>fold_1</th>\n",
       "      <th>fold_2</th>\n",
       "      <th>fold_3</th>\n",
       "      <th>fold_4</th>\n",
       "      <th>fold_5</th>\n",
       "      <th>fold_6</th>\n",
       "      <th>fold_7</th>\n",
       "      <th>fold_8</th>\n",
       "      <th>fold_9</th>\n",
       "    </tr>\n",
       "  </thead>\n",
       "  <tbody>\n",
       "    <tr>\n",
       "      <th rowspan=\"5\" valign=\"top\">hsa04110</th>\n",
       "      <th>(0, 100)</th>\n",
       "      <td>0.008065</td>\n",
       "      <td>0.008065</td>\n",
       "      <td>0.008065</td>\n",
       "      <td>0.008065</td>\n",
       "      <td>0.008065</td>\n",
       "      <td>0.008065</td>\n",
       "      <td>0.008065</td>\n",
       "      <td>0.008065</td>\n",
       "      <td>0.008065</td>\n",
       "      <td>0.008065</td>\n",
       "    </tr>\n",
       "    <tr>\n",
       "      <th>(50, 150)</th>\n",
       "      <td>0.193548</td>\n",
       "      <td>0.201613</td>\n",
       "      <td>0.185484</td>\n",
       "      <td>0.145161</td>\n",
       "      <td>0.177419</td>\n",
       "      <td>0.153226</td>\n",
       "      <td>0.193548</td>\n",
       "      <td>0.185484</td>\n",
       "      <td>0.193548</td>\n",
       "      <td>0.185484</td>\n",
       "    </tr>\n",
       "    <tr>\n",
       "      <th>(100, 200)</th>\n",
       "      <td>0.241935</td>\n",
       "      <td>0.274194</td>\n",
       "      <td>0.241935</td>\n",
       "      <td>0.233871</td>\n",
       "      <td>0.209677</td>\n",
       "      <td>0.258065</td>\n",
       "      <td>0.225806</td>\n",
       "      <td>0.250000</td>\n",
       "      <td>0.250000</td>\n",
       "      <td>0.290323</td>\n",
       "    </tr>\n",
       "    <tr>\n",
       "      <th>(150, 300)</th>\n",
       "      <td>0.298387</td>\n",
       "      <td>0.322581</td>\n",
       "      <td>0.266129</td>\n",
       "      <td>0.290323</td>\n",
       "      <td>0.258065</td>\n",
       "      <td>0.258065</td>\n",
       "      <td>0.241935</td>\n",
       "      <td>0.266129</td>\n",
       "      <td>0.290323</td>\n",
       "      <td>0.306452</td>\n",
       "    </tr>\n",
       "    <tr>\n",
       "      <th>(250, 500)</th>\n",
       "      <td>0.370968</td>\n",
       "      <td>0.362903</td>\n",
       "      <td>0.330645</td>\n",
       "      <td>0.354839</td>\n",
       "      <td>0.322581</td>\n",
       "      <td>0.346774</td>\n",
       "      <td>0.354839</td>\n",
       "      <td>0.338710</td>\n",
       "      <td>0.338710</td>\n",
       "      <td>0.387097</td>\n",
       "    </tr>\n",
       "  </tbody>\n",
       "</table>\n",
       "</div>"
      ],
      "text/plain": [
       "                       fold_0    fold_1    fold_2    fold_3    fold_4  \\\n",
       "hsa04110 (0, 100)    0.008065  0.008065  0.008065  0.008065  0.008065   \n",
       "         (50, 150)   0.193548  0.201613  0.185484  0.145161  0.177419   \n",
       "         (100, 200)  0.241935  0.274194  0.241935  0.233871  0.209677   \n",
       "         (150, 300)  0.298387  0.322581  0.266129  0.290323  0.258065   \n",
       "         (250, 500)  0.370968  0.362903  0.330645  0.354839  0.322581   \n",
       "\n",
       "                       fold_5    fold_6    fold_7    fold_8    fold_9  \n",
       "hsa04110 (0, 100)    0.008065  0.008065  0.008065  0.008065  0.008065  \n",
       "         (50, 150)   0.153226  0.193548  0.185484  0.193548  0.185484  \n",
       "         (100, 200)  0.258065  0.225806  0.250000  0.250000  0.290323  \n",
       "         (150, 300)  0.258065  0.241935  0.266129  0.290323  0.306452  \n",
       "         (250, 500)  0.346774  0.354839  0.338710  0.338710  0.387097  "
      ]
     },
     "execution_count": 15,
     "metadata": {},
     "output_type": "execute_result"
    }
   ],
   "source": [
    "recalls = pd.DataFrame({(pathway_id, sparsity): {'fold_'+str(i): recall(set(pathways[pathway_id]), set(featureset)) for i, featureset in enumerate(featuresets)} for pathway_id, sparsity, scores, featuresets in results}).transpose()\n",
    "recalls.head()"
   ]
  },
  {
   "cell_type": "code",
   "execution_count": 16,
   "metadata": {},
   "outputs": [
    {
     "data": {
      "text/html": [
       "<div>\n",
       "<style>\n",
       "    .dataframe thead tr:only-child th {\n",
       "        text-align: right;\n",
       "    }\n",
       "\n",
       "    .dataframe thead th {\n",
       "        text-align: left;\n",
       "    }\n",
       "\n",
       "    .dataframe tbody tr th {\n",
       "        vertical-align: top;\n",
       "    }\n",
       "</style>\n",
       "<table border=\"1\" class=\"dataframe\">\n",
       "  <thead>\n",
       "    <tr style=\"text-align: right;\">\n",
       "      <th></th>\n",
       "      <th></th>\n",
       "      <th>fold_0</th>\n",
       "      <th>fold_1</th>\n",
       "      <th>fold_2</th>\n",
       "      <th>fold_3</th>\n",
       "      <th>fold_4</th>\n",
       "      <th>fold_5</th>\n",
       "      <th>fold_6</th>\n",
       "      <th>fold_7</th>\n",
       "      <th>fold_8</th>\n",
       "      <th>fold_9</th>\n",
       "    </tr>\n",
       "  </thead>\n",
       "  <tbody>\n",
       "    <tr>\n",
       "      <th rowspan=\"5\" valign=\"top\">hsa04110</th>\n",
       "      <th>(0, 100)</th>\n",
       "      <td>1.000000</td>\n",
       "      <td>1.000000</td>\n",
       "      <td>1.000000</td>\n",
       "      <td>1.000000</td>\n",
       "      <td>1.000000</td>\n",
       "      <td>1.000000</td>\n",
       "      <td>1.000000</td>\n",
       "      <td>1.000000</td>\n",
       "      <td>1.000000</td>\n",
       "      <td>1.000000</td>\n",
       "    </tr>\n",
       "    <tr>\n",
       "      <th>(50, 150)</th>\n",
       "      <td>0.489796</td>\n",
       "      <td>0.384615</td>\n",
       "      <td>0.389831</td>\n",
       "      <td>0.367347</td>\n",
       "      <td>0.440000</td>\n",
       "      <td>0.387755</td>\n",
       "      <td>0.500000</td>\n",
       "      <td>0.442308</td>\n",
       "      <td>0.489796</td>\n",
       "      <td>0.489362</td>\n",
       "    </tr>\n",
       "    <tr>\n",
       "      <th>(100, 200)</th>\n",
       "      <td>0.285714</td>\n",
       "      <td>0.346939</td>\n",
       "      <td>0.303030</td>\n",
       "      <td>0.290000</td>\n",
       "      <td>0.262626</td>\n",
       "      <td>0.329897</td>\n",
       "      <td>0.282828</td>\n",
       "      <td>0.316327</td>\n",
       "      <td>0.298077</td>\n",
       "      <td>0.336449</td>\n",
       "    </tr>\n",
       "    <tr>\n",
       "      <th>(150, 300)</th>\n",
       "      <td>0.250000</td>\n",
       "      <td>0.250000</td>\n",
       "      <td>0.211538</td>\n",
       "      <td>0.226415</td>\n",
       "      <td>0.201258</td>\n",
       "      <td>0.216216</td>\n",
       "      <td>0.198675</td>\n",
       "      <td>0.210191</td>\n",
       "      <td>0.225000</td>\n",
       "      <td>0.238994</td>\n",
       "    </tr>\n",
       "    <tr>\n",
       "      <th>(250, 500)</th>\n",
       "      <td>0.178988</td>\n",
       "      <td>0.179283</td>\n",
       "      <td>0.155303</td>\n",
       "      <td>0.177419</td>\n",
       "      <td>0.161943</td>\n",
       "      <td>0.169960</td>\n",
       "      <td>0.167300</td>\n",
       "      <td>0.163424</td>\n",
       "      <td>0.170040</td>\n",
       "      <td>0.193548</td>\n",
       "    </tr>\n",
       "  </tbody>\n",
       "</table>\n",
       "</div>"
      ],
      "text/plain": [
       "                       fold_0    fold_1    fold_2    fold_3    fold_4  \\\n",
       "hsa04110 (0, 100)    1.000000  1.000000  1.000000  1.000000  1.000000   \n",
       "         (50, 150)   0.489796  0.384615  0.389831  0.367347  0.440000   \n",
       "         (100, 200)  0.285714  0.346939  0.303030  0.290000  0.262626   \n",
       "         (150, 300)  0.250000  0.250000  0.211538  0.226415  0.201258   \n",
       "         (250, 500)  0.178988  0.179283  0.155303  0.177419  0.161943   \n",
       "\n",
       "                       fold_5    fold_6    fold_7    fold_8    fold_9  \n",
       "hsa04110 (0, 100)    1.000000  1.000000  1.000000  1.000000  1.000000  \n",
       "         (50, 150)   0.387755  0.500000  0.442308  0.489796  0.489362  \n",
       "         (100, 200)  0.329897  0.282828  0.316327  0.298077  0.336449  \n",
       "         (150, 300)  0.216216  0.198675  0.210191  0.225000  0.238994  \n",
       "         (250, 500)  0.169960  0.167300  0.163424  0.170040  0.193548  "
      ]
     },
     "execution_count": 16,
     "metadata": {},
     "output_type": "execute_result"
    }
   ],
   "source": [
    "precisions = pd.DataFrame({(pathway_id, sparsity): {'fold_'+str(i): precision(set(pathways[pathway_id]), set(featureset)) for i, featureset in enumerate(featuresets)} for pathway_id, sparsity, scores, featuresets in results}).transpose()\n",
    "precisions.head()"
   ]
  },
  {
   "cell_type": "code",
   "execution_count": 19,
   "metadata": {},
   "outputs": [
    {
     "data": {
      "text/html": [
       "<div>\n",
       "<style>\n",
       "    .dataframe thead tr:only-child th {\n",
       "        text-align: right;\n",
       "    }\n",
       "\n",
       "    .dataframe thead th {\n",
       "        text-align: left;\n",
       "    }\n",
       "\n",
       "    .dataframe tbody tr th {\n",
       "        vertical-align: top;\n",
       "    }\n",
       "</style>\n",
       "<table border=\"1\" class=\"dataframe\">\n",
       "  <thead>\n",
       "    <tr style=\"text-align: right;\">\n",
       "      <th></th>\n",
       "      <th></th>\n",
       "      <th>(0, 100)</th>\n",
       "      <th>(50, 150)</th>\n",
       "      <th>(100, 200)</th>\n",
       "      <th>(150, 300)</th>\n",
       "      <th>(250, 500)</th>\n",
       "    </tr>\n",
       "  </thead>\n",
       "  <tbody>\n",
       "    <tr>\n",
       "      <th rowspan=\"5\" valign=\"top\">hsa04110</th>\n",
       "      <th>fold_0</th>\n",
       "      <td>0.008065</td>\n",
       "      <td>0.193548</td>\n",
       "      <td>0.241935</td>\n",
       "      <td>0.298387</td>\n",
       "      <td>0.370968</td>\n",
       "    </tr>\n",
       "    <tr>\n",
       "      <th>fold_1</th>\n",
       "      <td>0.008065</td>\n",
       "      <td>0.201613</td>\n",
       "      <td>0.274194</td>\n",
       "      <td>0.322581</td>\n",
       "      <td>0.362903</td>\n",
       "    </tr>\n",
       "    <tr>\n",
       "      <th>fold_2</th>\n",
       "      <td>0.008065</td>\n",
       "      <td>0.185484</td>\n",
       "      <td>0.241935</td>\n",
       "      <td>0.266129</td>\n",
       "      <td>0.330645</td>\n",
       "    </tr>\n",
       "    <tr>\n",
       "      <th>fold_3</th>\n",
       "      <td>0.008065</td>\n",
       "      <td>0.145161</td>\n",
       "      <td>0.233871</td>\n",
       "      <td>0.290323</td>\n",
       "      <td>0.354839</td>\n",
       "    </tr>\n",
       "    <tr>\n",
       "      <th>fold_4</th>\n",
       "      <td>0.008065</td>\n",
       "      <td>0.177419</td>\n",
       "      <td>0.209677</td>\n",
       "      <td>0.258065</td>\n",
       "      <td>0.322581</td>\n",
       "    </tr>\n",
       "  </tbody>\n",
       "</table>\n",
       "</div>"
      ],
      "text/plain": [
       "                 (0, 100)  (50, 150)  (100, 200)  (150, 300)  (250, 500)\n",
       "hsa04110 fold_0  0.008065   0.193548    0.241935    0.298387    0.370968\n",
       "         fold_1  0.008065   0.201613    0.274194    0.322581    0.362903\n",
       "         fold_2  0.008065   0.185484    0.241935    0.266129    0.330645\n",
       "         fold_3  0.008065   0.145161    0.233871    0.290323    0.354839\n",
       "         fold_4  0.008065   0.177419    0.209677    0.258065    0.322581"
      ]
     },
     "execution_count": 19,
     "metadata": {},
     "output_type": "execute_result"
    }
   ],
   "source": [
    "recalls = recalls.stack().unstack(level=1)\n",
    "precisions = precisions.stack().unstack(level=1)\n",
    "recalls.head()"
   ]
  },
  {
   "cell_type": "code",
   "execution_count": 21,
   "metadata": {},
   "outputs": [
    {
     "data": {
      "text/plain": [
       "(0.0, 1.05)"
      ]
     },
     "execution_count": 21,
     "metadata": {},
     "output_type": "execute_result"
    },
    {
     "data": {
      "image/png": "[encoded data removed]",
      "text/plain": [
       "<matplotlib.figure.Figure at 0x1083506d8>"
      ]
     },
     "metadata": {},
     "output_type": "display_data"
    }
   ],
   "source": [
    "[plt.plot(recalls.iloc[k].values, precisions.iloc[k].values, c='r', alpha=0.1) for k in range(len(recalls))]\n",
    "\n",
    "plt.xlabel('Recall')\n",
    "plt.ylabel('Precision')\n",
    "plt.ylim([0.0, 1.05])\n",
    "plt.xlim([0.0, 1.05])"
   ]
  }
 ],
 "metadata": {
  "kernelspec": {
   "display_name": "Python 3",
   "language": "python",
   "name": "python3"
  },
  "language_info": {
   "codemirror_mode": {
    "name": "ipython",
    "version": 3
   },
   "file_extension": ".py",
   "mimetype": "text/x-python",
   "name": "python",
   "nbconvert_exporter": "python",
   "pygments_lexer": "ipython3",
   "version": "3.6.1"
  }
 },
 "nbformat": 4,
 "nbformat_minor": 2
}
