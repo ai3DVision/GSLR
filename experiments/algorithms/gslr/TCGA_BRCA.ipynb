{
 "cells": [
  {
   "cell_type": "markdown",
   "metadata": {},
   "source": [
    "# Graph-Sparse Logistic Regression applied to the real proteomics data from the TCGA/CPTAC Breast Cancer dataset. "
   ]
  },
  {
   "cell_type": "code",
   "execution_count": 1,
   "metadata": {},
   "outputs": [
    {
     "name": "stdout",
     "output_type": "stream",
     "text": [
      "Populating the interactive namespace from numpy and matplotlib\n"
     ]
    }
   ],
   "source": [
    "%pylab inline\n",
    "\n",
    "import sys\n",
    "import pickle\n",
    "import pandas as pd\n",
    "import networkx as nx\n",
    "\n",
    "from sklearn.preprocessing import LabelEncoder\n",
    "\n",
    "from matplotlib_venn import venn3, venn3_circles, venn2\n",
    "\n",
    "repo_path = '/Users/alex/Documents/gslr/'\n",
    "interactome_path = repo_path + 'experiments/algorithms/pcsf/inbiomap_temp.tsv'\n",
    "\n",
    "sys.path.append(repo_path + 'gslr/')\n",
    "import gslr"
   ]
  },
  {
   "cell_type": "markdown",
   "metadata": {},
   "source": [
    "### i. Load Datasets"
   ]
  },
  {
   "cell_type": "code",
   "execution_count": 2,
   "metadata": {},
   "outputs": [],
   "source": [
    "# medullo = pd.read_csv('/Users/alex/Documents/proteomics/data_preparation/proteomics_data/medullo_inbiomap_exp.tsv', index_col=0)\n",
    "# ovarian = pd.read_csv('/Users/alex/Documents/proteomics/data_preparation/proteomics_data/ovarian_inbiomap_exp.tsv', index_col=0)\n",
    "brca = pd.read_csv('/Users/alex/Documents/proteomics/data_preparation/proteomics_data/brca_inbiomap_exp.tsv', index_col=0)\n",
    "\n",
    "# medullo_labels = pd.read_csv('/Users/alex/Documents/proteomics/data_preparation/proteomics_data/raw/medullo_labels.csv', index_col=0)\n",
    "# ovarian_labels = pd.read_csv('/Users/alex/Documents/proteomics/data_preparation/proteomics_data/raw/ovarian_labels.csv', index_col=0)\n",
    "brca_labels = pd.read_csv('/Users/alex/Documents/proteomics/data_preparation/proteomics_data/raw/brca_labels.csv', index_col=0)"
   ]
  },
  {
   "cell_type": "markdown",
   "metadata": {},
   "source": [
    "### ii. Load Interactome"
   ]
  },
  {
   "cell_type": "code",
   "execution_count": 3,
   "metadata": {},
   "outputs": [
    {
     "data": {
      "text/html": [
       "<div>\n",
       "<style>\n",
       "    .dataframe thead tr:only-child th {\n",
       "        text-align: right;\n",
       "    }\n",
       "\n",
       "    .dataframe thead th {\n",
       "        text-align: left;\n",
       "    }\n",
       "\n",
       "    .dataframe tbody tr th {\n",
       "        vertical-align: top;\n",
       "    }\n",
       "</style>\n",
       "<table border=\"1\" class=\"dataframe\">\n",
       "  <thead>\n",
       "    <tr style=\"text-align: right;\">\n",
       "      <th></th>\n",
       "      <th>protein1</th>\n",
       "      <th>protein2</th>\n",
       "      <th>cost</th>\n",
       "    </tr>\n",
       "  </thead>\n",
       "  <tbody>\n",
       "    <tr>\n",
       "      <th>0</th>\n",
       "      <td>ZNF91</td>\n",
       "      <td>NDEL1</td>\n",
       "      <td>1.253</td>\n",
       "    </tr>\n",
       "    <tr>\n",
       "      <th>1</th>\n",
       "      <td>ZNF91</td>\n",
       "      <td>ELAVL1</td>\n",
       "      <td>1.254</td>\n",
       "    </tr>\n",
       "    <tr>\n",
       "      <th>2</th>\n",
       "      <td>ZNF91</td>\n",
       "      <td>SUMO1</td>\n",
       "      <td>1.245</td>\n",
       "    </tr>\n",
       "    <tr>\n",
       "      <th>3</th>\n",
       "      <td>ZNF91</td>\n",
       "      <td>SUMO3</td>\n",
       "      <td>1.245</td>\n",
       "    </tr>\n",
       "    <tr>\n",
       "      <th>4</th>\n",
       "      <td>ZNF91</td>\n",
       "      <td>CHMP5</td>\n",
       "      <td>1.241</td>\n",
       "    </tr>\n",
       "  </tbody>\n",
       "</table>\n",
       "</div>"
      ],
      "text/plain": [
       "  protein1 protein2   cost\n",
       "0    ZNF91    NDEL1  1.253\n",
       "1    ZNF91   ELAVL1  1.254\n",
       "2    ZNF91    SUMO1  1.245\n",
       "3    ZNF91    SUMO3  1.245\n",
       "4    ZNF91    CHMP5  1.241"
      ]
     },
     "execution_count": 3,
     "metadata": {},
     "output_type": "execute_result"
    }
   ],
   "source": [
    "inbiomap_experimentally = pd.read_csv(interactome_path, sep='\\t', names=['protein1','protein2','cost'])\n",
    "inbiomap_experimentally.head()"
   ]
  },
  {
   "cell_type": "code",
   "execution_count": 4,
   "metadata": {},
   "outputs": [
    {
     "data": {
      "text/plain": [
       "array([[    0,  1228],\n",
       "       [    0,  1279],\n",
       "       [    0,  4071],\n",
       "       ..., \n",
       "       [14190, 14237],\n",
       "       [14191, 14378],\n",
       "       [14192, 14539]])"
      ]
     },
     "execution_count": 4,
     "metadata": {},
     "output_type": "execute_result"
    }
   ],
   "source": [
    "(edges, nodes) = pd.factorize(inbiomap_experimentally[[\"protein1\",\"protein2\"]].unstack())\n",
    "edges = edges.reshape(inbiomap_experimentally[[\"protein1\",\"protein2\"]].shape, order='F')\n",
    "edges"
   ]
  },
  {
   "cell_type": "code",
   "execution_count": 12,
   "metadata": {},
   "outputs": [
    {
     "data": {
      "text/plain": [
       "((111, 16349), (111,))"
      ]
     },
     "execution_count": 12,
     "metadata": {},
     "output_type": "execute_result"
    }
   ],
   "source": [
    "dataset = brca.copy()\n",
    "labels = brca_labels.loc['PAM50 mRNA']\n",
    "dataset.shape, labels.shape"
   ]
  },
  {
   "cell_type": "markdown",
   "metadata": {},
   "source": [
    "### i. Prepare Dataset"
   ]
  },
  {
   "cell_type": "code",
   "execution_count": 7,
   "metadata": {},
   "outputs": [
    {
     "data": {
      "text/html": [
       "<div>\n",
       "<style>\n",
       "    .dataframe thead tr:only-child th {\n",
       "        text-align: right;\n",
       "    }\n",
       "\n",
       "    .dataframe thead th {\n",
       "        text-align: left;\n",
       "    }\n",
       "\n",
       "    .dataframe tbody tr th {\n",
       "        vertical-align: top;\n",
       "    }\n",
       "</style>\n",
       "<table border=\"1\" class=\"dataframe\">\n",
       "  <thead>\n",
       "    <tr style=\"text-align: right;\">\n",
       "      <th></th>\n",
       "      <th>ZNF91</th>\n",
       "      <th>ACP5</th>\n",
       "      <th>SLC27A2</th>\n",
       "      <th>PAX9</th>\n",
       "      <th>ADAM15</th>\n",
       "      <th>ELOVL2</th>\n",
       "      <th>DDX60L</th>\n",
       "      <th>FGF7</th>\n",
       "      <th>CDHR5</th>\n",
       "      <th>LYPD3</th>\n",
       "      <th>...</th>\n",
       "      <th>CNR2</th>\n",
       "      <th>GIG44</th>\n",
       "      <th>LINC00588</th>\n",
       "      <th>TAAR2</th>\n",
       "      <th>CHRNE</th>\n",
       "      <th>ANKAR</th>\n",
       "      <th>DHH</th>\n",
       "      <th>CYSLTR1</th>\n",
       "      <th>COL23A1</th>\n",
       "      <th>MEDAG</th>\n",
       "    </tr>\n",
       "  </thead>\n",
       "  <tbody>\n",
       "    <tr>\n",
       "      <th>AO-A12D.01TCGA</th>\n",
       "      <td>-1.102122</td>\n",
       "      <td>-0.747811</td>\n",
       "      <td>-3.292756</td>\n",
       "      <td>1.976195</td>\n",
       "      <td>2.341935</td>\n",
       "      <td>0.0</td>\n",
       "      <td>0.086535</td>\n",
       "      <td>0.0</td>\n",
       "      <td>0.0</td>\n",
       "      <td>0.280834</td>\n",
       "      <td>...</td>\n",
       "      <td>0.0</td>\n",
       "      <td>0.0</td>\n",
       "      <td>0.0</td>\n",
       "      <td>0.0</td>\n",
       "      <td>-1.513581</td>\n",
       "      <td>0.000000</td>\n",
       "      <td>0.0</td>\n",
       "      <td>0.0</td>\n",
       "      <td>0.000000</td>\n",
       "      <td>0.0</td>\n",
       "    </tr>\n",
       "    <tr>\n",
       "      <th>C8-A131.01TCGA</th>\n",
       "      <td>-0.644553</td>\n",
       "      <td>1.496776</td>\n",
       "      <td>-2.061312</td>\n",
       "      <td>2.496602</td>\n",
       "      <td>1.589877</td>\n",
       "      <td>0.0</td>\n",
       "      <td>-0.531213</td>\n",
       "      <td>0.0</td>\n",
       "      <td>0.0</td>\n",
       "      <td>-0.660745</td>\n",
       "      <td>...</td>\n",
       "      <td>0.0</td>\n",
       "      <td>0.0</td>\n",
       "      <td>0.0</td>\n",
       "      <td>0.0</td>\n",
       "      <td>0.112400</td>\n",
       "      <td>0.000000</td>\n",
       "      <td>0.0</td>\n",
       "      <td>0.0</td>\n",
       "      <td>0.000000</td>\n",
       "      <td>0.0</td>\n",
       "    </tr>\n",
       "    <tr>\n",
       "      <th>AO-A12B.01TCGA</th>\n",
       "      <td>1.274661</td>\n",
       "      <td>1.055714</td>\n",
       "      <td>0.634450</td>\n",
       "      <td>-1.333296</td>\n",
       "      <td>-0.335566</td>\n",
       "      <td>0.0</td>\n",
       "      <td>1.116687</td>\n",
       "      <td>0.0</td>\n",
       "      <td>0.0</td>\n",
       "      <td>-0.044561</td>\n",
       "      <td>...</td>\n",
       "      <td>0.0</td>\n",
       "      <td>0.0</td>\n",
       "      <td>0.0</td>\n",
       "      <td>0.0</td>\n",
       "      <td>-0.604399</td>\n",
       "      <td>0.000000</td>\n",
       "      <td>0.0</td>\n",
       "      <td>0.0</td>\n",
       "      <td>0.000000</td>\n",
       "      <td>0.0</td>\n",
       "    </tr>\n",
       "    <tr>\n",
       "      <th>E2-A10A.02TCGA</th>\n",
       "      <td>-9.048165</td>\n",
       "      <td>1.054283</td>\n",
       "      <td>0.867457</td>\n",
       "      <td>0.000000</td>\n",
       "      <td>-0.089739</td>\n",
       "      <td>0.0</td>\n",
       "      <td>0.975862</td>\n",
       "      <td>0.0</td>\n",
       "      <td>0.0</td>\n",
       "      <td>-0.315775</td>\n",
       "      <td>...</td>\n",
       "      <td>0.0</td>\n",
       "      <td>0.0</td>\n",
       "      <td>0.0</td>\n",
       "      <td>0.0</td>\n",
       "      <td>-4.458240</td>\n",
       "      <td>0.180121</td>\n",
       "      <td>0.0</td>\n",
       "      <td>0.0</td>\n",
       "      <td>-5.390064</td>\n",
       "      <td>0.0</td>\n",
       "    </tr>\n",
       "    <tr>\n",
       "      <th>BH-A18Q.02TCGA</th>\n",
       "      <td>-3.728792</td>\n",
       "      <td>1.302662</td>\n",
       "      <td>-2.554563</td>\n",
       "      <td>0.000000</td>\n",
       "      <td>-0.470390</td>\n",
       "      <td>0.0</td>\n",
       "      <td>0.332501</td>\n",
       "      <td>0.0</td>\n",
       "      <td>0.0</td>\n",
       "      <td>-1.979158</td>\n",
       "      <td>...</td>\n",
       "      <td>0.0</td>\n",
       "      <td>0.0</td>\n",
       "      <td>0.0</td>\n",
       "      <td>0.0</td>\n",
       "      <td>-3.524724</td>\n",
       "      <td>-0.998961</td>\n",
       "      <td>0.0</td>\n",
       "      <td>0.0</td>\n",
       "      <td>-1.310081</td>\n",
       "      <td>0.0</td>\n",
       "    </tr>\n",
       "  </tbody>\n",
       "</table>\n",
       "<p>5 rows × 16349 columns</p>\n",
       "</div>"
      ],
      "text/plain": [
       "                   ZNF91      ACP5   SLC27A2      PAX9    ADAM15  ELOVL2  \\\n",
       "AO-A12D.01TCGA -1.102122 -0.747811 -3.292756  1.976195  2.341935     0.0   \n",
       "C8-A131.01TCGA -0.644553  1.496776 -2.061312  2.496602  1.589877     0.0   \n",
       "AO-A12B.01TCGA  1.274661  1.055714  0.634450 -1.333296 -0.335566     0.0   \n",
       "E2-A10A.02TCGA -9.048165  1.054283  0.867457  0.000000 -0.089739     0.0   \n",
       "BH-A18Q.02TCGA -3.728792  1.302662 -2.554563  0.000000 -0.470390     0.0   \n",
       "\n",
       "                  DDX60L  FGF7  CDHR5     LYPD3  ...    CNR2  GIG44  \\\n",
       "AO-A12D.01TCGA  0.086535   0.0    0.0  0.280834  ...     0.0    0.0   \n",
       "C8-A131.01TCGA -0.531213   0.0    0.0 -0.660745  ...     0.0    0.0   \n",
       "AO-A12B.01TCGA  1.116687   0.0    0.0 -0.044561  ...     0.0    0.0   \n",
       "E2-A10A.02TCGA  0.975862   0.0    0.0 -0.315775  ...     0.0    0.0   \n",
       "BH-A18Q.02TCGA  0.332501   0.0    0.0 -1.979158  ...     0.0    0.0   \n",
       "\n",
       "                LINC00588  TAAR2     CHRNE     ANKAR  DHH  CYSLTR1   COL23A1  \\\n",
       "AO-A12D.01TCGA        0.0    0.0 -1.513581  0.000000  0.0      0.0  0.000000   \n",
       "C8-A131.01TCGA        0.0    0.0  0.112400  0.000000  0.0      0.0  0.000000   \n",
       "AO-A12B.01TCGA        0.0    0.0 -0.604399  0.000000  0.0      0.0  0.000000   \n",
       "E2-A10A.02TCGA        0.0    0.0 -4.458240  0.180121  0.0      0.0 -5.390064   \n",
       "BH-A18Q.02TCGA        0.0    0.0 -3.524724 -0.998961  0.0      0.0 -1.310081   \n",
       "\n",
       "                MEDAG  \n",
       "AO-A12D.01TCGA    0.0  \n",
       "C8-A131.01TCGA    0.0  \n",
       "AO-A12B.01TCGA    0.0  \n",
       "E2-A10A.02TCGA    0.0  \n",
       "BH-A18Q.02TCGA    0.0  \n",
       "\n",
       "[5 rows x 16349 columns]"
      ]
     },
     "execution_count": 7,
     "metadata": {},
     "output_type": "execute_result"
    }
   ],
   "source": [
    "dataset = dataset.transpose().reindex(index=nodes).transpose()\n",
    "X = dataset.values\n",
    "dataset.head()"
   ]
  },
  {
   "cell_type": "code",
   "execution_count": 13,
   "metadata": {},
   "outputs": [],
   "source": [
    "labels = labels.values.flatten().tolist()"
   ]
  },
  {
   "cell_type": "code",
   "execution_count": 14,
   "metadata": {},
   "outputs": [
    {
     "data": {
      "text/plain": [
       "array([1, 0, 3, 3, 0, 1, 1, 2, 3, 3, 1, 2, 1, 2, 0, 0, 2, 1, 3, 1, 0, 3, 2,\n",
       "       1, 3, 0, 2, 1, 2, 0, 2, 3, 0, 0, 3, 2, 0, 3, 2, 3, 2, 1, 3, 1, 2, 1,\n",
       "       2, 3, 2, 3, 1, 2, 3, 0, 0, 2, 3, 3, 1, 2, 1, 0, 3, 3, 0, 2, 2, 1, 3,\n",
       "       0, 3, 2, 2, 3, 1, 2, 3, 1, 3, 0, 2, 2, 3, 0, 2, 0, 3, 3, 0, 3, 0, 3,\n",
       "       2, 1, 0, 0, 2, 3, 2, 3, 0, 3, 3, 0, 2, 0, 3, 0, 4, 4, 4])"
      ]
     },
     "execution_count": 14,
     "metadata": {},
     "output_type": "execute_result"
    }
   ],
   "source": [
    "labeler = LabelEncoder()\n",
    "labeler.fit(labels)\n",
    "y = labeler.transform(labels)\n",
    "y"
   ]
  },
  {
   "cell_type": "markdown",
   "metadata": {},
   "source": [
    "### ii. Graph-Sparse Logistic Regression"
   ]
  },
  {
   "cell_type": "code",
   "execution_count": 15,
   "metadata": {
    "scrolled": false
   },
   "outputs": [],
   "source": [
    "d = len(nodes)\n",
    "c = 5\n",
    "\n",
    "graph_opts = gslr.GraphOptions(edges=edges, root=-1, num_clusters=1, pruning='strong')\n",
    "\n",
    "sparsity_low = 150\n",
    "sparsity_high = 350\n",
    "\n",
    "verbosity_level = 1\n",
    "\n",
    "num_steps = 25\n",
    "possible_steps = np.array([0.03, 0.1, 0.3])\n",
    "steps = np.tile(possible_steps, (num_steps, 1))\n",
    "\n",
    "W0 = np.zeros((c, d))"
   ]
  },
  {
   "cell_type": "code",
   "execution_count": 17,
   "metadata": {
    "scrolled": false
   },
   "outputs": [
    {
     "name": "stdout",
     "output_type": "stream",
     "text": [
      "iteration 1:\n",
      "  loss_cur = 1.6094379124340985   loss_next = 1.8155318506232232   step_size = 0.03\n",
      "  loss_cur = 1.6094379124340985   loss_next = 5.289145745312761   step_size = 0.1\n",
      "  loss_cur = 1.6094379124340985   loss_next = 16.934794370801768   step_size = 0.3\n",
      "  best_step_size: 0.0\n",
      "WARNING: returning sparsity 1 although minimum sparsity 150 was requested.\n",
      "WARNING: returning sparsity 1 although minimum sparsity 150 was requested.\n",
      "WARNING: returning sparsity 1 although minimum sparsity 150 was requested.\n",
      "WARNING: returning sparsity 1 although minimum sparsity 150 was requested.\n",
      "WARNING: returning sparsity 1 although minimum sparsity 150 was requested.\n",
      "iteration 2:\n",
      "  loss_cur = 1.6094379124340985   loss_next = 1.8155318506232232   step_size = 0.03\n",
      "  loss_cur = 1.6094379124340985   loss_next = 5.289145745312761   step_size = 0.1\n",
      "  loss_cur = 1.6094379124340985   loss_next = 16.934794370801768   step_size = 0.3\n",
      "  best_step_size: 0.0\n",
      "WARNING: returning sparsity 1 although minimum sparsity 150 was requested.\n",
      "WARNING: returning sparsity 1 although minimum sparsity 150 was requested.\n",
      "WARNING: returning sparsity 1 although minimum sparsity 150 was requested.\n",
      "WARNING: returning sparsity 1 although minimum sparsity 150 was requested.\n",
      "WARNING: returning sparsity 1 although minimum sparsity 150 was requested.\n",
      "iteration 3:\n",
      "  loss_cur = 1.6094379124340985   loss_next = 1.8155318506232232   step_size = 0.03\n",
      "  loss_cur = 1.6094379124340985   loss_next = 5.289145745312761   step_size = 0.1\n",
      "  loss_cur = 1.6094379124340985   loss_next = 16.934794370801768   step_size = 0.3\n",
      "  best_step_size: 0.0\n",
      "WARNING: returning sparsity 1 although minimum sparsity 150 was requested.\n",
      "WARNING: returning sparsity 1 although minimum sparsity 150 was requested.\n",
      "WARNING: returning sparsity 1 although minimum sparsity 150 was requested.\n",
      "WARNING: returning sparsity 1 although minimum sparsity 150 was requested.\n",
      "WARNING: returning sparsity 1 although minimum sparsity 150 was requested.\n",
      "iteration 4:\n",
      "  loss_cur = 1.6094379124340985   loss_next = 1.8155318506232232   step_size = 0.03\n",
      "  loss_cur = 1.6094379124340985   loss_next = 5.289145745312761   step_size = 0.1\n",
      "  loss_cur = 1.6094379124340985   loss_next = 16.934794370801768   step_size = 0.3\n",
      "  best_step_size: 0.0\n",
      "WARNING: returning sparsity 1 although minimum sparsity 150 was requested.\n",
      "WARNING: returning sparsity 1 although minimum sparsity 150 was requested.\n",
      "WARNING: returning sparsity 1 although minimum sparsity 150 was requested.\n",
      "WARNING: returning sparsity 1 although minimum sparsity 150 was requested.\n",
      "WARNING: returning sparsity 1 although minimum sparsity 150 was requested.\n",
      "iteration 5:\n",
      "  loss_cur = 1.6094379124340985   loss_next = 1.8155318506232232   step_size = 0.03\n",
      "  loss_cur = 1.6094379124340985   loss_next = 5.289145745312761   step_size = 0.1\n",
      "  loss_cur = 1.6094379124340985   loss_next = 16.934794370801768   step_size = 0.3\n",
      "  best_step_size: 0.0\n",
      "WARNING: returning sparsity 1 although minimum sparsity 150 was requested.\n",
      "WARNING: returning sparsity 1 although minimum sparsity 150 was requested.\n",
      "WARNING: returning sparsity 1 although minimum sparsity 150 was requested.\n",
      "WARNING: returning sparsity 1 although minimum sparsity 150 was requested.\n",
      "WARNING: returning sparsity 1 although minimum sparsity 150 was requested.\n",
      "iteration 6:\n",
      "  loss_cur = 1.6094379124340985   loss_next = 1.8155318506232232   step_size = 0.03\n",
      "  loss_cur = 1.6094379124340985   loss_next = 5.289145745312761   step_size = 0.1\n",
      "  loss_cur = 1.6094379124340985   loss_next = 16.934794370801768   step_size = 0.3\n",
      "  best_step_size: 0.0\n",
      "WARNING: returning sparsity 1 although minimum sparsity 150 was requested.\n",
      "WARNING: returning sparsity 1 although minimum sparsity 150 was requested.\n",
      "WARNING: returning sparsity 1 although minimum sparsity 150 was requested.\n",
      "WARNING: returning sparsity 1 although minimum sparsity 150 was requested.\n",
      "WARNING: returning sparsity 1 although minimum sparsity 150 was requested.\n",
      "iteration 7:\n",
      "  loss_cur = 1.6094379124340985   loss_next = 1.8155318506232232   step_size = 0.03\n",
      "  loss_cur = 1.6094379124340985   loss_next = 5.289145745312761   step_size = 0.1\n",
      "  loss_cur = 1.6094379124340985   loss_next = 16.934794370801768   step_size = 0.3\n",
      "  best_step_size: 0.0\n",
      "WARNING: returning sparsity 1 although minimum sparsity 150 was requested.\n",
      "WARNING: returning sparsity 1 although minimum sparsity 150 was requested.\n",
      "WARNING: returning sparsity 1 although minimum sparsity 150 was requested.\n",
      "WARNING: returning sparsity 1 although minimum sparsity 150 was requested.\n",
      "WARNING: returning sparsity 1 although minimum sparsity 150 was requested.\n",
      "iteration 8:\n",
      "  loss_cur = 1.6094379124340985   loss_next = 1.8155318506232232   step_size = 0.03\n",
      "  loss_cur = 1.6094379124340985   loss_next = 5.289145745312761   step_size = 0.1\n",
      "  loss_cur = 1.6094379124340985   loss_next = 16.934794370801768   step_size = 0.3\n",
      "  best_step_size: 0.0\n",
      "WARNING: returning sparsity 1 although minimum sparsity 150 was requested.\n",
      "WARNING: returning sparsity 1 although minimum sparsity 150 was requested.\n",
      "WARNING: returning sparsity 1 although minimum sparsity 150 was requested.\n",
      "WARNING: returning sparsity 1 although minimum sparsity 150 was requested.\n",
      "WARNING: returning sparsity 1 although minimum sparsity 150 was requested.\n",
      "iteration 9:\n",
      "  loss_cur = 1.6094379124340985   loss_next = 1.8155318506232232   step_size = 0.03\n",
      "  loss_cur = 1.6094379124340985   loss_next = 5.289145745312761   step_size = 0.1\n",
      "  loss_cur = 1.6094379124340985   loss_next = 16.934794370801768   step_size = 0.3\n",
      "  best_step_size: 0.0\n",
      "WARNING: returning sparsity 1 although minimum sparsity 150 was requested.\n",
      "WARNING: returning sparsity 1 although minimum sparsity 150 was requested.\n",
      "WARNING: returning sparsity 1 although minimum sparsity 150 was requested.\n",
      "WARNING: returning sparsity 1 although minimum sparsity 150 was requested.\n",
      "WARNING: returning sparsity 1 although minimum sparsity 150 was requested.\n",
      "iteration 10:\n",
      "  loss_cur = 1.6094379124340985   loss_next = 1.8155318506232232   step_size = 0.03\n",
      "  loss_cur = 1.6094379124340985   loss_next = 5.289145745312761   step_size = 0.1\n",
      "  loss_cur = 1.6094379124340985   loss_next = 16.934794370801768   step_size = 0.3\n",
      "  best_step_size: 0.0\n",
      "WARNING: returning sparsity 1 although minimum sparsity 150 was requested.\n",
      "WARNING: returning sparsity 1 although minimum sparsity 150 was requested.\n",
      "WARNING: returning sparsity 1 although minimum sparsity 150 was requested.\n",
      "WARNING: returning sparsity 1 although minimum sparsity 150 was requested.\n",
      "WARNING: returning sparsity 1 although minimum sparsity 150 was requested.\n",
      "iteration 11:\n",
      "  loss_cur = 1.6094379124340985   loss_next = 1.8155318506232232   step_size = 0.03\n",
      "  loss_cur = 1.6094379124340985   loss_next = 5.289145745312761   step_size = 0.1\n",
      "  loss_cur = 1.6094379124340985   loss_next = 16.934794370801768   step_size = 0.3\n",
      "  best_step_size: 0.0\n",
      "WARNING: returning sparsity 1 although minimum sparsity 150 was requested.\n",
      "WARNING: returning sparsity 1 although minimum sparsity 150 was requested.\n",
      "WARNING: returning sparsity 1 although minimum sparsity 150 was requested.\n",
      "WARNING: returning sparsity 1 although minimum sparsity 150 was requested.\n",
      "WARNING: returning sparsity 1 although minimum sparsity 150 was requested.\n",
      "iteration 12:\n",
      "  loss_cur = 1.6094379124340985   loss_next = 1.8155318506232232   step_size = 0.03\n",
      "  loss_cur = 1.6094379124340985   loss_next = 5.289145745312761   step_size = 0.1\n",
      "  loss_cur = 1.6094379124340985   loss_next = 16.934794370801768   step_size = 0.3\n",
      "  best_step_size: 0.0\n",
      "WARNING: returning sparsity 1 although minimum sparsity 150 was requested.\n",
      "WARNING: returning sparsity 1 although minimum sparsity 150 was requested.\n",
      "WARNING: returning sparsity 1 although minimum sparsity 150 was requested.\n",
      "WARNING: returning sparsity 1 although minimum sparsity 150 was requested.\n",
      "WARNING: returning sparsity 1 although minimum sparsity 150 was requested.\n",
      "iteration 13:\n",
      "  loss_cur = 1.6094379124340985   loss_next = 1.8155318506232232   step_size = 0.03\n",
      "  loss_cur = 1.6094379124340985   loss_next = 5.289145745312761   step_size = 0.1\n",
      "  loss_cur = 1.6094379124340985   loss_next = 16.934794370801768   step_size = 0.3\n",
      "  best_step_size: 0.0\n",
      "WARNING: returning sparsity 1 although minimum sparsity 150 was requested.\n"
     ]
    },
    {
     "name": "stdout",
     "output_type": "stream",
     "text": [
      "WARNING: returning sparsity 1 although minimum sparsity 150 was requested.\n",
      "WARNING: returning sparsity 1 although minimum sparsity 150 was requested.\n",
      "WARNING: returning sparsity 1 although minimum sparsity 150 was requested.\n",
      "WARNING: returning sparsity 1 although minimum sparsity 150 was requested.\n",
      "iteration 14:\n",
      "  loss_cur = 1.6094379124340985   loss_next = 1.8155318506232232   step_size = 0.03\n",
      "  loss_cur = 1.6094379124340985   loss_next = 5.289145745312761   step_size = 0.1\n",
      "  loss_cur = 1.6094379124340985   loss_next = 16.934794370801768   step_size = 0.3\n",
      "  best_step_size: 0.0\n",
      "WARNING: returning sparsity 1 although minimum sparsity 150 was requested.\n",
      "WARNING: returning sparsity 1 although minimum sparsity 150 was requested.\n",
      "WARNING: returning sparsity 1 although minimum sparsity 150 was requested.\n",
      "WARNING: returning sparsity 1 although minimum sparsity 150 was requested.\n",
      "WARNING: returning sparsity 1 although minimum sparsity 150 was requested.\n",
      "iteration 15:\n",
      "  loss_cur = 1.6094379124340985   loss_next = 1.8155318506232232   step_size = 0.03\n",
      "  loss_cur = 1.6094379124340985   loss_next = 5.289145745312761   step_size = 0.1\n",
      "  loss_cur = 1.6094379124340985   loss_next = 16.934794370801768   step_size = 0.3\n",
      "  best_step_size: 0.0\n",
      "WARNING: returning sparsity 1 although minimum sparsity 150 was requested.\n",
      "WARNING: returning sparsity 1 although minimum sparsity 150 was requested.\n",
      "WARNING: returning sparsity 1 although minimum sparsity 150 was requested.\n",
      "WARNING: returning sparsity 1 although minimum sparsity 150 was requested.\n",
      "WARNING: returning sparsity 1 although minimum sparsity 150 was requested.\n",
      "iteration 16:\n",
      "  loss_cur = 1.6094379124340985   loss_next = 1.8155318506232232   step_size = 0.03\n",
      "  loss_cur = 1.6094379124340985   loss_next = 5.289145745312761   step_size = 0.1\n",
      "  loss_cur = 1.6094379124340985   loss_next = 16.934794370801768   step_size = 0.3\n",
      "  best_step_size: 0.0\n",
      "WARNING: returning sparsity 1 although minimum sparsity 150 was requested.\n",
      "WARNING: returning sparsity 1 although minimum sparsity 150 was requested.\n",
      "WARNING: returning sparsity 1 although minimum sparsity 150 was requested.\n",
      "WARNING: returning sparsity 1 although minimum sparsity 150 was requested.\n",
      "WARNING: returning sparsity 1 although minimum sparsity 150 was requested.\n",
      "iteration 17:\n",
      "  loss_cur = 1.6094379124340985   loss_next = 1.8155318506232232   step_size = 0.03\n",
      "  loss_cur = 1.6094379124340985   loss_next = 5.289145745312761   step_size = 0.1\n",
      "  loss_cur = 1.6094379124340985   loss_next = 16.934794370801768   step_size = 0.3\n",
      "  best_step_size: 0.0\n",
      "WARNING: returning sparsity 1 although minimum sparsity 150 was requested.\n",
      "WARNING: returning sparsity 1 although minimum sparsity 150 was requested.\n",
      "WARNING: returning sparsity 1 although minimum sparsity 150 was requested.\n",
      "WARNING: returning sparsity 1 although minimum sparsity 150 was requested.\n",
      "WARNING: returning sparsity 1 although minimum sparsity 150 was requested.\n",
      "iteration 18:\n",
      "  loss_cur = 1.6094379124340985   loss_next = 1.8155318506232232   step_size = 0.03\n",
      "  loss_cur = 1.6094379124340985   loss_next = 5.289145745312761   step_size = 0.1\n",
      "  loss_cur = 1.6094379124340985   loss_next = 16.934794370801768   step_size = 0.3\n",
      "  best_step_size: 0.0\n",
      "WARNING: returning sparsity 1 although minimum sparsity 150 was requested.\n",
      "WARNING: returning sparsity 1 although minimum sparsity 150 was requested.\n",
      "WARNING: returning sparsity 1 although minimum sparsity 150 was requested.\n",
      "WARNING: returning sparsity 1 although minimum sparsity 150 was requested.\n",
      "WARNING: returning sparsity 1 although minimum sparsity 150 was requested.\n",
      "iteration 19:\n",
      "  loss_cur = 1.6094379124340985   loss_next = 1.8155318506232232   step_size = 0.03\n",
      "  loss_cur = 1.6094379124340985   loss_next = 5.289145745312761   step_size = 0.1\n",
      "  loss_cur = 1.6094379124340985   loss_next = 16.934794370801768   step_size = 0.3\n",
      "  best_step_size: 0.0\n",
      "WARNING: returning sparsity 1 although minimum sparsity 150 was requested.\n",
      "WARNING: returning sparsity 1 although minimum sparsity 150 was requested.\n",
      "WARNING: returning sparsity 1 although minimum sparsity 150 was requested.\n",
      "WARNING: returning sparsity 1 although minimum sparsity 150 was requested.\n",
      "WARNING: returning sparsity 1 although minimum sparsity 150 was requested.\n",
      "iteration 20:\n",
      "  loss_cur = 1.6094379124340985   loss_next = 1.8155318506232232   step_size = 0.03\n",
      "  loss_cur = 1.6094379124340985   loss_next = 5.289145745312761   step_size = 0.1\n",
      "  loss_cur = 1.6094379124340985   loss_next = 16.934794370801768   step_size = 0.3\n",
      "  best_step_size: 0.0\n",
      "WARNING: returning sparsity 1 although minimum sparsity 150 was requested.\n",
      "WARNING: returning sparsity 1 although minimum sparsity 150 was requested.\n",
      "WARNING: returning sparsity 1 although minimum sparsity 150 was requested.\n",
      "WARNING: returning sparsity 1 although minimum sparsity 150 was requested.\n",
      "WARNING: returning sparsity 1 although minimum sparsity 150 was requested.\n",
      "iteration 21:\n",
      "  loss_cur = 1.6094379124340985   loss_next = 1.8155318506232232   step_size = 0.03\n",
      "  loss_cur = 1.6094379124340985   loss_next = 5.289145745312761   step_size = 0.1\n",
      "  loss_cur = 1.6094379124340985   loss_next = 16.934794370801768   step_size = 0.3\n",
      "  best_step_size: 0.0\n",
      "WARNING: returning sparsity 1 although minimum sparsity 150 was requested.\n",
      "WARNING: returning sparsity 1 although minimum sparsity 150 was requested.\n",
      "WARNING: returning sparsity 1 although minimum sparsity 150 was requested.\n",
      "WARNING: returning sparsity 1 although minimum sparsity 150 was requested.\n",
      "WARNING: returning sparsity 1 although minimum sparsity 150 was requested.\n",
      "iteration 22:\n",
      "  loss_cur = 1.6094379124340985   loss_next = 1.8155318506232232   step_size = 0.03\n",
      "  loss_cur = 1.6094379124340985   loss_next = 5.289145745312761   step_size = 0.1\n",
      "  loss_cur = 1.6094379124340985   loss_next = 16.934794370801768   step_size = 0.3\n",
      "  best_step_size: 0.0\n",
      "WARNING: returning sparsity 1 although minimum sparsity 150 was requested.\n",
      "WARNING: returning sparsity 1 although minimum sparsity 150 was requested.\n",
      "WARNING: returning sparsity 1 although minimum sparsity 150 was requested.\n",
      "WARNING: returning sparsity 1 although minimum sparsity 150 was requested.\n",
      "WARNING: returning sparsity 1 although minimum sparsity 150 was requested.\n",
      "iteration 23:\n",
      "  loss_cur = 1.6094379124340985   loss_next = 1.8155318506232232   step_size = 0.03\n",
      "  loss_cur = 1.6094379124340985   loss_next = 5.289145745312761   step_size = 0.1\n",
      "  loss_cur = 1.6094379124340985   loss_next = 16.934794370801768   step_size = 0.3\n",
      "  best_step_size: 0.0\n",
      "WARNING: returning sparsity 1 although minimum sparsity 150 was requested.\n",
      "WARNING: returning sparsity 1 although minimum sparsity 150 was requested.\n",
      "WARNING: returning sparsity 1 although minimum sparsity 150 was requested.\n",
      "WARNING: returning sparsity 1 although minimum sparsity 150 was requested.\n",
      "WARNING: returning sparsity 1 although minimum sparsity 150 was requested.\n",
      "iteration 24:\n",
      "  loss_cur = 1.6094379124340985   loss_next = 1.8155318506232232   step_size = 0.03\n",
      "  loss_cur = 1.6094379124340985   loss_next = 5.289145745312761   step_size = 0.1\n",
      "  loss_cur = 1.6094379124340985   loss_next = 16.934794370801768   step_size = 0.3\n",
      "  best_step_size: 0.0\n",
      "WARNING: returning sparsity 1 although minimum sparsity 150 was requested.\n",
      "WARNING: returning sparsity 1 although minimum sparsity 150 was requested.\n",
      "WARNING: returning sparsity 1 although minimum sparsity 150 was requested.\n",
      "WARNING: returning sparsity 1 although minimum sparsity 150 was requested.\n",
      "WARNING: returning sparsity 1 although minimum sparsity 150 was requested.\n",
      "iteration 25:\n",
      "  loss_cur = 1.6094379124340985   loss_next = 1.8155318506232232   step_size = 0.03\n",
      "  loss_cur = 1.6094379124340985   loss_next = 5.289145745312761   step_size = 0.1\n",
      "  loss_cur = 1.6094379124340985   loss_next = 16.934794370801768   step_size = 0.3\n",
      "  best_step_size: 0.0\n",
      "WARNING: returning sparsity 1 although minimum sparsity 150 was requested.\n",
      "WARNING: returning sparsity 1 although minimum sparsity 150 was requested.\n",
      "WARNING: returning sparsity 1 although minimum sparsity 150 was requested.\n",
      "WARNING: returning sparsity 1 although minimum sparsity 150 was requested.\n",
      "WARNING: returning sparsity 1 although minimum sparsity 150 was requested.\n"
     ]
    }
   ],
   "source": [
    "W_hat, losses = gslr.gslr(X, y, W0, sparsity_low, sparsity_high, graph_opts, steps, verbosity_level, edge_costs=inbiomap_experimentally.cost.values, edge_costs_multiplier=2)"
   ]
  },
  {
   "cell_type": "code",
   "execution_count": 18,
   "metadata": {},
   "outputs": [
    {
     "name": "stdout",
     "output_type": "stream",
     "text": [
      "Train accuracy: 0.23423423423423423\n"
     ]
    },
    {
     "data": {
      "image/png": "[encoded data removed]",
      "text/plain": [
       "<matplotlib.figure.Figure at 0x1090ca550>"
      ]
     },
     "metadata": {},
     "output_type": "display_data"
    }
   ],
   "source": [
    "yhat = gslr.predict(X, W_hat)\n",
    "num_cor = gslr.num_correct(y, yhat)\n",
    "print('Train accuracy: {}'.format(num_cor / float(len(y))))\n",
    "\n",
    "plt.plot(losses)\n",
    "plt.yscale('log')"
   ]
  },
  {
   "cell_type": "markdown",
   "metadata": {},
   "source": [
    "### iii. Unpack Results"
   ]
  },
  {
   "cell_type": "code",
   "execution_count": 19,
   "metadata": {},
   "outputs": [
    {
     "data": {
      "text/plain": [
       "<matplotlib.axes._subplots.AxesSubplot at 0x1139d3dd8>"
      ]
     },
     "execution_count": 19,
     "metadata": {},
     "output_type": "execute_result"
    },
    {
     "data": {
      "image/png": "[encoded data removed]",
      "text/plain": [
       "<matplotlib.figure.Figure at 0x113d02e80>"
      ]
     },
     "metadata": {},
     "output_type": "display_data"
    }
   ],
   "source": [
    "coefs = pd.DataFrame(W_hat, columns=dataset.columns)\n",
    "coefs.transpose().plot(figsize=(17,8))"
   ]
  },
  {
   "cell_type": "code",
   "execution_count": 20,
   "metadata": {},
   "outputs": [
    {
     "data": {
      "text/plain": [
       "0"
      ]
     },
     "execution_count": 20,
     "metadata": {},
     "output_type": "execute_result"
    }
   ],
   "source": [
    "features = coefs.columns[(coefs != 0).any()].tolist()\n",
    "len(features)"
   ]
  },
  {
   "cell_type": "code",
   "execution_count": 21,
   "metadata": {
    "scrolled": true
   },
   "outputs": [
    {
     "data": {
      "text/plain": [
       "[]"
      ]
     },
     "execution_count": 21,
     "metadata": {},
     "output_type": "execute_result"
    }
   ],
   "source": [
    "features"
   ]
  },
  {
   "cell_type": "code",
   "execution_count": 17,
   "metadata": {},
   "outputs": [],
   "source": [
    "coefs.to_pickle('brca_coefs.pickle')"
   ]
  },
  {
   "cell_type": "code",
   "execution_count": null,
   "metadata": {},
   "outputs": [],
   "source": []
  }
 ],
 "metadata": {
  "kernelspec": {
   "display_name": "Python 3",
   "language": "python",
   "name": "python3"
  },
  "language_info": {
   "codemirror_mode": {
    "name": "ipython",
    "version": 3
   },
   "file_extension": ".py",
   "mimetype": "text/x-python",
   "name": "python",
   "nbconvert_exporter": "python",
   "pygments_lexer": "ipython3",
   "version": "3.6.1"
  }
 },
 "nbformat": 4,
 "nbformat_minor": 2
}
