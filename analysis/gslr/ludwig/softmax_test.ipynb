{
 "cells": [
  {
   "cell_type": "code",
   "execution_count": 1,
   "metadata": {
    "collapsed": true,
    "deletable": true,
    "editable": true
   },
   "outputs": [],
   "source": [
    "from __future__ import division\n",
    "from __future__ import print_function\n",
    "\n",
    "%matplotlib notebook\n",
    "\n",
    "import matplotlib.pyplot as plt\n",
    "import numpy as np\n",
    "from timeit import default_timer as timer\n",
    "\n",
    "import tensorflow as tf\n",
    "\n",
    "import gslr"
   ]
  },
  {
   "cell_type": "code",
   "execution_count": 4,
   "metadata": {
    "collapsed": false,
    "deletable": true,
    "editable": true
   },
   "outputs": [
    {
     "name": "stdout",
     "output_type": "stream",
     "text": [
      "Time to compute gradient: 0.000478029251099 seconds\n",
      "Time to run session: 0.0264229774475 seconds\n",
      "Equal: True\n"
     ]
    }
   ],
   "source": [
    "n = 100\n",
    "d = 20\n",
    "c = 10\n",
    "X = np.random.randn(n, d)\n",
    "y = np.random.choice(c, n)\n",
    "W = np.random.randn(c, d)\n",
    "\n",
    "start = timer()\n",
    "G = gslr.softmax_gradient(X, y, W)\n",
    "end = timer()\n",
    "print('Time to compute gradient: {} seconds'.format(end - start))\n",
    "\n",
    "X_tf = tf.placeholder(tf.float64, shape=[n, d])\n",
    "y_tf = tf.placeholder(tf.int64, shape=[n])\n",
    "W_tf = tf.placeholder(tf.float64, shape=[c, d])\n",
    "loss = tf.reduce_mean(tf.nn.sparse_softmax_cross_entropy_with_logits(labels=y_tf, logits=tf.matmul(X_tf, W_tf, transpose_b=True)))\n",
    "grad = tf.gradients(loss, W_tf)\n",
    "sess = tf.Session()\n",
    "\n",
    "start = timer()\n",
    "G_tf, = sess.run(grad, feed_dict={X_tf: X, y_tf: y, W_tf: W})\n",
    "end = timer()\n",
    "print('Time to run session: {} seconds'.format(end - start))\n",
    "\n",
    "#print('G:')\n",
    "#print(G)\n",
    "#print('G_tf:')\n",
    "#print(G_tf)\n",
    "print('Equal: {}'.format(np.allclose(G, G_tf)))"
   ]
  },
  {
   "cell_type": "code",
   "execution_count": 5,
   "metadata": {
    "collapsed": false,
    "deletable": true,
    "editable": true
   },
   "outputs": [
    {
     "name": "stdout",
     "output_type": "stream",
     "text": [
      "Time to compute loss: 0.000304937362671 seconds\n",
      "Time to run session: 0.00139713287354 seconds\n",
      "Equal: True\n"
     ]
    }
   ],
   "source": [
    "start = timer()\n",
    "loss_own = gslr.softmax_loss(X, y, W)\n",
    "end = timer()\n",
    "print('Time to compute loss: {} seconds'.format(end - start))\n",
    "\n",
    "start = timer()\n",
    "loss_tf = sess.run(loss, feed_dict={X_tf: X, y_tf: y, W_tf: W})\n",
    "end = timer()\n",
    "print('Time to run session: {} seconds'.format(end - start))\n",
    "\n",
    "#print('loss: {}'.format(loss_own))\n",
    "#print('loss_tf: {}'.format(loss_tf))\n",
    "print('Equal: {}'.format(np.allclose(loss_own, loss_tf)))"
   ]
  },
  {
   "cell_type": "code",
   "execution_count": null,
   "metadata": {
    "collapsed": true,
    "deletable": true,
    "editable": true
   },
   "outputs": [],
   "source": []
  }
 ],
 "metadata": {
  "kernelspec": {
   "display_name": "Python 3",
   "language": "python",
   "name": "python3"
  },
  "language_info": {
   "codemirror_mode": {
    "name": "ipython",
    "version": 3
   },
   "file_extension": ".py",
   "mimetype": "text/x-python",
   "name": "python",
   "nbconvert_exporter": "python",
   "pygments_lexer": "ipython3",
   "version": "3.6.1"
  }
 },
 "nbformat": 4,
 "nbformat_minor": 1
}
