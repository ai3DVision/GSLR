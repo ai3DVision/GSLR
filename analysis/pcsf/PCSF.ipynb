{
 "cells": [
  {
   "cell_type": "markdown",
   "metadata": {
    "deletable": true,
    "editable": true
   },
   "source": [
    "# Basic PCSF workflow against our synthetic datasets"
   ]
  },
  {
   "cell_type": "code",
   "execution_count": 1,
   "metadata": {
    "collapsed": false,
    "deletable": true,
    "editable": true
   },
   "outputs": [
    {
     "name": "stdout",
     "output_type": "stream",
     "text": [
      "Populating the interactive namespace from numpy and matplotlib\n"
     ]
    }
   ],
   "source": [
    "%pylab inline\n",
    "import pickle\n",
    "import numpy as np\n",
    "import pandas as pd\n",
    "import networkx as nx\n",
    "from sklearn.linear_model import LogisticRegression\n",
    "from sklearn.preprocessing import LabelEncoder\n",
    "from matplotlib_venn import venn3, venn3_circles, venn2\n",
    "\n",
    "import sys\n",
    "sys.path.insert(0, \"/Users/alex/Documents/OmicsIntegrator2/src\")\n",
    "from graph import *"
   ]
  },
  {
   "cell_type": "markdown",
   "metadata": {
    "deletable": true,
    "editable": true
   },
   "source": [
    "# I. Prepare input instance from cases"
   ]
  },
  {
   "cell_type": "code",
   "execution_count": 3,
   "metadata": {
    "collapsed": false,
    "deletable": true,
    "editable": true
   },
   "outputs": [
    {
     "data": {
      "text/html": [
       "<div>\n",
       "<style>\n",
       "    .dataframe thead tr:only-child th {\n",
       "        text-align: right;\n",
       "    }\n",
       "\n",
       "    .dataframe thead th {\n",
       "        text-align: left;\n",
       "    }\n",
       "\n",
       "    .dataframe tbody tr th {\n",
       "        vertical-align: top;\n",
       "    }\n",
       "</style>\n",
       "<table border=\"1\" class=\"dataframe\">\n",
       "  <thead>\n",
       "    <tr style=\"text-align: right;\">\n",
       "      <th></th>\n",
       "      <th>ZNF91</th>\n",
       "      <th>NDEL1</th>\n",
       "      <th>ELAVL1</th>\n",
       "      <th>SUMO1</th>\n",
       "      <th>SUMO3</th>\n",
       "      <th>CHMP5</th>\n",
       "      <th>UBC</th>\n",
       "      <th>HTT</th>\n",
       "      <th>E2F4</th>\n",
       "      <th>ACP5</th>\n",
       "      <th>...</th>\n",
       "      <th>SPANXN4</th>\n",
       "      <th>ZNF605</th>\n",
       "      <th>SERPINB10</th>\n",
       "      <th>ANKAR</th>\n",
       "      <th>RRH</th>\n",
       "      <th>DHH</th>\n",
       "      <th>CYSLTR1</th>\n",
       "      <th>ZNF268</th>\n",
       "      <th>COL23A1</th>\n",
       "      <th>MEDAG</th>\n",
       "    </tr>\n",
       "  </thead>\n",
       "  <tbody>\n",
       "    <tr>\n",
       "      <th>hsa04110</th>\n",
       "      <td>0.0</td>\n",
       "      <td>0.014856</td>\n",
       "      <td>0.264810</td>\n",
       "      <td>0.109797</td>\n",
       "      <td>-0.976005</td>\n",
       "      <td>0.173769</td>\n",
       "      <td>0.0</td>\n",
       "      <td>0.285756</td>\n",
       "      <td>0.288839</td>\n",
       "      <td>-0.231566</td>\n",
       "      <td>...</td>\n",
       "      <td>0.0</td>\n",
       "      <td>0.0</td>\n",
       "      <td>0.0</td>\n",
       "      <td>0.0</td>\n",
       "      <td>0.0</td>\n",
       "      <td>0.0</td>\n",
       "      <td>0.0</td>\n",
       "      <td>0.0</td>\n",
       "      <td>0.0</td>\n",
       "      <td>0.0</td>\n",
       "    </tr>\n",
       "    <tr>\n",
       "      <th>negative</th>\n",
       "      <td>0.0</td>\n",
       "      <td>-0.228736</td>\n",
       "      <td>0.089442</td>\n",
       "      <td>0.339065</td>\n",
       "      <td>-0.597546</td>\n",
       "      <td>0.040049</td>\n",
       "      <td>0.0</td>\n",
       "      <td>-0.098450</td>\n",
       "      <td>0.073976</td>\n",
       "      <td>-0.494193</td>\n",
       "      <td>...</td>\n",
       "      <td>0.0</td>\n",
       "      <td>0.0</td>\n",
       "      <td>0.0</td>\n",
       "      <td>0.0</td>\n",
       "      <td>0.0</td>\n",
       "      <td>0.0</td>\n",
       "      <td>0.0</td>\n",
       "      <td>0.0</td>\n",
       "      <td>0.0</td>\n",
       "      <td>0.0</td>\n",
       "    </tr>\n",
       "    <tr>\n",
       "      <th>negative</th>\n",
       "      <td>-0.0</td>\n",
       "      <td>-0.715740</td>\n",
       "      <td>-0.143526</td>\n",
       "      <td>-0.480106</td>\n",
       "      <td>0.125846</td>\n",
       "      <td>0.284645</td>\n",
       "      <td>-0.0</td>\n",
       "      <td>0.021132</td>\n",
       "      <td>-0.115910</td>\n",
       "      <td>-0.016950</td>\n",
       "      <td>...</td>\n",
       "      <td>0.0</td>\n",
       "      <td>0.0</td>\n",
       "      <td>0.0</td>\n",
       "      <td>0.0</td>\n",
       "      <td>0.0</td>\n",
       "      <td>0.0</td>\n",
       "      <td>0.0</td>\n",
       "      <td>0.0</td>\n",
       "      <td>0.0</td>\n",
       "      <td>0.0</td>\n",
       "    </tr>\n",
       "    <tr>\n",
       "      <th>negative</th>\n",
       "      <td>-0.0</td>\n",
       "      <td>-0.383979</td>\n",
       "      <td>0.359009</td>\n",
       "      <td>0.394243</td>\n",
       "      <td>-0.387827</td>\n",
       "      <td>-0.281805</td>\n",
       "      <td>0.0</td>\n",
       "      <td>-0.922308</td>\n",
       "      <td>0.340674</td>\n",
       "      <td>-0.278771</td>\n",
       "      <td>...</td>\n",
       "      <td>0.0</td>\n",
       "      <td>0.0</td>\n",
       "      <td>0.0</td>\n",
       "      <td>0.0</td>\n",
       "      <td>0.0</td>\n",
       "      <td>0.0</td>\n",
       "      <td>0.0</td>\n",
       "      <td>0.0</td>\n",
       "      <td>0.0</td>\n",
       "      <td>0.0</td>\n",
       "    </tr>\n",
       "    <tr>\n",
       "      <th>negative</th>\n",
       "      <td>0.0</td>\n",
       "      <td>-0.023037</td>\n",
       "      <td>0.196800</td>\n",
       "      <td>-0.292508</td>\n",
       "      <td>0.165186</td>\n",
       "      <td>0.105207</td>\n",
       "      <td>0.0</td>\n",
       "      <td>-0.521385</td>\n",
       "      <td>-0.194466</td>\n",
       "      <td>-0.234121</td>\n",
       "      <td>...</td>\n",
       "      <td>0.0</td>\n",
       "      <td>0.0</td>\n",
       "      <td>0.0</td>\n",
       "      <td>0.0</td>\n",
       "      <td>0.0</td>\n",
       "      <td>0.0</td>\n",
       "      <td>0.0</td>\n",
       "      <td>0.0</td>\n",
       "      <td>0.0</td>\n",
       "      <td>0.0</td>\n",
       "    </tr>\n",
       "  </tbody>\n",
       "</table>\n",
       "<p>5 rows × 16349 columns</p>\n",
       "</div>"
      ],
      "text/plain": [
       "          ZNF91     NDEL1    ELAVL1     SUMO1     SUMO3     CHMP5  UBC  \\\n",
       "hsa04110    0.0  0.014856  0.264810  0.109797 -0.976005  0.173769  0.0   \n",
       "negative    0.0 -0.228736  0.089442  0.339065 -0.597546  0.040049  0.0   \n",
       "negative   -0.0 -0.715740 -0.143526 -0.480106  0.125846  0.284645 -0.0   \n",
       "negative   -0.0 -0.383979  0.359009  0.394243 -0.387827 -0.281805  0.0   \n",
       "negative    0.0 -0.023037  0.196800 -0.292508  0.165186  0.105207  0.0   \n",
       "\n",
       "               HTT      E2F4      ACP5  ...    SPANXN4  ZNF605  SERPINB10  \\\n",
       "hsa04110  0.285756  0.288839 -0.231566  ...        0.0     0.0        0.0   \n",
       "negative -0.098450  0.073976 -0.494193  ...        0.0     0.0        0.0   \n",
       "negative  0.021132 -0.115910 -0.016950  ...        0.0     0.0        0.0   \n",
       "negative -0.922308  0.340674 -0.278771  ...        0.0     0.0        0.0   \n",
       "negative -0.521385 -0.194466 -0.234121  ...        0.0     0.0        0.0   \n",
       "\n",
       "          ANKAR  RRH  DHH  CYSLTR1  ZNF268  COL23A1  MEDAG  \n",
       "hsa04110    0.0  0.0  0.0      0.0     0.0      0.0    0.0  \n",
       "negative    0.0  0.0  0.0      0.0     0.0      0.0    0.0  \n",
       "negative    0.0  0.0  0.0      0.0     0.0      0.0    0.0  \n",
       "negative    0.0  0.0  0.0      0.0     0.0      0.0    0.0  \n",
       "negative    0.0  0.0  0.0      0.0     0.0      0.0    0.0  \n",
       "\n",
       "[5 rows x 16349 columns]"
      ]
     },
     "execution_count": 3,
     "metadata": {},
     "output_type": "execute_result"
    }
   ],
   "source": [
    "dataset = pd.read_csv('/Users/alex/Documents/proteomics/synthetic_proteomics/generated_data/ludwig_svd_normals/hsa04110_inbiomap_exp.csv', index_col=0)\n",
    "dataset.head()"
   ]
  },
  {
   "cell_type": "code",
   "execution_count": 4,
   "metadata": {
    "collapsed": false,
    "deletable": true,
    "editable": true,
    "scrolled": true
   },
   "outputs": [
    {
     "data": {
      "text/plain": [
       "ZNF91     0.000000\n",
       "NDEL1     0.012221\n",
       "ELAVL1    0.082732\n",
       "SUMO1     0.034982\n",
       "SUMO3     0.059264\n",
       "dtype: float64"
      ]
     },
     "execution_count": 4,
     "metadata": {},
     "output_type": "execute_result"
    }
   ],
   "source": [
    "instance = abs(dataset.loc['hsa04110'].mean() - dataset.loc['negative'].mean())\n",
    "instance.head()"
   ]
  },
  {
   "cell_type": "code",
   "execution_count": 5,
   "metadata": {
    "collapsed": false,
    "deletable": true,
    "editable": true
   },
   "outputs": [
    {
     "data": {
      "text/plain": [
       "8966"
      ]
     },
     "execution_count": 5,
     "metadata": {},
     "output_type": "execute_result"
    }
   ],
   "source": [
    "instance = instance[instance > 0.0001]\n",
    "len(instance)"
   ]
  },
  {
   "cell_type": "code",
   "execution_count": 6,
   "metadata": {
    "collapsed": false,
    "deletable": true,
    "editable": true
   },
   "outputs": [
    {
     "data": {
      "text/html": [
       "<div>\n",
       "<style>\n",
       "    .dataframe thead tr:only-child th {\n",
       "        text-align: right;\n",
       "    }\n",
       "\n",
       "    .dataframe thead th {\n",
       "        text-align: left;\n",
       "    }\n",
       "\n",
       "    .dataframe tbody tr th {\n",
       "        vertical-align: top;\n",
       "    }\n",
       "</style>\n",
       "<table border=\"1\" class=\"dataframe\">\n",
       "  <thead>\n",
       "    <tr style=\"text-align: right;\">\n",
       "      <th></th>\n",
       "      <th>0</th>\n",
       "    </tr>\n",
       "  </thead>\n",
       "  <tbody>\n",
       "    <tr>\n",
       "      <th>NDEL1</th>\n",
       "      <td>0.012221</td>\n",
       "    </tr>\n",
       "    <tr>\n",
       "      <th>ELAVL1</th>\n",
       "      <td>0.082732</td>\n",
       "    </tr>\n",
       "    <tr>\n",
       "      <th>SUMO1</th>\n",
       "      <td>0.034982</td>\n",
       "    </tr>\n",
       "    <tr>\n",
       "      <th>SUMO3</th>\n",
       "      <td>0.059264</td>\n",
       "    </tr>\n",
       "    <tr>\n",
       "      <th>CHMP5</th>\n",
       "      <td>0.023084</td>\n",
       "    </tr>\n",
       "  </tbody>\n",
       "</table>\n",
       "</div>"
      ],
      "text/plain": [
       "               0\n",
       "NDEL1   0.012221\n",
       "ELAVL1  0.082732\n",
       "SUMO1   0.034982\n",
       "SUMO3   0.059264\n",
       "CHMP5   0.023084"
      ]
     },
     "execution_count": 6,
     "metadata": {},
     "output_type": "execute_result"
    }
   ],
   "source": [
    "instance = pd.DataFrame(instance)\n",
    "instance.head()"
   ]
  },
  {
   "cell_type": "code",
   "execution_count": 7,
   "metadata": {
    "collapsed": false,
    "deletable": true,
    "editable": true
   },
   "outputs": [
    {
     "data": {
      "text/html": [
       "<div>\n",
       "<style>\n",
       "    .dataframe thead tr:only-child th {\n",
       "        text-align: right;\n",
       "    }\n",
       "\n",
       "    .dataframe thead th {\n",
       "        text-align: left;\n",
       "    }\n",
       "\n",
       "    .dataframe tbody tr th {\n",
       "        vertical-align: top;\n",
       "    }\n",
       "</style>\n",
       "<table border=\"1\" class=\"dataframe\">\n",
       "  <thead>\n",
       "    <tr style=\"text-align: right;\">\n",
       "      <th></th>\n",
       "      <th>name</th>\n",
       "      <th>prize</th>\n",
       "    </tr>\n",
       "  </thead>\n",
       "  <tbody>\n",
       "    <tr>\n",
       "      <th>0</th>\n",
       "      <td>NDEL1</td>\n",
       "      <td>0.012221</td>\n",
       "    </tr>\n",
       "    <tr>\n",
       "      <th>1</th>\n",
       "      <td>ELAVL1</td>\n",
       "      <td>0.082732</td>\n",
       "    </tr>\n",
       "    <tr>\n",
       "      <th>2</th>\n",
       "      <td>SUMO1</td>\n",
       "      <td>0.034982</td>\n",
       "    </tr>\n",
       "    <tr>\n",
       "      <th>3</th>\n",
       "      <td>SUMO3</td>\n",
       "      <td>0.059264</td>\n",
       "    </tr>\n",
       "    <tr>\n",
       "      <th>4</th>\n",
       "      <td>CHMP5</td>\n",
       "      <td>0.023084</td>\n",
       "    </tr>\n",
       "  </tbody>\n",
       "</table>\n",
       "</div>"
      ],
      "text/plain": [
       "     name     prize\n",
       "0   NDEL1  0.012221\n",
       "1  ELAVL1  0.082732\n",
       "2   SUMO1  0.034982\n",
       "3   SUMO3  0.059264\n",
       "4   CHMP5  0.023084"
      ]
     },
     "execution_count": 7,
     "metadata": {},
     "output_type": "execute_result"
    }
   ],
   "source": [
    "instance.reset_index(inplace=True)\n",
    "instance.columns = ['name', 'prize']\n",
    "instance.head()"
   ]
  },
  {
   "cell_type": "code",
   "execution_count": 8,
   "metadata": {
    "collapsed": true,
    "deletable": true,
    "editable": true
   },
   "outputs": [],
   "source": [
    "instance.to_csv('hsa04110_inbiomap_exp.pcsf.prizes', sep='\\t', index=False, header=True)"
   ]
  },
  {
   "cell_type": "markdown",
   "metadata": {
    "deletable": true,
    "editable": true
   },
   "source": [
    "# II. Prepare Graph"
   ]
  },
  {
   "cell_type": "code",
   "execution_count": 10,
   "metadata": {
    "collapsed": false,
    "deletable": true,
    "editable": true
   },
   "outputs": [
    {
     "data": {
      "text/html": [
       "<div>\n",
       "<style>\n",
       "    .dataframe thead tr:only-child th {\n",
       "        text-align: right;\n",
       "    }\n",
       "\n",
       "    .dataframe thead th {\n",
       "        text-align: left;\n",
       "    }\n",
       "\n",
       "    .dataframe tbody tr th {\n",
       "        vertical-align: top;\n",
       "    }\n",
       "</style>\n",
       "<table border=\"1\" class=\"dataframe\">\n",
       "  <thead>\n",
       "    <tr style=\"text-align: right;\">\n",
       "      <th></th>\n",
       "      <th>protein1</th>\n",
       "      <th>protein2</th>\n",
       "      <th>confidence</th>\n",
       "    </tr>\n",
       "  </thead>\n",
       "  <tbody>\n",
       "    <tr>\n",
       "      <th>0</th>\n",
       "      <td>ZNF91</td>\n",
       "      <td>NDEL1</td>\n",
       "      <td>0.147</td>\n",
       "    </tr>\n",
       "    <tr>\n",
       "      <th>1</th>\n",
       "      <td>ZNF91</td>\n",
       "      <td>ELAVL1</td>\n",
       "      <td>0.146</td>\n",
       "    </tr>\n",
       "    <tr>\n",
       "      <th>2</th>\n",
       "      <td>ZNF91</td>\n",
       "      <td>SUMO1</td>\n",
       "      <td>0.155</td>\n",
       "    </tr>\n",
       "    <tr>\n",
       "      <th>3</th>\n",
       "      <td>ZNF91</td>\n",
       "      <td>SUMO3</td>\n",
       "      <td>0.155</td>\n",
       "    </tr>\n",
       "    <tr>\n",
       "      <th>4</th>\n",
       "      <td>ZNF91</td>\n",
       "      <td>CHMP5</td>\n",
       "      <td>0.159</td>\n",
       "    </tr>\n",
       "  </tbody>\n",
       "</table>\n",
       "</div>"
      ],
      "text/plain": [
       "  protein1 protein2  confidence\n",
       "0    ZNF91    NDEL1       0.147\n",
       "1    ZNF91   ELAVL1       0.146\n",
       "2    ZNF91    SUMO1       0.155\n",
       "3    ZNF91    SUMO3       0.155\n",
       "4    ZNF91    CHMP5       0.159"
      ]
     },
     "execution_count": 10,
     "metadata": {},
     "output_type": "execute_result"
    }
   ],
   "source": [
    "inbiomap_experimentally = pd.read_csv('/Users/alex/Documents/proteomics/data_preparation/interactomes/InBioMap/inbiomap_exp.normalized.cleaned.connected.tsv', sep='\\t')\n",
    "inbiomap_experimentally.head()"
   ]
  },
  {
   "cell_type": "code",
   "execution_count": 11,
   "metadata": {
    "collapsed": true,
    "deletable": true,
    "editable": true
   },
   "outputs": [],
   "source": [
    "inbiomap_experimentally['cost'] = 1.4 - inbiomap_experimentally['confidence']"
   ]
  },
  {
   "cell_type": "code",
   "execution_count": 13,
   "metadata": {
    "collapsed": false,
    "deletable": true,
    "editable": true
   },
   "outputs": [],
   "source": [
    "inbiomap_experimentally[['protein1', 'protein2', 'cost']].to_csv('inbiomap_temp.tsv', sep='\\t', header=False, index=False) # need to remove headers"
   ]
  },
  {
   "cell_type": "markdown",
   "metadata": {
    "deletable": true,
    "editable": true
   },
   "source": [
    "# III. Run PCSF"
   ]
  },
  {
   "cell_type": "code",
   "execution_count": 10,
   "metadata": {
    "collapsed": false,
    "deletable": true,
    "editable": true
   },
   "outputs": [],
   "source": [
    "graph = Graph('inbiomap_temp.tsv', {\"b\": 1.0741})"
   ]
  },
  {
   "cell_type": "code",
   "execution_count": 11,
   "metadata": {
    "collapsed": false,
    "deletable": true,
    "editable": true
   },
   "outputs": [
    {
     "name": "stderr",
     "output_type": "stream",
     "text": [
      "04:42:21 - Graph: INFO - Duplicated gene symbols in the prize file (we'll keep the max prize):\n",
      "04:42:21 - Graph: INFO - []\n",
      "04:42:21 - Graph: INFO - Members of the prize file not present in the interactome:\n",
      "04:42:21 - Graph: INFO - []\n"
     ]
    },
    {
     "data": {
      "text/plain": [
       "array([ 0.        ,  0.06226778,  0.01300805, ...,  0.        ,\n",
       "        0.        ,  0.        ])"
      ]
     },
     "execution_count": 11,
     "metadata": {},
     "output_type": "execute_result"
    }
   ],
   "source": [
    "prize_file = 'hsa04110_inbiomap_exp.pcsf.prizes'\n",
    "graph.prepare_prizes(prize_file)\n",
    "graph.prizes"
   ]
  },
  {
   "cell_type": "code",
   "execution_count": 12,
   "metadata": {
    "collapsed": false,
    "deletable": true,
    "editable": true
   },
   "outputs": [
    {
     "data": {
      "text/plain": [
       "236"
      ]
     },
     "execution_count": 12,
     "metadata": {},
     "output_type": "execute_result"
    }
   ],
   "source": [
    "vertex_indices, edge_indices = graph.pcsf()\n",
    "len(vertex_indices)"
   ]
  },
  {
   "cell_type": "code",
   "execution_count": 13,
   "metadata": {
    "collapsed": false,
    "deletable": true,
    "editable": true
   },
   "outputs": [
    {
     "data": {
      "text/plain": [
       "<networkx.classes.graph.Graph at 0x119e59860>"
      ]
     },
     "execution_count": 13,
     "metadata": {},
     "output_type": "execute_result"
    }
   ],
   "source": [
    "forest, augmented_forest = graph.output_forest_as_networkx(vertex_indices, edge_indices)\n",
    "forest"
   ]
  },
  {
   "cell_type": "code",
   "execution_count": 14,
   "metadata": {
    "collapsed": false,
    "deletable": true,
    "editable": true
   },
   "outputs": [
    {
     "name": "stderr",
     "output_type": "stream",
     "text": [
      "/Users/alex/Documents/proteomics/venv/lib/python3.6/site-packages/networkx/drawing/nx_pylab.py:126: MatplotlibDeprecationWarning: pyplot.hold is deprecated.\n",
      "    Future behavior will be consistent with the long-time default:\n",
      "    plot commands add elements without first clearing the\n",
      "    Axes and/or Figure.\n",
      "  b = plt.ishold()\n",
      "/Users/alex/Documents/proteomics/venv/lib/python3.6/site-packages/networkx/drawing/nx_pylab.py:138: MatplotlibDeprecationWarning: pyplot.hold is deprecated.\n",
      "    Future behavior will be consistent with the long-time default:\n",
      "    plot commands add elements without first clearing the\n",
      "    Axes and/or Figure.\n",
      "  plt.hold(b)\n",
      "/Users/alex/Documents/proteomics/venv/lib/python3.6/site-packages/matplotlib/__init__.py:917: UserWarning: axes.hold is deprecated. Please remove it from your matplotlibrc and/or style files.\n",
      "  warnings.warn(self.msg_depr_set % key)\n",
      "/Users/alex/Documents/proteomics/venv/lib/python3.6/site-packages/matplotlib/rcsetup.py:152: UserWarning: axes.hold is deprecated, will be removed in 3.0\n",
      "  warnings.warn(\"axes.hold is deprecated, will be removed in 3.0\")\n"
     ]
    },
    {
     "data": {
      "image/png": "[encoded data removed]",
      "text/plain": [
       "<matplotlib.figure.Figure at 0x118285dd8>"
      ]
     },
     "metadata": {},
     "output_type": "display_data"
    }
   ],
   "source": [
    "nx.draw_spring(augmented_forest)\n"
   ]
  },
  {
   "cell_type": "markdown",
   "metadata": {
    "collapsed": true,
    "deletable": true,
    "editable": true
   },
   "source": [
    "# IV. Bayesian Optimization"
   ]
  },
  {
   "cell_type": "code",
   "execution_count": 14,
   "metadata": {
    "collapsed": true,
    "deletable": true,
    "editable": true
   },
   "outputs": [],
   "source": [
    "from bayes_opt import BayesianOptimization\n",
    "\n",
    "# use sklearn's default parameters for theta and random_start\n",
    "gp_params = {\"alpha\": 1e-5, \"n_restarts_optimizer\": 2}"
   ]
  },
  {
   "cell_type": "code",
   "execution_count": 15,
   "metadata": {
    "collapsed": false,
    "deletable": true,
    "editable": true
   },
   "outputs": [
    {
     "name": "stderr",
     "output_type": "stream",
     "text": [
      "11:08:01 - Graph: INFO - Duplicated gene symbols in the prize file (we'll keep the max prize):\n",
      "11:08:01 - Graph: INFO - []\n",
      "11:08:01 - Graph: INFO - Members of the prize file not present in the interactome:\n",
      "11:08:01 - Graph: INFO - []\n"
     ]
    }
   ],
   "source": [
    "graph = Graph('inbiomap_temp.tsv', {})\n",
    "graph.prepare_prizes('hsa04110_inbiomap_exp.pcsf.prizes')"
   ]
  },
  {
   "cell_type": "code",
   "execution_count": 16,
   "metadata": {
    "collapsed": false,
    "deletable": true,
    "editable": true
   },
   "outputs": [],
   "source": [
    "pathways = pd.read_pickle('/Users/alex/Documents/proteomics/synthetic_proteomics/data_generation/KEGG_df.filtered.with_correlates.pickle')\n",
    "ground_truth_pathway_genes, correlates = pathways.loc[pd.IndexSlice[:,:,['hsa04110']], ['genes', 'correlates']].values[0]\n",
    "ground_truth_pathway_genes = set(ground_truth_pathway_genes)"
   ]
  },
  {
   "cell_type": "code",
   "execution_count": 22,
   "metadata": {
    "collapsed": false,
    "deletable": true,
    "editable": true
   },
   "outputs": [],
   "source": [
    "def Recall(truth, pred):    \n",
    "    return len(truth & pred) / float(len(truth)+1)\n",
    "    \n",
    "def Precision(truth, pred):\n",
    "    return len(truth & pred) / float(len(pred)+1)\n",
    "\n",
    "def F1(truth, pred):\n",
    "#     precision = Precision(truth, pred)\n",
    "#     recall = Recall(truth, pred)\n",
    "#     F_other = precision + recall\n",
    "    return venn2([truth, pred], set_labels=['truth', 'pred'])\n",
    "#     F1 = 2 * (precision * recall) / (precision + recall + 1)\n",
    "#     return F_other\n",
    "\n",
    "def Eval(**params):\n",
    "    _, (vertex_indices, _) = graph._eval_pcsf(params)\n",
    "    selected_nodes = set(graph.nodes[vertex_indices])\n",
    "    return F1(ground_truth_pathway_genes, selected_nodes)\n"
   ]
  },
  {
   "cell_type": "code",
   "execution_count": 18,
   "metadata": {
    "collapsed": false,
    "deletable": true,
    "editable": true
   },
   "outputs": [],
   "source": [
    "bo = BayesianOptimization(Eval, {'a': (1000, 100000), 'b':(1, 1.1), 'w':(0, 7)})"
   ]
  },
  {
   "cell_type": "code",
   "execution_count": 19,
   "metadata": {
    "collapsed": false,
    "deletable": true,
    "editable": true,
    "scrolled": false
   },
   "outputs": [
    {
     "name": "stdout",
     "output_type": "stream",
     "text": [
      "\u001b[31mInitialization\u001b[0m\n",
      "\u001b[94m-----------------------------------------------------------------\u001b[0m\n",
      " Step |   Time |      Value |         a |         b |         w | \n",
      "    1 | 00m00s | \u001b[35m   0.50800\u001b[0m | \u001b[32m49089.3913\u001b[0m | \u001b[32m   1.0735\u001b[0m | \u001b[32m   1.1853\u001b[0m | \n",
      "    2 | 00m00s |    0.00000 | 46171.9130 |    1.0234 |    2.4343 | \n",
      "    3 | 00m01s |    0.00000 | 12352.5127 |    1.0760 |    3.1545 | \n",
      "    4 | 00m00s |    0.00000 | 56551.6875 |    1.0995 |    4.6455 | \n",
      "    5 | 00m00s |    0.00000 | 22457.6198 |    1.0304 |    3.7061 | \n",
      "    6 | 00m00s |    0.00000 | 75462.0266 |    1.0560 |    3.9684 | \n",
      "    7 | 00m00s | \u001b[35m   0.68267\u001b[0m | \u001b[32m11487.1491\u001b[0m | \u001b[32m   1.0895\u001b[0m | \u001b[32m   1.1198\u001b[0m | \n",
      "    8 | 00m00s |    0.00000 | 79105.4918 |    1.0904 |    5.7921 | \n",
      "    9 | 00m00s |    0.00000 | 55092.9400 |    1.0364 |    3.4907 | \n",
      "   10 | 00m00s | \u001b[35m   0.76431\u001b[0m | \u001b[32m54921.2081\u001b[0m | \u001b[32m   1.0231\u001b[0m | \u001b[32m   0.3867\u001b[0m | \n",
      "\u001b[31mBayesian Optimization\u001b[0m\n",
      "\u001b[94m-----------------------------------------------------------------\u001b[0m\n",
      " Step |   Time |      Value |         a |         b |         w | \n",
      "   11 | 00m01s |    0.00000 | 49088.8458 |    1.0003 |    2.6896 | \n",
      "   12 | 00m01s |    0.50800 | 54916.2166 |    1.0993 |    2.1933 | \n",
      "   13 | 00m01s |    0.00000 | 54924.4005 |    1.0573 |    6.7654 | \n",
      "   14 | 00m01s |    0.00000 | 11493.4615 |    1.0694 |    5.8866 | \n",
      "   15 | 00m01s |    0.00000 | 11478.8162 |    1.0705 |    2.9969 | \n",
      "   16 | 00m01s | \u001b[35m   0.86400\u001b[0m | \u001b[32m49095.6052\u001b[0m | \u001b[32m   1.0941\u001b[0m | \u001b[32m   0.4773\u001b[0m | \n",
      "   17 | 00m01s |    0.50800 | 49105.3156 |    1.0611 |    0.9816 | \n",
      "   18 | 00m01s |    0.50800 | 49121.7183 |    1.0759 |    0.8722 | \n",
      "   19 | 00m01s |    0.00000 | 49135.4694 |    1.0860 |    5.5425 | \n",
      "   20 | 00m01s |    0.73004 | 54899.2123 |    1.0000 |    0.0000 | \n",
      "   21 | 00m01s |    0.50800 | 54886.2748 |    1.0211 |    0.8099 | \n",
      "   22 | 00m01s |    0.73067 | 54869.7008 |    1.0315 |    0.3967 | \n",
      "   23 | 00m01s |    0.00000 | 54856.5317 |    1.0472 |    4.8716 | \n",
      "   24 | 00m01s |    0.36125 | 54944.5112 |    1.0444 |    0.1525 | \n",
      "   25 | 00m01s |    0.50800 | 54964.3717 |    1.0887 |    1.4195 | \n",
      "   26 | 00m01s |    0.00000 | 54983.2270 |    1.0256 |    5.4998 | \n",
      "   27 | 00m01s |    0.00000 | 31803.6384 |    1.0956 |    4.0894 | \n",
      "   28 | 00m01s |    0.00000 | 55225.3722 |    1.0851 |    6.6865 | \n",
      "   29 | 00m01s |    0.00000 | 1054.1737 |    1.0209 |    4.7285 | \n",
      "   30 | 00m01s |    0.00000 | 20132.9003 |    1.0112 |    6.5887 | \n",
      "   31 | 00m01s |    0.50800 | 32401.9759 |    1.0186 |    1.4186 | \n",
      "   32 | 00m01s |    0.00000 | 32384.9568 |    1.0416 |    3.0285 | \n",
      "   33 | 00m01s |    0.50800 | 32419.2442 |    1.0402 |    0.8937 | \n",
      "   34 | 00m01s |    0.00000 | 32437.0622 |    1.0847 |    6.2364 | \n",
      "   35 | 00m01s |    0.00000 | 95961.4789 |    1.0699 |    5.1531 | \n",
      "   36 | 00m01s |    0.00000 | 29990.4536 |    1.0360 |    5.4325 | \n",
      "   37 | 00m01s |    0.00000 | 72893.4956 |    1.0554 |    5.2445 | \n",
      "   38 | 00m01s |    0.50800 | 91821.6357 |    1.0909 |    0.8480 | \n",
      "   39 | 00m01s |    0.00000 | 91838.8230 |    1.0000 |    7.0000 | \n",
      "   40 | 00m01s |    0.00000 | 91802.9242 |    1.0113 |    4.6997 | \n",
      "   41 | 00m01s |    0.00000 | 95248.3602 |    1.0411 |    3.1252 | \n",
      "   42 | 00m02s |    0.36681 | 96974.4803 |    1.0639 |    0.2126 | \n",
      "   43 | 00m01s |    0.00000 | 96995.9600 |    1.0716 |    2.7700 | \n",
      "   44 | 00m01s |    0.00000 | 96953.6848 |    1.0375 |    4.2052 | \n",
      "   45 | 00m01s |    0.00000 | 79313.5690 |    1.0754 |    6.5096 | \n",
      "   46 | 00m01s |    0.41073 | 8488.9950 |    1.0821 |    0.0954 | \n",
      "   47 | 00m01s |    0.00000 | 8509.7602 |    1.0727 |    3.5863 | \n",
      "   48 | 00m01s |    0.68267 | 8467.9140 |    1.0679 |    1.2755 | \n",
      "   49 | 00m01s |    0.00000 | 8450.9079 |    1.0566 |    5.5017 | \n",
      "   50 | 00m01s |    0.00000 | 76761.4561 |    1.0158 |    4.9085 | \n",
      "   51 | 00m01s |    0.50800 | 51794.5481 |    1.0078 |    1.0377 | \n",
      "   52 | 00m01s |    0.00000 | 51814.3359 |    1.0322 |    5.0018 | \n",
      "   53 | 00m01s | \u001b[35m   0.87333\u001b[0m | \u001b[32m51773.4350\u001b[0m | \u001b[32m   1.0010\u001b[0m | \u001b[32m   0.4825\u001b[0m | \n",
      "   54 | 00m01s |    0.00000 | 51758.7526 |    1.0686 |    7.0000 | \n",
      "   55 | 00m01s |    0.00000 | 51782.0321 |    1.0792 |    5.5964 | \n",
      "   56 | 00m02s |    0.00000 | 2072.4623 |    1.0187 |    6.1681 | \n",
      "   57 | 00m02s |    0.00000 | 47775.9082 |    1.0089 |    5.5562 | \n",
      "   58 | 00m02s |    0.50800 | 16282.5204 |    1.0228 |    0.8505 | \n",
      "   59 | 00m02s |    0.50800 | 16303.6172 |    1.0545 |    1.6428 | \n",
      "   60 | 00m02s |    0.00000 | 16326.0296 |    1.0258 |    2.7300 | \n",
      "   61 | 00m02s |    0.00000 | 16261.2223 |    1.0344 |    6.4838 | \n",
      "   62 | 00m02s |    0.50800 | 59776.2376 |    1.0789 |    1.6505 | \n",
      "   63 | 00m02s |    0.35330 | 59755.2387 |    1.0809 |    0.1992 | \n",
      "   64 | 00m02s |    0.35823 | 59798.1953 |    1.0574 |    0.1650 | \n",
      "   65 | 00m02s |    0.00000 | 59825.3392 |    1.0311 |    6.5921 | \n",
      "   66 | 00m02s |    0.79429 | 59726.5485 |    1.0022 |    0.3603 | \n",
      "   67 | 00m02s |    0.00000 | 59709.2844 |    1.0828 |    5.0194 | \n",
      "   68 | 00m02s |    0.00000 | 59740.4229 |    1.0897 |    5.9112 | \n",
      "   69 | 00m02s |    0.00000 | 35250.6387 |    1.0564 |    2.2812 | \n",
      "   70 | 00m02s |    0.00000 | 13707.9711 |    1.0013 |    3.2102 | \n",
      "   71 | 00m02s |    0.69867 | 7221.6624 |    1.0297 |    0.7982 | \n",
      "   72 | 00m02s |    0.00000 | 7202.6202 |    1.0767 |    1.8339 | \n",
      "   73 | 00m03s |    0.00000 | 7240.4851 |    1.0022 |    2.3646 | \n",
      "   74 | 00m02s |    0.50800 | 96274.8920 |    1.0614 |    2.0720 | \n",
      "   75 | 00m02s |    0.00000 | 96252.1581 |    1.0483 |    5.3680 | \n",
      "   76 | 00m03s |    0.00000 | 96297.8183 |    1.0207 |    6.2986 | \n",
      "   77 | 00m03s |    0.50800 | 57197.3362 |    1.0961 |    0.7225 | \n",
      "   78 | 00m02s |    0.50800 | 57174.0381 |    1.0803 |    2.0971 | \n",
      "   79 | 00m02s |    0.00000 | 57149.4724 |    1.0983 |    7.0000 | \n",
      "   80 | 00m02s |    0.00000 | 57222.8261 |    1.0805 |    4.9969 | \n",
      "   81 | 00m02s |    0.00000 | 40887.5792 |    1.0464 |    6.2534 | \n",
      "   82 | 00m02s |    0.00000 | 26225.9808 |    1.0013 |    4.4432 | \n",
      "   83 | 00m02s |    0.00000 | 65497.9683 |    1.0441 |    2.4692 | \n",
      "   84 | 00m02s |    0.00000 | 29290.9342 |    1.0733 |    3.4155 | \n",
      "   85 | 00m02s |    0.00000 | 48043.8543 |    1.0339 |    2.5048 | \n",
      "   86 | 00m03s |    0.00000 | 5875.3796 |    1.0395 |    6.8914 | \n",
      "   87 | 00m03s |    0.00000 | 71479.7970 |    1.0264 |    4.8343 | \n",
      "   88 | 00m03s |    0.00000 | 98313.7761 |    1.0122 |    4.5772 | \n",
      "   89 | 00m03s |    0.00000 | 58972.3849 |    1.0480 |    6.3481 | \n",
      "   90 | 00m03s |    0.00000 | 5316.2905 |    1.0131 |    4.5765 | \n",
      "   91 | 00m03s |    0.00000 | 80729.2891 |    1.0495 |    5.7216 | \n",
      "   92 | 00m03s |    0.50800 | 82730.9419 |    1.0771 |    2.0530 | \n",
      "   93 | 00m03s |    0.50800 | 82754.9137 |    1.0575 |    1.0502 | \n",
      "   94 | 00m03s |    0.00000 | 82779.9664 |    1.0000 |    7.0000 | \n",
      "   95 | 00m03s |    0.00000 | 82704.7758 |    1.0533 |    6.6989 | \n",
      "   96 | 00m03s |    0.50800 | 40081.8410 |    1.0937 |    1.6255 | \n",
      "   97 | 00m03s |    0.00000 | 40106.2823 |    1.0875 |    4.9388 | \n",
      "   98 | 00m03s |    0.00000 | 40057.1461 |    1.0092 |    6.1693 | \n",
      "   99 | 00m03s |    0.00000 | 17927.3747 |    1.0409 |    6.9399 | \n",
      "  100 | 00m04s |    0.00000 | 54132.9450 |    1.0400 |    4.1244 | \n"
     ]
    }
   ],
   "source": [
    "bo.maximize(init_points=10, n_iter=90, acq=\"ucb\", kappa=2, **gp_params)"
   ]
  },
  {
   "cell_type": "code",
   "execution_count": 20,
   "metadata": {
    "collapsed": false,
    "deletable": true,
    "editable": true
   },
   "outputs": [
    {
     "name": "stdout",
     "output_type": "stream",
     "text": [
      "{'max_val': 0.87333333333333341, 'max_params': {'a': 51773.435001572449, 'b': 1.000957438119751, 'w': 0.48252914670384772}}\n"
     ]
    }
   ],
   "source": [
    "print(bo.res['max'])"
   ]
  },
  {
   "cell_type": "code",
   "execution_count": 21,
   "metadata": {
    "collapsed": false,
    "deletable": true,
    "editable": true
   },
   "outputs": [
    {
     "name": "stdout",
     "output_type": "stream",
     "text": [
      "\u001b[31mBayesian Optimization\u001b[0m\n",
      "\u001b[94m-----------------------------------------------------------------\u001b[0m\n",
      " Step |   Time |      Value |         a |         b |         w | \n",
      "  101 | 00m08s |    0.00000 | 8479.5427 |    1.0140 |    6.7018 | \n",
      "  102 | 00m04s |    0.00000 | 57183.3248 |    1.0336 |    6.9859 | \n",
      "  103 | 00m04s |    0.00000 | 82744.2357 |    1.0621 |    6.3964 | \n",
      "  104 | 00m04s |    0.00000 | 16681.1145 |    1.0825 |    4.7807 | \n",
      "  105 | 00m04s |    0.00000 | 83138.2201 |    1.0647 |    4.3385 | \n",
      "  106 | 00m04s |    0.50800 | 51391.7538 |    1.0560 |    1.4814 | \n",
      "  107 | 00m04s |    0.00000 | 51371.8242 |    1.0310 |    6.9534 | \n",
      "  108 | 00m04s |    0.50800 | 51413.4603 |    1.0835 |    1.1741 | \n",
      "  109 | 00m04s |    0.00000 | 51436.6985 |    1.0162 |    5.8086 | \n",
      "  110 | 00m05s |    0.61181 | 6824.4775 |    1.0996 |    0.3542 | \n",
      "  111 | 00m05s |    0.68267 | 6806.0055 |    1.0511 |    0.8487 | \n",
      "  112 | 00m05s |    0.00000 | 6787.3360 |    1.0581 |    4.2057 | \n",
      "  113 | 00m06s |    0.00000 | 6814.3286 |    1.0261 |    6.9157 | \n",
      "  114 | 00m06s |    0.50800 | 6843.2651 |    1.0891 |    1.9072 | \n",
      "  115 | 00m06s |    0.00000 | 6868.6257 |    1.0816 |    1.9052 | \n",
      "  116 | 00m05s |    0.50800 | 57607.9400 |    1.0805 |    2.0858 | \n",
      "  117 | 00m06s |    0.00000 | 57629.6087 |    1.0013 |    5.0615 | \n",
      "  118 | 00m05s |    0.00000 | 57586.9241 |    1.0171 |    2.8538 | \n",
      "  119 | 00m05s |    0.46761 | 82315.4783 |    1.0528 |    0.0515 | \n",
      "  120 | 00m06s |    0.00000 | 82338.9091 |    1.0068 |    4.1755 | \n"
     ]
    }
   ],
   "source": [
    "bo.maximize(n_iter=20, acq='ei', xi=1e-4, **gp_params)"
   ]
  },
  {
   "cell_type": "markdown",
   "metadata": {
    "deletable": true,
    "editable": true
   },
   "source": [
    "# V. Hand-optimization"
   ]
  },
  {
   "cell_type": "code",
   "execution_count": 26,
   "metadata": {
    "collapsed": false,
    "deletable": true,
    "editable": true
   },
   "outputs": [
    {
     "data": {
      "text/plain": [
       "<matplotlib_venn._common.VennDiagram at 0x1169b2ef0>"
      ]
     },
     "execution_count": 26,
     "metadata": {},
     "output_type": "execute_result"
    },
    {
     "data": {
      "image/png": "[encoded data removed]",
      "text/plain": [
       "<matplotlib.figure.Figure at 0x116a3c9e8>"
      ]
     },
     "metadata": {},
     "output_type": "display_data"
    }
   ],
   "source": [
    "Eval(a=5000, b=2, w=4)"
   ]
  },
  {
   "cell_type": "code",
   "execution_count": 27,
   "metadata": {
    "collapsed": false,
    "deletable": true,
    "editable": true
   },
   "outputs": [
    {
     "data": {
      "text/plain": [
       "<matplotlib_venn._common.VennDiagram at 0x117c49940>"
      ]
     },
     "execution_count": 27,
     "metadata": {},
     "output_type": "execute_result"
    },
    {
     "data": {
      "image/png": "[encoded data removed]",
      "text/plain": [
       "<matplotlib.figure.Figure at 0x116af34e0>"
      ]
     },
     "metadata": {},
     "output_type": "display_data"
    }
   ],
   "source": [
    "Eval(a=5000, b=3, w=4)"
   ]
  },
  {
   "cell_type": "code",
   "execution_count": 28,
   "metadata": {
    "collapsed": false,
    "deletable": true,
    "editable": true
   },
   "outputs": [
    {
     "data": {
      "text/plain": [
       "<matplotlib_venn._common.VennDiagram at 0x116ab8cc0>"
      ]
     },
     "execution_count": 28,
     "metadata": {},
     "output_type": "execute_result"
    },
    {
     "data": {
      "image/png": "[encoded data removed]",
      "text/plain": [
       "<matplotlib.figure.Figure at 0x11709a320>"
      ]
     },
     "metadata": {},
     "output_type": "display_data"
    }
   ],
   "source": [
    "Eval(a=5000, b=4, w=4)"
   ]
  },
  {
   "cell_type": "code",
   "execution_count": 31,
   "metadata": {
    "collapsed": false,
    "deletable": true,
    "editable": true
   },
   "outputs": [
    {
     "data": {
      "text/plain": [
       "<matplotlib_venn._common.VennDiagram at 0x1186e3f60>"
      ]
     },
     "execution_count": 31,
     "metadata": {},
     "output_type": "execute_result"
    },
    {
     "data": {
      "image/png": "[encoded data removed]",
      "text/plain": [
       "<matplotlib.figure.Figure at 0x1183b2748>"
      ]
     },
     "metadata": {},
     "output_type": "display_data"
    }
   ],
   "source": [
    "Eval(a=2000, b=3, w=4)"
   ]
  },
  {
   "cell_type": "code",
   "execution_count": 34,
   "metadata": {
    "collapsed": false,
    "deletable": true,
    "editable": true
   },
   "outputs": [
    {
     "data": {
      "text/plain": [
       "<matplotlib_venn._common.VennDiagram at 0x11d4d18d0>"
      ]
     },
     "execution_count": 34,
     "metadata": {},
     "output_type": "execute_result"
    },
    {
     "data": {
      "image/png": "[encoded data removed]",
      "text/plain": [
       "<matplotlib.figure.Figure at 0x11d48c5c0>"
      ]
     },
     "metadata": {},
     "output_type": "display_data"
    }
   ],
   "source": [
    "Eval(a=2000, b=3, w=6)"
   ]
  },
  {
   "cell_type": "code",
   "execution_count": 41,
   "metadata": {
    "collapsed": false,
    "deletable": true,
    "editable": true
   },
   "outputs": [
    {
     "data": {
      "text/plain": [
       "<matplotlib_venn._common.VennDiagram at 0x122544748>"
      ]
     },
     "execution_count": 41,
     "metadata": {},
     "output_type": "execute_result"
    },
    {
     "data": {
      "image/png": "[encoded data removed]",
      "text/plain": [
       "<matplotlib.figure.Figure at 0x12275e0f0>"
      ]
     },
     "metadata": {},
     "output_type": "display_data"
    }
   ],
   "source": [
    "Eval(a=2000, b=4, w=7)"
   ]
  },
  {
   "cell_type": "code",
   "execution_count": 43,
   "metadata": {
    "collapsed": false,
    "deletable": true,
    "editable": true
   },
   "outputs": [
    {
     "data": {
      "text/plain": [
       "<matplotlib_venn._common.VennDiagram at 0x122849828>"
      ]
     },
     "execution_count": 43,
     "metadata": {},
     "output_type": "execute_result"
    },
    {
     "data": {
      "image/png": "[encoded data removed]",
      "text/plain": [
       "<matplotlib.figure.Figure at 0x12255a908>"
      ]
     },
     "metadata": {},
     "output_type": "display_data"
    }
   ],
   "source": [
    "Eval(a=1500, b=4, w=7)"
   ]
  }
 ],
 "metadata": {
  "kernelspec": {
   "display_name": "Python 3",
   "language": "python",
   "name": "python3"
  },
  "language_info": {
   "codemirror_mode": {
    "name": "ipython",
    "version": 3
   },
   "file_extension": ".py",
   "mimetype": "text/x-python",
   "name": "python",
   "nbconvert_exporter": "python",
   "pygments_lexer": "ipython3",
   "version": "3.6.1"
  }
 },
 "nbformat": 4,
 "nbformat_minor": 2
}
